{
 "cells": [
  {
   "cell_type": "markdown",
   "id": "b623009e",
   "metadata": {},
   "source": [
    "## Break and Continue"
   ]
  },
  {
   "cell_type": "markdown",
   "id": "0dabd11e",
   "metadata": {},
   "source": [
    "_Break_ and _continue_ are two ways to modify the behavior of for loops and while loops."
   ]
  },
  {
   "cell_type": "markdown",
   "id": "b1e47403",
   "metadata": {},
   "source": [
    "### Break\n",
    "\n",
    "In Python, the keyword ```break``` causes the program to exit a loop early. ```break``` causes the program to jump out of for loops even if the for loop hasn't run the specified number of times.```break``` causes the program to jump out of while loops even if the logical condition that defines the loop is still ```True```.\n",
    "\n",
    "An example using ```break``` in a for loop is below."
   ]
  },
  {
   "cell_type": "code",
   "execution_count": 1,
   "id": "a59c1567",
   "metadata": {},
   "outputs": [
    {
     "name": "stdout",
     "output_type": "stream",
     "text": [
      "0\n",
      "1\n",
      "2\n",
      "3\n",
      "Loop exited\n"
     ]
    }
   ],
   "source": [
    "for i in range(100):\n",
    "    print(i)\n",
    "    if i == 3:\n",
    "        break\n",
    "print('Loop exited')"
   ]
  },
  {
   "cell_type": "markdown",
   "id": "1b09886b",
   "metadata": {},
   "source": [
    "When the loop hits ```i=3```, ```break``` is encountered and the program exits the loop. \n",
    "\n",
    "An example using ```break``` in a while loop is below."
   ]
  },
  {
   "cell_type": "code",
   "execution_count": 2,
   "id": "f7362b33",
   "metadata": {},
   "outputs": [
    {
     "ename": "StdinNotImplementedError",
     "evalue": "raw_input was called, but this frontend does not support input requests.",
     "output_type": "error",
     "traceback": [
      "\u001b[0;31m---------------------------------------------------------------------------\u001b[0m",
      "\u001b[0;31mStdinNotImplementedError\u001b[0m                  Traceback (most recent call last)",
      "\u001b[0;32m/var/folders/_k/0f_hlw7x2hq4vtcq0h8bvsm40000gr/T/ipykernel_27786/1106293409.py\u001b[0m in \u001b[0;36m<module>\u001b[0;34m\u001b[0m\n\u001b[1;32m      1\u001b[0m \u001b[0;32mwhile\u001b[0m \u001b[0;32mTrue\u001b[0m\u001b[0;34m:\u001b[0m\u001b[0;34m\u001b[0m\u001b[0;34m\u001b[0m\u001b[0m\n\u001b[0;32m----> 2\u001b[0;31m     \u001b[0mout\u001b[0m \u001b[0;34m=\u001b[0m \u001b[0minput\u001b[0m\u001b[0;34m(\u001b[0m\u001b[0;34m'type q to exit the loop: '\u001b[0m\u001b[0;34m)\u001b[0m\u001b[0;34m\u001b[0m\u001b[0;34m\u001b[0m\u001b[0m\n\u001b[0m\u001b[1;32m      3\u001b[0m     \u001b[0;32mif\u001b[0m \u001b[0mout\u001b[0m \u001b[0;34m==\u001b[0m \u001b[0;34m'q'\u001b[0m\u001b[0;34m:\u001b[0m\u001b[0;34m\u001b[0m\u001b[0;34m\u001b[0m\u001b[0m\n\u001b[1;32m      4\u001b[0m         \u001b[0;32mbreak\u001b[0m\u001b[0;34m\u001b[0m\u001b[0;34m\u001b[0m\u001b[0m\n\u001b[1;32m      5\u001b[0m \u001b[0mprint\u001b[0m\u001b[0;34m(\u001b[0m\u001b[0;34m'Loop exited'\u001b[0m\u001b[0;34m)\u001b[0m\u001b[0;34m\u001b[0m\u001b[0;34m\u001b[0m\u001b[0m\n",
      "\u001b[0;32m~/mini39/envs/jb/lib/python3.8/site-packages/ipykernel/kernelbase.py\u001b[0m in \u001b[0;36mraw_input\u001b[0;34m(self, prompt)\u001b[0m\n\u001b[1;32m   1001\u001b[0m         \"\"\"\n\u001b[1;32m   1002\u001b[0m         \u001b[0;32mif\u001b[0m \u001b[0;32mnot\u001b[0m \u001b[0mself\u001b[0m\u001b[0;34m.\u001b[0m\u001b[0m_allow_stdin\u001b[0m\u001b[0;34m:\u001b[0m\u001b[0;34m\u001b[0m\u001b[0;34m\u001b[0m\u001b[0m\n\u001b[0;32m-> 1003\u001b[0;31m             raise StdinNotImplementedError(\n\u001b[0m\u001b[1;32m   1004\u001b[0m                 \u001b[0;34m\"raw_input was called, but this frontend does not support input requests.\"\u001b[0m\u001b[0;34m\u001b[0m\u001b[0;34m\u001b[0m\u001b[0m\n\u001b[1;32m   1005\u001b[0m             )\n",
      "\u001b[0;31mStdinNotImplementedError\u001b[0m: raw_input was called, but this frontend does not support input requests."
     ]
    }
   ],
   "source": [
    "while True:\n",
    "    out = input('type q to exit the loop: ')\n",
    "    if out == 'q':\n",
    "        break\n",
    "print('Loop exited')"
   ]
  },
  {
   "cell_type": "markdown",
   "id": "45b554d1",
   "metadata": {},
   "source": [
    "### Continue\n",
    "\n",
    "In Python, the keyword ```continue``` causes the program to stop running code in a loop and start back at the top of the loop. Remember the keyword ```break``` cause the program to _exit_ a loop. ```continue``` is similar, but ```continue``` causes the program to stop the _current iteration_ of the loop and _start the next iteration at the top_ of the loop.\n",
    "\n",
    "A code section that uses ```continue``` in a for loop is below."
   ]
  },
  {
   "cell_type": "code",
   "execution_count": 3,
   "id": "de81c51b",
   "metadata": {},
   "outputs": [
    {
     "name": "stdout",
     "output_type": "stream",
     "text": [
      "0\n",
      "1\n",
      "3\n"
     ]
    }
   ],
   "source": [
    "for i in range(4):\n",
    "    if i==2:\n",
    "        continue\n",
    "    print(i)"
   ]
  },
  {
   "cell_type": "markdown",
   "id": "aee7cebe",
   "metadata": {},
   "source": [
    "When the code section is run, the number ```2``` is not printed. This is because when ```i=2``` the program hits the  ```continue``` statement. Therefore, the line ```print(i)``` isn't run when ```i=2```. Then the program starts back up at the start of the loop with the next number ```i=3```."
   ]
  }
 ],
 "metadata": {
  "jupytext": {
   "text_representation": {
    "extension": ".md",
    "format_name": "myst",
    "format_version": "0.9",
    "jupytext_version": "1.5.0"
   }
  },
  "kernelspec": {
   "display_name": "Python 3",
   "language": "python",
   "name": "python3"
  },
  "language_info": {
   "codemirror_mode": {
    "name": "ipython",
    "version": 3
   },
   "file_extension": ".py",
   "mimetype": "text/x-python",
   "name": "python",
   "nbconvert_exporter": "python",
   "pygments_lexer": "ipython3",
   "version": "3.8.10"
  },
  "source_map": [
   12,
   16,
   20,
   28,
   34,
   40,
   46,
   54,
   59
  ]
 },
 "nbformat": 4,
 "nbformat_minor": 5
}