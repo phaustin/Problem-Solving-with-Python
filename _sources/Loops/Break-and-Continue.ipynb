{
 "cells": [
  {
   "cell_type": "markdown",
   "id": "5be13cd0",
   "metadata": {},
   "source": [
    "## Break and Continue"
   ]
  },
  {
   "cell_type": "markdown",
   "id": "653b9b15",
   "metadata": {},
   "source": [
    "_Break_ and _continue_ are two ways to modify the behavior of for loops and while loops."
   ]
  },
  {
   "cell_type": "markdown",
   "id": "8530d695",
   "metadata": {},
   "source": [
    "### Break\n",
    "\n",
    "In Python, the keyword ```break``` causes the program to exit a loop early. ```break``` causes the program to jump out of for loops even if the for loop hasn't run the specified number of times.```break``` causes the program to jump out of while loops even if the logical condition that defines the loop is still ```True```.\n",
    "\n",
    "An example using ```break``` in a for loop is below."
   ]
  },
  {
   "cell_type": "code",
   "execution_count": 1,
   "id": "ca2f7cc2",
   "metadata": {},
   "outputs": [
    {
     "name": "stdout",
     "output_type": "stream",
     "text": [
      "0\n",
      "1\n",
      "2\n",
      "3\n",
      "Loop exited\n"
     ]
    }
   ],
   "source": [
    "for i in range(100):\n",
    "    print(i)\n",
    "    if i == 3:\n",
    "        break\n",
    "print('Loop exited')"
   ]
  },
  {
   "cell_type": "markdown",
   "id": "e6edf814",
   "metadata": {},
   "source": [
    "When the loop hits ```i=3```, ```break``` is encountered and the program exits the loop. \n",
    "\n",
    "An example using ```break``` in a while loop is below."
   ]
  },
  {
   "cell_type": "code",
   "execution_count": 2,
   "id": "df7d644d",
   "metadata": {},
   "outputs": [
    {
     "name": "stdout",
     "output_type": "stream",
     "text": [
      "Loop exited\n"
     ]
    }
   ],
   "source": [
    "age= '-5'\n",
    "while True:\n",
    "    try:\n",
    "        out = input('type q to exit the loop: ')\n",
    "    except:\n",
    "        out = 'q'\n",
    "    if out == 'q':\n",
    "        break\n",
    "print('Loop exited')"
   ]
  },
  {
   "cell_type": "markdown",
   "id": "14941904",
   "metadata": {},
   "source": [
    "### Continue\n",
    "\n",
    "In Python, the keyword ```continue``` causes the program to stop running code in a loop and start back at the top of the loop. Remember the keyword ```break``` cause the program to _exit_ a loop. ```continue``` is similar, but ```continue``` causes the program to stop the _current iteration_ of the loop and _start the next iteration at the top_ of the loop.\n",
    "\n",
    "A code section that uses ```continue``` in a for loop is below."
   ]
  },
  {
   "cell_type": "code",
   "execution_count": 3,
   "id": "dc749b07",
   "metadata": {},
   "outputs": [
    {
     "name": "stdout",
     "output_type": "stream",
     "text": [
      "0\n",
      "1\n",
      "3\n"
     ]
    }
   ],
   "source": [
    "for i in range(4):\n",
    "    if i==2:\n",
    "        continue\n",
    "    print(i)"
   ]
  },
  {
   "cell_type": "markdown",
   "id": "8cdd5153",
   "metadata": {},
   "source": [
    "When the code section is run, the number ```2``` is not printed. This is because when ```i=2``` the program hits the  ```continue``` statement. Therefore, the line ```print(i)``` isn't run when ```i=2```. Then the program starts back up at the start of the loop with the next number ```i=3```."
   ]
  }
 ],
 "metadata": {
  "jupytext": {
   "text_representation": {
    "extension": ".md",
    "format_name": "myst",
    "format_version": "0.9",
    "jupytext_version": "1.5.0"
   }
  },
  "kernelspec": {
   "display_name": "Python 3",
   "language": "python",
   "name": "python3"
  },
  "language_info": {
   "codemirror_mode": {
    "name": "ipython",
    "version": 3
   },
   "file_extension": ".py",
   "mimetype": "text/x-python",
   "name": "python",
   "nbconvert_exporter": "python",
   "pygments_lexer": "ipython3",
   "version": "3.8.12"
  },
  "source_map": [
   12,
   16,
   20,
   28,
   34,
   40,
   50,
   58,
   63
  ]
 },
 "nbformat": 4,
 "nbformat_minor": 5
}