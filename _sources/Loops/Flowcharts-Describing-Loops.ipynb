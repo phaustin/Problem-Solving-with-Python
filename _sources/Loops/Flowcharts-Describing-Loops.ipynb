{
 "cells": [
  {
   "cell_type": "markdown",
   "id": "222819d2",
   "metadata": {},
   "source": [
    "## Flowcharts Describing Loops"
   ]
  },
  {
   "cell_type": "markdown",
   "id": "b492084a",
   "metadata": {},
   "source": [
    "Flowcharts show the flow of a program graphically. Flow charts were introduced in the previous chapter to describe how a programs that include _if_ statements are illustrated graphically.\n",
    "\n",
    "This chapter is about _loops_. Flowcharts can also be used to describe programs which contain _for loops_ and _while loops_."
   ]
  },
  {
   "cell_type": "markdown",
   "id": "254d2b90",
   "metadata": {},
   "source": [
    "### Basic Flow Chart Shapes"
   ]
  },
  {
   "cell_type": "markdown",
   "id": "416a737f",
   "metadata": {},
   "source": [
    "Let's review the four basic flowchart shapes. Each shape represents a different type of operation.\n",
    "\n",
    " * oval: start and end\n",
    " * parallelogram: input and output\n",
    " * rectangle: calculations\n",
    " * diamond: selection structures\n",
    " \n",
    "![Four the four flowchart shapes: oval, parallelogram, rectangle, and diamond](images/four_flow_chart_shapes.png)\n",
    " \n",
    "The basic shapes in a flowchart are connected by arrows. The shapes and arrows in a flowchart represent the flow of a program from start to end."
   ]
  },
  {
   "cell_type": "markdown",
   "id": "70982b56",
   "metadata": {},
   "source": [
    "### Flowchart of a program that contains a for loop"
   ]
  },
  {
   "cell_type": "markdown",
   "id": "99c92bb4",
   "metadata": {},
   "source": [
    "Below is the description of a program that can be coded with a for loop:\n",
    "\n",
    " > The program starts. The program prints the word \"looping\" 10 times. Finally, the program ends.\n",
    "\n",
    "A flowchart that describes this program is shown.\n",
    "\n",
    "![Flowchart of a program that contains a for loop](images/flow_chart_of_program_that_contains_a_for_loop.png)\n",
    "\n",
    "The Python code that corresponds to this flowchart is below:\n",
    "\n",
    "```python\n",
    "# start\n",
    "for i in range(10):\n",
    "    print(\"looping\")\n",
    "# end\n",
    "```"
   ]
  },
  {
   "cell_type": "markdown",
   "id": "9a4fc214",
   "metadata": {},
   "source": [
    "### Flowchart of a program that contains a while loop"
   ]
  },
  {
   "cell_type": "markdown",
   "id": "cd2cb612",
   "metadata": {},
   "source": [
    "Below is the description of a program which can be coded with a while loop:\n",
    "\n",
    " > The program starts. The program asks the user for a positive number. If the number is negative, the program asks the user for a positive number again. If the number is positive, the program prints \"positive\". Finally, the program ends.\n",
    "\n",
    "A flowchart that describes this program is shown.\n",
    "\n",
    "![Flow chart of a program that contains a for loop](images/flow_chart_of_program_that_contains_a_while_loop.png)\n",
    "\n",
    "The Python code that corresponds to this flow chart is:\n",
    "\n",
    "```python\n",
    "# start\n",
    "num = -1\n",
    "while num < 0:\n",
    "    num = input(\"Enter a positive number: \")\n",
    "    num = float(num)\n",
    "print(\"positive\")\n",
    "# end\n",
    "```"
   ]
  },
  {
   "cell_type": "code",
   "execution_count": null,
   "id": "2d71c8e6",
   "metadata": {},
   "outputs": [],
   "source": []
  }
 ],
 "metadata": {
  "jupytext": {
   "text_representation": {
    "extension": ".md",
    "format_name": "myst",
    "format_version": "0.9",
    "jupytext_version": "1.5.0"
   }
  },
  "kernelspec": {
   "display_name": "Python 3",
   "language": "python",
   "name": "python3"
  },
  "language_info": {
   "codemirror_mode": {
    "name": "ipython",
    "version": 3
   },
   "file_extension": ".py",
   "mimetype": "text/x-python",
   "name": "python",
   "nbconvert_exporter": "python",
   "pygments_lexer": "ipython3",
   "version": "3.8.10"
  },
  "source_map": [
   12,
   16,
   22,
   26,
   39,
   43,
   62,
   66,
   88
  ]
 },
 "nbformat": 4,
 "nbformat_minor": 5
}