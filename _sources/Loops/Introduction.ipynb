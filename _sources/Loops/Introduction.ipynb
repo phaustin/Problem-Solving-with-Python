{
 "cells": [
  {
   "cell_type": "markdown",
   "id": "2d7fb10a",
   "metadata": {},
   "source": [
    "# Loops"
   ]
  },
  {
   "cell_type": "markdown",
   "id": "06c430c2",
   "metadata": {},
   "source": [
    "## Introduction"
   ]
  },
  {
   "cell_type": "markdown",
   "id": "f530ba0a",
   "metadata": {
    "latex": {
     "after_cell": "newpage"
    }
   },
   "source": [
    "Repetition structures allow the same piece of code to run multiple times. Two repetion structures in Python are for loops and while loops. For loops run a set number of times. While loops run as long as a specific logical condition is true.\n",
    "\n",
    "By the end of this chapter you will be able to:\n",
    "\n",
    " * use a while loop \n",
    " \n",
    " * use a for loop\n",
    " \n",
    " * use the break statement\n",
    " \n",
    " * use the continue statement\n",
    " \n",
    " * construct flowcharts that describe programs with loops"
   ]
  },
  {
   "cell_type": "code",
   "execution_count": null,
   "id": "19f61491",
   "metadata": {},
   "outputs": [],
   "source": []
  }
 ],
 "metadata": {
  "jupytext": {
   "text_representation": {
    "extension": ".md",
    "format_name": "myst",
    "format_version": "0.9",
    "jupytext_version": "1.5.0"
   }
  },
  "kernelspec": {
   "display_name": "Python 3",
   "language": "python",
   "name": "python3"
  },
  "language_info": {
   "codemirror_mode": {
    "name": "ipython",
    "version": 3
   },
   "file_extension": ".py",
   "mimetype": "text/x-python",
   "name": "python",
   "nbconvert_exporter": "python",
   "pygments_lexer": "ipython3",
   "version": "3.8.10"
  },
  "source_map": [
   12,
   16,
   20,
   36
  ]
 },
 "nbformat": 4,
 "nbformat_minor": 5
}