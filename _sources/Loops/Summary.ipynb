{
 "cells": [
  {
   "cell_type": "markdown",
   "id": "35cafbae",
   "metadata": {
    "latex": {
     "before_cell": "newpage"
    }
   },
   "source": [
    "## Summary"
   ]
  },
  {
   "cell_type": "markdown",
   "id": "100e3dc8",
   "metadata": {},
   "source": [
    "Repetition structures allow the same piece of code to run multiple times. \n",
    "\n",
    "In this chapter, you learned how to write for loops and while loops in Python. For loops run a block of code a definite number of times. You learned how to use Python's ```range()``` function in a for loops and how to use a list or string in a for loop. A while loop runs a block of code as long as a logical condition is true. The keywords ```break``` and ```continue``` cause for and while loops to exit early. \n",
    "\n",
    "At the end of the chapter, you learned how to build flowcharts that describe programs with for loops and while loops."
   ]
  },
  {
   "cell_type": "markdown",
   "id": "9e412a35",
   "metadata": {},
   "source": [
    "### Key Terms and Concpets"
   ]
  },
  {
   "cell_type": "markdown",
   "id": "6dd4d677",
   "metadata": {
    "latex": {
     "environment": "key_terms"
    }
   },
   "source": [
    "repetition structure\n",
    "\n",
    "loop\n",
    "\n",
    "while loop\n",
    "\n",
    "for loop\n",
    "\n",
    "iterate\n",
    "\n",
    "break\n",
    "\n",
    "continue\n",
    "\n",
    "infinite loop\n",
    "\n",
    "flowchart"
   ]
  },
  {
   "cell_type": "code",
   "execution_count": null,
   "id": "77947c0d",
   "metadata": {},
   "outputs": [],
   "source": []
  }
 ],
 "metadata": {
  "jupytext": {
   "text_representation": {
    "extension": ".md",
    "format_name": "myst",
    "format_version": "0.9",
    "jupytext_version": "1.5.0"
   }
  },
  "kernelspec": {
   "display_name": "Python 3",
   "language": "python",
   "name": "python3"
  },
  "language_info": {
   "codemirror_mode": {
    "name": "ipython",
    "version": 3
   },
   "file_extension": ".py",
   "mimetype": "text/x-python",
   "name": "python",
   "nbconvert_exporter": "python",
   "pygments_lexer": "ipython3",
   "version": "3.8.10"
  },
  "source_map": [
   14,
   18,
   26,
   30,
   50
  ]
 },
 "nbformat": 4,
 "nbformat_minor": 5
}