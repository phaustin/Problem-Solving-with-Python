{
 "cells": [
  {
   "cell_type": "markdown",
   "id": "9fbe599c",
   "metadata": {},
   "source": [
    "## While Loops"
   ]
  },
  {
   "cell_type": "markdown",
   "id": "c099af3b",
   "metadata": {},
   "source": [
    "A _while loop_ is a type of loop that runs as long as a logical condition is ```True```. When the logical condition becomes ```False```, the loop stops running. The general form of a while loop in Python is below:\n",
    "\n",
    "```python\n",
    "while <logical_condition>:\n",
    "    <code>\n",
    "```\n",
    "\n",
    "The keyword ```while``` must be included, as well as a ```<logical_condition>``` which can be evaluated as ```True``` or ```False```. The ```<code>``` after the while statement must be indented. Each line of code runs in the while loop needs to be indented the same number of spaces. (Many code editors, including Jupyter notebooks, auto-indent after a ```while``` statement) If you add indentation manually, four space spaces is the Python standard.\n",
    "\n",
    "An example of a while loop is below:"
   ]
  },
  {
   "cell_type": "code",
   "execution_count": 1,
   "id": "900913c5",
   "metadata": {},
   "outputs": [
    {
     "name": "stdout",
     "output_type": "stream",
     "text": [
      "0\n",
      "1\n",
      "2\n",
      "3\n"
     ]
    }
   ],
   "source": [
    "i = 0\n",
    "while i<4:\n",
    "    print(i)\n",
    "    i = i+1"
   ]
  },
  {
   "cell_type": "markdown",
   "id": "1c0e25ce",
   "metadata": {},
   "source": [
    "The first line ```i=0``` creates the variable ```i``` and assigns it the value ```0```. The next line declares the logical condition needed to keep the loop running. The statement ```i<4``` is ```True``` or ```False``` depending on the variable ```i```. Since ```i=0```, the statement ```i<4``` is ```True``` and the while loop starts to run. The code inside while the loop prints the value of ```i``` then increases ```i``` by ```1```. When ```i=4```, the statement ```i<4``` is ```False``` and the while loop ends."
   ]
  },
  {
   "cell_type": "markdown",
   "id": "2f2a4ee0",
   "metadata": {},
   "source": [
    "### Using a while loop to validate user input\n",
    "\n",
    "While loops can be used to validate user input. Say you want to insist that a user inputs positive number. You can code this into a while loop that keeps repeating ```'Enter a positive number: '``` until the user enters valid input. \n",
    "\n",
    "The code below continues to ask a user for a positive number until a positive number is entered."
   ]
  },
  {
   "cell_type": "code",
   "execution_count": 2,
   "id": "2f4fcd0b",
   "metadata": {},
   "outputs": [
    {
     "ename": "StdinNotImplementedError",
     "evalue": "raw_input was called, but this frontend does not support input requests.",
     "output_type": "error",
     "traceback": [
      "\u001b[0;31m---------------------------------------------------------------------------\u001b[0m",
      "\u001b[0;31mStdinNotImplementedError\u001b[0m                  Traceback (most recent call last)",
      "\u001b[0;32m/tmp/ipykernel_947138/319208491.py\u001b[0m in \u001b[0;36m<module>\u001b[0;34m\u001b[0m\n\u001b[1;32m      1\u001b[0m \u001b[0mnum_input\u001b[0m \u001b[0;34m=\u001b[0m \u001b[0;34m-\u001b[0m\u001b[0;36m1\u001b[0m\u001b[0;34m\u001b[0m\u001b[0;34m\u001b[0m\u001b[0m\n\u001b[1;32m      2\u001b[0m \u001b[0;32mwhile\u001b[0m \u001b[0mnum_input\u001b[0m \u001b[0;34m<\u001b[0m \u001b[0;36m0\u001b[0m\u001b[0;34m:\u001b[0m\u001b[0;34m\u001b[0m\u001b[0;34m\u001b[0m\u001b[0m\n\u001b[0;32m----> 3\u001b[0;31m     \u001b[0mstr_input\u001b[0m \u001b[0;34m=\u001b[0m \u001b[0minput\u001b[0m\u001b[0;34m(\u001b[0m\u001b[0;34m'Enter a positive number: '\u001b[0m\u001b[0;34m)\u001b[0m\u001b[0;34m\u001b[0m\u001b[0;34m\u001b[0m\u001b[0m\n\u001b[0m\u001b[1;32m      4\u001b[0m     \u001b[0mnum_input\u001b[0m \u001b[0;34m=\u001b[0m \u001b[0mfloat\u001b[0m\u001b[0;34m(\u001b[0m\u001b[0mstr_input\u001b[0m\u001b[0;34m)\u001b[0m\u001b[0;34m\u001b[0m\u001b[0;34m\u001b[0m\u001b[0m\n",
      "\u001b[0;32m~/mini38/envs/jb/lib/python3.8/site-packages/ipykernel/kernelbase.py\u001b[0m in \u001b[0;36mraw_input\u001b[0;34m(self, prompt)\u001b[0m\n\u001b[1;32m   1001\u001b[0m         \"\"\"\n\u001b[1;32m   1002\u001b[0m         \u001b[0;32mif\u001b[0m \u001b[0;32mnot\u001b[0m \u001b[0mself\u001b[0m\u001b[0;34m.\u001b[0m\u001b[0m_allow_stdin\u001b[0m\u001b[0;34m:\u001b[0m\u001b[0;34m\u001b[0m\u001b[0;34m\u001b[0m\u001b[0m\n\u001b[0;32m-> 1003\u001b[0;31m             raise StdinNotImplementedError(\n\u001b[0m\u001b[1;32m   1004\u001b[0m                 \u001b[0;34m\"raw_input was called, but this frontend does not support input requests.\"\u001b[0m\u001b[0;34m\u001b[0m\u001b[0;34m\u001b[0m\u001b[0m\n\u001b[1;32m   1005\u001b[0m             )\n",
      "\u001b[0;31mStdinNotImplementedError\u001b[0m: raw_input was called, but this frontend does not support input requests."
     ]
    }
   ],
   "source": [
    "num_input = -1\n",
    "while num_input < 0:\n",
    "    str_input = input('Enter a positive number: ')\n",
    "    num_input = float(str_input)"
   ]
  },
  {
   "cell_type": "markdown",
   "id": "fe5f7bb4",
   "metadata": {},
   "source": [
    "In the section of code above, it is important to initialize the variable ```num_input``` with a value that causes the statement ```num_input < 0``` to evaluate as ```True```. ```num_input = -1``` causes the statement ```num_input < 0``` to evaluate as ```True```. Besides ```num_input = -1```, any other negative number would have worked.\n",
    "\n",
    "If the while statement can't be evaluated as ```True``` or ```False```, Python throws an error. Therefore, it is necessary to convert the user's input from a string to a float. The statement ```'5' < 0``` does not evaluate to ```True``` or ```False```, because the string ```'5'``` can't be compared to the number ```0```."
   ]
  }
 ],
 "metadata": {
  "jupytext": {
   "text_representation": {
    "extension": ".md",
    "format_name": "myst",
    "format_version": "0.9",
    "jupytext_version": "1.5.0"
   }
  },
  "kernelspec": {
   "display_name": "Python 3",
   "language": "python",
   "name": "python3"
  },
  "language_info": {
   "codemirror_mode": {
    "name": "ipython",
    "version": 3
   },
   "file_extension": ".py",
   "mimetype": "text/x-python",
   "name": "python",
   "nbconvert_exporter": "python",
   "pygments_lexer": "ipython3",
   "version": "3.8.10"
  },
  "source_map": [
   12,
   16,
   29,
   34,
   38,
   46,
   51
  ]
 },
 "nbformat": 4,
 "nbformat_minor": 5
}