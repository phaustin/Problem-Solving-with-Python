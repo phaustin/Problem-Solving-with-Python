{
 "cells": [
  {
   "cell_type": "markdown",
   "id": "bbd09fd2",
   "metadata": {},
   "source": [
    "## For Loops"
   ]
  },
  {
   "cell_type": "markdown",
   "id": "38a22bee",
   "metadata": {},
   "source": [
    "In this chapter, you will learn about two kinds of _repetition structures_ in Python: _for loops_ and _while loops_. This section describes for loops.\n",
    "\n",
    "_For Loops_ are a component of many programming languages. A _for loop_ is a repetition structure where a section of code runs a specified number of times. \n",
    "\n",
    "Say we want to print out the statements:\n",
    "\n",
    "```text\n",
    "Problem solving in teams\n",
    "Problem solving in teams\n",
    "Problem solving in teams\n",
    "```\n",
    "\n",
    "One way to accomplish this task is by coding three print statements in a row:"
   ]
  },
  {
   "cell_type": "code",
   "execution_count": 1,
   "id": "1d5fce74",
   "metadata": {},
   "outputs": [
    {
     "name": "stdout",
     "output_type": "stream",
     "text": [
      "Problem solving in teams\n",
      "Problem solving in teams\n",
      "Problem solving in teams\n"
     ]
    }
   ],
   "source": [
    "print('Problem solving in teams')\n",
    "print('Problem solving in teams')\n",
    "print('Problem solving in teams')"
   ]
  },
  {
   "cell_type": "markdown",
   "id": "947da46a",
   "metadata": {},
   "source": [
    "Another way to accomplish the same task is to use a for loop. The basic structure of a for loop in Python is below:\n",
    "    \n",
    "```python\n",
    "for <var> in range(<num>):\n",
    "    <code>\n",
    "    \n",
    "```\n",
    "\n",
    "Where ```<var>``` can be any variable, ```range(<num>)``` is the number of times the for loop runs and ```<code>``` are the lines of code that execute each time the for loop runs. \n",
    "\n",
    "Note the for loop starts with the keyword ```for``` and includes a colon ```:```. Both ```for``` and the colon ```:``` are required. Also, note ```<code>``` is indented. Each line of code that runs as part of the for loop needs to be indented the same number of spaces. Standard indentation in Python is four spaces. \n",
    "\n",
    "The example above can be rewritten using a for loop:"
   ]
  },
  {
   "cell_type": "code",
   "execution_count": 2,
   "id": "bac651ec",
   "metadata": {},
   "outputs": [
    {
     "name": "stdout",
     "output_type": "stream",
     "text": [
      "Problem solving in teams\n",
      "Problem solving in teams\n",
      "Problem solving in teams\n"
     ]
    }
   ],
   "source": [
    "for i in range(3):\n",
    "    print('Problem solving in teams')"
   ]
  },
  {
   "cell_type": "markdown",
   "id": "185c13fb",
   "metadata": {},
   "source": [
    "#### Python's ```range()``` function\n",
    "\n",
    "Python's ```range()``` function returns an iterable list of values starting at zero and ending at ```n-1```. For example, when ```range(3)``` is called, the values ```0, 1, 2``` are returned. ```3``` is not part of the output, even though the function input was ```range(3)```. We can be confirm the behavior of ```range()``` with a for loop:"
   ]
  },
  {
   "cell_type": "code",
   "execution_count": 3,
   "id": "6d40b7ff",
   "metadata": {},
   "outputs": [
    {
     "name": "stdout",
     "output_type": "stream",
     "text": [
      "0\n",
      "1\n",
      "2\n"
     ]
    }
   ],
   "source": [
    "for i in range(3):\n",
    "    print(i)"
   ]
  },
  {
   "cell_type": "markdown",
   "id": "f2611e15",
   "metadata": {},
   "source": [
    "**Remember Python counting starts at ```0``` and ends at ```n-1```.**"
   ]
  },
  {
   "cell_type": "markdown",
   "id": "a82c540a",
   "metadata": {},
   "source": [
    "#### Customizing ```range()```\n",
    "\n",
    "Python's ```range()``` function can be customized by supplying up to three arguments. The general format of the range function is below:\n",
    "\n",
    "```python\n",
    "range(start,stop,step)\n",
    "```\n",
    "\n",
    "When ```range(3)``` is called, it produces the same output as ```range(0,3,1)``` (```start=0```,```stop=3```,```step=1```). Remember Python counting starts at ```0``` and ends at ```n-1```. If only two arguments are supplied, as in ```range(0,3)```, a ```step=1``` is assumed.\n",
    "\n",
    "The table below includes examples of the Python's ```range()``` function and the associated output.\n",
    "\n",
    "| ```range()``` function | output |\n",
    "| --- | --- |\n",
    "| ```range(3)``` | 0, 1, 2 |\n",
    "| ```range(0,3)``` | 0, 1, 2 |\n",
    "| ```range(0,3,1)``` | 0, 1, 2 |\n",
    "| ```range(2,7,2)``` | 2, 4, 6 |\n",
    "| ```range(0,-5,-1)``` | 0, -1, -2, -3, -4 |\n",
    "| ```range(2,-3,1)``` | (no output) |\n",
    "\n",
    "A code section that uses a for loop and ```range()``` with three arguments is below:"
   ]
  },
  {
   "cell_type": "code",
   "execution_count": 4,
   "id": "405846ba",
   "metadata": {},
   "outputs": [
    {
     "name": "stdout",
     "output_type": "stream",
     "text": [
      "5\n",
      "6\n",
      "7\n",
      "8\n"
     ]
    }
   ],
   "source": [
    "for i in range(5,9,1):\n",
    "    print(i)"
   ]
  },
  {
   "cell_type": "markdown",
   "id": "8cc484e9",
   "metadata": {},
   "source": [
    "### For loops with lists\n",
    "\n",
    "For loops can also be run using Python lists. If a list is used, the loop will run as many times as there are items in the list. The general syntax is:\n",
    "\n",
    "```python\n",
    "for <var> in <list>:\n",
    "    <code>\n",
    "```\n",
    " \n",
    "Where ```<var>``` is a variable name assigned to the item in the list and ```<list>``` is the list object. Remember to include a colon ``` : ``` after the list.  ```<code>``` is the programming code that runs for each item in the list. \n",
    "\n",
    "An example of a list in a for loop is  below:"
   ]
  },
  {
   "cell_type": "code",
   "execution_count": 5,
   "id": "8b08da64",
   "metadata": {},
   "outputs": [
    {
     "name": "stdout",
     "output_type": "stream",
     "text": [
      "electrical\n",
      "civil\n",
      "mechanical\n"
     ]
    }
   ],
   "source": [
    "my_list = ['electrical','civil','mechanical']\n",
    "for item in my_list:\n",
    "    print(item)"
   ]
  },
  {
   "cell_type": "markdown",
   "id": "9d93ebf3",
   "metadata": {},
   "source": [
    "The loop ran three times because there are three items in ```my_list```. Each time through the loop, the variable ```item``` is set to one of the items in the list.\n",
    "\n",
    " * first time through the loop, ```item='electrical'```\n",
    " * second time through the loop ```item='civil'``` \n",
    " * third time through the loop ```item='mechanical'```."
   ]
  },
  {
   "cell_type": "markdown",
   "id": "11b2f072",
   "metadata": {},
   "source": [
    "### For loops with strings\n",
    "\n",
    "For loops can also be run using strings. In Python, strings can be indexed just like lists. A loop defined by a string runs as many times as there are characters in the string. The general structure a for loop using a string is:\n",
    "\n",
    "```python\n",
    "for <char> in <string>:\n",
    "    <code>\n",
    "```\n",
    " \n",
    "Where ```<char>``` is one of the characters in the string ```<string>```. Just like for loops with ```range()``` and for loops with lists, make sure to include a colon ``` : ``` after the list.  ```<code>``` is the programming code that runs for each character in the string. ```<code>``` needs to be indented\n",
    "\n",
    "An example of a string in a for loop is below:"
   ]
  },
  {
   "cell_type": "code",
   "execution_count": 6,
   "id": "4edc2ef8",
   "metadata": {},
   "outputs": [
    {
     "name": "stdout",
     "output_type": "stream",
     "text": [
      "looping over letters in name: G\n",
      "looping over letters in name: a\n",
      "looping over letters in name: b\n",
      "looping over letters in name: b\n",
      "looping over letters in name: y\n"
     ]
    }
   ],
   "source": [
    "for letter in \"Gabby\":\n",
    "    print(f\"looping over letters in name: {letter}\")"
   ]
  }
 ],
 "metadata": {
  "jupytext": {
   "text_representation": {
    "extension": ".md",
    "format_name": "myst",
    "format_version": "0.9",
    "jupytext_version": "1.5.0"
   }
  },
  "kernelspec": {
   "display_name": "Python 3",
   "language": "python",
   "name": "python3"
  },
  "language_info": {
   "codemirror_mode": {
    "name": "ipython",
    "version": 3
   },
   "file_extension": ".py",
   "mimetype": "text/x-python",
   "name": "python",
   "nbconvert_exporter": "python",
   "pygments_lexer": "ipython3",
   "version": "3.8.10"
  },
  "source_map": [
   12,
   16,
   32,
   36,
   52,
   55,
   61,
   64,
   68,
   93,
   96,
   111,
   115,
   123,
   138
  ]
 },
 "nbformat": 4,
 "nbformat_minor": 5
}