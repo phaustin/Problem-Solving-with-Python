{
 "cells": [
  {
   "cell_type": "markdown",
   "id": "20a8c1ae",
   "metadata": {},
   "source": [
    "## Installing Matplotlib"
   ]
  },
  {
   "cell_type": "markdown",
   "id": "ad38ee0f",
   "metadata": {},
   "source": [
    "Before Matplotlib's plotting functions can be used, Matplotlib needs to be installed. Depending on which distribution of Python is installed on your computer, the installation methods are slightly different."
   ]
  },
  {
   "cell_type": "markdown",
   "id": "5d9eb1df",
   "metadata": {},
   "source": [
    "### Use the Anaconda distribution of Python\n",
    "\n",
    "The simplest way to install Matplotlib is to download and install the Anaconda distribution of Python. The Anaconda distribution of Python comes with Matplotlib pre-installed and no further installation steps are necessary.\n",
    "\n",
    "Below are additional methods to install Matplotlib if you are not using the Anaconda distribution of Python."
   ]
  },
  {
   "cell_type": "markdown",
   "id": "db51157b",
   "metadata": {},
   "source": [
    "### Install Matplotlib with the Anaconda Prompt\n",
    "\n",
    "Matplotlib can be installed using with the **Anaconda Prompt**. If the **Anaconda Prompt** is available on your machine, it can usually be seen in the Windows Start Menu. To install Matplotlib, open the **Anaconda Prompt** and type:\n",
    "\n",
    "```text\n",
    "> conda install matplotlib\n",
    "```\n",
    "\n",
    "Type ```y``` for yes when prompted."
   ]
  },
  {
   "cell_type": "markdown",
   "id": "b348ac99",
   "metadata": {},
   "source": [
    "### Install Matplotlib with **pip**\n",
    "\n",
    "Matplotlib can also be installed using the Python package manager, **pip**. To install Matplotlib with **pip**, open a terminal window and type:\n",
    "\n",
    "```text\n",
    "$ pip install matplotlib\n",
    "```\n",
    "\n",
    "This command installs Matplotlib in the current working Python environment."
   ]
  },
  {
   "cell_type": "markdown",
   "id": "a24afd5c",
   "metadata": {},
   "source": [
    "### Verify the installation"
   ]
  },
  {
   "cell_type": "markdown",
   "id": "8e4d017a",
   "metadata": {},
   "source": [
    "To verify that Matplotlib is installed, try to invoke Matplotlib's version at the Python REPL. Use the commands below that include calling the ```.__version__``` an attribute common to most Python packages."
   ]
  },
  {
   "cell_type": "markdown",
   "id": "8b904d3d",
   "metadata": {},
   "source": [
    "```python\n",
    ">>> import matplotlib\n",
    ">>> matplotlib.__version__\n",
    "'3.1.1'\n",
    "```"
   ]
  },
  {
   "cell_type": "code",
   "execution_count": null,
   "id": "3d81e622",
   "metadata": {},
   "outputs": [],
   "source": []
  }
 ],
 "metadata": {
  "jupytext": {
   "text_representation": {
    "extension": ".md",
    "format_name": "myst",
    "format_version": "0.9",
    "jupytext_version": "1.5.0"
   }
  },
  "kernelspec": {
   "display_name": "Python 3",
   "language": "python",
   "name": "python3"
  },
  "language_info": {
   "codemirror_mode": {
    "name": "ipython",
    "version": 3
   },
   "file_extension": ".py",
   "mimetype": "text/x-python",
   "name": "python",
   "nbconvert_exporter": "python",
   "pygments_lexer": "ipython3",
   "version": "3.8.10"
  },
  "source_map": [
   12,
   16,
   20,
   28,
   40,
   52,
   56,
   60,
   68
  ]
 },
 "nbformat": 4,
 "nbformat_minor": 5
}