{
 "cells": [
  {
   "cell_type": "markdown",
   "id": "1cff5596",
   "metadata": {
    "latex": {
     "before_cell": "newpage"
    }
   },
   "source": [
    "## Summary"
   ]
  },
  {
   "cell_type": "markdown",
   "id": "90dfcbd3",
   "metadata": {},
   "source": [
    "In this chapter, you learned about MicroPython. MicroPython is a small slimed down port of the Python programming language designed to run on small cheap microcontrollers. The first part of the chapter introduced MicroPython. \"Regular\" Python consumes to much hard disk space and RAM to be run installed on a microcontroller. But MicroPython is very small for a programming language. It only takes up less than 1MB on a microcontroller.\n",
    "\n",
    "The next section of the chapter involved how to install MicroPython on a microcontroller. To install MicroPython on a microcontroller, use a package called **esptool** and upload a .bin firmware file to the board.\n",
    "\n",
    "The rest of the chapter involved two projects. Blinking an LED with MicroPython and reading a sensor with MicroPython.\n",
    "\n",
    "To blink an LED on a microcontroller, you need to connect to the microcontroller with a program called PuTTY. Through a PuTTY terminal, you can use MicroPython's ```machine``` module to write high and low values to the pins on the microcontroller. \n",
    "\n",
    "An MCP9808 temperature sensor was read using MicroPython in the second project. The sensor first needed to be wired up to the microcontroller, and then the MicroPython's ```ic2``` class was used to read data off the sensor. At the end of the project, a Python package called **ampy** was used to upload a **_.py_** file to the microcontroller."
   ]
  },
  {
   "cell_type": "markdown",
   "id": "6af6fc7f",
   "metadata": {},
   "source": [
    "### Key Terms and Concepts"
   ]
  },
  {
   "cell_type": "markdown",
   "id": "203fe804",
   "metadata": {
    "latex": {
     "environment": "key_terms"
    }
   },
   "source": [
    "MicroPython\n",
    "\n",
    "microcontroller\n",
    "\n",
    "MicroPython REPL\n",
    "\n",
    "REPL prompt\n",
    "\n",
    "baud rate\n",
    "\n",
    "port\n",
    "\n",
    "pyboard\n",
    "\n",
    "ESP8266\n",
    "\n",
    "resource intensive\n",
    "\n",
    "esptool\n",
    "\n",
    ".bin firmware file\n",
    "\n",
    "driver\n",
    "\n",
    "USB data cable\n",
    "\n",
    "PuTTY\n",
    "\n",
    "MCP9808 temperature sensor\n",
    "\n",
    "ampy\n",
    "\n",
    "Hello World"
   ]
  },
  {
   "cell_type": "code",
   "execution_count": null,
   "id": "e112523e",
   "metadata": {},
   "outputs": [],
   "source": []
  }
 ],
 "metadata": {
  "jupytext": {
   "text_representation": {
    "extension": ".md",
    "format_name": "myst",
    "format_version": "0.9",
    "jupytext_version": "1.5.0"
   }
  },
  "kernelspec": {
   "display_name": "Python 3",
   "language": "python",
   "name": "python3"
  },
  "language_info": {
   "codemirror_mode": {
    "name": "ipython",
    "version": 3
   },
   "file_extension": ".py",
   "mimetype": "text/x-python",
   "name": "python",
   "nbconvert_exporter": "python",
   "pygments_lexer": "ipython3",
   "version": "3.8.10"
  },
  "source_map": [
   14,
   18,
   30,
   34,
   70
  ]
 },
 "nbformat": 4,
 "nbformat_minor": 5
}