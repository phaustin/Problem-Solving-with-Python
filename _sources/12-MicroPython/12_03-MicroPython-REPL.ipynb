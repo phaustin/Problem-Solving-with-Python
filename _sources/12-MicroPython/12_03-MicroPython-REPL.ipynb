{
 "cells": [
  {
   "cell_type": "markdown",
   "id": "c81e7b06",
   "metadata": {},
   "source": [
    "## The MicroPython REPL"
   ]
  },
  {
   "cell_type": "markdown",
   "id": "72cbfadd",
   "metadata": {},
   "source": [
    "The last section detailed the installation of MicroPython on an ESP8266-based microcontroller using Python and a package called **esptool**. In this section, you will learn how to write commands to the MicroPython REPL (the Micropython prompt) to turn an LED on and off.\n",
    "\n",
    "Before you can use the MicroPython REPL (the MicroPython prompt) running on a microcontroller, MicroPython needs to be installed on the board. A serial communication tool, like PuTTY,  also needs to be installed on your computer to communicate with the microcontroller over a serial line. The previous section detailed how to install MicroPython on an ESP8266-based microcontroller and how to install [PuTTY](https://www.putty.org/) on Windows."
   ]
  },
  {
   "cell_type": "markdown",
   "id": "2d911e33",
   "metadata": {},
   "source": [
    "### Summary of Steps"
   ]
  },
  {
   "cell_type": "markdown",
   "id": "fcce6498",
   "metadata": {},
   "source": [
    "1. Connect the ESP8266-based microcontroller to your computer with a USB cable\n",
    "2. Determine which COM port the microcontroller is connected to using the Windows Device Manager \n",
    "3. Open PuTTY and connect to the ESP8266-based microcontroller\n",
    "4. Run commands at the MicroPython REPL"
   ]
  },
  {
   "cell_type": "markdown",
   "id": "a2909345",
   "metadata": {},
   "source": [
    "### Connect the ESP8266-based microcontroller to your computer with a USB cable"
   ]
  },
  {
   "cell_type": "markdown",
   "id": "40928575",
   "metadata": {},
   "source": [
    "Use a microUSB cable to connect the microcontroller to the computer. Make sure that the microUSB cable is a full USB data cable and not just a simple power cable. Cables that are just used to charge phones may only be power cables and may not be capable of transmitting data."
   ]
  },
  {
   "cell_type": "markdown",
   "id": "b506890e",
   "metadata": {},
   "source": [
    "### Determine which COM port the microcontroller is connected to using the Windows Device Manager"
   ]
  },
  {
   "cell_type": "markdown",
   "id": "2610a9e3",
   "metadata": {},
   "source": [
    "Use the Windows Device Manager to determine which serial port the microcontroller is connected to. On Windows, the microcontroller usually comes up as ```COM4```. You can find the serial port by looking in the Ports (COM & LPT) category of the Windows Device Manager. Look for something like **Silicon Labs CP210x USB to UART Bridge (COM4)** in the **Ports (COM & LPT)** menu. It is the **COM#** that's needed to connect to the board.\n",
    "\n",
    "![Find the Windows 10 Device Manager](images/find_device_manager.png)\n",
    "\n",
    "![Windows Device Manager](images/device_manager_menu.png)"
   ]
  },
  {
   "cell_type": "markdown",
   "id": "b67f3d39",
   "metadata": {},
   "source": [
    "### Open PuTTY and connect to the ESP8266-based microcontroller"
   ]
  },
  {
   "cell_type": "markdown",
   "id": "cde12eec",
   "metadata": {},
   "source": [
    "Ensure the microcontroller is connected to your computer with a USB cable. Then initialize serial communication between the microcontroller and your computer with PuTTY. In PuTTY set the proper serial port (COM#) and 115200 baud. Remember to use the **[Serial[** radio button under **[Connection Type:]** to select serial communication or PuTTY will attempt to communicate with the microcontroller over SSH which won't work. \n",
    "\n",
    "![PuTTY in Windows 10 start menu](images/putty_in_start_menu.png)\n",
    "\n",
    "![PuTTY configuration](images/putty_config.PNG)\n",
    "\n",
    "In PuTTY, click **[Open]**  to bring up the MicroPython REPL prompt ```>>>```. If you can't see the ```>>>``` prompt, try typing [Enter], [Ctrl]-[D], pushing the RESET button on the microcontroller or unplugging then replugging the USB cable.\n",
    "\n",
    "![MicroPython REPL prompt](images/REPL_prompt.PNG)"
   ]
  },
  {
   "cell_type": "markdown",
   "id": "80e578ba",
   "metadata": {},
   "source": [
    "### Run commands at the MicroPython REPL"
   ]
  },
  {
   "cell_type": "markdown",
   "id": "e6347946",
   "metadata": {},
   "source": [
    "At the MicroPython REPL (the MicroPython command prompt ```>>>```) try the following commands:\n",
    "\n",
    "```text\n",
    ">>> print('MicroPython for Engineers!')\n",
    "MicroPython for Engineers\n",
    "```\n",
    "\n",
    "If you import the ```sys``` module, you can see the MicroPython implementation and platform. \n",
    "\n",
    "```text\n",
    ">>> import sys\n",
    ">>> sys.implementation\n",
    "(name='micropython', version=(1, 9, 3))\n",
    ">>> sys.platform\n",
    "'esp8266'\n",
    "```\n",
    "\n",
    "![Results of running sys commands at the MicroPython REPL prompt](images/sys_dot_implementation_and_platform.PNG)\n",
    "\n",
    "If you see similar output, that means MicroPython is working on the ESP8266-based microcontroller. You can also view the flash memory size of your microcontroller and the size of the MicroPython firmware you installed. Try the command below at the MicroPython prompt:\n",
    "\n",
    "```text\n",
    ">>> import port_diag\n",
    "```\n",
    "\n",
    "![Results of running import port_diag at the MicroPython REPL prompt](images/import_port_diag.PNG)\n",
    "\n",
    "In the results above, you  can see the flash memory size is 4 MB. Below the label ```Firmware checksum:``` you can see a line for ```size: 600872```. ```size: 600872``` means the size of the Micropythpon installation is about 600 KB or about 0.6 MB. Just over half a megabyte on the microcontroller and you are running a working version of Python!\n",
    "\n",
    "Now try a simple for loop. When you initiate a loop, the MicroPython REPL automatically indents the next line. A tab is not needed on code lines below a loop statement. To run the loop, type backspace on an empty line (to backspace away from an indented line) and hit [Enter].\n",
    "\n",
    "```text\n",
    ">>> for i in range(5):\n",
    "...     print(\"Problem Solving with MicroPython!\")\n",
    "...\n",
    "\n",
    "Problem Solving with MicroPython!\n",
    "Problem Solving with MicroPython!\n",
    "Problem Solving with MicroPython!\n",
    "Problem Solving with MicroPython!\n",
    "Problem Solving with MicroPython!\n",
    "```"
   ]
  },
  {
   "cell_type": "code",
   "execution_count": null,
   "id": "2aba6876",
   "metadata": {},
   "outputs": [],
   "source": []
  }
 ],
 "metadata": {
  "jupytext": {
   "text_representation": {
    "extension": ".md",
    "format_name": "myst",
    "format_version": "0.9",
    "jupytext_version": "1.5.0"
   }
  },
  "kernelspec": {
   "display_name": "Python 3",
   "language": "python",
   "name": "python3"
  },
  "language_info": {
   "codemirror_mode": {
    "name": "ipython",
    "version": 3
   },
   "file_extension": ".py",
   "mimetype": "text/x-python",
   "name": "python",
   "nbconvert_exporter": "python",
   "pygments_lexer": "ipython3",
   "version": "3.8.10"
  },
  "source_map": [
   12,
   16,
   22,
   26,
   33,
   37,
   41,
   45,
   53,
   57,
   69,
   73,
   118
  ]
 },
 "nbformat": 4,
 "nbformat_minor": 5
}