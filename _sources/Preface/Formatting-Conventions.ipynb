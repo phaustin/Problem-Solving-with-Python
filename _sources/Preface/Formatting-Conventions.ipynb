{
 "cells": [
  {
   "cell_type": "markdown",
   "id": "9f428430",
   "metadata": {},
   "source": [
    "## Formatting Conventions"
   ]
  },
  {
   "cell_type": "markdown",
   "id": "c1eb36ed",
   "metadata": {},
   "source": [
    "This book and supporting materials use the following formatting conventions."
   ]
  },
  {
   "cell_type": "markdown",
   "id": "7808abc3",
   "metadata": {},
   "source": [
    "### Web Address\n",
    "\n",
    "Web address will be shown as:\n",
    "\n",
    " > [https://github.com/professorkazarinoff/Problem-Solving-with-Python](https://github.com/professorkazarinoff/Problem-Solving-with-Python)"
   ]
  },
  {
   "cell_type": "markdown",
   "id": "a0c078d2",
   "metadata": {},
   "source": [
    "### Important terms and vocabulary\n",
    " \n",
    "Important terms and vocabulary are shown in _italic text_.\n",
    "\n",
    "<br>\n",
    "\n",
    " > There is a difference between _local variables_ and _global variables_ in Python code."
   ]
  },
  {
   "cell_type": "markdown",
   "id": "b0b69739",
   "metadata": {},
   "source": [
    "### File Names\n",
    " \n",
    "File names are  shown in **_bold and italic text_**.\n",
    "\n",
    "<br>\n",
    "\n",
    " > After completing the code, save the file as **_hello.py_** in the current directory."
   ]
  },
  {
   "cell_type": "markdown",
   "id": "8de1d4dc",
   "metadata": {},
   "source": [
    "### Module and Package Names\n",
    " \n",
    "Module and Package names will be shown in **bold text**.\n",
    "\n",
    "<br>\n",
    " \n",
    " > **NumPy** and **Matplotlib** are two useful packages for problem solvers."
   ]
  },
  {
   "cell_type": "markdown",
   "id": "f22576d5",
   "metadata": {},
   "source": [
    "### Inline code\n",
    " \n",
    "Inline code, including variable names, is shown in ```monospace font```.\n",
    "\n",
    "<br>\n",
    " \n",
    " > To compare a variable use ```var == 'string'``` and make sure to include ```==```, the double equals sign."
   ]
  },
  {
   "cell_type": "markdown",
   "id": "3c71bfbf",
   "metadata": {},
   "source": [
    "### Separate code blocks\n",
    "  \n",
    "Separate code blocks appear in their own sections in ```monospaced font```.\n",
    "\n",
    "```python\n",
    "import numpy as np\n",
    "import pandas as pd\n",
    "import matplotlib.pyplot as plt\n",
    "```"
   ]
  },
  {
   "cell_type": "markdown",
   "id": "f8fa00e3",
   "metadata": {},
   "source": [
    "### Anaconda Prompt Commands\n",
    " \n",
    "Commands typed into the **Anaconda Prompt** are shown in separate sections which contain the prompt symbol ```>``` before each line. Note the prompt ```>``` should not be typed. The prompt symbol is included to indicate **Anaconda Prompt**, not a character for the user to enter.\n",
    "\n",
    "```text\n",
    "> conda create -n env python=3.7\n",
    "> conda activate env\n",
    "```"
   ]
  },
  {
   "cell_type": "markdown",
   "id": "e42f67a9",
   "metadata": {},
   "source": [
    "### Terminal Commands\n",
    " \n",
    "Commands typed into the MacOS or Linux terminal appear in separate sections which contain the dollar symbol ```$```  before each line. Note the dollar symbol ```$``` should not be typed. The dollar symbol is included to indicate a terminal prompt, not a character for the user to enter.\n",
    " \n",
    "```text\n",
    "$ pip install pint\n",
    "$ cd pint_srcipts\n",
    "```"
   ]
  },
  {
   "cell_type": "markdown",
   "id": "2d89f690",
   "metadata": {},
   "source": [
    "### Python REPL Commands\n",
    "\n",
    "Commands typed into the **Python REPL** (the Python Interpreter) appears in separate code sections, which contain the triple arrow prompt ```>>>``` . Note the triple arrow ```>>>``` prompt should not be typed. Triple arrows are included to indicate the Python REPL prompt, not a character for the user to enter. The output from the Python REPL is shown on a separate line below the command, without the ```>>>``` prompt.\n",
    "\n",
    "```python\n",
    ">>> 2 + 2\n",
    "4\n",
    ">>> print('Problem Solving with Python')\n",
    "Problem Solving with Python\n",
    "```"
   ]
  },
  {
   "cell_type": "markdown",
   "id": "b89e319b",
   "metadata": {},
   "source": [
    "### Jupyter Notebook cells\n",
    "\n",
    "Commands typed into Jupyter notebook cells appear with the label ```In [#]:``` to the left of the code section. The output from Jupyter notebook cells is shown below the input cell. Only code in the input cells needs to be typed. Output cell are be produced automatically by clicking the run button or typing ```[shift]+[Enter]```."
   ]
  },
  {
   "cell_type": "code",
   "execution_count": 1,
   "id": "97208582",
   "metadata": {},
   "outputs": [
    {
     "name": "stdout",
     "output_type": "stream",
     "text": [
      "5\n"
     ]
    }
   ],
   "source": [
    "A = 2\n",
    "B = 3\n",
    "C = A + B\n",
    "print(C)"
   ]
  },
  {
   "cell_type": "markdown",
   "id": "8c3df3bf",
   "metadata": {},
   "source": [
    "### Keystrokes and Buttons\n",
    "\n",
    "Keystrokes directly entered by the keyboard or buttons that are indicated on programs or web pages are shown inside square brackets in ```[monospaced font]```.\n",
    "\n",
    "<br>\n",
    "\n",
    " > In order to delete a line use the ```[Backspace]``` key. To exit the shell type ```[shift]+[c]```"
   ]
  },
  {
   "cell_type": "code",
   "execution_count": null,
   "id": "71d92c6c",
   "metadata": {},
   "outputs": [],
   "source": []
  }
 ],
 "metadata": {
  "jupytext": {
   "text_representation": {
    "extension": ".md",
    "format_name": "myst",
    "format_version": "0.9",
    "jupytext_version": "1.5.0"
   }
  },
  "kernelspec": {
   "display_name": "Python 3",
   "language": "python",
   "name": "python3"
  },
  "language_info": {
   "codemirror_mode": {
    "name": "ipython",
    "version": 3
   },
   "file_extension": ".py",
   "mimetype": "text/x-python",
   "name": "python",
   "nbconvert_exporter": "python",
   "pygments_lexer": "ipython3",
   "version": "3.8.10"
  },
  "source_map": [
   12,
   16,
   20,
   29,
   40,
   50,
   62,
   73,
   85,
   96,
   107,
   120,
   126,
   131,
   141
  ]
 },
 "nbformat": 4,
 "nbformat_minor": 5
}