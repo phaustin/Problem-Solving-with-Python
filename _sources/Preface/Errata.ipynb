{
 "cells": [
  {
   "cell_type": "markdown",
   "id": "bdddbb4d",
   "metadata": {},
   "source": [
    "## Errata"
   ]
  },
  {
   "cell_type": "markdown",
   "id": "cf64e833",
   "metadata": {},
   "source": [
    "Errata including any typos, code errors and formatting inconsistencies can be submitted to:\n",
    "\n",
    " > errata@problemsolvingwithpython.com\n",
    " \n",
    "Please include the chapter number and section number in your email. Thank-you in advance for helping improve this text for future readers."
   ]
  },
  {
   "cell_type": "code",
   "execution_count": null,
   "id": "517061eb",
   "metadata": {},
   "outputs": [],
   "source": []
  }
 ],
 "metadata": {
  "jupytext": {
   "text_representation": {
    "extension": ".md",
    "format_name": "myst",
    "format_version": "0.9",
    "jupytext_version": "1.5.0"
   }
  },
  "kernelspec": {
   "display_name": "Python 3",
   "language": "python",
   "name": "python3"
  },
  "language_info": {
   "codemirror_mode": {
    "name": "ipython",
    "version": 3
   },
   "file_extension": ".py",
   "mimetype": "text/x-python",
   "name": "python",
   "nbconvert_exporter": "python",
   "pygments_lexer": "ipython3",
   "version": "3.8.10"
  },
  "source_map": [
   12,
   16,
   24
  ]
 },
 "nbformat": 4,
 "nbformat_minor": 5
}