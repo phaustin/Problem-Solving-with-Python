{
 "cells": [
  {
   "cell_type": "markdown",
   "id": "4e58a466",
   "metadata": {},
   "source": [
    "## Installing SymPy"
   ]
  },
  {
   "cell_type": "markdown",
   "id": "a23a01e3",
   "metadata": {},
   "source": [
    "To work with symbolic math in Python, the SymPy library needs to be installed. SymPy comes pre-installed with the Anaconda distribution of Python."
   ]
  },
  {
   "cell_type": "markdown",
   "id": "91729bc3",
   "metadata": {},
   "source": [
    "If you are not using the Anaconda distribution of Python, SymPy can be installed with the **Anaconda Prompt**. Use the command:\n",
    "\n",
    "```text\n",
    "> conda install sympy\n",
    "```"
   ]
  },
  {
   "cell_type": "markdown",
   "id": "f3f7c7a1",
   "metadata": {},
   "source": [
    "Alternatively, you can install SymPy using the Python package manager **pip**. The command below installs SymPy into the current environment.\n",
    "\n",
    "```text\n",
    "$ pip install sympy\n",
    "```"
   ]
  },
  {
   "cell_type": "markdown",
   "id": "56fbc0b9",
   "metadata": {},
   "source": [
    "You can confirm your SymPy installation by opening up the Python REPL and typing the two commands below."
   ]
  },
  {
   "cell_type": "markdown",
   "id": "52be8a3b",
   "metadata": {},
   "source": [
    "```text\n",
    ">>> import sympy\n",
    ">>> sympy.__version__\n",
    "'1.4'\n",
    "```"
   ]
  },
  {
   "cell_type": "markdown",
   "id": "9606550b",
   "metadata": {},
   "source": [
    "The ouput above shows SymPy version ```'1.4'``` is installed."
   ]
  }
 ],
 "metadata": {
  "jupytext": {
   "text_representation": {
    "extension": ".md",
    "format_name": "myst",
    "format_version": "0.9",
    "jupytext_version": "1.5.0"
   }
  },
  "kernelspec": {
   "display_name": "Python 3",
   "language": "python",
   "name": "python3"
  },
  "language_info": {
   "codemirror_mode": {
    "name": "ipython",
    "version": 3
   },
   "file_extension": ".py",
   "mimetype": "text/x-python",
   "name": "python",
   "nbconvert_exporter": "python",
   "pygments_lexer": "ipython3",
   "version": "3.8.10"
  },
  "source_map": [
   12,
   16,
   20,
   28,
   36,
   40,
   48
  ]
 },
 "nbformat": 4,
 "nbformat_minor": 5
}