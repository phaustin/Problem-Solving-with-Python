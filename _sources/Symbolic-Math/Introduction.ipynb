{
 "cells": [
  {
   "cell_type": "markdown",
   "id": "87723a90",
   "metadata": {},
   "source": [
    "# Symbolic Math"
   ]
  },
  {
   "cell_type": "markdown",
   "id": "bf5488d4",
   "metadata": {},
   "source": [
    "## Introduction"
   ]
  },
  {
   "cell_type": "markdown",
   "id": "b8a02d2b",
   "metadata": {
    "latex": {
     "after_cell": "newpage"
    }
   },
   "source": [
    "By the end of this chapter you will be able to:\n",
    "\n",
    " * Define Python variables as symbolic math variables\n",
    " \n",
    " * Define mathematical expressions and equations using symbolic math variables\n",
    " \n",
    " * Solve for symbolic math variables in terms of other symbolic math variables\n",
    " \n",
    " * Derive numerical solutions using symbolic math variable substitution\n",
    " \n",
    " * Solve linear and quadratic equations using symbolic math\n",
    "\n",
    " * Solve systems of equations using symbolic math"
   ]
  },
  {
   "cell_type": "code",
   "execution_count": null,
   "id": "53391376",
   "metadata": {},
   "outputs": [],
   "source": []
  }
 ],
 "metadata": {
  "jupytext": {
   "text_representation": {
    "extension": ".md",
    "format_name": "myst",
    "format_version": "0.9",
    "jupytext_version": "1.5.0"
   }
  },
  "kernelspec": {
   "display_name": "Python 3",
   "language": "python",
   "name": "python3"
  },
  "language_info": {
   "codemirror_mode": {
    "name": "ipython",
    "version": 3
   },
   "file_extension": ".py",
   "mimetype": "text/x-python",
   "name": "python",
   "nbconvert_exporter": "python",
   "pygments_lexer": "ipython3",
   "version": "3.8.0"
  },
  "source_map": [
   12,
   16,
   20,
   36
  ]
 },
 "nbformat": 4,
 "nbformat_minor": 5
}