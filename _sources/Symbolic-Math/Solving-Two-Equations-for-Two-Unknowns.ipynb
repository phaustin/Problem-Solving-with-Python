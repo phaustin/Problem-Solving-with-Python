{
 "cells": [
  {
   "cell_type": "markdown",
   "id": "73c2c5dc",
   "metadata": {},
   "source": [
    "## Solving Two Equations for Two Unknows"
   ]
  },
  {
   "cell_type": "markdown",
   "id": "dba00d22",
   "metadata": {},
   "source": [
    "Solving two equations for two unknown can be accomplished using SymPy. Consider the following set of two equations with two variables:\n",
    "\n",
    "$$ x + y - 5 = 0 $$\n",
    "\n",
    "$$ x - y + 3 = 0 $$\n",
    "\n",
    "To solve this system of two equations for the two unknowns, $x$ and $y$, first import the SymPy package. From the SymPy package, the functions ```symbols```, ```Eq``` and ```solve``` are needed."
   ]
  },
  {
   "cell_type": "code",
   "execution_count": 1,
   "id": "add841e3",
   "metadata": {},
   "outputs": [
    {
     "ename": "ModuleNotFoundError",
     "evalue": "No module named 'sympy'",
     "output_type": "error",
     "traceback": [
      "\u001b[1;31m---------------------------------------------------------------------------\u001b[0m",
      "\u001b[1;31mModuleNotFoundError\u001b[0m                       Traceback (most recent call last)",
      "\u001b[1;32m~\\AppData\\Local\\Temp/ipykernel_14164/3726001100.py\u001b[0m in \u001b[0;36m<module>\u001b[1;34m\u001b[0m\n\u001b[1;32m----> 1\u001b[1;33m \u001b[1;32mfrom\u001b[0m \u001b[0msympy\u001b[0m \u001b[1;32mimport\u001b[0m \u001b[0msymbols\u001b[0m\u001b[1;33m,\u001b[0m \u001b[0mEq\u001b[0m\u001b[1;33m,\u001b[0m \u001b[0msolve\u001b[0m\u001b[1;33m\u001b[0m\u001b[1;33m\u001b[0m\u001b[0m\n\u001b[0m",
      "\u001b[1;31mModuleNotFoundError\u001b[0m: No module named 'sympy'"
     ]
    }
   ],
   "source": [
    "from sympy import symbols, Eq, solve"
   ]
  },
  {
   "cell_type": "markdown",
   "id": "8614e92c",
   "metadata": {},
   "source": [
    "Next, create two SymPy symbols objects, $x$ and $y$. As shown in a previous section, the string passed as an input argument to the ```symbols()``` function, ```'x y'```, does not have any commas. The outputs of the ```symbols()``` function are the two symbol objects ```x``` and ```y```. These outputs must be separated by a comma and are not surrounded by quotes."
   ]
  },
  {
   "cell_type": "code",
   "execution_count": 2,
   "id": "4c9d935d",
   "metadata": {},
   "outputs": [
    {
     "ename": "NameError",
     "evalue": "name 'symbols' is not defined",
     "output_type": "error",
     "traceback": [
      "\u001b[1;31m---------------------------------------------------------------------------\u001b[0m",
      "\u001b[1;31mNameError\u001b[0m                                 Traceback (most recent call last)",
      "\u001b[1;32m~\\AppData\\Local\\Temp/ipykernel_14164/3148113444.py\u001b[0m in \u001b[0;36m<module>\u001b[1;34m\u001b[0m\n\u001b[1;32m----> 1\u001b[1;33m \u001b[0mx\u001b[0m\u001b[1;33m,\u001b[0m \u001b[0my\u001b[0m \u001b[1;33m=\u001b[0m \u001b[0msymbols\u001b[0m\u001b[1;33m(\u001b[0m\u001b[1;34m'x y'\u001b[0m\u001b[1;33m)\u001b[0m\u001b[1;33m\u001b[0m\u001b[1;33m\u001b[0m\u001b[0m\n\u001b[0m",
      "\u001b[1;31mNameError\u001b[0m: name 'symbols' is not defined"
     ]
    }
   ],
   "source": [
    "x, y = symbols('x y')"
   ]
  },
  {
   "cell_type": "markdown",
   "id": "947f984d",
   "metadata": {},
   "source": [
    "Now define the two equations as SymPy equation objects."
   ]
  },
  {
   "cell_type": "code",
   "execution_count": 3,
   "id": "83a36732",
   "metadata": {},
   "outputs": [
    {
     "ename": "NameError",
     "evalue": "name 'Eq' is not defined",
     "output_type": "error",
     "traceback": [
      "\u001b[1;31m---------------------------------------------------------------------------\u001b[0m",
      "\u001b[1;31mNameError\u001b[0m                                 Traceback (most recent call last)",
      "\u001b[1;32m~\\AppData\\Local\\Temp/ipykernel_14164/4237012020.py\u001b[0m in \u001b[0;36m<module>\u001b[1;34m\u001b[0m\n\u001b[1;32m----> 1\u001b[1;33m \u001b[0meq1\u001b[0m \u001b[1;33m=\u001b[0m \u001b[0mEq\u001b[0m\u001b[1;33m(\u001b[0m\u001b[0mx\u001b[0m \u001b[1;33m+\u001b[0m \u001b[0my\u001b[0m \u001b[1;33m-\u001b[0m \u001b[1;36m5\u001b[0m\u001b[1;33m)\u001b[0m\u001b[1;33m\u001b[0m\u001b[1;33m\u001b[0m\u001b[0m\n\u001b[0m\u001b[0;32m      2\u001b[0m \u001b[0meq2\u001b[0m \u001b[1;33m=\u001b[0m \u001b[0mEq\u001b[0m\u001b[1;33m(\u001b[0m\u001b[0mx\u001b[0m \u001b[1;33m-\u001b[0m \u001b[0my\u001b[0m \u001b[1;33m+\u001b[0m \u001b[1;36m3\u001b[0m\u001b[1;33m)\u001b[0m\u001b[1;33m\u001b[0m\u001b[1;33m\u001b[0m\u001b[0m\n",
      "\u001b[1;31mNameError\u001b[0m: name 'Eq' is not defined"
     ]
    }
   ],
   "source": [
    "eq1 = Eq(x + y - 5)\n",
    "eq2 = Eq(x - y + 3)"
   ]
  },
  {
   "cell_type": "markdown",
   "id": "fef76187",
   "metadata": {},
   "source": [
    "We can use SymPy's ```solve()``` function to compute the value of $x$ and $y$. The first argument passed to the ```solve()``` function is a tuple of the two equations ```(eq1, eq2)```. The second argument passed to the ```solve()``` function is a tuple of the variables we want to solve for ```(x, y)```."
   ]
  },
  {
   "cell_type": "code",
   "execution_count": 4,
   "id": "a8269fd1",
   "metadata": {},
   "outputs": [
    {
     "ename": "NameError",
     "evalue": "name 'solve' is not defined",
     "output_type": "error",
     "traceback": [
      "\u001b[1;31m---------------------------------------------------------------------------\u001b[0m",
      "\u001b[1;31mNameError\u001b[0m                                 Traceback (most recent call last)",
      "\u001b[1;32m~\\AppData\\Local\\Temp/ipykernel_14164/1422323943.py\u001b[0m in \u001b[0;36m<module>\u001b[1;34m\u001b[0m\n\u001b[1;32m----> 1\u001b[1;33m \u001b[0msolve\u001b[0m\u001b[1;33m(\u001b[0m\u001b[1;33m(\u001b[0m\u001b[0meq1\u001b[0m\u001b[1;33m,\u001b[0m\u001b[0meq2\u001b[0m\u001b[1;33m)\u001b[0m\u001b[1;33m,\u001b[0m \u001b[1;33m(\u001b[0m\u001b[0mx\u001b[0m\u001b[1;33m,\u001b[0m \u001b[0my\u001b[0m\u001b[1;33m)\u001b[0m\u001b[1;33m)\u001b[0m\u001b[1;33m\u001b[0m\u001b[1;33m\u001b[0m\u001b[0m\n\u001b[0m",
      "\u001b[1;31mNameError\u001b[0m: name 'solve' is not defined"
     ]
    }
   ],
   "source": [
    "solve((eq1,eq2), (x, y))"
   ]
  },
  {
   "cell_type": "markdown",
   "id": "2cab26a2",
   "metadata": {},
   "source": [
    "The solution is in the form of a Python dictionary. The dictionary keys are the variables and the dictionary values are the numerical solutions. \n",
    "\n",
    "We can access the solution out of the solution dictionary using regular dictionary indexing."
   ]
  },
  {
   "cell_type": "code",
   "execution_count": 5,
   "id": "8795a117",
   "metadata": {},
   "outputs": [
    {
     "ename": "NameError",
     "evalue": "name 'solve' is not defined",
     "output_type": "error",
     "traceback": [
      "\u001b[1;31m---------------------------------------------------------------------------\u001b[0m",
      "\u001b[1;31mNameError\u001b[0m                                 Traceback (most recent call last)",
      "\u001b[1;32m~\\AppData\\Local\\Temp/ipykernel_14164/3071579244.py\u001b[0m in \u001b[0;36m<module>\u001b[1;34m\u001b[0m\n\u001b[1;32m----> 1\u001b[1;33m \u001b[0msol_dict\u001b[0m \u001b[1;33m=\u001b[0m \u001b[0msolve\u001b[0m\u001b[1;33m(\u001b[0m\u001b[1;33m(\u001b[0m\u001b[0meq1\u001b[0m\u001b[1;33m,\u001b[0m\u001b[0meq2\u001b[0m\u001b[1;33m)\u001b[0m\u001b[1;33m,\u001b[0m \u001b[1;33m(\u001b[0m\u001b[0mx\u001b[0m\u001b[1;33m,\u001b[0m \u001b[0my\u001b[0m\u001b[1;33m)\u001b[0m\u001b[1;33m)\u001b[0m\u001b[1;33m\u001b[0m\u001b[1;33m\u001b[0m\u001b[0m\n\u001b[0m\u001b[0;32m      2\u001b[0m \u001b[0mprint\u001b[0m\u001b[1;33m(\u001b[0m\u001b[1;34mf'x = {sol_dict[x]}'\u001b[0m\u001b[1;33m)\u001b[0m\u001b[1;33m\u001b[0m\u001b[1;33m\u001b[0m\u001b[0m\n\u001b[0;32m      3\u001b[0m \u001b[0mprint\u001b[0m\u001b[1;33m(\u001b[0m\u001b[1;34mf'y = {sol_dict[y]}'\u001b[0m\u001b[1;33m)\u001b[0m\u001b[1;33m\u001b[0m\u001b[1;33m\u001b[0m\u001b[0m\n",
      "\u001b[1;31mNameError\u001b[0m: name 'solve' is not defined"
     ]
    }
   ],
   "source": [
    "sol_dict = solve((eq1,eq2), (x, y))\n",
    "print(f'x = {sol_dict[x]}')\n",
    "print(f'y = {sol_dict[y]}')"
   ]
  },
  {
   "cell_type": "markdown",
   "id": "f039cf4e",
   "metadata": {},
   "source": [
    "### Solve a statics problem with SymPy"
   ]
  },
  {
   "cell_type": "markdown",
   "id": "9c1813b6",
   "metadata": {},
   "source": [
    "Consider the following engineering statics problem which can be solved with symbolic math and SymPy.\n",
    "\n",
    "#### GIVEN:\n",
    "\n",
    "A weight of 22 lbs is hung from a ring. The ring is supported by two cords. The first cord, cord CE, is 30 degrees above the horizontal and to the right. The second cord, cord BD, is 45 degrees to the left and above the horizontal. \n",
    "\n",
    "$w$ = 22 lb\n",
    "\n",
    "$T_{CE}$ @ +30 degrees CCW relative to +x-axis\n",
    "\n",
    "$T_{BD}$ @ +45 degress CW relative to -x-axis\n",
    "\n",
    "#### FIND:\n",
    "\n",
    "The magnitude of $T_{CE}$ and $T_{BD}$"
   ]
  },
  {
   "cell_type": "markdown",
   "id": "8e2dbcd3",
   "metadata": {},
   "source": [
    "#### SOLUTION:\n",
    "\n",
    "To solve for the magnitude of $T_{CE}$ and $T_{BD}$, we need to solve to two equations for two unknowns.\n",
    "\n",
    "To accomplish this with Python, first import NumPy and SymPy.  The SymPy functions ```symbols```, ```Eq``` and ```solve``` are needed. We will also use NumPy's trig functions to solve this problem."
   ]
  },
  {
   "cell_type": "code",
   "execution_count": 6,
   "id": "e9d48bf7",
   "metadata": {},
   "outputs": [
    {
     "ename": "ModuleNotFoundError",
     "evalue": "No module named 'sympy'",
     "output_type": "error",
     "traceback": [
      "\u001b[1;31m---------------------------------------------------------------------------\u001b[0m",
      "\u001b[1;31mModuleNotFoundError\u001b[0m                       Traceback (most recent call last)",
      "\u001b[1;32m~\\AppData\\Local\\Temp/ipykernel_14164/3475596963.py\u001b[0m in \u001b[0;36m<module>\u001b[1;34m\u001b[0m\n\u001b[0;32m      1\u001b[0m \u001b[1;32mimport\u001b[0m \u001b[0mnumpy\u001b[0m \u001b[1;32mas\u001b[0m \u001b[0mnp\u001b[0m\u001b[1;33m\u001b[0m\u001b[1;33m\u001b[0m\u001b[0m\n\u001b[1;32m----> 2\u001b[1;33m \u001b[1;32mfrom\u001b[0m \u001b[0msympy\u001b[0m \u001b[1;32mimport\u001b[0m \u001b[0msymbols\u001b[0m\u001b[1;33m,\u001b[0m \u001b[0mEq\u001b[0m\u001b[1;33m,\u001b[0m \u001b[0msolve\u001b[0m\u001b[1;33m\u001b[0m\u001b[1;33m\u001b[0m\u001b[0m\n\u001b[0m",
      "\u001b[1;31mModuleNotFoundError\u001b[0m: No module named 'sympy'"
     ]
    }
   ],
   "source": [
    "import numpy as np\n",
    "from sympy import symbols, Eq, solve"
   ]
  },
  {
   "cell_type": "markdown",
   "id": "ff0ac3e2",
   "metadata": {},
   "source": [
    "Next, define the symbolic math variables. Multiple symbolic math variables can be defined at the same time. Remember the argument names (on the right-hand side of the assignment operator ```=```) need to be enclosed in quotes``` '  ' ``` and separated by spaces, no commas. The object names (on the left-hand side of the assignment operator ```=```) are separated with commas, no quotes."
   ]
  },
  {
   "cell_type": "code",
   "execution_count": 7,
   "id": "06ea415d",
   "metadata": {},
   "outputs": [
    {
     "ename": "NameError",
     "evalue": "name 'symbols' is not defined",
     "output_type": "error",
     "traceback": [
      "\u001b[1;31m---------------------------------------------------------------------------\u001b[0m",
      "\u001b[1;31mNameError\u001b[0m                                 Traceback (most recent call last)",
      "\u001b[1;32m~\\AppData\\Local\\Temp/ipykernel_14164/376656248.py\u001b[0m in \u001b[0;36m<module>\u001b[1;34m\u001b[0m\n\u001b[1;32m----> 1\u001b[1;33m \u001b[0mTce\u001b[0m\u001b[1;33m,\u001b[0m \u001b[0mTbd\u001b[0m \u001b[1;33m=\u001b[0m \u001b[0msymbols\u001b[0m\u001b[1;33m(\u001b[0m\u001b[1;34m'Tce Tbd'\u001b[0m\u001b[1;33m)\u001b[0m\u001b[1;33m\u001b[0m\u001b[1;33m\u001b[0m\u001b[0m\n\u001b[0m",
      "\u001b[1;31mNameError\u001b[0m: name 'symbols' is not defined"
     ]
    }
   ],
   "source": [
    "Tce, Tbd = symbols('Tce Tbd')"
   ]
  },
  {
   "cell_type": "markdown",
   "id": "3deea732",
   "metadata": {},
   "source": [
    "Two equations based on the sum of the forces need to be defined. \n",
    "\n",
    "Assuming the ring is in static equilibrium:\n",
    "\n",
    "$$ \\Sigma \\vec{F} = 0 $$\n",
    "\n",
    "$$ \\Sigma F_{x} = 0 $$\n",
    "\n",
    "$$ \\Sigma F_{y} = 0 $$\n",
    "\n",
    "The three forces opperating on the ring are defined as:\n",
    "\n",
    "$$ {T_{ce}} = tension \\ in \\ cable \\ CE \\ $$\n",
    "\n",
    "$$ \\vec{T_{ce}} = T_{ce} cos(30)\\hat{i} + T_{ce} sin(30)\\hat{j} $$\n",
    "\n",
    "$$ {T_{bd}} = tension \\ in \\ cable \\ BD $$\n",
    "\n",
    "$$ \\vec{T_{bd}} = - T_{bd} cos(45)\\hat{i} + T_{bd} sin(45)\\hat{j} $$\n",
    "\n",
    "$$ \\vec{w} = 0 \\hat{i} - 22 \\hat{j} $$\n",
    "\n",
    "Taking $\\Sigma F_{x} = 0$ (sum of the $\\hat{i}$ terms):\n",
    "\n",
    "$$ T_{ce} cos(30) - T_{bd} cos(45) + 0 = 0 $$\n",
    "\n",
    "Taking $\\Sigma F_{y} = 0$ (sum of the $\\hat{j}$ terms):\n",
    "\n",
    "$$ T_{ce} sin(30) + T_{bd} sin(45) - 22 = 0 $$"
   ]
  },
  {
   "cell_type": "markdown",
   "id": "f77265c2",
   "metadata": {},
   "source": [
    "The first equation, based on the sum of the forces in the x-direction (the $\\hat{i}$ terms) is:\n",
    "\n",
    "$$ T_{ce} cos(30) - T_{bd} cos(45) + 0 = 0 $$\n",
    "\n",
    "This equation can be represented as a SymPy equation object. Note the right-hand side of the equation is ```0```. SymPy equation objects are instantiated with expressions equal to zero. If the expression was not equal to zero, simply subtract both sides by the term on the right-hand side of the equals sign and use the resulting expression (equal to zero) to create the SymPy equation object.\n",
    "\n",
    "A detail in the code section below is that NumPy's ```np.cos()``` function accepts an angle in radians, so we need to convert our angles from degrees to radians using NumPy's ```np.radians()``` function."
   ]
  },
  {
   "cell_type": "code",
   "execution_count": 8,
   "id": "1226404c",
   "metadata": {},
   "outputs": [
    {
     "ename": "NameError",
     "evalue": "name 'Eq' is not defined",
     "output_type": "error",
     "traceback": [
      "\u001b[1;31m---------------------------------------------------------------------------\u001b[0m",
      "\u001b[1;31mNameError\u001b[0m                                 Traceback (most recent call last)",
      "\u001b[1;32m~\\AppData\\Local\\Temp/ipykernel_14164/2370069387.py\u001b[0m in \u001b[0;36m<module>\u001b[1;34m\u001b[0m\n\u001b[1;32m----> 1\u001b[1;33m \u001b[0meq1\u001b[0m\u001b[1;33m=\u001b[0m\u001b[0mEq\u001b[0m\u001b[1;33m(\u001b[0m\u001b[0mTce\u001b[0m \u001b[1;33m*\u001b[0m \u001b[0mnp\u001b[0m\u001b[1;33m.\u001b[0m\u001b[0mcos\u001b[0m\u001b[1;33m(\u001b[0m\u001b[0mnp\u001b[0m\u001b[1;33m.\u001b[0m\u001b[0mradians\u001b[0m\u001b[1;33m(\u001b[0m\u001b[1;36m30\u001b[0m\u001b[1;33m)\u001b[0m\u001b[1;33m)\u001b[0m \u001b[1;33m-\u001b[0m \u001b[0mTbd\u001b[0m \u001b[1;33m*\u001b[0m \u001b[0mnp\u001b[0m\u001b[1;33m.\u001b[0m\u001b[0mcos\u001b[0m\u001b[1;33m(\u001b[0m\u001b[0mnp\u001b[0m\u001b[1;33m.\u001b[0m\u001b[0mradians\u001b[0m\u001b[1;33m(\u001b[0m\u001b[1;36m45\u001b[0m\u001b[1;33m)\u001b[0m\u001b[1;33m)\u001b[0m\u001b[1;33m)\u001b[0m\u001b[1;33m\u001b[0m\u001b[1;33m\u001b[0m\u001b[0m\n\u001b[0m\u001b[0;32m      2\u001b[0m \u001b[0mprint\u001b[0m\u001b[1;33m(\u001b[0m\u001b[0meq1\u001b[0m\u001b[1;33m)\u001b[0m\u001b[1;33m\u001b[0m\u001b[1;33m\u001b[0m\u001b[0m\n",
      "\u001b[1;31mNameError\u001b[0m: name 'Eq' is not defined"
     ]
    }
   ],
   "source": [
    "eq1=Eq(Tce * np.cos(np.radians(30)) - Tbd * np.cos(np.radians(45)))\n",
    "print(eq1)"
   ]
  },
  {
   "cell_type": "markdown",
   "id": "6c153cee",
   "metadata": {},
   "source": [
    "The second equation, based on the sum of the forces in the y-direction is:\n",
    "\n",
    "$$ T_{ce} sin(30) + T_{bd} sin(45) - 22 = 0 $$\n",
    "\n",
    "Define this equation as a SymPy equation object as well:"
   ]
  },
  {
   "cell_type": "code",
   "execution_count": 9,
   "id": "816c0e38",
   "metadata": {},
   "outputs": [
    {
     "ename": "NameError",
     "evalue": "name 'Eq' is not defined",
     "output_type": "error",
     "traceback": [
      "\u001b[1;31m---------------------------------------------------------------------------\u001b[0m",
      "\u001b[1;31mNameError\u001b[0m                                 Traceback (most recent call last)",
      "\u001b[1;32m~\\AppData\\Local\\Temp/ipykernel_14164/3743055454.py\u001b[0m in \u001b[0;36m<module>\u001b[1;34m\u001b[0m\n\u001b[1;32m----> 1\u001b[1;33m \u001b[0meq2\u001b[0m\u001b[1;33m=\u001b[0m\u001b[0mEq\u001b[0m\u001b[1;33m(\u001b[0m\u001b[0mTce\u001b[0m \u001b[1;33m*\u001b[0m \u001b[0mnp\u001b[0m\u001b[1;33m.\u001b[0m\u001b[0msin\u001b[0m\u001b[1;33m(\u001b[0m\u001b[0mnp\u001b[0m\u001b[1;33m.\u001b[0m\u001b[0mradians\u001b[0m\u001b[1;33m(\u001b[0m\u001b[1;36m30\u001b[0m\u001b[1;33m)\u001b[0m\u001b[1;33m)\u001b[0m \u001b[1;33m+\u001b[0m \u001b[0mTbd\u001b[0m \u001b[1;33m*\u001b[0m \u001b[0mnp\u001b[0m\u001b[1;33m.\u001b[0m\u001b[0msin\u001b[0m\u001b[1;33m(\u001b[0m\u001b[0mnp\u001b[0m\u001b[1;33m.\u001b[0m\u001b[0mradians\u001b[0m\u001b[1;33m(\u001b[0m\u001b[1;36m45\u001b[0m\u001b[1;33m)\u001b[0m\u001b[1;33m)\u001b[0m\u001b[1;33m-\u001b[0m\u001b[1;36m22\u001b[0m\u001b[1;33m)\u001b[0m\u001b[1;33m\u001b[0m\u001b[1;33m\u001b[0m\u001b[0m\n\u001b[0m\u001b[0;32m      2\u001b[0m \u001b[0mprint\u001b[0m\u001b[1;33m(\u001b[0m\u001b[0meq2\u001b[0m\u001b[1;33m)\u001b[0m\u001b[1;33m\u001b[0m\u001b[1;33m\u001b[0m\u001b[0m\n",
      "\u001b[1;31mNameError\u001b[0m: name 'Eq' is not defined"
     ]
    }
   ],
   "source": [
    "eq2=Eq(Tce * np.sin(np.radians(30)) + Tbd * np.sin(np.radians(45))-22)\n",
    "print(eq2)"
   ]
  },
  {
   "cell_type": "markdown",
   "id": "328578e2",
   "metadata": {},
   "source": [
    "Now solve the two equations for $T_{ce}$ and $T_{bd}$ with SymPy's ```solve()``` function. The first argument passed to the ```solve()``` function is a tuple of equations to solve, the second argument passed to the ```solve()``` function is a tuple of the variables to solve for."
   ]
  },
  {
   "cell_type": "code",
   "execution_count": 10,
   "id": "3aa6a18f",
   "metadata": {},
   "outputs": [
    {
     "ename": "NameError",
     "evalue": "name 'solve' is not defined",
     "output_type": "error",
     "traceback": [
      "\u001b[1;31m---------------------------------------------------------------------------\u001b[0m",
      "\u001b[1;31mNameError\u001b[0m                                 Traceback (most recent call last)",
      "\u001b[1;32m~\\AppData\\Local\\Temp/ipykernel_14164/199059870.py\u001b[0m in \u001b[0;36m<module>\u001b[1;34m\u001b[0m\n\u001b[1;32m----> 1\u001b[1;33m \u001b[0msolve\u001b[0m\u001b[1;33m(\u001b[0m\u001b[1;33m(\u001b[0m\u001b[0meq1\u001b[0m\u001b[1;33m,\u001b[0m\u001b[0meq2\u001b[0m\u001b[1;33m)\u001b[0m\u001b[1;33m,\u001b[0m\u001b[1;33m(\u001b[0m\u001b[0mTce\u001b[0m\u001b[1;33m,\u001b[0m \u001b[0mTbd\u001b[0m\u001b[1;33m)\u001b[0m\u001b[1;33m)\u001b[0m\u001b[1;33m\u001b[0m\u001b[1;33m\u001b[0m\u001b[0m\n\u001b[0m",
      "\u001b[1;31mNameError\u001b[0m: name 'solve' is not defined"
     ]
    }
   ],
   "source": [
    "solve((eq1,eq2),(Tce, Tbd))"
   ]
  },
  {
   "cell_type": "markdown",
   "id": "79c1d90a",
   "metadata": {},
   "source": [
    "The solution is saved in a Python dictionary. The dictionary keys are the variable names ```Tbd``` and ```Tce``` and the dictionary values are the numerical solutions. \n",
    "\n",
    "The numerical solutions can be pulled out of the dictionary using regular Python dictionary access. Note ```Tce``` and ```Tbd``` are SymPy symbols objects, not strings."
   ]
  },
  {
   "cell_type": "code",
   "execution_count": 11,
   "id": "491a98fd",
   "metadata": {},
   "outputs": [
    {
     "ename": "NameError",
     "evalue": "name 'solve' is not defined",
     "output_type": "error",
     "traceback": [
      "\u001b[1;31m---------------------------------------------------------------------------\u001b[0m",
      "\u001b[1;31mNameError\u001b[0m                                 Traceback (most recent call last)",
      "\u001b[1;32m~\\AppData\\Local\\Temp/ipykernel_14164/3972129150.py\u001b[0m in \u001b[0;36m<module>\u001b[1;34m\u001b[0m\n\u001b[1;32m----> 1\u001b[1;33m \u001b[0msol_dict\u001b[0m \u001b[1;33m=\u001b[0m \u001b[0msolve\u001b[0m\u001b[1;33m(\u001b[0m\u001b[1;33m(\u001b[0m\u001b[0meq1\u001b[0m\u001b[1;33m,\u001b[0m\u001b[0meq2\u001b[0m\u001b[1;33m)\u001b[0m\u001b[1;33m,\u001b[0m\u001b[1;33m(\u001b[0m\u001b[0mTce\u001b[0m\u001b[1;33m,\u001b[0m \u001b[0mTbd\u001b[0m\u001b[1;33m)\u001b[0m\u001b[1;33m)\u001b[0m\u001b[1;33m\u001b[0m\u001b[1;33m\u001b[0m\u001b[0m\n\u001b[0m\u001b[0;32m      2\u001b[0m \u001b[0mprint\u001b[0m\u001b[1;33m(\u001b[0m\u001b[1;34mf'Tce = {sol_dict[Tce]}'\u001b[0m\u001b[1;33m)\u001b[0m\u001b[1;33m\u001b[0m\u001b[1;33m\u001b[0m\u001b[0m\n\u001b[0;32m      3\u001b[0m \u001b[0mprint\u001b[0m\u001b[1;33m(\u001b[0m\u001b[1;34mf'Tce = {sol_dict[Tbd]}'\u001b[0m\u001b[1;33m)\u001b[0m\u001b[1;33m\u001b[0m\u001b[1;33m\u001b[0m\u001b[0m\n",
      "\u001b[1;31mNameError\u001b[0m: name 'solve' is not defined"
     ]
    }
   ],
   "source": [
    "sol_dict = solve((eq1,eq2),(Tce, Tbd))\n",
    "print(f'Tce = {sol_dict[Tce]}')\n",
    "print(f'Tce = {sol_dict[Tbd]}')"
   ]
  },
  {
   "cell_type": "markdown",
   "id": "ad02776f",
   "metadata": {},
   "source": [
    "The same problem can be solved again, but with $w$ kept as a variable."
   ]
  },
  {
   "cell_type": "code",
   "execution_count": 12,
   "id": "26837cf0",
   "metadata": {},
   "outputs": [
    {
     "ename": "NameError",
     "evalue": "name 'symbols' is not defined",
     "output_type": "error",
     "traceback": [
      "\u001b[1;31m---------------------------------------------------------------------------\u001b[0m",
      "\u001b[1;31mNameError\u001b[0m                                 Traceback (most recent call last)",
      "\u001b[1;32m~\\AppData\\Local\\Temp/ipykernel_14164/374995713.py\u001b[0m in \u001b[0;36m<module>\u001b[1;34m\u001b[0m\n\u001b[1;32m----> 1\u001b[1;33m \u001b[0mw\u001b[0m\u001b[1;33m,\u001b[0m \u001b[0mTce\u001b[0m\u001b[1;33m,\u001b[0m \u001b[0mTbd\u001b[0m \u001b[1;33m=\u001b[0m \u001b[0msymbols\u001b[0m\u001b[1;33m(\u001b[0m\u001b[1;34m'w, Tab, Tac'\u001b[0m\u001b[1;33m)\u001b[0m\u001b[1;33m\u001b[0m\u001b[1;33m\u001b[0m\u001b[0m\n\u001b[0m\u001b[0;32m      2\u001b[0m \u001b[1;33m\u001b[0m\u001b[0m\n\u001b[0;32m      3\u001b[0m \u001b[0meq1\u001b[0m\u001b[1;33m=\u001b[0m\u001b[0mEq\u001b[0m\u001b[1;33m(\u001b[0m\u001b[0mTce\u001b[0m \u001b[1;33m*\u001b[0m \u001b[0mnp\u001b[0m\u001b[1;33m.\u001b[0m\u001b[0mcos\u001b[0m\u001b[1;33m(\u001b[0m\u001b[0mnp\u001b[0m\u001b[1;33m.\u001b[0m\u001b[0mradians\u001b[0m\u001b[1;33m(\u001b[0m\u001b[1;36m30\u001b[0m\u001b[1;33m)\u001b[0m\u001b[1;33m)\u001b[0m \u001b[1;33m-\u001b[0m \u001b[0mTbd\u001b[0m \u001b[1;33m*\u001b[0m \u001b[0mnp\u001b[0m\u001b[1;33m.\u001b[0m\u001b[0mcos\u001b[0m\u001b[1;33m(\u001b[0m\u001b[0mnp\u001b[0m\u001b[1;33m.\u001b[0m\u001b[0mradians\u001b[0m\u001b[1;33m(\u001b[0m\u001b[1;36m45\u001b[0m\u001b[1;33m)\u001b[0m\u001b[1;33m)\u001b[0m\u001b[1;33m)\u001b[0m\u001b[1;33m\u001b[0m\u001b[1;33m\u001b[0m\u001b[0m\n\u001b[0;32m      4\u001b[0m \u001b[0meq2\u001b[0m\u001b[1;33m=\u001b[0m\u001b[0mEq\u001b[0m\u001b[1;33m(\u001b[0m\u001b[0mTce\u001b[0m \u001b[1;33m*\u001b[0m \u001b[0mnp\u001b[0m\u001b[1;33m.\u001b[0m\u001b[0msin\u001b[0m\u001b[1;33m(\u001b[0m\u001b[0mnp\u001b[0m\u001b[1;33m.\u001b[0m\u001b[0mradians\u001b[0m\u001b[1;33m(\u001b[0m\u001b[1;36m30\u001b[0m\u001b[1;33m)\u001b[0m\u001b[1;33m)\u001b[0m \u001b[1;33m+\u001b[0m \u001b[0mTbd\u001b[0m \u001b[1;33m*\u001b[0m \u001b[0mnp\u001b[0m\u001b[1;33m.\u001b[0m\u001b[0msin\u001b[0m\u001b[1;33m(\u001b[0m\u001b[0mnp\u001b[0m\u001b[1;33m.\u001b[0m\u001b[0mradians\u001b[0m\u001b[1;33m(\u001b[0m\u001b[1;36m45\u001b[0m\u001b[1;33m)\u001b[0m\u001b[1;33m)\u001b[0m\u001b[1;33m-\u001b[0m\u001b[0mw\u001b[0m\u001b[1;33m)\u001b[0m\u001b[1;33m\u001b[0m\u001b[1;33m\u001b[0m\u001b[0m\n\u001b[0;32m      5\u001b[0m \u001b[1;33m\u001b[0m\u001b[0m\n",
      "\u001b[1;31mNameError\u001b[0m: name 'symbols' is not defined"
     ]
    }
   ],
   "source": [
    "w, Tce, Tbd = symbols('w, Tab, Tac')\n",
    "\n",
    "eq1=Eq(Tce * np.cos(np.radians(30)) - Tbd * np.cos(np.radians(45)))\n",
    "eq2=Eq(Tce * np.sin(np.radians(30)) + Tbd * np.sin(np.radians(45))-w)\n",
    "\n",
    "solve((eq1,eq2),(Tce,Tbd))"
   ]
  },
  {
   "cell_type": "markdown",
   "id": "4d098abf",
   "metadata": {},
   "source": [
    "The result is a solution is in terms of the variable $w$."
   ]
  },
  {
   "cell_type": "code",
   "execution_count": null,
   "id": "c65e2f9f",
   "metadata": {},
   "outputs": [],
   "source": []
  }
 ],
 "metadata": {
  "jupytext": {
   "text_representation": {
    "extension": ".md",
    "format_name": "myst",
    "format_version": "0.9",
    "jupytext_version": "1.5.0"
   }
  },
  "kernelspec": {
   "display_name": "Python 3",
   "language": "python",
   "name": "python3"
  },
  "language_info": {
   "codemirror_mode": {
    "name": "ipython",
    "version": 3
   },
   "file_extension": ".py",
   "mimetype": "text/x-python",
   "name": "python",
   "nbconvert_exporter": "python",
   "pygments_lexer": "ipython3",
   "version": "3.8.0"
  },
  "source_map": [
   12,
   16,
   26,
   28,
   32,
   34,
   38,
   41,
   45,
   47,
   53,
   57,
   61,
   79,
   87,
   90,
   94,
   96,
   128,
   138,
   141,
   149,
   152,
   156,
   158,
   164,
   168,
   172,
   179,
   183
  ]
 },
 "nbformat": 4,
 "nbformat_minor": 5
}