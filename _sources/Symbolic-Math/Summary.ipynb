{
 "cells": [
  {
   "cell_type": "markdown",
   "id": "3a3024ad",
   "metadata": {
    "latex": {
     "before_cell": "newpage"
    }
   },
   "source": [
    "## Summary"
   ]
  },
  {
   "cell_type": "markdown",
   "id": "cfdb19aa",
   "metadata": {},
   "source": [
    "In this chapter, you learned about symbolic math and how to complete symbolic math calculations with Python the SymPy package. Symbolic math treats variables as mathematical symbols rather than defining variables as numbers. \n",
    "\n",
    "At the start of the chapter, you learned how to create symbolic math variables with SymPy's ```symbols()``` function.\n",
    "\n",
    "Symbolic math variables can be combined into symbolic math expressions and symbolic math equations. You learned how to substitute variables and numbers into symbolic math expressions and equations. \n",
    "\n",
    "At the end of the chapter, you learned how to solve linear and quadratic equations with SymPy. \n",
    "\n",
    "The final example in the chapter was a multi-variable statics problem where two equations were solved for two unknowns."
   ]
  },
  {
   "cell_type": "markdown",
   "id": "72b71600",
   "metadata": {},
   "source": [
    "### Key Terms and Concepts"
   ]
  },
  {
   "cell_type": "markdown",
   "id": "3d682a89",
   "metadata": {
    "latex": {
     "environment": "key_terms"
    }
   },
   "source": [
    "symbolic math\n",
    "\n",
    "symbolic variable\n",
    "\n",
    "object\n",
    "\n",
    "numerical calculation\n",
    "\n",
    "systems of equations\n",
    "\n",
    "expression\n",
    "\n",
    "equation\n",
    "\n",
    "substitution\n",
    "\n",
    "evaluate\n",
    "\n",
    "linear equation\n",
    "\n",
    "quadratic equation"
   ]
  },
  {
   "cell_type": "markdown",
   "id": "16c82c90",
   "metadata": {},
   "source": [
    "### SymPy Functions and Methods"
   ]
  },
  {
   "cell_type": "markdown",
   "id": "d3e2fa38",
   "metadata": {},
   "source": [
    "| SymPy Function | Description | Example |\n",
    "| --- | --- | --- |\n",
    "| ```symbols()``` | Define a symbolic math variable | ```x, y = symbols('x y')``` |\n",
    "| ```.subs()``` | Substitute a variable or value | ```expr.subs(x, 2)``` |\n",
    "| ```Eq()``` | Define a SymPy equation | ```eq1 = Eq(4*x + 2)``` |\n",
    "| ```solve()``` | Solve a SymPy expression or equation | ```solve((eq1,eq2), (x, y))``` |"
   ]
  },
  {
   "cell_type": "code",
   "execution_count": null,
   "id": "0ac7831e",
   "metadata": {},
   "outputs": [],
   "source": []
  }
 ],
 "metadata": {
  "jupytext": {
   "text_representation": {
    "extension": ".md",
    "format_name": "myst",
    "format_version": "0.9",
    "jupytext_version": "1.5.0"
   }
  },
  "kernelspec": {
   "display_name": "Python 3",
   "language": "python",
   "name": "python3"
  },
  "language_info": {
   "codemirror_mode": {
    "name": "ipython",
    "version": 3
   },
   "file_extension": ".py",
   "mimetype": "text/x-python",
   "name": "python",
   "nbconvert_exporter": "python",
   "pygments_lexer": "ipython3",
   "version": "3.8.0"
  },
  "source_map": [
   14,
   19,
   31,
   35,
   59,
   63,
   72
  ]
 },
 "nbformat": 4,
 "nbformat_minor": 5
}