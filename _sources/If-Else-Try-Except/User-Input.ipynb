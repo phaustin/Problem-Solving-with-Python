{
 "cells": [
  {
   "cell_type": "markdown",
   "id": "08c639ba",
   "metadata": {},
   "source": [
    "## User Input"
   ]
  },
  {
   "cell_type": "markdown",
   "id": "91361e34",
   "metadata": {},
   "source": [
    "To begin this chapter, Python's ```input()``` function is discussed.\n",
    "\n",
    "**Editorial note**:  When we turn this chapter into a website, the automated notebook\n",
    "runner will produce an error when asked for interactive input.  To get around this, we're going to\n",
    "use the `try/except` blocks that we will discuss in Section 9.6\n",
    "to catch the error and substitute default values for the variables.  When you run this notebook\n",
    "on a jupyterhub you will be prompted for the values instead."
   ]
  },
  {
   "cell_type": "markdown",
   "id": "41149b16",
   "metadata": {},
   "source": [
    "Python can be used to ask users for input. The input entered by a user can be saved to a variable and used in subsequent parts of the program. The syntax of Python's ```input()``` function is below:\n",
    "\n",
    "```\n",
    "var = input('message')\n",
    "```\n",
    "\n",
    "Where ```var``` is the variable that stores the user's input and ```'message'``` is the message the user sees at the prompt. A string enclosed in quotes, like ```'message'```, needs to be passed as an input argument to the ```input()``` function.  Let's ask a user for their age:"
   ]
  },
  {
   "cell_type": "code",
   "execution_count": 1,
   "id": "34f288fd",
   "metadata": {},
   "outputs": [],
   "source": [
    "try:\n",
    "    age = input('how old are you? ')\n",
    "except:\n",
    "    age= '-5'"
   ]
  },
  {
   "cell_type": "markdown",
   "id": "52e7ad32",
   "metadata": {},
   "source": [
    "Since the user's input is assigned to a variable, further operations can be run on it. Now, let's print the user's age back to them. This can be accomplished with an f-string. Note the ```f' '``` inserted before the string. A set of curly braces ```{  }``` surrounds the variable's name and the variable's value is printed back to the user."
   ]
  },
  {
   "cell_type": "code",
   "execution_count": 2,
   "id": "3e088f32",
   "metadata": {},
   "outputs": [
    {
     "name": "stdout",
     "output_type": "stream",
     "text": [
      "you are -5 years old\n"
     ]
    }
   ],
   "source": [
    "try:\n",
    "    age = input('how old are you? ')\n",
    "except:\n",
    "    age = '-5'\n",
    "print(f'you are {age} years old')"
   ]
  },
  {
   "cell_type": "markdown",
   "id": "4c2445dc",
   "metadata": {},
   "source": [
    "Let's try another example. We will we ask the user for the base and height of a triangle and print out the area of the triangle. \n",
    "\n",
    "But, there is a problem with the approach below. The code block does not run because a common error is present."
   ]
  },
  {
   "cell_type": "code",
   "execution_count": 3,
   "id": "f41d1777",
   "metadata": {},
   "outputs": [
    {
     "ename": "TypeError",
     "evalue": "can't multiply sequence by non-int of type 'float'",
     "output_type": "error",
     "traceback": [
      "\u001b[0;31m---------------------------------------------------------------------------\u001b[0m",
      "\u001b[0;31mTypeError\u001b[0m                                 Traceback (most recent call last)",
      "\u001b[0;32m/tmp/ipykernel_3768500/3357621487.py\u001b[0m in \u001b[0;36m<module>\u001b[0;34m\u001b[0m\n\u001b[1;32m      7\u001b[0m \u001b[0;32mexcept\u001b[0m\u001b[0;34m:\u001b[0m\u001b[0;34m\u001b[0m\u001b[0;34m\u001b[0m\u001b[0m\n\u001b[1;32m      8\u001b[0m     \u001b[0mh\u001b[0m \u001b[0;34m=\u001b[0m \u001b[0;34m'10'\u001b[0m\u001b[0;34m\u001b[0m\u001b[0;34m\u001b[0m\u001b[0m\n\u001b[0;32m----> 9\u001b[0;31m \u001b[0mA\u001b[0m \u001b[0;34m=\u001b[0m \u001b[0;34m(\u001b[0m\u001b[0;36m1\u001b[0m\u001b[0;34m/\u001b[0m\u001b[0;36m2\u001b[0m\u001b[0;34m)\u001b[0m\u001b[0;34m*\u001b[0m\u001b[0mb\u001b[0m\u001b[0;34m*\u001b[0m\u001b[0mh\u001b[0m\u001b[0;34m\u001b[0m\u001b[0;34m\u001b[0m\u001b[0m\n\u001b[0m\u001b[1;32m     10\u001b[0m \u001b[0mprint\u001b[0m\u001b[0;34m(\u001b[0m\u001b[0;34mf'The area of the triangle is: {A}'\u001b[0m\u001b[0;34m)\u001b[0m\u001b[0;34m\u001b[0m\u001b[0;34m\u001b[0m\u001b[0m\n",
      "\u001b[0;31mTypeError\u001b[0m: can't multiply sequence by non-int of type 'float'"
     ]
    }
   ],
   "source": [
    "try:\n",
    "    b = input('base of triangle: ')\n",
    "except:\n",
    "    b = '5'\n",
    "try:\n",
    "    h = input('height of triangle: ')\n",
    "except:\n",
    "    h = '10'\n",
    "A = (1/2)*b*h\n",
    "print(f'The area of the triangle is: {A}')"
   ]
  },
  {
   "cell_type": "markdown",
   "id": "32a8b7bd",
   "metadata": {},
   "source": [
    "The previous section of code returns an error because of the _data type_ of the variables ```b``` and ```h```. We can investigate ```b``` and ```h```'s data type with Python's ```type()``` function."
   ]
  },
  {
   "cell_type": "code",
   "execution_count": 4,
   "id": "1aa0d566",
   "metadata": {},
   "outputs": [
    {
     "name": "stdout",
     "output_type": "stream",
     "text": [
      "b and h are of type: <class 'str'>, <class 'str'>\n"
     ]
    }
   ],
   "source": [
    "try:\n",
    "    b = input('base of triangle: ')\n",
    "except:\n",
    "    b = '5'\n",
    "try:\n",
    "    h = input('height of triangle: ')\n",
    "except:\n",
    "    h = '10'\n",
    "print(f'b and h are of type: {type(b)}, {type(h)}')"
   ]
  },
  {
   "cell_type": "markdown",
   "id": "f6e18ed8",
   "metadata": {},
   "source": [
    "Notice both ```b``` and ```h``` are strings, even though the numbers ```5``` and ```2``` were entered as input. The output of the ```input()``` function is always a string, even if the user enters a number. \n",
    "\n",
    "To complete the area calculation, ```b``` and ```h``` first need to be converted to floats using Python's ```float()``` function, then the mathematical operation will run without error:"
   ]
  },
  {
   "cell_type": "code",
   "execution_count": 5,
   "id": "a9d67aff",
   "metadata": {},
   "outputs": [
    {
     "name": "stdout",
     "output_type": "stream",
     "text": [
      "The area of the triangle is: 25.0\n"
     ]
    }
   ],
   "source": [
    "try:\n",
    "    b = input('base of triangle: ')\n",
    "except:\n",
    "    b = '5'\n",
    "try:\n",
    "    h = input('height of triangle: ')\n",
    "except:\n",
    "    h= '10'\n",
    "A = (1/2)*float(b)*float(h)\n",
    "print(f'The area of the triangle is: {A}')"
   ]
  },
  {
   "cell_type": "markdown",
   "id": "663c244e",
   "metadata": {},
   "source": [
    "Now that you are familiar with Python's ```input()``` function, let's utilize a user's input to decide which lines of code will run. The concept of an selection statement is introduced the next section."
   ]
  },
  {
   "cell_type": "code",
   "execution_count": null,
   "id": "df003661",
   "metadata": {},
   "outputs": [],
   "source": []
  }
 ],
 "metadata": {
  "jupytext": {
   "formats": "ipynb,md:myst,py:percent",
   "notebook_metadata_filter": "all,-language_info,-toc,-latex_envs",
   "text_representation": {
    "extension": ".md",
    "format_name": "myst",
    "format_version": 0.13,
    "jupytext_version": "1.10.3"
   }
  },
  "kernelspec": {
   "display_name": "Python 3 (ipykernel)",
   "language": "python",
   "name": "python3"
  },
  "language_info": {
   "codemirror_mode": {
    "name": "ipython",
    "version": 3
   },
   "file_extension": ".py",
   "mimetype": "text/x-python",
   "name": "python",
   "nbconvert_exporter": "python",
   "pygments_lexer": "ipython3",
   "version": "3.8.12"
  },
  "source_map": [
   14,
   18,
   28,
   38,
   43,
   47,
   53,
   59,
   70,
   74,
   84,
   90,
   101,
   105
  ]
 },
 "nbformat": 4,
 "nbformat_minor": 5
}