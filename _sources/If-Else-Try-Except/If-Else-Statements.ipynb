{
 "cells": [
  {
   "cell_type": "markdown",
   "id": "d5fa4c0c",
   "metadata": {},
   "source": [
    "## If Else Statements"
   ]
  },
  {
   "cell_type": "markdown",
   "id": "521a3e01",
   "metadata": {},
   "source": [
    "In Python, if-statements can include _else_ clauses. An else clause is a section of code that runs if the if-statement is ```False```.  If the if-statement is ```True```, the code section under the else clause does not run. \n",
    "\n",
    "The general form of an if-statement with an else statement is below:\n",
    "\n",
    "```python\n",
    "if <logical_condition>:\n",
    "    <code block 1>\n",
    "else:\n",
    "    <code block 2>\n",
    "```\n",
    "\n",
    "The  keyword ```else``` needs to be on its own line and be at the same indentation level as the ```if``` keyword that the ```else``` corresponds to. The keyword ```else``` needs to be followed by a colon ``` : ```. Any code that is included as part of the else statement must be indented the same amount. \n",
    "\n",
    "A sample if/else code section is below:"
   ]
  },
  {
   "cell_type": "code",
   "execution_count": 1,
   "id": "7bde612c",
   "metadata": {},
   "outputs": [
    {
     "name": "stdout",
     "output_type": "stream",
     "text": [
      "a is less than 10\n"
     ]
    }
   ],
   "source": [
    "a = 5\n",
    "if a>10:\n",
    "    print('a is greater than 10')\n",
    "else:\n",
    "    print('a is less than 10')"
   ]
  },
  {
   "cell_type": "markdown",
   "id": "92f79e99",
   "metadata": {},
   "source": [
    "Since ```a=5``` assigns a value to ```a``` that is less than 10, ```a>10``` is ```False``` and the code under the ```if``` statement does not run. Therefore, the code under the ```else``` statement does run, and ```\"a is less than 10\"``` is printed. \n",
    "\n",
    "If the value of ```a``` is modified so that ```a``` is greater than ```10```, ```a>10``` returns ```True```, and the code under the ```if``` statement _will_ run, and the code under the ```else``` keyword _will not_."
   ]
  },
  {
   "cell_type": "code",
   "execution_count": 2,
   "id": "2817a0c4",
   "metadata": {},
   "outputs": [
    {
     "name": "stdout",
     "output_type": "stream",
     "text": [
      "a is greater than 10\n"
     ]
    }
   ],
   "source": [
    "a = 20\n",
    "if a>10:\n",
    "    print('a is greater than 10')\n",
    "else:\n",
    "    print('a is less than 10')"
   ]
  },
  {
   "cell_type": "markdown",
   "id": "19d148e2",
   "metadata": {},
   "source": [
    "### elif"
   ]
  },
  {
   "cell_type": "markdown",
   "id": "3225b860",
   "metadata": {},
   "source": [
    "The _else if_ statement can be added to an if statement to run different sections of code depending on which one of many conditions are ```True```. The basic syntax of an else if section of code is:\n",
    "\n",
    "```python\n",
    "if <logical_condition>:\n",
    "    <code block 1>\n",
    "elif <logical_condition>:\n",
    "    <code block 2>\n",
    "else:\n",
    "    <code block 3>\n",
    "```\n",
    "\n",
    "The keyword ```elif``` must be followed by a logical condition that evaluates as ```True``` or ```False``` followed by a colon ```:```. The ```<code block>``` runs if the ```elif``` condition is ```True``` and is skipped if the ```elif``` condition is ```False```.\n",
    "\n",
    "An example section of code using ```if```, ```elif``` and ```else``` is below:"
   ]
  },
  {
   "cell_type": "code",
   "execution_count": 3,
   "id": "f6af72cf",
   "metadata": {},
   "outputs": [
    {
     "name": "stdout",
     "output_type": "stream",
     "text": [
      "The color is green\n"
     ]
    }
   ],
   "source": [
    "color = 'green'\n",
    "if color == 'red':\n",
    "    print('The color is red')\n",
    "elif color == 'green':\n",
    "    print('The color is green')\n",
    "else:\n",
    "    print('The color is not red or green')"
   ]
  },
  {
   "cell_type": "markdown",
   "id": "9c969c77",
   "metadata": {},
   "source": [
    "If we modify the code and set ```color = 'orange'```, the code under the ```if``` does not run, and the code under the ```elif``` does not run either. Only the code under the ```else``` is executed."
   ]
  },
  {
   "cell_type": "code",
   "execution_count": 4,
   "id": "7e3abde1",
   "metadata": {},
   "outputs": [
    {
     "name": "stdout",
     "output_type": "stream",
     "text": [
      "The color is not red or green\n"
     ]
    }
   ],
   "source": [
    "color = 'orange'\n",
    "if color == 'red':\n",
    "    print('The color is red')\n",
    "elif color == 'green':\n",
    "    print('The color is green')\n",
    "else:\n",
    "    print('The color is not red or green')"
   ]
  },
  {
   "cell_type": "code",
   "execution_count": null,
   "id": "f6ca162d",
   "metadata": {},
   "outputs": [],
   "source": []
  }
 ],
 "metadata": {
  "jupytext": {
   "text_representation": {
    "extension": ".md",
    "format_name": "myst",
    "format_version": "0.9",
    "jupytext_version": "1.5.0"
   }
  },
  "kernelspec": {
   "display_name": "Python 3",
   "language": "python",
   "name": "python3"
  },
  "language_info": {
   "codemirror_mode": {
    "name": "ipython",
    "version": 3
   },
   "file_extension": ".py",
   "mimetype": "text/x-python",
   "name": "python",
   "nbconvert_exporter": "python",
   "pygments_lexer": "ipython3",
   "version": "3.8.10"
  },
  "source_map": [
   12,
   16,
   33,
   39,
   45,
   51,
   55,
   72,
   80,
   84,
   94
  ]
 },
 "nbformat": 4,
 "nbformat_minor": 5
}