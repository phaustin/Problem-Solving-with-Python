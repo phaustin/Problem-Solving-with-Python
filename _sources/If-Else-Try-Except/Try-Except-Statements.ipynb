{
 "cells": [
  {
   "cell_type": "markdown",
   "id": "e906c11c",
   "metadata": {},
   "source": [
    "(sec:except)=\n",
    "## Try-Except Statements"
   ]
  },
  {
   "cell_type": "markdown",
   "id": "fb636b4f",
   "metadata": {},
   "source": [
    "Try-except statements are another selection structure in Python. Like ```if```, ```elif``` and ```else``` statements, a try-except statements select a particular block of code to run based on a condition. Unlike ```if```, ```elif``` and ```else``` clauses, try-except blocks are not based on _logical conditions_. Try-except blocks are based upon whether a line or section of code returns an error. \n",
    "\n",
    "Therefore, before we learn how to use try-except statements, we need to understand two types of errors in Python: syntax errors and exception errors."
   ]
  },
  {
   "cell_type": "markdown",
   "id": "d9589464",
   "metadata": {},
   "source": [
    "### Syntax Errors\n",
    "\n",
    "A _syntax error_ is a type of error in Python that occur when the syntax in a line of code is not valid Python code. Syntax errors include quotes that are not closed and variable names that do not start with a letter.\n",
    "\n",
    "The line of code below contains a syntax error. The string ```\"problem solving ``` is missing a quotation mark ```\"```."
   ]
  },
  {
   "cell_type": "code",
   "execution_count": 1,
   "id": "ba89a377",
   "metadata": {},
   "outputs": [
    {
     "ename": "SyntaxError",
     "evalue": "EOL while scanning string literal (142759820.py, line 1)",
     "output_type": "error",
     "traceback": [
      "\u001b[0;36m  File \u001b[0;32m\"/tmp/ipykernel_944545/142759820.py\"\u001b[0;36m, line \u001b[0;32m1\u001b[0m\n\u001b[0;31m    string = \"problem solving\u001b[0m\n\u001b[0m                             ^\u001b[0m\n\u001b[0;31mSyntaxError\u001b[0m\u001b[0;31m:\u001b[0m EOL while scanning string literal\n"
     ]
    }
   ],
   "source": [
    "string = \"problem solving"
   ]
  },
  {
   "cell_type": "markdown",
   "id": "bad29948",
   "metadata": {},
   "source": [
    "When you encounter syntax errors in Python, the Python interpreter displays ```SyntaxError``` and often a cryptic message.\n",
    "\n",
    "Even if a line of code does not run when a program is executed, syntax errors in Python are not allowed. For instance, a line of code indented after the if-statement ```if 'a' == 'b':``` will not be executed. But if the indented line of code contains a syntax error, the Python interpreter still flags the error as a syntax error and does not complete the program."
   ]
  },
  {
   "cell_type": "code",
   "execution_count": 2,
   "id": "2814bd92",
   "metadata": {},
   "outputs": [
    {
     "ename": "SyntaxError",
     "evalue": "invalid syntax (101656791.py, line 2)",
     "output_type": "error",
     "traceback": [
      "\u001b[0;36m  File \u001b[0;32m\"/tmp/ipykernel_944545/101656791.py\"\u001b[0;36m, line \u001b[0;32m2\u001b[0m\n\u001b[0;31m    string = 10problems\u001b[0m\n\u001b[0m               ^\u001b[0m\n\u001b[0;31mSyntaxError\u001b[0m\u001b[0;31m:\u001b[0m invalid syntax\n"
     ]
    }
   ],
   "source": [
    "if 'a' == 'b':\n",
    "    string = 10problems"
   ]
  },
  {
   "cell_type": "markdown",
   "id": "84394cea",
   "metadata": {},
   "source": [
    "#### Exception Errors\n",
    "\n",
    "Syntax errors are lines of code that are not valid Python. Another type of error in Python is an _exception error_. Exception errors result when a _valid_ line of Python code _cannot run_.  Lines of code with exception errors contain _valid_ Python code, but the line of code still cannot be executed. \n",
    "\n",
    "For example, the statement ```f = open('file.txt','r')``` is valid Python code. But if the file **_file.txt_** does not exist, Python throws an exception error because  ```f = open('file.txt','r')``` cannot be executed."
   ]
  },
  {
   "cell_type": "code",
   "execution_count": 3,
   "id": "9a2c0367",
   "metadata": {},
   "outputs": [
    {
     "ename": "FileNotFoundError",
     "evalue": "[Errno 2] No such file or directory: 'file.txt'",
     "output_type": "error",
     "traceback": [
      "\u001b[0;31m---------------------------------------------------------------------------\u001b[0m",
      "\u001b[0;31mFileNotFoundError\u001b[0m                         Traceback (most recent call last)",
      "\u001b[0;32m/tmp/ipykernel_944545/1541342814.py\u001b[0m in \u001b[0;36m<module>\u001b[0;34m\u001b[0m\n\u001b[0;32m----> 1\u001b[0;31m \u001b[0mf\u001b[0m \u001b[0;34m=\u001b[0m \u001b[0mopen\u001b[0m\u001b[0;34m(\u001b[0m\u001b[0;34m'file.txt'\u001b[0m\u001b[0;34m,\u001b[0m\u001b[0;34m'r'\u001b[0m\u001b[0;34m)\u001b[0m\u001b[0;34m\u001b[0m\u001b[0;34m\u001b[0m\u001b[0m\n\u001b[0m",
      "\u001b[0;31mFileNotFoundError\u001b[0m: [Errno 2] No such file or directory: 'file.txt'"
     ]
    }
   ],
   "source": [
    "f = open('file.txt','r')"
   ]
  },
  {
   "cell_type": "markdown",
   "id": "1880fcce",
   "metadata": {},
   "source": [
    "Another valid line of Python code is ```print(a[0])```, but if ```a``` is defined as an integer, ```a``` can not be indexed and an exception error is shown."
   ]
  },
  {
   "cell_type": "code",
   "execution_count": 4,
   "id": "df0afe92",
   "metadata": {},
   "outputs": [
    {
     "ename": "TypeError",
     "evalue": "'int' object is not subscriptable",
     "output_type": "error",
     "traceback": [
      "\u001b[0;31m---------------------------------------------------------------------------\u001b[0m",
      "\u001b[0;31mTypeError\u001b[0m                                 Traceback (most recent call last)",
      "\u001b[0;32m/tmp/ipykernel_944545/535893585.py\u001b[0m in \u001b[0;36m<module>\u001b[0;34m\u001b[0m\n\u001b[1;32m      1\u001b[0m \u001b[0ma\u001b[0m \u001b[0;34m=\u001b[0m \u001b[0;36m1\u001b[0m\u001b[0;34m\u001b[0m\u001b[0;34m\u001b[0m\u001b[0m\n\u001b[0;32m----> 2\u001b[0;31m \u001b[0mprint\u001b[0m\u001b[0;34m(\u001b[0m\u001b[0ma\u001b[0m\u001b[0;34m[\u001b[0m\u001b[0;36m5\u001b[0m\u001b[0;34m]\u001b[0m\u001b[0;34m)\u001b[0m\u001b[0;34m\u001b[0m\u001b[0;34m\u001b[0m\u001b[0m\n\u001b[0m",
      "\u001b[0;31mTypeError\u001b[0m: 'int' object is not subscriptable"
     ]
    }
   ],
   "source": [
    "a = 1\n",
    "print(a[5])"
   ]
  },
  {
   "cell_type": "markdown",
   "id": "d6e8aa27",
   "metadata": {},
   "source": [
    "Try except statements can be used to try to run sections of Python code that _may_ return an exception error. The general syntax of a try except statement is below:\n",
    "\n",
    "```python\n",
    "try:\n",
    "    <code to try>\n",
    "except:\n",
    "    <code to run instead>\n",
    "```\n",
    "\n",
    "For instance, if the file **_file.txt_** does not exist, a line of code that tries to open **_file.txt_** can be included in a ```try``` statement."
   ]
  },
  {
   "cell_type": "code",
   "execution_count": 5,
   "id": "103c2717",
   "metadata": {},
   "outputs": [
    {
     "name": "stdout",
     "output_type": "stream",
     "text": [
      "file does not exist\n"
     ]
    }
   ],
   "source": [
    "try:\n",
    "    f=open('file.txt','r')\n",
    "except:\n",
    "    print('file does not exist')"
   ]
  },
  {
   "cell_type": "markdown",
   "id": "0e452965",
   "metadata": {},
   "source": [
    "Similarly, we can wrap the code ```a = 5``` and ```print(a[0])``` in a try block and attempt to run it. If the line ```a = 5``` and ```print(a[0])``` throws an exception error, the code below ```except``` runs."
   ]
  },
  {
   "cell_type": "code",
   "execution_count": 6,
   "id": "3ae09d32",
   "metadata": {},
   "outputs": [
    {
     "name": "stdout",
     "output_type": "stream",
     "text": [
      "variable a is not a list\n"
     ]
    }
   ],
   "source": [
    "try:\n",
    "    a = 5\n",
    "    print(a[0])\n",
    "except:\n",
    "    print('variable a is not a list')"
   ]
  },
  {
   "cell_type": "markdown",
   "id": "596fa309",
   "metadata": {},
   "source": [
    "When the Python code in a try block does run and does not throw an exception error, the code in the ```except``` block does not run."
   ]
  },
  {
   "cell_type": "code",
   "execution_count": 7,
   "id": "0c77cf88",
   "metadata": {},
   "outputs": [
    {
     "name": "stdout",
     "output_type": "stream",
     "text": [
      "S\n"
     ]
    }
   ],
   "source": [
    "try:\n",
    "    a = 'Solution'\n",
    "    print(a[0])\n",
    "except:\n",
    "    print('variable a is not a list')"
   ]
  },
  {
   "cell_type": "code",
   "execution_count": null,
   "id": "157af4bd",
   "metadata": {},
   "outputs": [],
   "source": []
  }
 ],
 "metadata": {
  "jupytext": {
   "text_representation": {
    "extension": ".md",
    "format_name": "myst",
    "format_version": "0.9",
    "jupytext_version": "1.5.0"
   }
  },
  "kernelspec": {
   "display_name": "Python 3",
   "language": "python",
   "name": "python3"
  },
  "language_info": {
   "codemirror_mode": {
    "name": "ipython",
    "version": 3
   },
   "file_extension": ".py",
   "mimetype": "text/x-python",
   "name": "python",
   "nbconvert_exporter": "python",
   "pygments_lexer": "ipython3",
   "version": "3.8.10"
  },
  "source_map": [
   12,
   17,
   23,
   31,
   33,
   39,
   42,
   50,
   52,
   56,
   59,
   72,
   77,
   81,
   87,
   91,
   99
  ]
 },
 "nbformat": 4,
 "nbformat_minor": 5
}