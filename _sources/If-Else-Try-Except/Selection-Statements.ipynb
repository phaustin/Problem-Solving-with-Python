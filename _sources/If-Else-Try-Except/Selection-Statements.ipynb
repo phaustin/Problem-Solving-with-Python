{
 "cells": [
  {
   "cell_type": "markdown",
   "id": "16444bfb",
   "metadata": {},
   "source": [
    "## Selection Statements"
   ]
  },
  {
   "cell_type": "markdown",
   "id": "c62b2fd2",
   "metadata": {},
   "source": [
    "Selection statements are used in programming to select particular blocks of code to run based on a logical condition.  The primary selection statements in Python are:\n",
    "    \n",
    " * ```if```\n",
    " * ```else```\n",
    " * ```elif```\n",
    " * ```try```\n",
    " * ```except```"
   ]
  },
  {
   "cell_type": "markdown",
   "id": "48f2d0f9",
   "metadata": {},
   "source": [
    "So far in this text, all of the Python code has either been strictly linear or linear and include functions. A strictly linear program is a program that runs top to bottom. Every line of code in a linear program is executed. In a linear program with functions, the program still runs head to base, but the program takes side excursions to execute functions on the way down. \n",
    "\n",
    "If this next couple chapters, you learn to write programs non-linearly. Non-linear programs do not run every line of code top to bottom. In non-linear programs, sections of code may not run based on selection statements like _if_ and _try_. Non-linear programs can include loops. Inside loops are sections of code that run multiple times. Loops are defined by repetition structures like _for loops_ and _while loops_. \n",
    "\n",
    "To start our discussion of non-linear programs, we will begin with _if statements_."
   ]
  },
  {
   "cell_type": "code",
   "execution_count": null,
   "id": "2ae385c6",
   "metadata": {},
   "outputs": [],
   "source": []
  }
 ],
 "metadata": {
  "jupytext": {
   "text_representation": {
    "extension": ".md",
    "format_name": "myst",
    "format_version": "0.9",
    "jupytext_version": "1.5.0"
   }
  },
  "kernelspec": {
   "display_name": "Python 3",
   "language": "python",
   "name": "python3"
  },
  "language_info": {
   "codemirror_mode": {
    "name": "ipython",
    "version": 3
   },
   "file_extension": ".py",
   "mimetype": "text/x-python",
   "name": "python",
   "nbconvert_exporter": "python",
   "pygments_lexer": "ipython3",
   "version": "3.8.10"
  },
  "source_map": [
   12,
   16,
   27,
   35
  ]
 },
 "nbformat": 4,
 "nbformat_minor": 5
}