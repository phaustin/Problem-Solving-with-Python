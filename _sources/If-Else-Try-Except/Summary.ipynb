{
 "cells": [
  {
   "cell_type": "markdown",
   "id": "5cffe6b5",
   "metadata": {
    "latex": {
     "before_cell": "newpage"
    }
   },
   "source": [
    "## Summary"
   ]
  },
  {
   "cell_type": "markdown",
   "id": "cc44da6a",
   "metadata": {},
   "source": [
    "Selection structures in Python include ```if```, ```elif```, ```else```, ```try``` and ```except```. These selection structures allow certain blocks of code to run or not run based on logical conditions. Logical conditions are expressions or variables that can be evaluated as ```True``` or ```False```.  You learned to indent code segments after ```if```, ```elif```, and ```else``` statements. Standard indentation in Python is four spaces.\n",
    "\n",
    "The difference between syntax errors and exception errors was demonstrated in this chapter. ```try```/```except``` blocks only check for exception errors. \n",
    "\n",
    "At the end of the chapter, you learned how to use flowcharts to describe the flow of a program with four basic shapes and arrows."
   ]
  },
  {
   "cell_type": "markdown",
   "id": "4da0c654",
   "metadata": {},
   "source": [
    "### Key Terms and Concepts"
   ]
  },
  {
   "cell_type": "markdown",
   "id": "b45f0d1b",
   "metadata": {
    "latex": {
     "environment": "key_terms"
    }
   },
   "source": [
    "selection structures\n",
    "\n",
    "if\n",
    "\n",
    "logical condition\n",
    "\n",
    "True\n",
    "\n",
    "False\n",
    "\n",
    "programmatic flow\n",
    "\n",
    "indentation\n",
    "\n",
    "pass\n",
    "\n",
    "else\n",
    "\n",
    "else if\n",
    "\n",
    "elif\n",
    "\n",
    "exceptions\n",
    "\n",
    "syntax\n",
    "\n",
    "syntax error\n",
    "\n",
    "valid code\n",
    "\n",
    "exception error\n",
    "\n",
    "try\n",
    "\n",
    "except\n",
    "\n",
    "flow chart"
   ]
  },
  {
   "cell_type": "code",
   "execution_count": null,
   "id": "84132ec1",
   "metadata": {},
   "outputs": [],
   "source": []
  }
 ],
 "metadata": {
  "jupytext": {
   "text_representation": {
    "extension": ".md",
    "format_name": "myst",
    "format_version": "0.9",
    "jupytext_version": "1.5.0"
   }
  },
  "kernelspec": {
   "display_name": "Python 3",
   "language": "python",
   "name": "python3"
  },
  "language_info": {
   "codemirror_mode": {
    "name": "ipython",
    "version": 3
   },
   "file_extension": ".py",
   "mimetype": "text/x-python",
   "name": "python",
   "nbconvert_exporter": "python",
   "pygments_lexer": "ipython3",
   "version": "3.8.10"
  },
  "source_map": [
   14,
   18,
   26,
   30,
   70
  ]
 },
 "nbformat": 4,
 "nbformat_minor": 5
}