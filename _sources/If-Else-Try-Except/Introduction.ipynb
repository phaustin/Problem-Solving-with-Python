{
 "cells": [
  {
   "cell_type": "markdown",
   "id": "5d7b7d6d",
   "metadata": {},
   "source": [
    "# If Else Try Except"
   ]
  },
  {
   "cell_type": "markdown",
   "id": "329ee626",
   "metadata": {},
   "source": [
    "## Introduction"
   ]
  },
  {
   "cell_type": "markdown",
   "id": "d80a33ce",
   "metadata": {
    "latex": {
     "after_cell": "newpage"
    }
   },
   "source": [
    "In computer programming, selection structures run sections of code based on logical conditions. In this chapter you will learn about the selections structures if, else, and else if. The end of the chapter introduces another selection structure, the try / except block.\n",
    "\n",
    "By the end of this chapter you will be able to:\n",
    "\n",
    " * Utilize Python's ```input()``` function\n",
    "\n",
    " * Use if, else if, and else selection structures\n",
    " \n",
    " * Explain the difference between syntax errors and exception errors\n",
    " \n",
    " * Use try-except statements\n",
    " \n",
    " * Construct flowcharts to describe the flow of a Python program"
   ]
  },
  {
   "cell_type": "code",
   "execution_count": null,
   "id": "88bd9a19",
   "metadata": {},
   "outputs": [],
   "source": []
  }
 ],
 "metadata": {
  "jupytext": {
   "text_representation": {
    "extension": ".md",
    "format_name": "myst",
    "format_version": "0.9",
    "jupytext_version": "1.5.0"
   }
  },
  "kernelspec": {
   "display_name": "Python 3",
   "language": "python",
   "name": "python3"
  },
  "language_info": {
   "codemirror_mode": {
    "name": "ipython",
    "version": 3
   },
   "file_extension": ".py",
   "mimetype": "text/x-python",
   "name": "python",
   "nbconvert_exporter": "python",
   "pygments_lexer": "ipython3",
   "version": "3.8.10"
  },
  "source_map": [
   12,
   16,
   20,
   36
  ]
 },
 "nbformat": 4,
 "nbformat_minor": 5
}