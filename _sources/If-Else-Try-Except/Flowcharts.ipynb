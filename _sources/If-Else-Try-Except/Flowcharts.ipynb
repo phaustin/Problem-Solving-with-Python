{
 "cells": [
  {
   "cell_type": "markdown",
   "id": "2e4ba684",
   "metadata": {},
   "source": [
    "## Flowcharts"
   ]
  },
  {
   "cell_type": "markdown",
   "id": "f0aee6d3",
   "metadata": {},
   "source": [
    "Flowcharts graphically represent the flow of a program. There are four basic shapes used in a flow chart. Each shape has a specific use:\n",
    "\n",
    " * oval: start / end\n",
    " * parallelogram: input / output\n",
    " * rectangle: calculations\n",
    " * diamond: selection structures\n",
    " \n",
    "![Four basic flow chart shapes: oval, parallelogram, rectangle and diamond](images/four_flow_chart_shapes.png)\n",
    " \n",
    " Arrows connect the basic shapes in a flowchart. The shapes and arrows of a flowchart describe the flow of a program from start to end. Flowcharts typically flow from the top to the bottom or flow from the left to the right."
   ]
  },
  {
   "cell_type": "markdown",
   "id": "84b1e6d6",
   "metadata": {},
   "source": [
    "Below is the description of a simple program:\n",
    "\n",
    " > The program starts. Then the program prints out \"Output!\". Finally, the program ends.\n",
    "\n",
    "A flowchart that describes this simple program is shown.\n",
    "\n",
    "![Flow chart of a simple print program](images/flow_chart_simple_print_program.png)\n",
    "\n",
    "The Python code that corresponds to this flowchart is:\n",
    "\n",
    "```python\n",
    "# start\n",
    "print(\"Output!\")\n",
    "# end\n",
    "```"
   ]
  },
  {
   "cell_type": "markdown",
   "id": "9a058e3a",
   "metadata": {},
   "source": [
    "A description of a program that includes a calculation is below:\n",
    "\n",
    " > The program starts. Next, the program asks a user for a number. Two is added to the number. Next, the resulting sum is printed. Finally, the program ends.\n",
    "\n",
    "A flowchart that describes this program is is shown.\n",
    "\n",
    "![Flowchart of a program that includes input, output and a calculation](images/flow_chart_calculation_program.png)\n",
    "\n",
    "The Python code that corresponds to this flow chart is:\n",
    "\n",
    "```python\n",
    "# start\n",
    "num = input(\"Enter a number: \")\n",
    "num = float(num)\n",
    "num_plus_2 = num + 2\n",
    "print(num_plus_2)\n",
    "# end\n",
    "```"
   ]
  },
  {
   "cell_type": "markdown",
   "id": "d73a8196",
   "metadata": {},
   "source": [
    "The description of another program is below:\n",
    "\n",
    " > The program starts. Next the program asks a user for a number. If the number is greater than zero, the program prints \"Greater than 0\", then the program ends.\n",
    "\n",
    "A flow chart that describes this program is shown.\n",
    "\n",
    "![Flow chart of a program that contains user input and a selection structure](images/flow_chart_simple_user_input_program.png)\n",
    "\n",
    "The Python code that corresponds to this flow chart is:\n",
    "\n",
    "```python\n",
    "# start\n",
    "num = input(\"Enter a number: \")\n",
    "num = float(num)\n",
    "if num>0:\n",
    "    print(\"Greater than 0\")\n",
    "# end\n",
    "```"
   ]
  },
  {
   "cell_type": "markdown",
   "id": "22120dd4",
   "metadata": {},
   "source": [
    "The description of a more complex program is below:\n",
    "\n",
    " > The program starts. Next, the program asks a user for a number. If the number is greater than zero, the program prints \"Greater than 0\". If the number is less than zero, the program prints \"Less than 0\". Then the program prints \"Done\" and the program ends.\n",
    "\n",
    "A flowchart that describes this program is below:\n",
    "\n",
    "![Flowchart of a program that contains user input and two if-statements](images/flow_chart_more_complex_user_input_program.png)\n",
    "\n",
    "The Python code that corresponds to this flow chart is:\n",
    "\n",
    "```python\n",
    "# start\n",
    "num = input('Enter a number: ')\n",
    "num = float(num)\n",
    "if num>0:\n",
    "    print('num greater than zero')\n",
    "if num<0:\n",
    "    print('num less than zero')\n",
    "print('Done')\n",
    "# end\n",
    "```"
   ]
  },
  {
   "cell_type": "code",
   "execution_count": null,
   "id": "522af9cd",
   "metadata": {},
   "outputs": [],
   "source": []
  }
 ],
 "metadata": {
  "jupytext": {
   "text_representation": {
    "extension": ".md",
    "format_name": "myst",
    "format_version": "0.9",
    "jupytext_version": "1.5.0"
   }
  },
  "kernelspec": {
   "display_name": "Python 3",
   "language": "python",
   "name": "python3"
  },
  "language_info": {
   "codemirror_mode": {
    "name": "ipython",
    "version": 3
   },
   "file_extension": ".py",
   "mimetype": "text/x-python",
   "name": "python",
   "nbconvert_exporter": "python",
   "pygments_lexer": "ipython3",
   "version": "3.8.10"
  },
  "source_map": [
   12,
   16,
   29,
   47,
   68,
   89,
   113
  ]
 },
 "nbformat": 4,
 "nbformat_minor": 5
}