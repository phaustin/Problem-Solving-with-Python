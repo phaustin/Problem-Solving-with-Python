{
 "cells": [
  {
   "cell_type": "markdown",
   "id": "2a71858c",
   "metadata": {},
   "source": [
    "## If statements"
   ]
  },
  {
   "cell_type": "markdown",
   "id": "611b325d",
   "metadata": {},
   "source": [
    "The _if-statement_ is one of the basic selection structures in Python. The syntax for a section of code that contains an if-statement is below:\n",
    "\n",
    "```python\n",
    "if <logical_condition>:\n",
    "    <code to run>\n",
    "```\n",
    "\n",
    "The keyword ```if``` begins the statement. Following ```if```, a logical condition must to be included. A logical condition is an variable or expression that can be evaluated as ```True``` or ```False```. An example of a logical condition is ```a<5```. The logical condition ```a<5``` returns ```True``` if ```a``` is less than 5. Otherwise, if ```a``` is 5 or greater ```a<5``` returns ```False```. Following the logical condition, a colon ```:``` is required. After the if-statement, a section of code to run when the condition is ```True``` is included. The section of ```<code to run>``` must be indented and every line in this section of code must be indented the same number of spaces. By convention, four space indentation is used in Python. Most Python code editors, including Jupyter notebooks, indent code after if-statements automatically four spaces. \n",
    "\n",
    "The section of code below demonstrates an if-statement in Python:"
   ]
  },
  {
   "cell_type": "code",
   "execution_count": 1,
   "id": "ea47d6d1",
   "metadata": {},
   "outputs": [
    {
     "name": "stdout",
     "output_type": "stream",
     "text": [
      "less than five\n"
     ]
    }
   ],
   "source": [
    "a = 2\n",
    "if a<5:\n",
    "    print('less than five')"
   ]
  },
  {
   "cell_type": "markdown",
   "id": "a47a5d0a",
   "metadata": {},
   "source": [
    "In the first line of code in the example above, the variable ```a``` is assigned the value ```2```. The second line of code is the if-statement. The if-statement starts with the keyword ```if``` and is followed by the logical condition ```a<5``` and a colon ```:```. The logical condition ```a<5``` will return either ```True``` or ```False``` depending on the value of ```a```. Since ```a=2```, the logical condition ```a<5``` evaluates as ```True```. The line ```print('less than five')``` is indented after the if-statement. The line of code including the ```print()``` statement will run if the if-statement is ```True```. Since the if-statement _is_ ```True```, the indented line ```print('less than five')``` runs.\n",
    "\n",
    "As a result of running these three lines of code, the user sees the text ```less than five```."
   ]
  },
  {
   "cell_type": "markdown",
   "id": "176f6aff",
   "metadata": {},
   "source": [
    "### Multiple if statements"
   ]
  },
  {
   "cell_type": "markdown",
   "id": "8a2bbb19",
   "metadata": {},
   "source": [
    "If-statements can be chained together one after another to create a programmatic flow. For example, the following code block utilizes three different if-statements, each if-statement is followed by an indented code block."
   ]
  },
  {
   "cell_type": "code",
   "execution_count": 2,
   "id": "bfa80f97",
   "metadata": {},
   "outputs": [
    {
     "name": "stdout",
     "output_type": "stream",
     "text": [
      "is positive\n"
     ]
    }
   ],
   "source": [
    "a = 2\n",
    "if a<0:\n",
    "    print('is negative')\n",
    "if a == 0:\n",
    "    print('is zero')\n",
    "if a>0:\n",
    "    print('is positive')"
   ]
  },
  {
   "cell_type": "markdown",
   "id": "285e50f6",
   "metadata": {},
   "source": [
    "Note how each if-statement is followed by a logical condition and a colon ```:```. Also, note how the code below each if-statement is indented. If the code is left-justified (not indented), all three code lines run, and the output is different. \n",
    "\n",
    "The code block below will not run unless at least one line of code is indented after the if-statement. Python's ```pass``` keyword is a line of code that does nothing when executed. ```pass``` is added under the if-statments so the code runs error-free."
   ]
  },
  {
   "cell_type": "code",
   "execution_count": 3,
   "id": "c398290c",
   "metadata": {},
   "outputs": [
    {
     "name": "stdout",
     "output_type": "stream",
     "text": [
      "a is negative\n",
      "a is zero\n",
      "a is positive\n"
     ]
    }
   ],
   "source": [
    "a = 2\n",
    "if a<0:\n",
    "    pass\n",
    "print('a is negative')\n",
    "if a == 0:\n",
    "    pass\n",
    "print('a is zero')\n",
    "if a>0:\n",
    "    pass\n",
    "print('a is positive')"
   ]
  },
  {
   "cell_type": "code",
   "execution_count": null,
   "id": "90482d15",
   "metadata": {},
   "outputs": [],
   "source": []
  }
 ],
 "metadata": {
  "jupytext": {
   "cell_metadata_filter": "all",
   "notebook_metadata_filter": "all,-language_info,-toc,-latex_envs",
   "text_representation": {
    "extension": ".md",
    "format_name": "myst",
    "format_version": "0.10",
    "jupytext_version": "1.5.2"
   }
  },
  "kernelspec": {
   "display_name": "Python 3",
   "language": "python",
   "name": "python3"
  },
  "language_info": {
   "codemirror_mode": {
    "name": "ipython",
    "version": 3
   },
   "file_extension": ".py",
   "mimetype": "text/x-python",
   "name": "python",
   "nbconvert_exporter": "python",
   "pygments_lexer": "ipython3",
   "version": "3.8.0"
  },
  "source_map": [
   14,
   18,
   31,
   35,
   41,
   45,
   49,
   57,
   63,
   76
  ]
 },
 "nbformat": 4,
 "nbformat_minor": 5
}