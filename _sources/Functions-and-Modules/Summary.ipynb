{
 "cells": [
  {
   "cell_type": "markdown",
   "id": "3e4ce060",
   "metadata": {
    "latex": {
     "before_cell": "newpage"
    }
   },
   "source": [
    "## Summary"
   ]
  },
  {
   "cell_type": "markdown",
   "id": "2c28a05b",
   "metadata": {},
   "source": [
    "This chapter introduced user-defined functions. Functions are useful because functions are reusable pieces of code. All functions have names. Some functions take input arguments and produce output. Functions in Python are defined with the keyword ```def```.  You learned how to create functions with default arguments. You also learned the difference between positional arguments and keyword arguments. Positional arguments must be included in the proper order. Keyword arguments must include the keyword name and an equals sign.  You learned how to call functions which are contained in a different file than the file that calls the function.  One section of the chapter reviewed how docstrings work in Python functions and the results of calling Python's ```help()``` on a function that contains a docstring. At the end of the chapter you learned how to pass lists and dictionaries to Python functions."
   ]
  },
  {
   "cell_type": "markdown",
   "id": "e195a513",
   "metadata": {},
   "source": [
    "### Key Terms and Concepts"
   ]
  },
  {
   "cell_type": "markdown",
   "id": "d8097dea",
   "metadata": {
    "latex": {
     "environment": "key_terms"
    }
   },
   "source": [
    "function\n",
    "\n",
    "function definition\n",
    "\n",
    "arguments\n",
    "\n",
    "default arguments\n",
    "\n",
    "positional arguments\n",
    "\n",
    "keyword arguments\n",
    "\n",
    "keyword\n",
    "\n",
    "output\n",
    "\n",
    "docstring\n",
    "\n",
    "return\n",
    "\n",
    ".py-file\n",
    "\n",
    "import\n",
    "\n",
    "syntax\n",
    "\n",
    "comments\n",
    "\n",
    "documentation\n",
    "\n",
    "iterable"
   ]
  },
  {
   "cell_type": "markdown",
   "id": "48737977",
   "metadata": {},
   "source": [
    "### Python Commands\n",
    "\n",
    "| Command | Description |\n",
    "| --- | --- |\n",
    "| ```def``` | define a function |\n",
    "| ```return``` | define the expression or value a function outputs |\n",
    "| ```import``` | import a module or .py file |\n",
    "| ```from``` | import a function or class from a module or .py file |\n",
    "| ```as``` | name an alias for a function, method or class |\n",
    "| ``` \"\"\"   \"\"\" ``` | define a docstring |"
   ]
  },
  {
   "cell_type": "code",
   "execution_count": null,
   "id": "9810b701",
   "metadata": {},
   "outputs": [],
   "source": []
  }
 ],
 "metadata": {
  "jupytext": {
   "text_representation": {
    "extension": ".md",
    "format_name": "myst",
    "format_version": "0.9",
    "jupytext_version": "1.5.0"
   }
  },
  "kernelspec": {
   "display_name": "Python 3",
   "language": "python",
   "name": "python3"
  },
  "language_info": {
   "codemirror_mode": {
    "name": "ipython",
    "version": 3
   },
   "file_extension": ".py",
   "mimetype": "text/x-python",
   "name": "python",
   "nbconvert_exporter": "python",
   "pygments_lexer": "ipython3",
   "version": "3.8.10"
  },
  "source_map": [
   14,
   18,
   22,
   26,
   60,
   73
  ]
 },
 "nbformat": 4,
 "nbformat_minor": 5
}