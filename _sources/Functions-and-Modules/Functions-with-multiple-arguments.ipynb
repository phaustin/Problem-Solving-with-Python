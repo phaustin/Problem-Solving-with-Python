{
 "cells": [
  {
   "cell_type": "markdown",
   "id": "663452a6",
   "metadata": {},
   "source": [
    "## Functions with Multiple Arguments"
   ]
  },
  {
   "cell_type": "markdown",
   "id": "7369bf4a",
   "metadata": {},
   "source": [
    "Functions can be written to accept multiple input arguments. When multiple arguments are specified, the arguments are listed within the parenthesis after the function name and separated by a comma:\n",
    "\n",
    "```text\n",
    "def function_name(argument1, argument2):\n",
    "    <code>\n",
    "    return output\n",
    "```\n",
    "\n",
    "A function that calculates the area of a triangle given the base and height of the triangle would accept two arguments ```base``` and ```height```.  The formula for the area $A$ of a triangle given base $b$ and height $h$ is below.\n",
    "\n",
    "$$ A = \\frac{1}{2} b \\times h $$\n",
    "\n",
    "Let's name our function ```triarea``` and accept ```base``` and ```height``` as input arguments. The ```triarea``` function will return a number, the area of a triangle."
   ]
  },
  {
   "cell_type": "code",
   "execution_count": 1,
   "id": "eb428523",
   "metadata": {},
   "outputs": [],
   "source": [
    "def triarea(base, height):\n",
    "    area = 0.5 * base * height\n",
    "    return area"
   ]
  },
  {
   "cell_type": "markdown",
   "id": "29588182",
   "metadata": {},
   "source": [
    "We can test our ```triarea()``` function with a couple of sets of input arguments."
   ]
  },
  {
   "cell_type": "code",
   "execution_count": 2,
   "id": "7cd5892c",
   "metadata": {},
   "outputs": [
    {
     "data": {
      "text/plain": [
       "25.0"
      ]
     },
     "execution_count": 2,
     "metadata": {},
     "output_type": "execute_result"
    }
   ],
   "source": [
    "triarea(10,5)"
   ]
  },
  {
   "cell_type": "code",
   "execution_count": 3,
   "id": "881a524f",
   "metadata": {},
   "outputs": [
    {
     "data": {
      "text/plain": [
       "2.0"
      ]
     },
     "execution_count": 3,
     "metadata": {},
     "output_type": "execute_result"
    }
   ],
   "source": [
    "A = triarea(1,4)\n",
    "A"
   ]
  },
  {
   "cell_type": "markdown",
   "id": "e452c391",
   "metadata": {},
   "source": [
    "Note if only one input argument is supplied to the ```triarea()``` function, an error is returned:"
   ]
  },
  {
   "cell_type": "code",
   "execution_count": 4,
   "id": "f7cbc6ac",
   "metadata": {},
   "outputs": [
    {
     "ename": "TypeError",
     "evalue": "triarea() missing 1 required positional argument: 'height'",
     "output_type": "error",
     "traceback": [
      "\u001b[1;31m---------------------------------------------------------------------------\u001b[0m",
      "\u001b[1;31mTypeError\u001b[0m                                 Traceback (most recent call last)",
      "\u001b[1;32m~\\AppData\\Local\\Temp/ipykernel_14428/3869252432.py\u001b[0m in \u001b[0;36m<module>\u001b[1;34m\u001b[0m\n\u001b[1;32m----> 1\u001b[1;33m \u001b[0mtriarea\u001b[0m\u001b[1;33m(\u001b[0m\u001b[1;36m2\u001b[0m\u001b[1;33m)\u001b[0m\u001b[1;33m\u001b[0m\u001b[1;33m\u001b[0m\u001b[0m\n\u001b[0m",
      "\u001b[1;31mTypeError\u001b[0m: triarea() missing 1 required positional argument: 'height'"
     ]
    }
   ],
   "source": [
    "triarea(2)"
   ]
  },
  {
   "cell_type": "markdown",
   "id": "c0851799",
   "metadata": {},
   "source": [
    "```text\n",
    "---------------------------------------------------------------------------\n",
    "TypeError                                 Traceback (most recent call last)\n",
    "<ipython-input-4-ddd55ccdd949> in <module>()\n",
    "----> 1 triarea(2)\n",
    "\n",
    "TypeError: triarea() missing 1 required positional argument: 'height'\n",
    "```"
   ]
  },
  {
   "cell_type": "markdown",
   "id": "3262c31f",
   "metadata": {},
   "source": [
    "The variables ```base``` and ```height``` are local variables. If ```base``` or ```height``` is called outside the function definition, an error is returned."
   ]
  },
  {
   "cell_type": "code",
   "execution_count": 5,
   "id": "34752dfc",
   "metadata": {},
   "outputs": [
    {
     "ename": "NameError",
     "evalue": "name 'base' is not defined",
     "output_type": "error",
     "traceback": [
      "\u001b[1;31m---------------------------------------------------------------------------\u001b[0m",
      "\u001b[1;31mNameError\u001b[0m                                 Traceback (most recent call last)",
      "\u001b[1;32m~\\AppData\\Local\\Temp/ipykernel_14428/3475441136.py\u001b[0m in \u001b[0;36m<module>\u001b[1;34m\u001b[0m\n\u001b[1;32m----> 1\u001b[1;33m \u001b[0mtriarea\u001b[0m\u001b[1;33m(\u001b[0m\u001b[0mbase\u001b[0m\u001b[1;33m,\u001b[0m \u001b[0mheight\u001b[0m\u001b[1;33m)\u001b[0m\u001b[1;33m\u001b[0m\u001b[1;33m\u001b[0m\u001b[0m\n\u001b[0m",
      "\u001b[1;31mNameError\u001b[0m: name 'base' is not defined"
     ]
    }
   ],
   "source": [
    "triarea(base, height)"
   ]
  },
  {
   "cell_type": "markdown",
   "id": "01c43dc4",
   "metadata": {},
   "source": [
    "```text\n",
    "---------------------------------------------------------------------------\n",
    "NameError                                 Traceback (most recent call last)\n",
    "<ipython-input-4-1dd955b62482> in <module>()\n",
    "----> 1 triarea(base, height)\n",
    "\n",
    "NameError: name 'base' is not defined\n",
    "```"
   ]
  },
  {
   "cell_type": "code",
   "execution_count": null,
   "id": "1ad9aa11",
   "metadata": {},
   "outputs": [],
   "source": []
  }
 ],
 "metadata": {
  "jupytext": {
   "text_representation": {
    "extension": ".md",
    "format_name": "myst",
    "format_version": "0.9",
    "jupytext_version": "1.5.0"
   }
  },
  "kernelspec": {
   "display_name": "Python 3",
   "language": "python",
   "name": "python3"
  },
  "language_info": {
   "codemirror_mode": {
    "name": "ipython",
    "version": 3
   },
   "file_extension": ".py",
   "mimetype": "text/x-python",
   "name": "python",
   "nbconvert_exporter": "python",
   "pygments_lexer": "ipython3",
   "version": "3.8.10"
  },
  "source_map": [
   12,
   16,
   32,
   36,
   40,
   44,
   47,
   51,
   53,
   64,
   68,
   70,
   81
  ]
 },
 "nbformat": 4,
 "nbformat_minor": 5
}