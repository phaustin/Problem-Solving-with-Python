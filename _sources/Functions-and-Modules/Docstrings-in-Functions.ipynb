{
 "cells": [
  {
   "cell_type": "markdown",
   "id": "72e533f6",
   "metadata": {},
   "source": [
    "## Docstrings in Functions"
   ]
  },
  {
   "cell_type": "markdown",
   "id": "c42b3542",
   "metadata": {},
   "source": [
    "It is good programming practice to document your code. Reusable chunks of code are particularly relevant to document as other programmers may use the code, and you may use the code again at a different time. \n",
    "\n",
    "Python has a couple of different ways for programmers to add documentation. One way is to use simple comments. Comments are lines of code that do not get run by the Python interpreter. Comments are meant to be viewed by humans. In Python, comment lines start with the pound symbol ```#```. Any line that starts with a ```#``` symbol will not be run by the Python Interpreter.\n",
    "\n",
    "Another way to document code is to use _docstrings_. Docstrings are comments which are surrounded with triple quotation marks and usually contain multiple lines of explanation. A function containing a docstring takes the form:\n",
    "\n",
    "```\n",
    "def function_name(arguments):\n",
    "    \"\"\"\"\n",
    "    Docstring text\n",
    "    \n",
    "    \n",
    "    \n",
    "    \"\"\"\n",
    "    <code>\n",
    "    \n",
    "    return output\n",
    "    \n",
    "```\n",
    "\n",
    "Doc strings are what you see when the ```help()``` function is called. As an example, running the ```help()``` function on the built-in function ```sum``` brings up:"
   ]
  },
  {
   "cell_type": "code",
   "execution_count": 1,
   "id": "dbe2534d",
   "metadata": {},
   "outputs": [
    {
     "name": "stdout",
     "output_type": "stream",
     "text": [
      "Help on built-in function sum in module builtins:\n",
      "\n",
      "sum(iterable, /, start=0)\n",
      "    Return the sum of a 'start' value (default: 0) plus an iterable of numbers\n",
      "    \n",
      "    When the iterable is empty, return the start value.\n",
      "    This function is intended specifically for use with numeric values and may\n",
      "    reject non-numeric types.\n",
      "\n"
     ]
    }
   ],
   "source": [
    "help(sum)"
   ]
  },
  {
   "cell_type": "markdown",
   "id": "560da3ee",
   "metadata": {},
   "source": [
    "We can produce the same type of output when a user types types ```help()``` by adding docstrings to a function."
   ]
  },
  {
   "cell_type": "markdown",
   "id": "f7b624bb",
   "metadata": {},
   "source": [
    "Let's create a new function that converts grams (g) to kilograms (kg). 1000 grams is equal to 1 kilogram. Let's call our function ```g2kg```. Remember the **parenthesis**, **colon**, and **return** statement."
   ]
  },
  {
   "cell_type": "code",
   "execution_count": 2,
   "id": "3322f81c",
   "metadata": {},
   "outputs": [],
   "source": [
    "def g2kg(g):\n",
    "    kg = g/1000\n",
    "    \n",
    "    return kg"
   ]
  },
  {
   "cell_type": "markdown",
   "id": "d5e36c4b",
   "metadata": {},
   "source": [
    "Now let's try and use our function. How many kilograms is 1300 grams? We expect the output to be ```1.3``` kilograms."
   ]
  },
  {
   "cell_type": "code",
   "execution_count": 3,
   "id": "34a295f5",
   "metadata": {},
   "outputs": [
    {
     "data": {
      "text/plain": [
       "1.3"
      ]
     },
     "execution_count": 3,
     "metadata": {},
     "output_type": "execute_result"
    }
   ],
   "source": [
    "g2kg(1300)"
   ]
  },
  {
   "cell_type": "markdown",
   "id": "de7035e1",
   "metadata": {},
   "source": [
    "If we call ```help()``` on our ```g2kg()``` function, nothing is returned. ```help(g2kg)``` does not return any output because our new ```g2kg()``` function does not contain a docstring yet."
   ]
  },
  {
   "cell_type": "code",
   "execution_count": 4,
   "id": "b2f8d8f6",
   "metadata": {},
   "outputs": [
    {
     "name": "stdout",
     "output_type": "stream",
     "text": [
      "Help on function g2kg in module __main__:\n",
      "\n",
      "g2kg(g)\n",
      "\n"
     ]
    }
   ],
   "source": [
    "help(g2kg)"
   ]
  },
  {
   "cell_type": "markdown",
   "id": "844ebca1",
   "metadata": {},
   "source": [
    "If we insert a docstring into the function definition, ```help(g2kg)``` will return whatever text we included in the docstring.\n",
    "\n",
    "The standard components of docstrings included in function definitions are:\n",
    "\n",
    " * a summary of the function\n",
    " * the function inputs\n",
    " * the function outputs\n",
    " * an example of the function running including the result\n",
    " \n",
    "The docstring is included right below the ```def``` line and is enclosed in triple quotes ```\"\"\"  \"\"\"```. The triple quotes are typically included on their own lines. The syntax to add a docstring in a function definition is below.\n",
    " \n",
    "```text\n",
    " def function_name(arguments):\n",
    "     \"\"\"\n",
    "     \n",
    "     <docstring text>\n",
    "     \n",
    "     \"\"\"\n",
    "     \n",
    "     <code>\n",
    "     \n",
    "     return output\n",
    "```\n",
    "\n",
    "Let's include a docstring with our ```g2kg()``` function definition."
   ]
  },
  {
   "cell_type": "code",
   "execution_count": 5,
   "id": "43212859",
   "metadata": {},
   "outputs": [],
   "source": [
    "def g2kg(g):\n",
    "    \"\"\"\n",
    "    \n",
    "    Function g2kg converts between g and kg\n",
    "    \n",
    "    input: number of grams, int or float\n",
    "    output: number of kilograms, float\n",
    "    \n",
    "    Example:\n",
    "    \n",
    "        >>> g2kg(1300)\n",
    "            \n",
    "            1.3\n",
    "        \n",
    "    \"\"\"\n",
    "    kg = g/1000\n",
    "    \n",
    "    return kg"
   ]
  },
  {
   "cell_type": "markdown",
   "id": "91ec5ef4",
   "metadata": {},
   "source": [
    "Now let's ask for ```help()``` on our ```g2kg()``` function and see the docstring we wrote in the ```g2kg()``` function definition printed back to us."
   ]
  },
  {
   "cell_type": "code",
   "execution_count": 6,
   "id": "51fca5f9",
   "metadata": {},
   "outputs": [
    {
     "name": "stdout",
     "output_type": "stream",
     "text": [
      "Help on function g2kg in module __main__:\n",
      "\n",
      "g2kg(g)\n",
      "    Function g2kg converts between g and kg\n",
      "    \n",
      "    input: number of grams, int or float\n",
      "    output: number of kilograms, float\n",
      "    \n",
      "    Example:\n",
      "    \n",
      "        >>> g2kg(1300)\n",
      "            \n",
      "            1.3\n",
      "\n"
     ]
    }
   ],
   "source": [
    "help(g2kg)"
   ]
  },
  {
   "cell_type": "code",
   "execution_count": null,
   "id": "13e23415",
   "metadata": {},
   "outputs": [],
   "source": []
  }
 ],
 "metadata": {
  "jupytext": {
   "text_representation": {
    "extension": ".md",
    "format_name": "myst",
    "format_version": "0.9",
    "jupytext_version": "1.5.0"
   }
  },
  "kernelspec": {
   "display_name": "Python 3",
   "language": "python",
   "name": "python3"
  },
  "language_info": {
   "codemirror_mode": {
    "name": "ipython",
    "version": 3
   },
   "file_extension": ".py",
   "mimetype": "text/x-python",
   "name": "python",
   "nbconvert_exporter": "python",
   "pygments_lexer": "ipython3",
   "version": "3.8.0"
  },
  "source_map": [
   12,
   16,
   40,
   42,
   46,
   50,
   55,
   59,
   61,
   65,
   67,
   95,
   114,
   118,
   122
  ]
 },
 "nbformat": 4,
 "nbformat_minor": 5
}