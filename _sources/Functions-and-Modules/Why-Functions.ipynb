{
 "cells": [
  {
   "cell_type": "markdown",
   "id": "8e485757",
   "metadata": {},
   "source": [
    "## Why Functions?"
   ]
  },
  {
   "cell_type": "markdown",
   "id": "4f352fd2",
   "metadata": {},
   "source": [
    "Functions are an essential part of most programming languages. Functions are reusable pieces of code that can be called using a function's name. Functions can be called anywhere in a Python program, including calling functions within other functions. \n",
    "\n",
    "Functions provide a couple of benefits:\n",
    "\n",
    " * Functions allow the same piece of code to run multiple times\n",
    "\n",
    " * Functions break long programs up into smaller components\n",
    " \n",
    " * Functions can be shared and used by other programmers\n",
    " \n",
    "Every function has a _function name_. The function name is used when the function is _called_ in a program. Calling a function means running a function.\n",
    "\n",
    "Functions can receive input from the program. The input provided to a function is called _input arguments_ or just _arguments_. Arguments are the code passed to a function as input. \n",
    "\n",
    "Functions can produce output. We say a function _returns_ output to the program. The output of a function can be assigned to a variable for use in a program. \n",
    "\n",
    "Below is an example calling Python's ```pow()``` a function:"
   ]
  },
  {
   "cell_type": "code",
   "execution_count": 1,
   "id": "60b079fb",
   "metadata": {},
   "outputs": [],
   "source": [
    "out = pow(3,2)"
   ]
  },
  {
   "cell_type": "markdown",
   "id": "42cad530",
   "metadata": {},
   "source": [
    "In the function call above, the function name is ```pow```. ```pow``` is the power function. The ```pow``` function raises a number to a power. The input arguments are the numbers ```3``` and ```2```. The function output is assigned to the variable ```out```.  In this example, the function returns the value ```9``` (3 raised to the 2 power, $3^2 = 9$)."
   ]
  },
  {
   "cell_type": "code",
   "execution_count": null,
   "id": "9390496d",
   "metadata": {},
   "outputs": [],
   "source": []
  }
 ],
 "metadata": {
  "jupytext": {
   "text_representation": {
    "extension": ".md",
    "format_name": "myst",
    "format_version": "0.9",
    "jupytext_version": "1.5.0"
   }
  },
  "kernelspec": {
   "display_name": "Python 3",
   "language": "python",
   "name": "python3"
  },
  "language_info": {
   "codemirror_mode": {
    "name": "ipython",
    "version": 3
   },
   "file_extension": ".py",
   "mimetype": "text/x-python",
   "name": "python",
   "nbconvert_exporter": "python",
   "pygments_lexer": "ipython3",
   "version": "3.8.10"
  },
  "source_map": [
   12,
   16,
   36,
   38,
   42
  ]
 },
 "nbformat": 4,
 "nbformat_minor": 5
}