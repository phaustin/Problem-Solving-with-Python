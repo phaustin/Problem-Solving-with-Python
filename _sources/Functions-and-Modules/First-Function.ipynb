{
 "cells": [
  {
   "cell_type": "markdown",
   "id": "344a4e62",
   "metadata": {},
   "source": [
    "## First Function"
   ]
  },
  {
   "cell_type": "markdown",
   "id": "395213e2",
   "metadata": {},
   "source": [
    "### Defining Functions in Python"
   ]
  },
  {
   "cell_type": "markdown",
   "id": "f8be3148",
   "metadata": {},
   "source": [
    "Function definitions in Python typically contain at least two lines. The first line defines the function name and arguments. The last line typically defines the function output. In between is the code that runs when the function is called.\n",
    "\n",
    "```text\n",
    "def function_name(arguments):\n",
    "    <code>\n",
    "    return output\n",
    "```\n",
    "\n",
    "The first line of code above contains a couple of parts:\n",
    "\n",
    "```text\n",
    "def\n",
    "```\n",
    "\n",
    "The keyword ```def``` needs to be the start of the line that declares the function. ```def``` stands for _definition_ and indicates to the Python interpreter that a function definition will follow.\n",
    "\n",
    "```text\n",
    "function_name\n",
    "```\n",
    "\n",
    "Each function needs a name. The function name must start with a letter (or underscore) and is typically all lowercase (in Python, names that start with Uppercase are usually used to define _classes_). Function names can only contain letters, numbers and the underscore character. Just about any name will do, but it is best to avoid using any Python keywords such as ```def```, ```class```, ```if```, ```else```, ```for```. A complete list of reserved Python keywords is in the Appendix.  \n",
    "\n",
    "```text\n",
    "(argument):\n",
    "```\n",
    "\n",
    "Function names are followed by a set of parenthesis ```( )```. Many functions have code, called _arguments_ in between the parenthesis. The name used for the function argument(s) should be used in the body of the function. After the function name, parenthesis, and arguments comes a ```:``` colon. In Python, a colon is required to end the first line of all functions."
   ]
  },
  {
   "cell_type": "markdown",
   "id": "298ae649",
   "metadata": {
    "latex": {
     "environment": "alert-warning"
    }
   },
   "source": [
    "<div class=\"alert alert-warning\" role=\"alert\">\n",
    "  <strong>A colon :</strong> is required at the end of the first line of every function. If the <strong>:</strong> is not present the code will not run.\n",
    "</div>"
   ]
  },
  {
   "cell_type": "markdown",
   "id": "ebe2759c",
   "metadata": {},
   "source": [
    "```text\n",
    "<code>\n",
    "```\n",
    "\n",
    "The body of the function contains the code that will run when the function is called. Any variables declared by the function arguments can be used in the body of the function. Any variables used in the body of the function are _local variables_.  Local variables cannot be called or accessed by other scripts, or used outside the function body.\n",
    "\n",
    "```text\n",
    "return\n",
    "```\n",
    "\n",
    "The ```return``` keyword is often the last line of a function. ```return``` indicates that whatever expression that follows is the output of the function. The ```return``` keyword is not a function or a method, and parenthesis are not used after ```return```, just a space.\n",
    "\n",
    "```text\n",
    "output\n",
    "```\n",
    "\n",
    "Whatever expression is included after ```return``` will be _returned_ by the function. The output expression after ```return``` can be a single variable, value or be a complex expression that includes multiple variables."
   ]
  },
  {
   "cell_type": "markdown",
   "id": "141bd31b",
   "metadata": {},
   "source": [
    "### Your First User-defined Function"
   ]
  },
  {
   "cell_type": "markdown",
   "id": "49eadbd9",
   "metadata": {},
   "source": [
    "When you write your own functions, called _user-defined functions_, consider these criteria:\n",
    "\n",
    " * What will you name the function?\n",
    " * What, if any, input arguments will the function accept?\n",
    " * What will the function do? What is the purpose of the code that runs when the function is called?\n",
    " * What, if any, output will the function return?\n",
    " \n",
    "Let's write a simple function which adds two to any number. We will call our function ```plustwo```. Our function has one input argument, a number. The function will return that number plus ```2```. \n",
    "\n",
    "Let's apply this description to our four criteria:\n",
    "\n",
    " * Function name: ```plustwo```\n",
    " * Input arguments: a number\n",
    " * What does the function do: add 2 to any number\n",
    " * Output: a number (2 + the input number)\n",
    "\n",
    "\n",
    "Our ```plustwo()``` function will operate as shown below:\n",
    "\n",
    "```python\n",
    "plustwo(3)\n",
    "5\n",
    "```\n",
    "\n",
    "The code section below defines our ```plustwo()``` function."
   ]
  },
  {
   "cell_type": "code",
   "execution_count": 1,
   "id": "9f3ecc87",
   "metadata": {},
   "outputs": [],
   "source": [
    "def plustwo(n):\n",
    "    out = n + 2\n",
    "    return out"
   ]
  },
  {
   "cell_type": "markdown",
   "id": "606a8f43",
   "metadata": {},
   "source": [
    "The code section above includes the keyword ```def```, a space and then the function name ```plustwo```. The input argument, ```n```, is enclosed in parenthesis ```(  )``` after the function name. After the set of parenthesis is a colon ``` : ```. The body of the function includes the code ```out = n + 2```. The last line of the function includes the keyword ```return``` followed by a space and the variable ```out```. Note variable ```n``` is a _local variable_ and can only be used inside the function definition.\n",
    "\n",
    "Let's run our ```plustwo()``` function and see the output."
   ]
  },
  {
   "cell_type": "code",
   "execution_count": 2,
   "id": "3991ef1d",
   "metadata": {},
   "outputs": [
    {
     "data": {
      "text/plain": [
       "5"
      ]
     },
     "execution_count": 2,
     "metadata": {},
     "output_type": "execute_result"
    }
   ],
   "source": [
    "plustwo(3)"
   ]
  },
  {
   "cell_type": "markdown",
   "id": "63baf8db",
   "metadata": {},
   "source": [
    "The output of the ```plustwo()``` function can be assigned to variable."
   ]
  },
  {
   "cell_type": "code",
   "execution_count": 3,
   "id": "4e4584e2",
   "metadata": {},
   "outputs": [
    {
     "data": {
      "text/plain": [
       "12"
      ]
     },
     "execution_count": 3,
     "metadata": {},
     "output_type": "execute_result"
    }
   ],
   "source": [
    "ans = plustwo(10)\n",
    "ans"
   ]
  },
  {
   "cell_type": "code",
   "execution_count": null,
   "id": "e532b8ae",
   "metadata": {},
   "outputs": [],
   "source": []
  }
 ],
 "metadata": {
  "jupytext": {
   "text_representation": {
    "extension": ".md",
    "format_name": "myst",
    "format_version": "0.9",
    "jupytext_version": "1.5.0"
   }
  },
  "kernelspec": {
   "display_name": "Python 3",
   "language": "python",
   "name": "python3"
  },
  "language_info": {
   "codemirror_mode": {
    "name": "ipython",
    "version": 3
   },
   "file_extension": ".py",
   "mimetype": "text/x-python",
   "name": "python",
   "nbconvert_exporter": "python",
   "pygments_lexer": "ipython3",
   "version": "3.8.10"
  },
  "source_map": [
   12,
   16,
   20,
   50,
   56,
   76,
   80,
   108,
   112,
   118,
   120,
   124,
   129
  ]
 },
 "nbformat": 4,
 "nbformat_minor": 5
}