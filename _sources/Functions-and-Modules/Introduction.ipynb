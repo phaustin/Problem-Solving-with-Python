{
 "cells": [
  {
   "cell_type": "markdown",
   "id": "60100b25",
   "metadata": {},
   "source": [
    "# Functions and Modules"
   ]
  },
  {
   "cell_type": "markdown",
   "id": "e5974902",
   "metadata": {},
   "source": [
    "## Introduction"
   ]
  },
  {
   "cell_type": "markdown",
   "id": "66844e31",
   "metadata": {
    "latex": {
     "after_cell": "newpage"
    }
   },
   "source": [
    "In computer programming, functions are a way to bundle multiple lines of code together to run as one block of code. Many functions accept input, called arguments, and produce output. Python has many built-in functions such as ```type()```, ```len()``` and ```pow()```. In this chapter you will learn how to create user-defined functions in Python.\n",
    "\n",
    "By the end of this chapter you will be able to:\n",
    "\n",
    " * Call functions in Python\n",
    " \n",
    " * Import functions into Python scripts\n",
    " \n",
    " * Create user-defined functions \n",
    "    \n",
    " * Create functions with default arguments\n",
    " \n",
    " * Utilize functions with positional and keyword arguments\n",
    " \n",
    " * Write reusable code for other problem solvers to use"
   ]
  },
  {
   "cell_type": "code",
   "execution_count": null,
   "id": "24c377bb",
   "metadata": {},
   "outputs": [],
   "source": []
  }
 ],
 "metadata": {
  "jupytext": {
   "text_representation": {
    "extension": ".md",
    "format_name": "myst",
    "format_version": "0.9",
    "jupytext_version": "1.5.0"
   }
  },
  "kernelspec": {
   "display_name": "Python 3",
   "language": "python",
   "name": "python3"
  },
  "language_info": {
   "codemirror_mode": {
    "name": "ipython",
    "version": 3
   },
   "file_extension": ".py",
   "mimetype": "text/x-python",
   "name": "python",
   "nbconvert_exporter": "python",
   "pygments_lexer": "ipython3",
   "version": "3.8.10"
  },
  "source_map": [
   12,
   16,
   20,
   39
  ]
 },
 "nbformat": 4,
 "nbformat_minor": 5
}