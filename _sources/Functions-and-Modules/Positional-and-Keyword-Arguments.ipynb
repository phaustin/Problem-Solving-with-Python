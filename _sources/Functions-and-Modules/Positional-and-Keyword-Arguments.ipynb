{
 "cells": [
  {
   "cell_type": "markdown",
   "id": "0282a4d4",
   "metadata": {},
   "source": [
    "## Positional and Keyword Arguments"
   ]
  },
  {
   "cell_type": "markdown",
   "id": "3f3c3b12",
   "metadata": {},
   "source": [
    "Python functions can contain two types of arguments: _positional arguments_ and _keyword arguments_. Positional arguments must be included in the correct order. Keyword arguments are included with a keyword and equals sign."
   ]
  },
  {
   "cell_type": "markdown",
   "id": "bb18a150",
   "metadata": {},
   "source": [
    "### Positional Arguments\n",
    "\n",
    "An _argument_ is a variable, value or object passed to a function or method as input. _Positional arguments_ are arguments that need to be included in the proper position or order. \n",
    "\n",
    "The first positional argument always needs to be listed first when the function is called. The second positional argument needs to be listed second and the third positional argument listed third, etc. \n",
    "\n",
    "An example of positional arguments can be seen in Python's ```complex()``` function. This function returns a complex number with a real term and an imaginary term. The order that numbers are passed to the ```complex()``` function determines which number is the real term and which number is the imaginary term.\n",
    "\n",
    "If the complex number ```3 + 5j``` is created, the two positional arguments are the numbers ```3``` and ```5```. As positional arguments, ```3``` must be listed first, and ```5``` must be listed second."
   ]
  },
  {
   "cell_type": "code",
   "execution_count": 1,
   "id": "08ab6e50",
   "metadata": {},
   "outputs": [
    {
     "data": {
      "text/plain": [
       "(3+5j)"
      ]
     },
     "execution_count": 1,
     "metadata": {},
     "output_type": "execute_result"
    }
   ],
   "source": [
    "complex(3, 5)"
   ]
  },
  {
   "cell_type": "markdown",
   "id": "596301d0",
   "metadata": {},
   "source": [
    "On the other hand, if the complex number ```5 + 3j``` needs to be created, the ```5``` needs to be listed first and the ```3``` listed second. Writing the same arguments in a different order produces a different result."
   ]
  },
  {
   "cell_type": "code",
   "execution_count": 2,
   "id": "619d6c80",
   "metadata": {},
   "outputs": [
    {
     "data": {
      "text/plain": [
       "(5+3j)"
      ]
     },
     "execution_count": 2,
     "metadata": {},
     "output_type": "execute_result"
    }
   ],
   "source": [
    "complex(5, 3)"
   ]
  },
  {
   "cell_type": "markdown",
   "id": "d795bc51",
   "metadata": {},
   "source": [
    "#### Positional Arguments Specified by an Iterable\n",
    "\n",
    "Positional arguments can also be passed to functions using an iterable object. Examples of iterable objects in Python include lists and tuples. The general syntax to use is:\n",
    "\n",
    "```text\n",
    "function(*iterable)\n",
    "```\n",
    "\n",
    "Where ```function``` is the name of the function and ```iterable``` is the name of the iterable preceded by the asterisk ```*``` character. \n",
    "\n",
    "An example of using a list to pass positional arguments to the ```complex()``` function is below. Note the asterisk ```*``` character is included before the ```term_list``` argument."
   ]
  },
  {
   "cell_type": "code",
   "execution_count": 3,
   "id": "29288756",
   "metadata": {},
   "outputs": [
    {
     "data": {
      "text/plain": [
       "(3+5j)"
      ]
     },
     "execution_count": 3,
     "metadata": {},
     "output_type": "execute_result"
    }
   ],
   "source": [
    "term_list = [3, 5]\n",
    "complex(*term_list)"
   ]
  },
  {
   "cell_type": "markdown",
   "id": "1b98f594",
   "metadata": {},
   "source": [
    "### Keyword Arguments\n",
    "\n",
    "A _keyword argument_ is an argument passed to a function or method which is preceded by a _keyword_ and an equals sign.  The general form is:\n",
    "\n",
    "```text\n",
    "function(keyword=value)\n",
    "```\n",
    "\n",
    "Where ```function``` is the function name, ```keyword``` is the keyword argument and value is the value or object passed as that keyword.\n",
    "\n",
    "Python's complex function can also accept two keyword arguments. The two keyword arguments are ```real=``` and ```imag=```. To create the complex number ```3 + 5j``` the ```3``` and ```5``` can be passed to the function as the values assigned to the keyword arguments ```real=``` and ```imag=```."
   ]
  },
  {
   "cell_type": "code",
   "execution_count": 4,
   "id": "eb3e19ca",
   "metadata": {},
   "outputs": [
    {
     "data": {
      "text/plain": [
       "(3+5j)"
      ]
     },
     "execution_count": 4,
     "metadata": {},
     "output_type": "execute_result"
    }
   ],
   "source": [
    "complex(real=3, imag=5)"
   ]
  },
  {
   "cell_type": "markdown",
   "id": "0b9b3991",
   "metadata": {},
   "source": [
    "Keyword arguments are passed to functions after any required positional arguments. But the order of one keyword argument compared to another keyword argument does not matter. Note how both sections of code below produce the same output."
   ]
  },
  {
   "cell_type": "code",
   "execution_count": 5,
   "id": "23ed4508",
   "metadata": {},
   "outputs": [
    {
     "data": {
      "text/plain": [
       "(3+5j)"
      ]
     },
     "execution_count": 5,
     "metadata": {},
     "output_type": "execute_result"
    }
   ],
   "source": [
    "complex(real=3, imag=5)"
   ]
  },
  {
   "cell_type": "code",
   "execution_count": 6,
   "id": "acfdd9f5",
   "metadata": {},
   "outputs": [
    {
     "data": {
      "text/plain": [
       "(3+5j)"
      ]
     },
     "execution_count": 6,
     "metadata": {},
     "output_type": "execute_result"
    }
   ],
   "source": [
    "complex(imag=5, real=3)"
   ]
  },
  {
   "cell_type": "markdown",
   "id": "8915a13b",
   "metadata": {},
   "source": [
    "#### Keyword Arguments Specified by a Dictionary\n",
    "\n",
    "Keyword arguments can also be passed to functions using a Python dictionary. The dictionary must contain the keywords as keys and the values as values. The general form is:\n",
    "\n",
    "```text\n",
    "keyword_dict = {'keyword1': value1, 'keyword2': value2}\n",
    "function(**keyword_dict)\n",
    "```\n",
    "\n",
    "Where ```function``` is the name of the function and ```keyword_dict``` is the name of the dictionary containing keywords and values preceded by the double asterisk ```**``` character. Note that the keywords assigned as keys in a dictionary must be surrounded by quotes ``` ' ' ```. An example of using a dictionary to pass keyword arguments to the ```complex()``` function is below:"
   ]
  },
  {
   "cell_type": "code",
   "execution_count": 7,
   "id": "368ec4d2",
   "metadata": {},
   "outputs": [
    {
     "data": {
      "text/plain": [
       "(3+5j)"
      ]
     },
     "execution_count": 7,
     "metadata": {},
     "output_type": "execute_result"
    }
   ],
   "source": [
    "keyword_dict = {'real': 3, 'imag': 5}\n",
    "complex(**keyword_dict)"
   ]
  },
  {
   "cell_type": "code",
   "execution_count": null,
   "id": "1e1d2f7c",
   "metadata": {},
   "outputs": [],
   "source": []
  }
 ],
 "metadata": {
  "jupytext": {
   "text_representation": {
    "extension": ".md",
    "format_name": "myst",
    "format_version": "0.9",
    "jupytext_version": "1.5.0"
   }
  },
  "kernelspec": {
   "display_name": "Python 3",
   "language": "python",
   "name": "python3"
  },
  "language_info": {
   "codemirror_mode": {
    "name": "ipython",
    "version": 3
   },
   "file_extension": ".py",
   "mimetype": "text/x-python",
   "name": "python",
   "nbconvert_exporter": "python",
   "pygments_lexer": "ipython3",
   "version": "3.8.10"
  },
  "source_map": [
   12,
   16,
   20,
   32,
   34,
   38,
   40,
   54,
   57,
   71,
   73,
   77,
   81,
   83,
   96,
   101
  ]
 },
 "nbformat": 4,
 "nbformat_minor": 5
}