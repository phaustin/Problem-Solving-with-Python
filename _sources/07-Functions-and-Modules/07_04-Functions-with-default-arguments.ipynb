{
 "cells": [
  {
   "cell_type": "markdown",
   "id": "b30f27ec",
   "metadata": {},
   "source": [
    "## Functions with Default Arguments"
   ]
  },
  {
   "cell_type": "markdown",
   "id": "0d3404d8",
   "metadata": {},
   "source": [
    "Functions can be specified with _default arguments_. If values for these arguments are not supplied when the function is called, the default values are used. The general format to define a function with default arguments is below:\n",
    "\n",
    "```text\n",
    "def function_name(argument1=default_value, argument2=default_value):\n",
    "    <code>\n",
    "    return output\n",
    "```"
   ]
  },
  {
   "cell_type": "markdown",
   "id": "aa88ac92",
   "metadata": {},
   "source": [
    "An example a function with default arguments might be a function that calculates the distance an object falls based on time. The general formula for fall distance $d$ based on fall time $t$ can be modeled as:\n",
    "\n",
    "$$ d = \\frac{1}{2}gt^2 $$\n",
    "\n",
    "Where $g$ is the acceleration due to gravity. On earth the value of $g = 9.81 m/s^2$. But on the moon, $g = 1.625 m/s^2$.  Our ```falldist()``` function will include the default value for earth's gravity and give programmers the option of specifying a different value for $g$ if they choose."
   ]
  },
  {
   "cell_type": "code",
   "execution_count": 1,
   "id": "a9ecbde3",
   "metadata": {},
   "outputs": [],
   "source": [
    "def falldist(t, g=9.81):\n",
    "    d = 0.5 * g * t**2\n",
    "    return d"
   ]
  },
  {
   "cell_type": "markdown",
   "id": "192f6d28",
   "metadata": {},
   "source": [
    "On earth, the distance a ball that falls for three seconds is calculated by ```falldist(3)```. In the function call ```falldist(3)```, no value is specified for ```g```, so the default value ```9.81``` is used."
   ]
  },
  {
   "cell_type": "code",
   "execution_count": 2,
   "id": "2ce9d031",
   "metadata": {},
   "outputs": [
    {
     "data": {
      "text/plain": [
       "44.145"
      ]
     },
     "execution_count": 2,
     "metadata": {},
     "output_type": "execute_result"
    }
   ],
   "source": [
    "falldist(3)"
   ]
  },
  {
   "cell_type": "markdown",
   "id": "4906fe26",
   "metadata": {},
   "source": [
    "On earth, the ball falls ```44.145``` meters in 3 seconds.\n",
    "\n",
    "However, on the moon gravity is much weaker than on earth. The acceleration of falling objects on the moon is $g = 1.625 m/s^2$. To calculate how far a ball falls on the moon in three seconds, two arguments need to be supplied to the ```falldist()``` function: ```3``` and ```1.625```. If a second argument is provided to the ```falldist()``` function, in this case ```1.625```, it overrides the default value assigned in the first line of the function."
   ]
  },
  {
   "cell_type": "code",
   "execution_count": 3,
   "id": "f531f5c5",
   "metadata": {},
   "outputs": [
    {
     "data": {
      "text/plain": [
       "7.3125"
      ]
     },
     "execution_count": 3,
     "metadata": {},
     "output_type": "execute_result"
    }
   ],
   "source": [
    "falldist(3, 1.625)"
   ]
  },
  {
   "cell_type": "markdown",
   "id": "79bb2339",
   "metadata": {},
   "source": [
    "On the moon, the ball falls ```7.3125``` meters in 3 seconds."
   ]
  },
  {
   "cell_type": "code",
   "execution_count": null,
   "id": "f24a3deb",
   "metadata": {},
   "outputs": [],
   "source": []
  }
 ],
 "metadata": {
  "jupytext": {
   "text_representation": {
    "extension": ".md",
    "format_name": "myst",
    "format_version": "0.9",
    "jupytext_version": "1.5.0"
   }
  },
  "kernelspec": {
   "display_name": "Python 3",
   "language": "python",
   "name": "python3"
  },
  "language_info": {
   "codemirror_mode": {
    "name": "ipython",
    "version": 3
   },
   "file_extension": ".py",
   "mimetype": "text/x-python",
   "name": "python",
   "nbconvert_exporter": "python",
   "pygments_lexer": "ipython3",
   "version": "3.8.10"
  },
  "source_map": [
   12,
   16,
   26,
   34,
   38,
   42,
   44,
   50,
   52,
   56
  ]
 },
 "nbformat": 4,
 "nbformat_minor": 5
}