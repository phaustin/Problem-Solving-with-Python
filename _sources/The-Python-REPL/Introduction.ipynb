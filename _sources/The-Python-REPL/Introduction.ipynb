{
 "cells": [
  {
   "cell_type": "markdown",
   "id": "62b204f3",
   "metadata": {},
   "source": [
    "# The Python REPL"
   ]
  },
  {
   "cell_type": "markdown",
   "id": "2e732b9b",
   "metadata": {},
   "source": [
    "## Introduction"
   ]
  },
  {
   "cell_type": "markdown",
   "id": "775a79ea",
   "metadata": {},
   "source": [
    "In this chapter, you will learn how to write and run your first lines of Python code at the Python REPL also called the Python prompt. You will learn how to use Python as a calculator and be introduced to Python variables and Python's ```print()``` function."
   ]
  },
  {
   "cell_type": "markdown",
   "id": "b2c31036",
   "metadata": {
    "latex": {
     "after_cell": "newpage"
    }
   },
   "source": [
    "By the end of this chapter, you will be able to:\n",
    "\n",
    " * Open and close the Python REPL\n",
    "\n",
    " * Compute mathematical calculations using the Python REPL\n",
    " \n",
    " * Use the output from the Python REPL as input in another problem\n",
    " \n",
    " * Import the math and statistics modules from the Python Standard Library and use their functions\n",
    " \n",
    " * Assign values to variables\n",
    "\n",
    " * Use variables in calculations\n",
    " \n",
    " * Create strings\n",
    " \n",
    " * Combine and compare strings"
   ]
  },
  {
   "cell_type": "code",
   "execution_count": null,
   "id": "8ad7f360",
   "metadata": {},
   "outputs": [],
   "source": []
  }
 ],
 "metadata": {
  "jupytext": {
   "cell_metadata_filter": "all",
   "notebook_metadata_filter": "all,-language_info,-toc,-latex_envs",
   "text_representation": {
    "extension": ".md",
    "format_name": "myst",
    "format_version": "0.10",
    "jupytext_version": "1.5.2"
   }
  },
  "kernelspec": {
   "display_name": "Python 3",
   "language": "python",
   "name": "python3"
  },
  "language_info": {
   "codemirror_mode": {
    "name": "ipython",
    "version": 3
   },
   "file_extension": ".py",
   "mimetype": "text/x-python",
   "name": "python",
   "nbconvert_exporter": "python",
   "pygments_lexer": "ipython3",
   "version": "3.8.0"
  },
  "source_map": [
   14,
   18,
   22,
   26,
   46
  ]
 },
 "nbformat": 4,
 "nbformat_minor": 5
}