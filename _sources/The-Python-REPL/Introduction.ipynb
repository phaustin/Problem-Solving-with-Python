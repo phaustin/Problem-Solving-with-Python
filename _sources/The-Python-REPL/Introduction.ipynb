{
 "cells": [
  {
   "cell_type": "markdown",
   "id": "a4384be0",
   "metadata": {},
   "source": [
    "# The Python REPL"
   ]
  },
  {
   "cell_type": "markdown",
   "id": "8736b512",
   "metadata": {},
   "source": [
    "## Introduction"
   ]
  },
  {
   "cell_type": "markdown",
   "id": "97a739fd",
   "metadata": {},
   "source": [
    "In this chapter, you will learn how to write and run your first lines of Python code at the Python REPL also called the Python prompt. You will learn how to use Python as a calculator and be introduced to Python variables and Python's ```print()``` function."
   ]
  },
  {
   "cell_type": "markdown",
   "id": "04222d2d",
   "metadata": {
    "latex": {
     "after_cell": "newpage"
    }
   },
   "source": [
    "By the end of this chapter, you will be able to:\n",
    "\n",
    " * Open and close the Python REPL\n",
    "\n",
    " * Compute mathematical calculations using the Python REPL\n",
    " \n",
    " * Use the output from the Python REPL as input in another problem\n",
    " \n",
    " * Import the math and statistics modules from the Python Standard Library and use their functions\n",
    " \n",
    " * Assign values to variables\n",
    "\n",
    " * Use variables in calculations\n",
    " \n",
    " * Create strings\n",
    " \n",
    " * Combine and compare strings"
   ]
  },
  {
   "cell_type": "code",
   "execution_count": null,
   "id": "af35cbb7",
   "metadata": {},
   "outputs": [],
   "source": []
  }
 ],
 "metadata": {
  "jupytext": {
   "cell_metadata_filter": "all",
   "notebook_metadata_filter": "all,-language_info,-toc,-latex_envs",
   "text_representation": {
    "extension": ".md",
    "format_name": "myst",
    "format_version": "0.10",
    "jupytext_version": "1.5.2"
   }
  },
  "kernelspec": {
   "display_name": "Python 3",
   "language": "python",
   "name": "python3"
  },
  "language_info": {
   "codemirror_mode": {
    "name": "ipython",
    "version": 3
   },
   "file_extension": ".py",
   "mimetype": "text/x-python",
   "name": "python",
   "nbconvert_exporter": "python",
   "pygments_lexer": "ipython3",
   "version": "3.8.10"
  },
  "source_map": [
   14,
   18,
   22,
   26,
   46
  ]
 },
 "nbformat": 4,
 "nbformat_minor": 5
}