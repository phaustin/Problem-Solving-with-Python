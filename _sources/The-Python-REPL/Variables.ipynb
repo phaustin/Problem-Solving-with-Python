{
 "cells": [
  {
   "cell_type": "markdown",
   "id": "45ff2b15",
   "metadata": {},
   "source": [
    "## Variables"
   ]
  },
  {
   "cell_type": "markdown",
   "id": "63da7588",
   "metadata": {},
   "source": [
    "Variables are assigned in Python using the ```=``` equals sign also called the _assignment operator_. The statement:\n",
    "\n",
    "```python\n",
    "a = 2\n",
    "```\n",
    "\n",
    "Assigns the integer ```2``` to the variable ```a```."
   ]
  },
  {
   "cell_type": "markdown",
   "id": "0df75367",
   "metadata": {},
   "source": [
    "```python\n",
    ">>> a = 2\n",
    ">>> a\n",
    "2\n",
    "```"
   ]
  },
  {
   "cell_type": "markdown",
   "id": "750e1b79",
   "metadata": {},
   "source": [
    "Note the assignment operator ```=```(equals), is different from the logical comparison operator ```==``` (equivalent to)."
   ]
  },
  {
   "cell_type": "markdown",
   "id": "527b016e",
   "metadata": {},
   "source": [
    "```python\n",
    ">>> a == 2\n",
    "True\n",
    "```"
   ]
  },
  {
   "cell_type": "markdown",
   "id": "629b43f6",
   "metadata": {},
   "source": [
    "Variable names in Python must conform to the following rules:\n",
    "\n",
    " * variable names must start with a letter\n",
    " * variable names can only contain letters, numbers, and the underscore character ```_```\n",
    " * variable names can not contain spaces\n",
    " * variable names can not include punctuation\n",
    " * variable names are not enclosed in quotes or brackets"
   ]
  },
  {
   "cell_type": "markdown",
   "id": "127b768f",
   "metadata": {},
   "source": [
    "The following code lines show valid variable names:"
   ]
  },
  {
   "cell_type": "markdown",
   "id": "853601bc",
   "metadata": {},
   "source": [
    "```text\n",
    "constant = 4\n",
    "\n",
    "new_variable = 'var'\n",
    "\n",
    "my2rules = ['rule1','rule2']\n",
    "\n",
    "SQUARES = 4\n",
    "```"
   ]
  },
  {
   "cell_type": "markdown",
   "id": "25f22aa7",
   "metadata": {},
   "source": [
    "The following code lines show invalid variable names:"
   ]
  },
  {
   "cell_type": "markdown",
   "id": "3ce7d187",
   "metadata": {},
   "source": [
    "```text\n",
    "a constant = 4\n",
    "\n",
    "3newVariables = [1, 2, 3]\n",
    "\n",
    "&sum = 4 + 4\n",
    "```"
   ]
  },
  {
   "cell_type": "markdown",
   "id": "a94fe528",
   "metadata": {},
   "source": [
    "Let's solve the problem below at the Python REPL using variables.\n",
    "\n",
    "#### Problem\n",
    "\n",
    "The Arrhenius relationship states:\n",
    "\n",
    "$$ n = n_{v}e^{-Q_v/(RT)} $$\n",
    "\n",
    "In a system where $n_v = 2.0 \\times 10^{-3}$, $Q_v = 5$, $R=3.18$, and $T=293$, calculate $n$.\n",
    "\n",
    "#### Solution\n",
    "\n",
    "Use variables to assign a value to each one of the constants in the problem and calculate $n$.\n",
    "\n",
    "```python\n",
    ">>> nv = 2.0e-3\n",
    ">>> Qv = 5\n",
    ">>> R = 3.18\n",
    ">>> T = 293\n",
    ">>> from math import exp\n",
    ">>> n = nv*exp(-1*Qv/(R*T))\n",
    ">>> n\n",
    "0.0019892961379660424\n",
    "```"
   ]
  },
  {
   "cell_type": "code",
   "execution_count": null,
   "id": "af5124c9",
   "metadata": {},
   "outputs": [],
   "source": []
  }
 ],
 "metadata": {
  "jupytext": {
   "text_representation": {
    "extension": ".md",
    "format_name": "myst",
    "format_version": "0.9",
    "jupytext_version": "1.5.0"
   }
  },
  "kernelspec": {
   "display_name": "Python 3",
   "language": "python",
   "name": "python3"
  },
  "language_info": {
   "codemirror_mode": {
    "name": "ipython",
    "version": 3
   },
   "file_extension": ".py",
   "mimetype": "text/x-python",
   "name": "python",
   "nbconvert_exporter": "python",
   "pygments_lexer": "ipython3",
   "version": "3.8.10"
  },
  "source_map": [
   12,
   16,
   26,
   34,
   38,
   45,
   55,
   59,
   71,
   75,
   85,
   112
  ]
 },
 "nbformat": 4,
 "nbformat_minor": 5
}