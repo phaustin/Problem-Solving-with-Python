{
 "cells": [
  {
   "cell_type": "markdown",
   "id": "f3f5dd49",
   "metadata": {},
   "source": [
    "## Print Statements"
   ]
  },
  {
   "cell_type": "markdown",
   "id": "afc5ec50",
   "metadata": {},
   "source": [
    "One built-in function in Python is ```print()```. The value or expression inside of the parenthesis of a ```print()``` function \"prints\" out to the REPL when the ```print()``` function is called. \n",
    "\n",
    "An example using the ```print()``` function is below:\n",
    "\n",
    "```python\n",
    ">>> name = \"Gabby\"\n",
    ">>> print(\"Your name is: \")\n",
    "Your name is: \n",
    ">>> print(name)\n",
    "Gabby\n",
    "```\n",
    "\n",
    "Remember that strings must be enclosed by quotation marks. The following command produces an error.\n",
    "\n",
    "```python\n",
    ">>> print(Gabby)\n",
    "\n",
    "NameError: name 'Gabby' is not defined\n",
    "```\n",
    "\n",
    "This error is corrected by surrounding the string ```Gabby``` with quotation marks.\n",
    "\n",
    "```python\n",
    ">>> print(\"Gabby\")\n",
    "Gabby\n",
    "```"
   ]
  },
  {
   "cell_type": "markdown",
   "id": "14b8a959",
   "metadata": {},
   "source": [
    "Expressions passed to the ```print()``` function are evaluated before they are printed out. For instance, the sum of two numbers can be shown with the ```print()``` function.\n",
    "\n",
    "```python\n",
    ">>> print(1+2)\n",
    "3\n",
    "```\n",
    "\n",
    "If you want to see the text ```1+2```, you need to define ```\"1+2\"``` as a string and print out the string ```\"1+2\"``` instead.\n",
    "\n",
    "```python\n",
    ">>> print(\"1+2\")\n",
    "1+2\n",
    "```"
   ]
  },
  {
   "cell_type": "markdown",
   "id": "03e41dc1",
   "metadata": {},
   "source": [
    "Strings can be concatenated (combined) inside of a ```print()``` statement.\n",
    "\n",
    "```python\n",
    ">>> name = Gabby\n",
    ">>> print('Your name is: ' + name)\n",
    "Your name is Gabby\n",
    "```"
   ]
  },
  {
   "cell_type": "markdown",
   "id": "f97fee06",
   "metadata": {},
   "source": [
    "The ```print()``` function also prints out individual expressions one after another with a space in between when the expressions are placed inside the ```print()``` function and separated by a comma.\n",
    "\n",
    "```python\n",
    ">>> print(\"Name:\",\"Gabby\",\"Age\", 2+7)\n",
    "Name: Gabby Age 9\n",
    "```"
   ]
  },
  {
   "cell_type": "code",
   "execution_count": null,
   "id": "9fcb29f5",
   "metadata": {},
   "outputs": [],
   "source": []
  }
 ],
 "metadata": {
  "jupytext": {
   "text_representation": {
    "extension": ".md",
    "format_name": "myst",
    "format_version": "0.9",
    "jupytext_version": "1.5.0"
   }
  },
  "kernelspec": {
   "display_name": "Python 3",
   "language": "python",
   "name": "python3"
  },
  "language_info": {
   "codemirror_mode": {
    "name": "ipython",
    "version": 3
   },
   "file_extension": ".py",
   "mimetype": "text/x-python",
   "name": "python",
   "nbconvert_exporter": "python",
   "pygments_lexer": "ipython3",
   "version": "3.8.10"
  },
  "source_map": [
   12,
   16,
   45,
   61,
   71,
   80
  ]
 },
 "nbformat": 4,
 "nbformat_minor": 5
}