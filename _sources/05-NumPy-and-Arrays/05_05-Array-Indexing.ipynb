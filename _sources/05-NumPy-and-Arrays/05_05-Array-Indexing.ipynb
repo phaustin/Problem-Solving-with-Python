{
 "cells": [
  {
   "cell_type": "markdown",
   "id": "46eaf203",
   "metadata": {},
   "source": [
    "## Array Indexing"
   ]
  },
  {
   "cell_type": "markdown",
   "id": "2b553fdd",
   "metadata": {},
   "source": [
    "Elements in NumPy arrays can be accessed by _indexing_. Indexing is an operation that pulls out a select set of values from an array. The _index_ of a value in an array is that value's _location_ within the array. There is a difference between _the value_ and _where the value is stored_ in an array. \n",
    "\n",
    "An array with 3 values is created in the code section below."
   ]
  },
  {
   "cell_type": "code",
   "execution_count": 1,
   "id": "48a40af4",
   "metadata": {},
   "outputs": [
    {
     "name": "stdout",
     "output_type": "stream",
     "text": [
      "[2 4 6]\n"
     ]
    }
   ],
   "source": [
    "import numpy as np\n",
    "\n",
    "a = np.array([2,4,6])\n",
    "print(a)"
   ]
  },
  {
   "cell_type": "markdown",
   "id": "05630ea7",
   "metadata": {},
   "source": [
    "The array above contains three values: ```2```, ```4``` and ```6```. Each of these values has a different index. \n",
    "\n",
    "**Remember counting in Python starts at ```0``` and ends at ```n-1```.**\n",
    "\n",
    "The value ```2``` has an index of 0. We could also say ```2``` is in location 0 of the array. The value ```4``` has an index of ```1``` and the value ```6``` has an index of ```2```. The table below shows the index (or location) of each value in the array.\n",
    "\n",
    "| Index (or location) | Value |\n",
    "| --- | ---|\n",
    "| 0 | ```2``` |\n",
    "| 1 | ```4``` |\n",
    "| 2 | ```6``` |\n",
    "\n",
    "Individual values stored in an array can be accessed with indexing. \n",
    "\n",
    "The general form to index a NumPy array is below:\n",
    "\n",
    "```python\n",
    "<value> = <array>[index]\n",
    "```\n",
    "\n",
    "Where ```<value>``` is the value stored in the array, ```<array>``` is the array object name and ```[index]``` specifies the index or location of that value. \n",
    "\n",
    "In the array above, the value 6 is stored at index 2."
   ]
  },
  {
   "cell_type": "code",
   "execution_count": 2,
   "id": "23fb3070",
   "metadata": {},
   "outputs": [
    {
     "name": "stdout",
     "output_type": "stream",
     "text": [
      "[2 4 6]\n",
      "6\n"
     ]
    }
   ],
   "source": [
    "import numpy as np\n",
    "\n",
    "a = np.array([2,4,6])\n",
    "print(a)\n",
    "value = a[2]\n",
    "print(value)"
   ]
  },
  {
   "cell_type": "markdown",
   "id": "ae31f589",
   "metadata": {},
   "source": [
    "### Multi-dimensional Array Indexing"
   ]
  },
  {
   "cell_type": "markdown",
   "id": "2fc0771f",
   "metadata": {},
   "source": [
    "Multi-dimensional arrays can be indexed as well. A simple 2-D array is defined by a list of lists."
   ]
  },
  {
   "cell_type": "code",
   "execution_count": 3,
   "id": "861a2538",
   "metadata": {},
   "outputs": [
    {
     "name": "stdout",
     "output_type": "stream",
     "text": [
      "[[2 3 4]\n",
      " [6 7 8]]\n"
     ]
    }
   ],
   "source": [
    "import numpy as np\n",
    "\n",
    "a = np.array([[2,3,4],[6,7,8]])\n",
    "print(a)"
   ]
  },
  {
   "cell_type": "markdown",
   "id": "b1289cd8",
   "metadata": {},
   "source": [
    "Values in a 2-D array can be accessed using the general notation below:\n",
    "\n",
    "```python\n",
    "<value> = <array>[row,col]\n",
    "```\n",
    "\n",
    "Where ```<value>``` is the value pulled out of the 2-D array and ```[row,col]``` specifies the row and column index of the value. Remember Python counting starts at ```0```, so the first row is row zero and the first column is column zero.\n",
    "\n",
    "We can access the value ```8``` in the array above by calling the row and column index ```[1,2]```.  This corresponds to the 2nd row (remember row 0 is the first row) and the 3rd column (column 0 is the first column)."
   ]
  },
  {
   "cell_type": "code",
   "execution_count": 4,
   "id": "c1012bae",
   "metadata": {},
   "outputs": [
    {
     "name": "stdout",
     "output_type": "stream",
     "text": [
      "[[2 3 4]\n",
      " [6 7 8]]\n",
      "8\n"
     ]
    }
   ],
   "source": [
    "import numpy as np\n",
    "\n",
    "a = np.array([[2,3,4],[6,7,8]])\n",
    "print(a)\n",
    "value = a[1,2]\n",
    "print(value)"
   ]
  },
  {
   "cell_type": "markdown",
   "id": "451076be",
   "metadata": {},
   "source": [
    "### Assigning Values with Indexing"
   ]
  },
  {
   "cell_type": "markdown",
   "id": "887e0add",
   "metadata": {},
   "source": [
    "Array indexing is used to _access_ values in an array. And array indexing can also be used for _assigning_ values of an array.\n",
    "\n",
    "The general form used to assign a value to a particular index or location in an array is below:\n",
    "\n",
    "```python\n",
    "<array>[index] = <value>\n",
    "```\n",
    "\n",
    "Where ```<value>``` is the new value going into the array and ```[index]``` is the location the new value will occupy. \n",
    "\n",
    "The code below puts the value ```10``` into the second index or location of the array ```a```."
   ]
  },
  {
   "cell_type": "code",
   "execution_count": 5,
   "id": "f290a0ea",
   "metadata": {},
   "outputs": [
    {
     "name": "stdout",
     "output_type": "stream",
     "text": [
      "[ 2  4 10]\n"
     ]
    }
   ],
   "source": [
    "import numpy as np\n",
    "\n",
    "a = np.array([2,4,6])\n",
    "a[2] = 10\n",
    "print(a)"
   ]
  },
  {
   "cell_type": "markdown",
   "id": "196b075d",
   "metadata": {},
   "source": [
    "Values can also be assigned to a particular location in a 2-D arrays using the form:\n",
    "\n",
    "```python\n",
    "<array>[row,col] = <value>\n",
    "```\n",
    "\n",
    "The code example below shows the value ```20``` assigned to the 2nd row (index ```1```) and 3rd column (index ```2```) of the array."
   ]
  },
  {
   "cell_type": "code",
   "execution_count": 6,
   "id": "032b3f26",
   "metadata": {},
   "outputs": [
    {
     "name": "stdout",
     "output_type": "stream",
     "text": [
      "[[2 3 4]\n",
      " [6 7 8]]\n",
      "[[ 2  3  4]\n",
      " [ 6  7 20]]\n"
     ]
    }
   ],
   "source": [
    "import numpy as np\n",
    "\n",
    "a = np.array([[2,3,4],[6,7,8]])\n",
    "print(a)\n",
    "\n",
    "a[1,2]=20\n",
    "print(a)"
   ]
  },
  {
   "cell_type": "code",
   "execution_count": null,
   "id": "c26a8c0b",
   "metadata": {},
   "outputs": [],
   "source": []
  }
 ],
 "metadata": {
  "jupytext": {
   "text_representation": {
    "extension": ".md",
    "format_name": "myst",
    "format_version": "0.9",
    "jupytext_version": "1.5.0"
   }
  },
  "kernelspec": {
   "display_name": "Python 3",
   "language": "python",
   "name": "python3"
  },
  "language_info": {
   "codemirror_mode": {
    "name": "ipython",
    "version": 3
   },
   "file_extension": ".py",
   "mimetype": "text/x-python",
   "name": "python",
   "nbconvert_exporter": "python",
   "pygments_lexer": "ipython3",
   "version": "3.8.10"
  },
  "source_map": [
   12,
   16,
   22,
   27,
   53,
   60,
   64,
   68,
   73,
   85,
   92,
   96,
   110,
   116,
   126,
   136
  ]
 },
 "nbformat": 4,
 "nbformat_minor": 5
}