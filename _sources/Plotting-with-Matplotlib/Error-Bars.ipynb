{
 "cells": [
  {
   "cell_type": "markdown",
   "id": "f1176e2a",
   "metadata": {},
   "source": [
    "## Error Bars"
   ]
  },
  {
   "cell_type": "markdown",
   "id": "8cee3484",
   "metadata": {},
   "source": [
    "Matplotlib line plots and bar charts can include error bars. Error bars are useful to problem solvers because error bars show the confidence or precision in a set of measurements or calculated values. Bar charts without error bars give the illusion that a measured or calculated value is known to high precision or high confidence."
   ]
  },
  {
   "cell_type": "markdown",
   "id": "4f821cbd",
   "metadata": {},
   "source": [
    "### Error bars in bar plots"
   ]
  },
  {
   "cell_type": "markdown",
   "id": "0c4fb7fb",
   "metadata": {},
   "source": [
    "To construct a bar plot with error bars, first import Matplotlib. If using a Jupyter notebook, include the line ```%matplotlib inline```"
   ]
  },
  {
   "cell_type": "code",
   "execution_count": 1,
   "id": "86e42dcd",
   "metadata": {},
   "outputs": [],
   "source": [
    "import numpy as np\n",
    "import matplotlib.pyplot as plt\n",
    "# include if using a Jupyter notebook\n",
    "%matplotlib inline"
   ]
  },
  {
   "cell_type": "markdown",
   "id": "1bda36a1",
   "metadata": {},
   "source": [
    "We'll apply error bars to the Coefficient of Thermal Expansion data used in a previous section. First the data is stored in three NumPy arrays. Then the mean or average of each array is calculated. The mean of each array will be the height of the bars in the bar plot. Next, the standard deviation of each array is calculated. The standard deviation will be the height of the error bars. Finally, a couple lists are created that correspond to the bar labels (```labels```), bar positions (```x_pos```), bar heights (```CTEs```), and the error bar heights (```error```)."
   ]
  },
  {
   "cell_type": "code",
   "execution_count": 2,
   "id": "8ff3aa6f",
   "metadata": {},
   "outputs": [],
   "source": [
    "# Data\n",
    "aluminum = np.array([6.4e-5 , 3.01e-5 , 2.36e-5, 3.0e-5, 7.0e-5, 4.5e-5, 3.8e-5,\n",
    "                     4.2e-5, 2.62e-5, 3.6e-5])\n",
    "copper = np.array([4.5e-5 , 1.97e-5 , 1.6e-5, 1.97e-5, 4.0e-5, 2.4e-5, 1.9e-5, \n",
    "                   2.41e-5 , 1.85e-5, 3.3e-5 ])\n",
    "steel = np.array([3.3e-5 , 1.2e-5 , 0.9e-5, 1.2e-5, 1.3e-5, 1.6e-5, 1.4e-5, \n",
    "                  1.58e-5, 1.32e-5 , 2.1e-5])\n",
    "\n",
    "# Calculate the average\n",
    "aluminum_mean = np.mean(aluminum)\n",
    "copper_mean = np.mean(copper)\n",
    "steel_mean = np.mean(steel)\n",
    "\n",
    "# Calculate the standard deviation\n",
    "aluminum_std = np.std(aluminum)\n",
    "copper_std = np.std(copper)\n",
    "steel_std = np.std(steel)\n",
    "\n",
    "# Define labels, positions, bar heights and error bar heights\n",
    "labels = ['Aluminum', 'Copper', 'Steel']\n",
    "x_pos = np.arange(len(labels))\n",
    "CTEs = [aluminum_mean, copper_mean, steel_mean]\n",
    "error = [aluminum_std, copper_std, steel_std]"
   ]
  },
  {
   "cell_type": "code",
   "execution_count": 3,
   "id": "69c52fe3",
   "metadata": {},
   "outputs": [
    {
     "data": {
      "image/png": "[encoded data removed]",
      "text/plain": [
       "<Figure size 432x288 with 1 Axes>"
      ]
     },
     "metadata": {
      "filenames": {
       "image/png": "C:\\Users\\Owner\\UBC_F2021\\Problem-Solving-with-Python\\notebooks\\_build\\jupyter_execute\\Plotting-with-Matplotlib\\Error-Bars_7_0.png"
      },
      "needs_background": "light"
     },
     "output_type": "display_data"
    }
   ],
   "source": [
    "# Build the plot\n",
    "fig, ax = plt.subplots()\n",
    "ax.bar(x_pos, CTEs,\n",
    "       yerr=error,\n",
    "       align='center',\n",
    "       alpha=0.5,\n",
    "       ecolor='black',\n",
    "       capsize=10)\n",
    "ax.set_ylabel('Coefficient of Thermal Expansion ($\\degree C^{-1}$)')\n",
    "ax.set_xticks(x_pos)\n",
    "ax.set_xticklabels(labels)\n",
    "ax.set_title('Coefficent of Thermal Expansion (CTE) of Three Metals')\n",
    "ax.yaxis.grid(True)\n",
    "\n",
    "# Save the figure and show\n",
    "plt.tight_layout()\n",
    "plt.savefig('bar_plot_with_error_bars.png')\n",
    "plt.show()"
   ]
  },
  {
   "cell_type": "markdown",
   "id": "b58c03e6",
   "metadata": {},
   "source": [
    "The resulting plot contains three error bars. We can see the standard deviation of the aluminum data is greater than the standard deviation of the steel by looking at the error by lengths."
   ]
  },
  {
   "cell_type": "markdown",
   "id": "2c0fdd66",
   "metadata": {},
   "source": [
    "### Error bars in line plots"
   ]
  },
  {
   "cell_type": "markdown",
   "id": "e7898549",
   "metadata": {},
   "source": [
    "Error bars can also be added to line plots created with Matplotlib. The ```ax.errorbar()``` method is used to create a line plot with error bars. The two positional arguments supplied to ```ax.errorbar()``` are the lists or arrays of x, y data points. The two keyword arguments ```xerr= ``` and ```yerr= ``` define the error bar lengths in the x and y directions. \n",
    "\n",
    "The general format of Matplotlib's ```ax.errorbar()``` method is below:\n",
    "\n",
    "```python\n",
    "ax.errorbar(x, y,\n",
    "            xerr=<error bar width>\n",
    "            yerr=<error bar height>\n",
    "            fmt=<format>)\n",
    "```\n",
    "\n",
    "The following code section builds a line plot with horizontal and vertical error bars included on each point in the plot. The error bar widths and heights are created using NumPy's ```random_sample``` function."
   ]
  },
  {
   "cell_type": "code",
   "execution_count": 4,
   "id": "43f8dcb5",
   "metadata": {},
   "outputs": [
    {
     "data": {
      "image/png": "[encoded data removed]",
      "text/plain": [
       "<Figure size 432x288 with 1 Axes>"
      ]
     },
     "metadata": {
      "filenames": {
       "image/png": "C:\\Users\\Owner\\UBC_F2021\\Problem-Solving-with-Python\\notebooks\\_build\\jupyter_execute\\Plotting-with-Matplotlib\\Error-Bars_11_0.png"
      },
      "needs_background": "light"
     },
     "output_type": "display_data"
    }
   ],
   "source": [
    "import numpy as np\n",
    "import matplotlib.pyplot as plt\n",
    "# if using a Jupyter notebook, include:\n",
    "%matplotlib inline\n",
    "\n",
    "x = np.linspace(0,5.5,10)\n",
    "y = 10*np.exp(-x)\n",
    "xerr = np.random.random_sample(10)\n",
    "yerr = np.random.random_sample(10)\n",
    "\n",
    "fig, ax = plt.subplots()\n",
    "\n",
    "ax.errorbar(x, y,\n",
    "            xerr=xerr,\n",
    "            yerr=yerr,\n",
    "            fmt='-o')\n",
    "\n",
    "ax.set_xlabel('x-axis')\n",
    "ax.set_ylabel('y-axis')\n",
    "ax.set_title('Line plot with error bars')\n",
    "\n",
    "plt.show()"
   ]
  },
  {
   "cell_type": "code",
   "execution_count": null,
   "id": "e10a79b0",
   "metadata": {},
   "outputs": [],
   "source": []
  }
 ],
 "metadata": {
  "jupytext": {
   "text_representation": {
    "extension": ".md",
    "format_name": "myst",
    "format_version": "0.9",
    "jupytext_version": "1.5.0"
   }
  },
  "kernelspec": {
   "display_name": "Python 3",
   "language": "python",
   "name": "python3"
  },
  "language_info": {
   "codemirror_mode": {
    "name": "ipython",
    "version": 3
   },
   "file_extension": ".py",
   "mimetype": "text/x-python",
   "name": "python",
   "nbconvert_exporter": "python",
   "pygments_lexer": "ipython3",
   "version": "3.8.0"
  },
  "source_map": [
   12,
   16,
   20,
   24,
   28,
   33,
   37,
   63,
   82,
   86,
   90,
   105,
   130
  ]
 },
 "nbformat": 4,
 "nbformat_minor": 5
}