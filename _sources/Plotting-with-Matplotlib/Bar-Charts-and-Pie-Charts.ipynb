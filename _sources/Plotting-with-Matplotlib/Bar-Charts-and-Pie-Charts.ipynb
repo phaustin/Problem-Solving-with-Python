{
 "cells": [
  {
   "cell_type": "markdown",
   "id": "47b52872",
   "metadata": {},
   "source": [
    "## Bar Charts and Pie Charts"
   ]
  },
  {
   "cell_type": "markdown",
   "id": "6eb0c3d2",
   "metadata": {},
   "source": [
    "Bar charts and pie charts can be created with Matplotlib's ```pyplot``` library."
   ]
  },
  {
   "cell_type": "markdown",
   "id": "47a30054",
   "metadata": {},
   "source": [
    "### Bar Charts"
   ]
  },
  {
   "cell_type": "markdown",
   "id": "1e9de3d9",
   "metadata": {},
   "source": [
    "To construct a bar plot using Matplotlib, first import Matplotlib's ```pyplot``` library. The alias ```plt``` is commonly used to substitute ```matplotlib.pyplot```.  If using a Jupiter notebook, include the line ```%matplotlib inline```. In the next example, NumPy is used. So NumPy must be included in the imports as well as Matplotlib."
   ]
  },
  {
   "cell_type": "code",
   "execution_count": 1,
   "id": "7499abd7",
   "metadata": {},
   "outputs": [],
   "source": [
    "import numpy as np\n",
    "import matplotlib.pyplot as plt\n",
    "# if using a Jupyter notebook, include:\n",
    "%matplotlib inline"
   ]
  },
  {
   "cell_type": "markdown",
   "id": "0bb96dfd",
   "metadata": {},
   "source": [
    "We need some data to add to our bar chart. In this case, the data is from a set of _coefficient of thermal expansion_ lab measurements. The coefficient of thermal expansion (CTE) is a material property that describes how much a material will change in length as a result of a change in temperature. Different materials have different CTE's and we can use the lab data to determine which material will expand the most if all three materials are heated up to the same temperature (assuming all three materials start at the same temperature).\n",
    "\n",
    "First, we need to input the lab measurement data as NumPy arrays:"
   ]
  },
  {
   "cell_type": "code",
   "execution_count": 2,
   "id": "a8d28022",
   "metadata": {},
   "outputs": [],
   "source": [
    "# Data\n",
    "aluminum = np.array([\n",
    "    6.4e-5, 3.01e-5, 2.36e-5, 3.0e-5, 7.0e-5, 4.5e-5, 3.8e-5, 4.2e-5, 2.62e-5,\n",
    "    3.6e-5\n",
    "])\n",
    "copper = np.array([\n",
    "    4.5e-5, 1.97e-5, 1.6e-5, 1.97e-5, 4.0e-5, 2.4e-5, 1.9e-5, 2.41e-5, 1.85e-5,\n",
    "    3.3e-5\n",
    "])\n",
    "steel = np.array([\n",
    "    3.3e-5, 1.2e-5, 0.9e-5, 1.2e-5, 1.3e-5, 1.6e-5, 1.4e-5, 1.58e-5, 1.32e-5,\n",
    "    2.1e-5\n",
    "])"
   ]
  },
  {
   "cell_type": "markdown",
   "id": "af579837",
   "metadata": {},
   "source": [
    "Next, calculate the average or _mean_ of each data set using NumPy's ```np.mean()``` function."
   ]
  },
  {
   "cell_type": "code",
   "execution_count": 3,
   "id": "0af46700",
   "metadata": {},
   "outputs": [],
   "source": [
    "# Calculate the average\n",
    "aluminum_mean = np.mean(aluminum)\n",
    "copper_mean = np.mean(copper)\n",
    "steel_mean = np.mean(steel)"
   ]
  },
  {
   "cell_type": "markdown",
   "id": "83a5c81f",
   "metadata": {},
   "source": [
    "Then build a list of materials and CTE's. Note the list of materials is a list of strings, the list of x-positions ```x_pos``` is an array of numbers ```[0,1,2]```, and the list ```CTEs``` is a list of three numbers from the ```np.mean()``` calculation above. Python's ```len()``` function returns the length of a list, array, dictionary or tuple."
   ]
  },
  {
   "cell_type": "code",
   "execution_count": 4,
   "id": "53e562dc",
   "metadata": {},
   "outputs": [],
   "source": [
    "# Create arrays for the plot\n",
    "materials = ['Aluminum', 'Copper', 'Steel']\n",
    "x_pos = np.arange(len(materials))\n",
    "CTEs = [aluminum_mean, copper_mean, steel_mean]"
   ]
  },
  {
   "cell_type": "markdown",
   "id": "430481c4",
   "metadata": {},
   "source": [
    "After the ```materials```, ```x_pos```, and ```CTEs``` (the labels below the bars) are defined, the bar chart is created using the ```ax.bar()``` method.\n",
    "\n",
    "Mathplotlib's ```ax.bar()``` method requires two positional arguments, a list of bar positions and a list of bar heights. In this bar chart, ```x_pos``` is the list of bar positions and ```CTEs``` is the list of bar heights.\n",
    "\n",
    "The list of materials is passed to the ```ax.set_xticklabels()``` method."
   ]
  },
  {
   "cell_type": "code",
   "execution_count": 5,
   "id": "405da03e",
   "metadata": {},
   "outputs": [
    {
     "data": {
      "image/png": "[encoded data removed]",
      "text/plain": [
       "<Figure size 432x288 with 1 Axes>"
      ]
     },
     "metadata": {
      "filenames": {
       "image/png": "/home/phil/repos/Problem-Solving-with-Python/notebooks/_build/jupyter_execute/Plotting-with-Matplotlib/Bar-Charts-and-Pie-Charts_12_0.png"
      },
      "needs_background": "light"
     },
     "output_type": "display_data"
    }
   ],
   "source": [
    "# Build the plot\n",
    "fig, ax = plt.subplots()\n",
    "\n",
    "ax.bar(x_pos, CTEs, align='center', alpha=0.5)\n",
    "ax.set_ylabel('Coefficient of Thermal Expansion ($\\degree C^{-1}$)')\n",
    "ax.set_xticks(x_pos)\n",
    "ax.set_xticklabels(materials)\n",
    "ax.set_title('Coefficent of Thermal Expansion (CTE) of Three Metals')\n",
    "ax.yaxis.grid(True)\n",
    "\n",
    "# Save the figure and show\n",
    "plt.tight_layout()\n",
    "plt.savefig('bar_plot.png')\n",
    "plt.show()"
   ]
  },
  {
   "cell_type": "markdown",
   "id": "735e1b48",
   "metadata": {},
   "source": [
    "### Pie Charts"
   ]
  },
  {
   "cell_type": "markdown",
   "id": "793981c6",
   "metadata": {},
   "source": [
    "Pie charts can be constructed with Matplotlib's ```ax.pie()``` method. The one required _positional argument_ supplied to the ```ax.pie()``` method is a list of pie piece sizes. Optional _keyword arguments_ include a list of pie piece labels (```label= ```) and if the percentages will be auto-calculated and in what format (```autopct= ```).\n",
    "\n",
    "For our first pie chart, the data we will plot describes the number of students who choose different engineering majors at colleges in the US each year.\n",
    "\n",
    "The following table lists the approximate numbers of engineering graduates in different engineering disciplines:\n",
    "\n",
    "| Discipline | Number of graduates |\n",
    "| --- | --- |\n",
    "|  Civil Engineering |  15,000  graduates |\n",
    "| Electrical Engineering |  50,000  graduates |\n",
    "| Mechanical Engineering | 45,000  graduates |\n",
    "| Chemical Engineering |  10,000  graduates |\n",
    "\n",
    "We will plot this data on a pie chart with Matplotlib's ```ax.pie()``` method. The pie piece labels are defined as a list of strings, and the pie piece sizes are defined as a list of integers. The line ```ax.axis('equal')``` is needed to ensure the pie chart is a circle. If you leave out ```ax.axis('equal')```, the pie chart may look like an oval instead of a circle. \n",
    "\n",
    "The code section below builds a pie chart with four pie pieces, each pie piece labeled with a relative size auto-calculated to the nearest 10th of a percent."
   ]
  },
  {
   "cell_type": "code",
   "execution_count": 6,
   "id": "86a1249a",
   "metadata": {},
   "outputs": [
    {
     "data": {
      "image/png": "[encoded data removed]",
      "text/plain": [
       "<Figure size 432x288 with 1 Axes>"
      ]
     },
     "metadata": {
      "filenames": {
       "image/png": "/home/phil/repos/Problem-Solving-with-Python/notebooks/_build/jupyter_execute/Plotting-with-Matplotlib/Bar-Charts-and-Pie-Charts_15_0.png"
      }
     },
     "output_type": "display_data"
    }
   ],
   "source": [
    "import numpy as np\n",
    "import matplotlib.pyplot as plt\n",
    "# if using a Jupyter notebook, include:\n",
    "%matplotlib inline\n",
    "\n",
    "# Pie chart, where the slices will be ordered and plotted counter-clockwise:\n",
    "labels = ['Civil', 'Electrical', 'Mechanical', 'Chemical']\n",
    "sizes = [15, 50, 45, 10]\n",
    "\n",
    "fig, ax = plt.subplots()\n",
    "ax.pie(sizes, labels=labels, autopct='%1.1f%%')\n",
    "ax.axis('equal')  # Equal aspect ratio ensures the pie chart is circular.\n",
    "ax.set_title('Engineering Diciplines')\n",
    "\n",
    "plt.show()"
   ]
  },
  {
   "cell_type": "markdown",
   "id": "89c8bb34",
   "metadata": {},
   "source": [
    "Pie pieces can be highlighted by \"exploding\" them out. Exploded pie pieces are applied to a Matplotlib pie chart by supplying the ```explode= ``` keyword argument to the ```ax.pie()``` method. ```shadow=True``` and ```startangle= ``` are two additional keyword arguments that can be passed to the ```ax.pie()``` method to control the angle and rotation of the pieces on a pie chart.\n",
    "\n",
    "The code section below creates a pie chart with the pie pieces separated and the \"Chemical\" piece exploded out."
   ]
  },
  {
   "cell_type": "code",
   "execution_count": 7,
   "id": "5bf025fe",
   "metadata": {},
   "outputs": [
    {
     "data": {
      "image/png": "[encoded data removed]",
      "text/plain": [
       "<Figure size 432x288 with 1 Axes>"
      ]
     },
     "metadata": {
      "filenames": {
       "image/png": "/home/phil/repos/Problem-Solving-with-Python/notebooks/_build/jupyter_execute/Plotting-with-Matplotlib/Bar-Charts-and-Pie-Charts_17_0.png"
      }
     },
     "output_type": "display_data"
    }
   ],
   "source": [
    "import numpy as np\n",
    "import matplotlib.pyplot as plt\n",
    "# if using a Jupyter notebook, include:\n",
    "%matplotlib inline\n",
    "\n",
    "# Pie chart, where the slices will be ordered and plotted counter-clockwise\n",
    "labels = ['Civil', 'Electrical', 'Mechanical', 'Chemical']\n",
    "sizes = [15, 30, 45, 10]\n",
    "\n",
    "# Explode out the 'Chemical' pie piece by offsetting it a greater amount\n",
    "explode = (0.1, 0.1, 0.1, 0.4)  \n",
    "fig, ax = plt.subplots()\n",
    "ax.pie(sizes,\n",
    "       explode=explode,\n",
    "       labels=labels,\n",
    "       autopct='%1.1f%%',\n",
    "       shadow=True,\n",
    "       startangle=90)\n",
    "ax.axis('equal')  # Equal aspect ratio ensures the pie chart is circular.\n",
    "ax.set_title('Engineering Diciplines')\n",
    "\n",
    "plt.show()"
   ]
  },
  {
   "cell_type": "code",
   "execution_count": null,
   "id": "cd535ab1",
   "metadata": {},
   "outputs": [],
   "source": []
  }
 ],
 "metadata": {
  "jupytext": {
   "text_representation": {
    "extension": ".md",
    "format_name": "myst",
    "format_version": "0.9",
    "jupytext_version": "1.5.0"
   }
  },
  "kernelspec": {
   "display_name": "Python 3",
   "language": "python",
   "name": "python3"
  },
  "language_info": {
   "codemirror_mode": {
    "name": "ipython",
    "version": 3
   },
   "file_extension": ".py",
   "mimetype": "text/x-python",
   "name": "python",
   "nbconvert_exporter": "python",
   "pygments_lexer": "ipython3",
   "version": "3.8.10"
  },
  "source_map": [
   12,
   16,
   20,
   24,
   28,
   33,
   39,
   53,
   57,
   62,
   66,
   71,
   79,
   94,
   98,
   117,
   133,
   139,
   164
  ]
 },
 "nbformat": 4,
 "nbformat_minor": 5
}