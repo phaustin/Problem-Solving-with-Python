{
 "cells": [
  {
   "cell_type": "markdown",
   "id": "c3275645",
   "metadata": {},
   "source": [
    "# Plotting with Matplotlib"
   ]
  },
  {
   "cell_type": "markdown",
   "id": "094d9806",
   "metadata": {},
   "source": [
    "## Introduction"
   ]
  },
  {
   "cell_type": "markdown",
   "id": "ca80e1a9",
   "metadata": {
    "latex": {
     "after_cell": "newpage"
    }
   },
   "source": [
    "By the end of this chapter you will be able to:\n",
    "\n",
    " * Import Matplotlib into a Python script or Jupyter notebook\n",
    "\n",
    " * Construct line plots with Matplotlib\n",
    "\n",
    " * Use Matplotlib's object-oriented interface\n",
    "\n",
    " * Construct bar charts and pie charts with Matplotlib\n",
    "\n",
    " * Add error bars to bar charts and line plots\n",
    "\n",
    " * Plot histograms\n",
    " \n",
    " * Make box plots and violin plots\n",
    "\n",
    " * Plot contours\n",
    " \n",
    " * Create quiver plots and stream plots\n",
    "\n",
    " * Construct 3D mesh grid plots"
   ]
  },
  {
   "cell_type": "code",
   "execution_count": null,
   "id": "b7717252",
   "metadata": {},
   "outputs": [],
   "source": []
  }
 ],
 "metadata": {
  "jupytext": {
   "text_representation": {
    "extension": ".md",
    "format_name": "myst",
    "format_version": "0.9",
    "jupytext_version": "1.5.0"
   }
  },
  "kernelspec": {
   "display_name": "Python 3",
   "language": "python",
   "name": "python3"
  },
  "language_info": {
   "codemirror_mode": {
    "name": "ipython",
    "version": 3
   },
   "file_extension": ".py",
   "mimetype": "text/x-python",
   "name": "python",
   "nbconvert_exporter": "python",
   "pygments_lexer": "ipython3",
   "version": "3.8.10"
  },
  "source_map": [
   12,
   16,
   20,
   44
  ]
 },
 "nbformat": 4,
 "nbformat_minor": 5
}