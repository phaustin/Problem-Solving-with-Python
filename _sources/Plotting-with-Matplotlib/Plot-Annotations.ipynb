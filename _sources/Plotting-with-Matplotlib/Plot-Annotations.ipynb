{
 "cells": [
  {
   "cell_type": "markdown",
   "id": "aaf15b28",
   "metadata": {},
   "source": [
    "## Plot annotations"
   ]
  },
  {
   "cell_type": "markdown",
   "id": "cc31c331",
   "metadata": {},
   "source": [
    "Sometimes it is useful for problem solvers to annotate plots. Text can be included on a plot to indicate a point of interest or highlight a specific feature of a plot."
   ]
  },
  {
   "cell_type": "markdown",
   "id": "14dbefac",
   "metadata": {},
   "source": [
    "The code section below builds a simple line plot and applies three annotations (three arrows with text) on the plot. Matplotlib's ```ax.annotate()``` method creates the annotations. Multiple keyword arguments can be passed to ```ax.annotate()``` method to specify the annotation location and style the annotation.\n",
    "\n",
    "```python\n",
    "ax.annotate('text', xy= , xycoodrs= , xytext= , arrowprops= )\n",
    "```\n",
    "\n",
    "The keyword argument to pay attention to in the next code section is ```xycoords= ```. Each of the three annotations in the next figure has a different ```xycoords= ``` keyword argument. The annotation can be located relative to the plot data, located relative to the axis, or located relative to the figure window.\n",
    "\n",
    "In the first annotation, ```xycoords='data'```. This means the annotation is placed relative to the data. Since ```xy=(0, 0)```, the annotation arrow points to the data point ```0,0``` .\n",
    "\n",
    "In the second annotation, ```xycoords='axes fraction'```. This means the second annotation is placed relative to the axis. Since ```xy=(0, 0.5)```, the annotation arrow points all the way to the left edge of the x-axis and half way up the y-axis.\n",
    "\n",
    "In the third annotation, ```xycoords='figure pixels'```. This means the third annotation is placed relative to the figure window. Since ```xy=(20, 75)```, the third annotation arrow points ```20``` pixels to the right and ```75``` pixels up from the bottom left corner of the figure window.\n",
    "\n",
    "The chart below summarizes Matplotlib's ```ax.annotate()``` keyword arguments.\n",
    "\n",
    "| ```ax.annotate()``` keyword | description |\n",
    "| --- | --- |\n",
    "| ```xy = (0,0) ``` | annotation location |\n",
    "| ```xycoords = 'data'``` | annotation location relative to data |\n",
    "| ```xycoords = 'axis fraction'``` | annotation location relative to axis |\n",
    "| ```xycoords = 'figure pixels'``` | annotation location relative to figure window |\n",
    "| ```bbox = <dict>``` | define bounding box properties with a dictionary |\n",
    "| ```arrowprops = <dict>``` | define arrow properties with a dictionary |\n",
    "| ```horizontalalignment='left'``` | horizontal alignment of annotation |\n",
    "| ```verticalalignment='top'``` | vertical alignment of annotation |\n",
    "\n",
    "The next code section builds a figure with three annotation arrows."
   ]
  },
  {
   "cell_type": "code",
   "execution_count": 1,
   "id": "e04ec3c9",
   "metadata": {},
   "outputs": [
    {
     "data": {
      "image/png": "[encoded data removed]",
      "text/plain": [
       "<Figure size 432x288 with 1 Axes>"
      ]
     },
     "metadata": {
      "filenames": {
       "image/png": "/home/phil/repos/Problem-Solving-with-Python/notebooks/_build/jupyter_execute/Plotting-with-Matplotlib/Plot-Annotations_3_0.png"
      },
      "needs_background": "light"
     },
     "output_type": "display_data"
    }
   ],
   "source": [
    "import numpy as np\n",
    "import matplotlib.pyplot as plt\n",
    "# if using a Jupyter notebook, include:\n",
    "%matplotlib inline\n",
    "\n",
    "x = np.arange(-5, 5, 0.01)\n",
    "y = x**2\n",
    "\n",
    "fig, ax = plt.subplots()\n",
    "\n",
    "# Plot a line\n",
    "ax.plot(x, y)\n",
    "\n",
    "# first annotation relative to the data\n",
    "ax.annotate('function minium \\n relative to data',\n",
    "            xy=(0, 0),\n",
    "            xycoords='data',\n",
    "            xytext=(2, 3),\n",
    "            arrowprops=\n",
    "                dict(facecolor='black', shrink=0.05),\n",
    "                horizontalalignment='left',\n",
    "                verticalalignment='top')\n",
    "\n",
    "# second annotation relative to the axis limits\n",
    "bbox_props = dict(boxstyle=\"round,pad=0.5\", fc=\"w\", ec=\"k\", lw=2)\n",
    "\n",
    "ax.annotate('half of range \\n relative to axis limits',\n",
    "            xy=(0, 0.5),\n",
    "            xycoords='axes fraction',\n",
    "            xytext=(0.2, 0.5),\n",
    "            bbox=bbox_props,\n",
    "            arrowprops=\n",
    "                dict(facecolor='black', shrink=0.05),\n",
    "                horizontalalignment='left',\n",
    "                verticalalignment='center')\n",
    "\n",
    "# third annotation relative to the figure window\n",
    "bbox_props = dict(boxstyle=\"larrow,pad=0.5\", fc=\"w\", ec=\"k\", lw=2)\n",
    "\n",
    "ax.annotate('outside the plot \\n relative to figure window',\n",
    "            xy=(20, 75),\n",
    "            xycoords='figure pixels',\n",
    "            horizontalalignment='left',\n",
    "            verticalalignment='top',\n",
    "            bbox=bbox_props)\n",
    "\n",
    "ax.set_xlim(-5,5)\n",
    "ax.set_ylim(-1,10)\n",
    "ax.set_title('Parabolic Function with Text Notation')\n",
    "\n",
    "plt.show()"
   ]
  },
  {
   "cell_type": "code",
   "execution_count": null,
   "id": "0337fc2e",
   "metadata": {},
   "outputs": [],
   "source": []
  }
 ],
 "metadata": {
  "jupytext": {
   "text_representation": {
    "extension": ".md",
    "format_name": "myst",
    "format_version": "0.9",
    "jupytext_version": "1.5.0"
   }
  },
  "kernelspec": {
   "display_name": "Python 3",
   "language": "python",
   "name": "python3"
  },
  "language_info": {
   "codemirror_mode": {
    "name": "ipython",
    "version": 3
   },
   "file_extension": ".py",
   "mimetype": "text/x-python",
   "name": "python",
   "nbconvert_exporter": "python",
   "pygments_lexer": "ipython3",
   "version": "3.8.10"
  },
  "source_map": [
   12,
   16,
   20,
   51,
   105
  ]
 },
 "nbformat": 4,
 "nbformat_minor": 5
}