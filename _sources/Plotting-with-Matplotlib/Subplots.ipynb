{
 "cells": [
  {
   "cell_type": "markdown",
   "id": "24795ecc",
   "metadata": {},
   "source": [
    "## Subplots"
   ]
  },
  {
   "cell_type": "markdown",
   "id": "39ed3c02",
   "metadata": {},
   "source": [
    "Sometimes it is useful for problem solvers to include a couple plots in the same figure window. This can be accomplished using Matplotlib _subplots_. Matplotlib's ```plt.subplot()``` function can include two positional arguments for the number of rows of subplots in the figure and the number of columns of subplots in the figure. The general format is:\n",
    "\n",
    "```python\n",
    "fig, <ax objects> = plt.subplots(rows, cols)\n",
    "```\n",
    "\n",
    "Where ```rows``` and ```cols``` are integers that control the subplot layout. The ```<ax objects>``` needs to have dimensions that correspond to ```rows``` and ```cols```.\n",
    "\n",
    "If a 2 row by 2 column array of plots is created, the ```<ax object>``` must to be arrayed as shown below:\n",
    "\n",
    "```python\n",
    "fig, ( (ax1,ax2), (ax3,ax4) ) = plt.subplots(2,2)   \n",
    "```\n",
    "\n",
    "If a 2 row by 3 column array of plots is created, the ```<ax objects>``` must be arrayed to correspond to these dimensions:\n",
    "\n",
    "```python\n",
    "fig, ( (ax1,ax2,a3), (ax4,ax5,ax6) ) = plt.subplots(2, 3)   \n",
    "```\n",
    "\n",
    "Subplots are useful if you want to show the same data on different scales. The plot of an exponential function looks different on a linear scale compared to a logarithmic scale. Matplotlib contains three plotting methods which scale the x and y-axis linearly or logarithmically. The table below summarizes Matplotlib's axis scaling methods.\n",
    "\n",
    "| Matplotlib method | axis scaling |\n",
    "| --- | --- |\n",
    "| ```ax.plot()``` | linear x, linear y |\n",
    "| ```ax.semilogy()``` | linear x, logarithmic y |\n",
    "| ```ax.semilogx()``` | logarithmic x, linear y |\n",
    "| ```ax.loglog()``` | logarithmic x, logarithmic y |\n",
    "\n",
    "The code section below builds a 2 row by 2 column array of subplots in one figure. The axes of each subplot is scaled in a different way."
   ]
  },
  {
   "cell_type": "code",
   "execution_count": 1,
   "id": "b36c74d9",
   "metadata": {},
   "outputs": [
    {
     "name": "stderr",
     "output_type": "stream",
     "text": [
      "/var/folders/_k/0f_hlw7x2hq4vtcq0h8bvsm40000gr/T/ipykernel_28099/105303017.py:28: MatplotlibDeprecationWarning: The 'basex' parameter of __init__() has been renamed 'base' since Matplotlib 3.3; support for the old name will be dropped two minor releases later.\n",
      "  ax4.loglog(t, 20 * np.exp(-t / 5.0), basex=2)\n"
     ]
    },
    {
     "data": {
      "image/png": "[encoded data removed]",
      "text/plain": [
       "<Figure size 432x288 with 4 Axes>"
      ]
     },
     "metadata": {
      "filenames": {
       "image/png": "/Users/phil/repos/Problem-Solving-with-Python/notebooks/_build/jupyter_execute/Plotting-with-Matplotlib/Subplots_2_1.png"
      },
      "needs_background": "light"
     },
     "output_type": "display_data"
    }
   ],
   "source": [
    "import matplotlib.pyplot as plt\n",
    "import numpy as np\n",
    "# if using a Jupyter notebook, include:\n",
    "%matplotlib inline\n",
    "\n",
    "# Data for plotting\n",
    "t = np.arange(0.01, 20.0, 0.01)\n",
    "\n",
    "# Create a figure with 2 rows and 2 cols of subplots\n",
    "fig, ((ax1, ax2), (ax3, ax4)) = plt.subplots(2, 2)\n",
    "\n",
    "# linear x and y axis\n",
    "ax1.plot(t, np.exp(-t / 5.0))\n",
    "ax1.set_title('linear x and y')\n",
    "ax1.grid()\n",
    "\n",
    "# log y axis\n",
    "ax2.semilogy(t, np.exp(-t / 5.0))\n",
    "ax2.set_title('semilogy')\n",
    "ax2.grid()\n",
    "\n",
    "# log x axis\n",
    "ax3.semilogx(t, np.exp(-t / 5.0))\n",
    "ax3.set_title('semilogx')\n",
    "ax3.grid()\n",
    "\n",
    "# log x and y axis\n",
    "ax4.loglog(t, 20 * np.exp(-t / 5.0), basex=2)\n",
    "ax4.set_title('loglog base 2 on x')\n",
    "ax4.grid()\n",
    "\n",
    "fig.tight_layout()\n",
    "plt.show()"
   ]
  },
  {
   "cell_type": "code",
   "execution_count": null,
   "id": "c9745f8c",
   "metadata": {},
   "outputs": [],
   "source": []
  }
 ],
 "metadata": {
  "jupytext": {
   "text_representation": {
    "extension": ".md",
    "format_name": "myst",
    "format_version": "0.9",
    "jupytext_version": "1.5.0"
   }
  },
  "kernelspec": {
   "display_name": "Python 3",
   "language": "python",
   "name": "python3"
  },
  "language_info": {
   "codemirror_mode": {
    "name": "ipython",
    "version": 3
   },
   "file_extension": ".py",
   "mimetype": "text/x-python",
   "name": "python",
   "nbconvert_exporter": "python",
   "pygments_lexer": "ipython3",
   "version": "3.8.10"
  },
  "source_map": [
   12,
   16,
   49,
   85
  ]
 },
 "nbformat": 4,
 "nbformat_minor": 5
}