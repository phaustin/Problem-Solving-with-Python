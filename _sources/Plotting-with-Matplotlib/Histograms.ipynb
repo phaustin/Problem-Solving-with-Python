{
 "cells": [
  {
   "cell_type": "markdown",
   "id": "41052697",
   "metadata": {},
   "source": [
    "## Histograms"
   ]
  },
  {
   "cell_type": "markdown",
   "id": "caf5a355",
   "metadata": {},
   "source": [
    "Histograms are a useful type of statistics plot for problem solvers. A histogram is a type of bar plot that shows the frequency or number of values compared to a set of value ranges. Matplotlib's ```ax.hist()``` function creates histogram plots."
   ]
  },
  {
   "cell_type": "markdown",
   "id": "227b7527",
   "metadata": {},
   "source": [
    "In this example, we'll use NumPy's ```np.random.normal()``` function to create an array of random numbers with a normal distribution. The three arguments passed to NumPy's ```np.random.normal()``` function are ```mu``` (mean), ```sigma``` (standard deviation) and ```size= ``` (length of the array).\n",
    "\n",
    "Matplotlib's ```ax.hist()``` method is used to build the histogram. The first argument passed to ```ax.hist()``` corresponds to the list or array of values to plot. The second argument corresponds to the number of bins, or number of bars on the histogram. The general format of Matplotlib's ```ax.hist()``` method is below.\n",
    "\n",
    "```python\n",
    "ax.hist(data, num_bins)\n",
    "```\n",
    "\n",
    "In this example, we'll specify ```20``` bins (```20``` bars).\n",
    "\n",
    "The line ```plt.style.use('fivethirtyeight')``` is included to style the plot to look like plots on [fivethirtyeight.com](https://fivethirtyeight.com). Matplotlib styles are addressed in a subsequent section of this chapter.\n",
    "\n",
    "The code section below builds a histogram that contains 20 bins."
   ]
  },
  {
   "cell_type": "code",
   "execution_count": 1,
   "id": "9f56c465",
   "metadata": {},
   "outputs": [
    {
     "data": {
      "image/png": "[encoded data removed]",
      "text/plain": [
       "<Figure size 432x288 with 1 Axes>"
      ]
     },
     "metadata": {
      "filenames": {
       "image/png": "/home/phil/repos/Problem-Solving-with-Python/notebooks/_build/jupyter_execute/Plotting-with-Matplotlib/Histograms_3_0.png"
      }
     },
     "output_type": "display_data"
    }
   ],
   "source": [
    "import numpy as np\n",
    "import matplotlib.pyplot as plt\n",
    "# if using a Jupyter notebook, include:\n",
    "%matplotlib inline\n",
    "plt.style.use('fivethirtyeight')\n",
    "\n",
    "mu = 80\n",
    "sigma = 7\n",
    "x = np.random.normal(mu, sigma, size=200)\n",
    "\n",
    "fig, ax = plt.subplots()\n",
    "\n",
    "ax.hist(x, 20)\n",
    "ax.set_title('Historgram')\n",
    "ax.set_xlabel('bin range')\n",
    "ax.set_ylabel('frequency')\n",
    "\n",
    "fig.tight_layout()\n",
    "plt.show()"
   ]
  },
  {
   "cell_type": "markdown",
   "id": "4a971bda",
   "metadata": {},
   "source": [
    "The resulting histogram has 20 bars and shows a roughly normal distribution."
   ]
  },
  {
   "cell_type": "code",
   "execution_count": null,
   "id": "ee0189a4",
   "metadata": {},
   "outputs": [],
   "source": []
  }
 ],
 "metadata": {
  "jupytext": {
   "text_representation": {
    "extension": ".md",
    "format_name": "myst",
    "format_version": "0.9",
    "jupytext_version": "1.5.0"
   }
  },
  "kernelspec": {
   "display_name": "Python 3",
   "language": "python",
   "name": "python3"
  },
  "language_info": {
   "codemirror_mode": {
    "name": "ipython",
    "version": 3
   },
   "file_extension": ".py",
   "mimetype": "text/x-python",
   "name": "python",
   "nbconvert_exporter": "python",
   "pygments_lexer": "ipython3",
   "version": "3.8.10"
  },
  "source_map": [
   12,
   16,
   20,
   36,
   56,
   60
  ]
 },
 "nbformat": 4,
 "nbformat_minor": 5
}