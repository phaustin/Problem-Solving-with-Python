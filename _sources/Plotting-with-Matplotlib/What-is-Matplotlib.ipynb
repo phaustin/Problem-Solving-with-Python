{
 "cells": [
  {
   "cell_type": "markdown",
   "id": "a236d4ad",
   "metadata": {},
   "source": [
    "## What is Matplotlib?"
   ]
  },
  {
   "cell_type": "markdown",
   "id": "394046aa",
   "metadata": {},
   "source": [
    "Matplotlib is a popular Python package used to build plots. Matplotlib started as a project in the early 2000's partly to use Python to visualize the electronic signals in the brain of epilepsy patients. Matplotlib's creator, John D. Hunter, was a neurobiologist. He was looking for a way to replicate MATLAB's plotting capability with Python. In addition to starting Matplotlib, Dr. Hunter was part of the founding group that created Numfocus. The Numfocus group oversees some major Python projects including Matplotlib, NumPy, Pandas, and Jupyter."
   ]
  },
  {
   "cell_type": "markdown",
   "id": "adec6908",
   "metadata": {},
   "source": [
    "### Why use Matplotlib?"
   ]
  },
  {
   "cell_type": "markdown",
   "id": "070c5004",
   "metadata": {},
   "source": [
    "Matplotlib is useful for creating static 2D plots, the kind of plots included in scientific publications and presentations. Almost any plot created in Microsoft Excel can be created with Matplotlib. Matplotlib can also be used to make 3D plots and animations."
   ]
  },
  {
   "cell_type": "code",
   "execution_count": null,
   "id": "0880b0d2",
   "metadata": {},
   "outputs": [],
   "source": []
  }
 ],
 "metadata": {
  "jupytext": {
   "text_representation": {
    "extension": ".md",
    "format_name": "myst",
    "format_version": "0.9",
    "jupytext_version": "1.5.0"
   }
  },
  "kernelspec": {
   "display_name": "Python 3",
   "language": "python",
   "name": "python3"
  },
  "language_info": {
   "codemirror_mode": {
    "name": "ipython",
    "version": 3
   },
   "file_extension": ".py",
   "mimetype": "text/x-python",
   "name": "python",
   "nbconvert_exporter": "python",
   "pygments_lexer": "ipython3",
   "version": "3.8.10"
  },
  "source_map": [
   12,
   16,
   20,
   24,
   28
  ]
 },
 "nbformat": 4,
 "nbformat_minor": 5
}