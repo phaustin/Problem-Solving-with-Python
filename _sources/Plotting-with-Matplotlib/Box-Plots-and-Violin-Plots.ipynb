{
 "cells": [
  {
   "cell_type": "markdown",
   "id": "6b29d210",
   "metadata": {},
   "source": [
    "## Box Plots and Violin Plots"
   ]
  },
  {
   "cell_type": "markdown",
   "id": "de19d10f",
   "metadata": {},
   "source": [
    "In addition to histograms, a couple other useful statistical plots are box plots and violin plots."
   ]
  },
  {
   "cell_type": "markdown",
   "id": "54416663",
   "metadata": {},
   "source": [
    "### Box Plots"
   ]
  },
  {
   "cell_type": "markdown",
   "id": "3a5f53c9",
   "metadata": {},
   "source": [
    "To create a box plot with Matplotlib, the ```ax.boxplot()``` method is used. The general syntax is:\n",
    "\n",
    "```python\n",
    "ax.boxplot(data)\n",
    "```\n",
    "\n",
    "The ```data``` passed to the ```ax.boxplot()``` method can be a Python list or NumPy array. To create multiple box plots side by side, pass in a list of lists or a 2D NumPy array.\n",
    "\n",
    "The code section below creates a box plot with four elements."
   ]
  },
  {
   "cell_type": "code",
   "execution_count": 1,
   "id": "3123ea3f",
   "metadata": {},
   "outputs": [
    {
     "data": {
      "image/png": "[encoded data removed]",
      "text/plain": [
       "<Figure size 432x288 with 1 Axes>"
      ]
     },
     "metadata": {
      "filenames": {
       "image/png": "/Users/phil/repos/Problem-Solving-with-Python/notebooks/_build/jupyter_execute/Plotting-with-Matplotlib/Box-Plots-and-Violin-Plots_4_0.png"
      },
      "needs_background": "light"
     },
     "output_type": "display_data"
    }
   ],
   "source": [
    "import numpy as np\n",
    "import matplotlib.pyplot as plt\n",
    "# if using a Jupyter notebook, include:\n",
    "%matplotlib inline\n",
    "\n",
    "# generate some random data\n",
    "data1 = np.random.normal(0, 6, 100)\n",
    "data2 = np.random.normal(0, 7, 100)\n",
    "data3 = np.random.normal(0, 8, 100)\n",
    "data4 = np.random.normal(0, 9, 100)\n",
    "data = list([data1, data2, data3, data4])\n",
    "\n",
    "fig, ax = plt.subplots()\n",
    "\n",
    "# build a box plot\n",
    "ax.boxplot(data)\n",
    "\n",
    "# title and axis labels\n",
    "ax.set_title('box plot')\n",
    "ax.set_xlabel('x-axis')\n",
    "ax.set_ylabel('y-axis')\n",
    "xticklabels=['category 1', 'category 2', 'category 3', 'category 4']\n",
    "ax.set_xticklabels(xticklabels)\n",
    "\n",
    "# add horizontal grid lines\n",
    "ax.yaxis.grid(True)\n",
    "\n",
    "# show the plot\n",
    "plt.show()"
   ]
  },
  {
   "cell_type": "markdown",
   "id": "e9445529",
   "metadata": {},
   "source": [
    "### Violin Plots"
   ]
  },
  {
   "cell_type": "markdown",
   "id": "f1d67786",
   "metadata": {},
   "source": [
    "Violin plots are another type of statistical plot. A violin plot is similar to a box plot, but a violin plot shows some additional information. The sides of the \"violins\" in a violin plot corresponds to a kernel density estimation (kind of like a histogram) flipped vertically.\n",
    "\n",
    "To create a violin plot with Matplotlib, use the ```ax.violinplot()``` method. The general syntax is:\n",
    "\n",
    "```python\n",
    "ax.violinplot(data)\n",
    "```\n",
    "\n",
    "A couple of extra keyword arguments that can be included are ```showmeans= ``` and ```showmedians= ```.\n",
    "\n",
    "```python\n",
    "ax.violinplot(data, showmeans=True, showmedians=False)\n",
    "```\n",
    "\n",
    "The following code section builds a violin plot with 4 \"violins\" using randomly generated data."
   ]
  },
  {
   "cell_type": "code",
   "execution_count": 2,
   "id": "02870ebd",
   "metadata": {},
   "outputs": [
    {
     "data": {
      "image/png": "[encoded data removed]",
      "text/plain": [
       "<Figure size 432x288 with 1 Axes>"
      ]
     },
     "metadata": {
      "filenames": {
       "image/png": "/Users/phil/repos/Problem-Solving-with-Python/notebooks/_build/jupyter_execute/Plotting-with-Matplotlib/Box-Plots-and-Violin-Plots_7_0.png"
      },
      "needs_background": "light"
     },
     "output_type": "display_data"
    }
   ],
   "source": [
    "import numpy as np\n",
    "import matplotlib.pyplot as plt\n",
    "# if using a Jupyter notebook, include:\n",
    "%matplotlib inline\n",
    "\n",
    "# generate some random data\n",
    "data1 = np.random.normal(0, 6, 100)\n",
    "data2 = np.random.normal(0, 7, 100)\n",
    "data3 = np.random.normal(0, 8, 100)\n",
    "data4 = np.random.normal(0, 9, 100)\n",
    "data = list([data1, data2, data3, data4])\n",
    "\n",
    "fig, ax = plt.subplots()\n",
    "\n",
    "# build a violin plot\n",
    "ax.violinplot(data, showmeans=False, showmedians=True)\n",
    "\n",
    "# add title and axis labels\n",
    "ax.set_title('violin plot')\n",
    "ax.set_xlabel('x-axis')\n",
    "ax.set_ylabel('y-axis')\n",
    "\n",
    "# add x-tick labels\n",
    "xticklabels = ['category 1', 'category 2', 'category 3', 'category 4']\n",
    "ax.set_xticks([1,2,3,4])\n",
    "ax.set_xticklabels(xticklabels)\n",
    "\n",
    "# add horizontal grid lines\n",
    "ax.yaxis.grid(True)\n",
    "\n",
    "# show the plot\n",
    "plt.show()"
   ]
  },
  {
   "cell_type": "code",
   "execution_count": null,
   "id": "a376491a",
   "metadata": {},
   "outputs": [],
   "source": []
  }
 ],
 "metadata": {
  "jupytext": {
   "text_representation": {
    "extension": ".md",
    "format_name": "myst",
    "format_version": "0.9",
    "jupytext_version": "1.5.0"
   }
  },
  "kernelspec": {
   "display_name": "Python 3",
   "language": "python",
   "name": "python3"
  },
  "language_info": {
   "codemirror_mode": {
    "name": "ipython",
    "version": 3
   },
   "file_extension": ".py",
   "mimetype": "text/x-python",
   "name": "python",
   "nbconvert_exporter": "python",
   "pygments_lexer": "ipython3",
   "version": "3.8.10"
  },
  "source_map": [
   12,
   16,
   20,
   24,
   36,
   66,
   70,
   88,
   123
  ]
 },
 "nbformat": 4,
 "nbformat_minor": 5
}