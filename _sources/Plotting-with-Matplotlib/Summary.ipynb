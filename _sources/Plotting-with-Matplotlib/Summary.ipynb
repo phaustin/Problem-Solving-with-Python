{
 "cells": [
  {
   "cell_type": "markdown",
   "id": "fedf1992",
   "metadata": {
    "latex": {
     "before_cell": "newpage"
    }
   },
   "source": [
    "## Summary"
   ]
  },
  {
   "cell_type": "markdown",
   "id": "c18c697a",
   "metadata": {},
   "source": [
    "In this chapter, you learned how to create plots using Python and Matplotlib. You learned what Matplotlib is and why problem solvers should learn how to use Matplotlib. Matplotlib installation was shown at the start of the chapter. Then, you learned how to build line plots and save plots as image files. You learned how to customize plots by including axis label, titles, and legends on your plots. You also learned how to add annotations to plots.\n",
    "\n",
    "The types of plots detailed in this chapter are shown in the table below.\n",
    "\n",
    "| Chart Type | Matplotlib method |\n",
    "| --- | --- |\n",
    "| line plot | ```ax.plot(x,y)``` |\n",
    "| multi-line plot | ```ax.plot(x,y) ax.plot(x,z)``` |\n",
    "| bar graph | ```ax.bar(x_pos, heights)``` |\n",
    "| pie chart | ```ax.pie(sizes, labels=[labels])``` |\n",
    "| bar graphs with error bars | ```ax.bar(x_pos, heights, yerr=[error])``` |\n",
    "| line plot with error bars | ```ax.errorbar(x, y, xerr= , yerr= )``` |\n",
    "| histogram | ```ax.hist(data, n_bins)``` |\n",
    "| box plot | ```ax.boxplot([data list])``` |\n",
    "| violin plot | ```ax.violinplot([data list])``` |\n",
    "| scatter plot | ```ax.scatter(x_points, y_points)``` |\n",
    "| plot annotations | ```ax.annotate('text',xy=loc,xy_coords= )``` |\n",
    "| subplots | ```fig, (ax1,ax2,ax3) = plt.subplots(1,3)``` |\n",
    "| plot styles | ```plt.style.use('style')``` |\n",
    "| 2D contour plot | ```ax.contour(X, Y, Z)``` |\n",
    "| 2D filled contour plot | ```ax.contourf(X, Y, Z)``` |\n",
    "| color bars | ```fig.colorbar(cf, ax=ax)``` |\n",
    "| color maps | ```mycmap = plt.get_cmap('map')``` |\n",
    "| quiver plot | ```ax.quiver(x_pos, y_pos, x_dir, y_dir)``` |\n",
    "| stream plot | ```ax.streamplot(x,y,x_d,y_d, density= )``` |\n",
    "| 3D surface plot | ```ax.plot_surface(X, Y, Z)``` |\n",
    "| 3D wireframe plot | ```ax.plot_wireframe(X,Y,Z)``` |"
   ]
  },
  {
   "cell_type": "markdown",
   "id": "349239af",
   "metadata": {},
   "source": [
    "### Key Terms and Concepts"
   ]
  },
  {
   "cell_type": "markdown",
   "id": "e8362ded",
   "metadata": {
    "latex": {
     "environment": "key_terms"
    }
   },
   "source": [
    "plot\n",
    "\n",
    "dpi\n",
    "\n",
    "invoke\n",
    "\n",
    "library\n",
    "\n",
    "parameters\n",
    "\n",
    "RGBA\n",
    "\n",
    "object\n",
    "\n",
    "attribute\n",
    "\n",
    "object-oriented programming\n",
    "\n",
    "method\n",
    "\n",
    "image resolution\n",
    "\n",
    "error bars\n",
    "\n",
    "box plot\n",
    "\n",
    "violin plot\n",
    "\n",
    "histogram\n",
    "\n",
    "annotation\n",
    "\n",
    "reference frame\n",
    "\n",
    "contour plot\n",
    "\n",
    "quiver plot\n",
    "\n",
    "stream plot\n",
    "\n",
    "gradient\n",
    "\n",
    "field\n",
    "\n",
    "wire frame plot\n",
    "\n",
    "projection"
   ]
  },
  {
   "cell_type": "markdown",
   "id": "4c5c1ba9",
   "metadata": {},
   "source": [
    "### Additional Resources"
   ]
  },
  {
   "cell_type": "markdown",
   "id": "b4ca0af1",
   "metadata": {},
   "source": [
    "Matplotlib official documentation: [https://matplotlib.org/contents.html](https://matplotlib.org/contents.html)\n",
    "\n",
    "Matplotlib summary notebook on Kaggle: [https://www.kaggle.com/grroverpr/matplotlib-plotting-guide/notebook](https://www.kaggle.com/grroverpr/matplotlib-plotting-guide/notebook)\n",
    "\n",
    "Python Plotting With Matplotlib (Guide) on Real Python: [https://realpython.com/python-matplotlib-guide/#why-can-matplotlib-be-confusing](https://realpython.com/python-matplotlib-guide/#why-can-matplotlib-be-confusing)\n",
    "\n",
    "Python For Data Science: Matplotlib Cheat Sheet from DataCamp: [https://s3.amazonaws.com/assets.datacamp.com/blog_assets/Python_Matplotlib_Cheat_Sheet.pdf](https://s3.amazonaws.com/assets.datacamp.com/blog_assets/Python_Matplotlib_Cheat_Sheet.pdf)"
   ]
  },
  {
   "cell_type": "code",
   "execution_count": null,
   "id": "e6baaf41",
   "metadata": {},
   "outputs": [],
   "source": []
  }
 ],
 "metadata": {
  "jupytext": {
   "text_representation": {
    "extension": ".md",
    "format_name": "myst",
    "format_version": "0.9",
    "jupytext_version": "1.5.0"
   }
  },
  "kernelspec": {
   "display_name": "Python 3",
   "language": "python",
   "name": "python3"
  },
  "language_info": {
   "codemirror_mode": {
    "name": "ipython",
    "version": 3
   },
   "file_extension": ".py",
   "mimetype": "text/x-python",
   "name": "python",
   "nbconvert_exporter": "python",
   "pygments_lexer": "ipython3",
   "version": "3.8.0"
  },
  "source_map": [
   14,
   18,
   48,
   52,
   102,
   106,
   116
  ]
 },
 "nbformat": 4,
 "nbformat_minor": 5
}