{
 "cells": [
  {
   "cell_type": "markdown",
   "id": "978d1657",
   "metadata": {},
   "source": [
    "# MicroPython"
   ]
  },
  {
   "cell_type": "markdown",
   "id": "8a9f51d3",
   "metadata": {},
   "source": [
    "## Introduction"
   ]
  },
  {
   "cell_type": "markdown",
   "id": "b3c4f51e",
   "metadata": {
    "latex": {
     "after_cell": "newpage"
    }
   },
   "source": [
    "By the end of this chapter you will be able to:\n",
    "\n",
    " * Install MicroPython on a microcontroller\n",
    " \n",
    " * Run Python commands on a microcontroller using the MicroPython REPL\n",
    " \n",
    " * Save module files and run Python scripts on a microcontroller\n",
    " \n",
    " * Use MicroPython to read data off a sensor\n",
    " \n",
    " * Use MicroPython to switch on and off a light"
   ]
  },
  {
   "cell_type": "code",
   "execution_count": null,
   "id": "afcba525",
   "metadata": {},
   "outputs": [],
   "source": []
  }
 ],
 "metadata": {
  "jupytext": {
   "text_representation": {
    "extension": ".md",
    "format_name": "myst",
    "format_version": "0.9",
    "jupytext_version": "1.5.0"
   }
  },
  "kernelspec": {
   "display_name": "Python 3",
   "language": "python",
   "name": "python3"
  },
  "language_info": {
   "codemirror_mode": {
    "name": "ipython",
    "version": 3
   },
   "file_extension": ".py",
   "mimetype": "text/x-python",
   "name": "python",
   "nbconvert_exporter": "python",
   "pygments_lexer": "ipython3",
   "version": "3.8.0"
  },
  "source_map": [
   12,
   16,
   20,
   34
  ]
 },
 "nbformat": 4,
 "nbformat_minor": 5
}