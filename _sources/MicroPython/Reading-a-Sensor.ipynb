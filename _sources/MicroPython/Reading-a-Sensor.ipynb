{
 "cells": [
  {
   "cell_type": "markdown",
   "id": "ffbb5c2d",
   "metadata": {},
   "source": [
    "## Reading a Sensor"
   ]
  },
  {
   "cell_type": "markdown",
   "id": "dd6fc02a",
   "metadata": {},
   "source": [
    "In this section, you will learn how to connect a temperature sensor to an ESP8266-based microcontroller and use the MicroPython REPL to read the temperature. This section includes specifics for the Adafruit Feather Huzzah ESP8266 microcontroller and the [MCP9808 temperature sensor](https://www.adafruit.com/product/1782). Other ESP8266-based microcontrollers and temperature sensors could be used instead, but the specifics of the procedure may be different from what's shown in this section.\n",
    "\n",
    "Before you can use MicroPython to read a temperature sensor, MicroPython needs to be installed on the board, and PuTTY needs to be installed on your computer (on MacOS and Linux, use a terminal and  ```screen```) to communicate with the board over serial."
   ]
  },
  {
   "cell_type": "markdown",
   "id": "e1a7d2cc",
   "metadata": {},
   "source": [
    "### Summary of Steps"
   ]
  },
  {
   "cell_type": "markdown",
   "id": "4c33486b",
   "metadata": {},
   "source": [
    "1. Connect the MCP9808 temperature sensor to the Adafruit Feather Huzzah ESP8266 microcontroller\n",
    "2. Connect the Adafruit Feather Huzzah ESP8266 microcontroller to the computer with a USB cable and bring up the MicroPython REPL with PuTTY\n",
    "3. Run code at the MicroPython REPL to measure the temperature"
   ]
  },
  {
   "cell_type": "markdown",
   "id": "ae4ef2cf",
   "metadata": {},
   "source": [
    "### Connect the MCP9808 temperature sensor to the Adafruit Feather Huzzah ESP8266 microcontroller"
   ]
  },
  {
   "cell_type": "markdown",
   "id": "bf1a3e86",
   "metadata": {},
   "source": [
    "Connect the [MCP9808 temperature sensor](https://www.adafruit.com/product/1782) breakout board to the Adafruit Feather Huzzah ESP8266 microcontroller with jumper wires. There are four connections: A 3V power line from the Feather Huzzah to the MCP9808 Vdd pin, GND connected between both boards, and the I2C data and clock lines connected between the two boards. On the Feather Huzzah ESP8266, the I2C data line is SDA (pin 4) and the I2C clock line is SCL (pin 5). These pins on the microcontroller connect with the MPC9808 I2C data line SDA and the MPC9808 I2C clock line SCL. Unlike serial communication where RX connects to TX, in I2C communication SDA connects to SDA and SCL connects to SCL.\n",
    "\n",
    "| Feather Huzzah | wire | MCP9808 |\n",
    "| --- | --- | --- |\n",
    "| 3V | red | Vdd |\n",
    "| GND | black | GND |\n",
    "| SDA (pin 4)| green | SDA |\n",
    "| SCL (pin 5)| yellow | SCL |\n",
    "\n",
    "![MCP9808 temperature sensor connected to an Adafruit Feather Huzzah ESP8266](images/feather_huzzah_temp_sensor_fritzing.png)"
   ]
  },
  {
   "cell_type": "markdown",
   "id": "1c2322c4",
   "metadata": {},
   "source": [
    "### Connect the Adafruit Feather Huzzah ESP8266 microcontroller to the computer with a USB cable and bring up the MicroPython REPL with PuTTY"
   ]
  },
  {
   "cell_type": "markdown",
   "id": "9f32ace9",
   "metadata": {},
   "source": [
    "Connect the Adafruit Feather Huzzah ESP8266 to the computer with a microUSB cable. Ensure the cable is a USB data cable, not just a power cable. Open PuTTY and connect to the Feather Huzzah using the proper serial port (COM#) and 115200 baud. (Remember to use the **Serial** radio button under **Connection Type:**)\n",
    "\n",
    "![PuTTY in the Windows 10 Start Menu](images/putty_in_start_menu.png)\n",
    "\n",
    "![PuTTY Configuration](images/putty_config.PNG)\n",
    "\n",
    "Clicking [Open] will bring up the MicroPython REPL prompt ```>>>```. If you can't see the ```>>>``` prompt, try typing [Enter] or [Ctrl]+[D] or push the RESET button on the Feather Huzzah. If none of these methods work, try closing PuTTY and unplugging then replugging in the USB cable then reopen PuTTY."
   ]
  },
  {
   "cell_type": "markdown",
   "id": "a463b046",
   "metadata": {},
   "source": [
    "### Run code at the MicroPython REPL to measure the temperature"
   ]
  },
  {
   "cell_type": "markdown",
   "id": "45ffddc2",
   "metadata": {},
   "source": [
    "At the MicroPython REPL, import the ```machine``` module and then create an instance of the ```machine.I2C``` class. Set the ```scl``` and ```sda``` parameters as ```scl=machine.Pin(5)``` and ```sda=machine.Pin(4)```.  Next, create an empty ```bytearray``` to store the data coming in from the MCP9808 temperature sensor. As strings in Micropython are UTF-8 encoded by default (like in Python 3), a _bytearray_ needs to be used to read the raw output from the MCP9808 chip registers. The command ```i2c.readfrom_mem_into()``` reads the data from the sensor and saves it to the ```byte_data``` variable. The arguments inside the ```i2c.readfrom_mem_into()``` method ```24``` and ```5``` correspond to the I2C memory address and registry address of the temperature data stored in the MCP9808 temperature sensor.   \n",
    "\n",
    "```text\n",
    ">>> import machine\n",
    ">>> i2c = machine.I2C(scl=machine.Pin(5), sda=machine.Pin(4))\n",
    ">>> byte_data = bytearray(2)\n",
    ">>> i2c.readfrom_mem_into(24, 5, byte_data)\n",
    ">>> value = byte_data[0] << 8 | byte_data[1]\n",
    ">>> temp = (value & 0xFFF) / 16.0\n",
    ">>> if value & 0x1000:\n",
    "...     temp -= 256.0\n",
    ".....   print(temp)\n",
    "```"
   ]
  },
  {
   "cell_type": "code",
   "execution_count": null,
   "id": "b5cffe9c",
   "metadata": {},
   "outputs": [],
   "source": []
  }
 ],
 "metadata": {
  "jupytext": {
   "text_representation": {
    "extension": ".md",
    "format_name": "myst",
    "format_version": "0.9",
    "jupytext_version": "1.5.0"
   }
  },
  "kernelspec": {
   "display_name": "Python 3",
   "language": "python",
   "name": "python3"
  },
  "language_info": {
   "codemirror_mode": {
    "name": "ipython",
    "version": 3
   },
   "file_extension": ".py",
   "mimetype": "text/x-python",
   "name": "python",
   "nbconvert_exporter": "python",
   "pygments_lexer": "ipython3",
   "version": "3.8.10"
  },
  "source_map": [
   12,
   16,
   22,
   26,
   32,
   36,
   49,
   53,
   63,
   67,
   83
  ]
 },
 "nbformat": 4,
 "nbformat_minor": 5
}