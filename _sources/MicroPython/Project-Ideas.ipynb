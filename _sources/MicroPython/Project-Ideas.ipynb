{
 "cells": [
  {
   "cell_type": "markdown",
   "id": "8ae8251c",
   "metadata": {},
   "source": [
    "## Project Ideas"
   ]
  },
  {
   "cell_type": "markdown",
   "id": "f6bde9b8",
   "metadata": {
    "latex": {
     "environment": "problems"
    }
   },
   "source": [
    "P12.01 Use MicroPython and a microcontroller to read a potentiometer and print the results to the screen of a computer.\n",
    "\n",
    "P12.02 Use MicroPython, a microcontroller, and a light sensor to measure light level. Light up different numbers of LED's based on the measured light level.\n",
    "\n",
    "P12.03 Use MicroPython and a microcontroller to read a potentiometer and print the results to the screen of a computer.\n",
    "\n",
    "P12.04 Use MicroPython to turn on and off an LED based on a value stored on an IoT cloud server, like io.adafruit.com.\n",
    "\n",
    "P12.05 Use MicorPython and a temperature sensor connected to a microcontroller to measure the temperature and send the temperature to a computer running Python and PySerial. Use Matplotlib on the computer to plot the temperature.\n",
    "\n",
    "P12.06 Use MicroPython and uRequests package to send temperature sensor measurements up to an IoT cloud server, like io.adafruit.com."
   ]
  },
  {
   "cell_type": "code",
   "execution_count": null,
   "id": "42f7c48f",
   "metadata": {},
   "outputs": [],
   "source": []
  }
 ],
 "metadata": {
  "jupytext": {
   "text_representation": {
    "extension": ".md",
    "format_name": "myst",
    "format_version": "0.9",
    "jupytext_version": "1.5.0"
   }
  },
  "kernelspec": {
   "display_name": "Python 3",
   "language": "python",
   "name": "python3"
  },
  "language_info": {
   "codemirror_mode": {
    "name": "ipython",
    "version": 3
   },
   "file_extension": ".py",
   "mimetype": "text/x-python",
   "name": "python",
   "nbconvert_exporter": "python",
   "pygments_lexer": "ipython3",
   "version": "3.8.10"
  },
  "source_map": [
   12,
   16,
   30
  ]
 },
 "nbformat": 4,
 "nbformat_minor": 5
}