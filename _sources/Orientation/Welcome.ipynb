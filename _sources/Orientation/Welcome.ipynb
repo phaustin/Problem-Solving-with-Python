{
 "cells": [
  {
   "cell_type": "markdown",
   "id": "ac386c0c",
   "metadata": {},
   "source": [
    "# Orientation"
   ]
  },
  {
   "cell_type": "markdown",
   "id": "94965da1",
   "metadata": {},
   "source": [
    "## Introduction"
   ]
  },
  {
   "cell_type": "markdown",
   "id": "59af4963",
   "metadata": {},
   "source": [
    "Welcome to the world of problem solving with Python! This first Orientation chapter will help you get started by guiding you through the process of installing Python on your computer."
   ]
  },
  {
   "cell_type": "markdown",
   "id": "796da8f8",
   "metadata": {
    "latex": {
     "after_cell": "newpage"
    }
   },
   "source": [
    "By the end of this chapter, you will be able to:\n",
    "\n",
    " * Describe why Python is a useful computer language for problem solvers\n",
    " \n",
    " * Describe applications where Python is used\n",
    " \n",
    " * Detail advantages of Python over other programming languages\n",
    " \n",
    " * Know the cost of Python\n",
    " \n",
    " * Know the difference between Python and Anaconda\n",
    " \n",
    " * Install Python on your computer\n",
    " \n",
    " * Install Anaconda on your computer"
   ]
  },
  {
   "cell_type": "code",
   "execution_count": null,
   "id": "6a7512d5",
   "metadata": {},
   "outputs": [],
   "source": []
  }
 ],
 "metadata": {
  "jupytext": {
   "text_representation": {
    "extension": ".md",
    "format_name": "myst",
    "format_version": "0.9",
    "jupytext_version": "1.5.0"
   }
  },
  "kernelspec": {
   "display_name": "Python 3",
   "language": "python",
   "name": "python3"
  },
  "language_info": {
   "codemirror_mode": {
    "name": "ipython",
    "version": 3
   },
   "file_extension": ".py",
   "mimetype": "text/x-python",
   "name": "python",
   "nbconvert_exporter": "python",
   "pygments_lexer": "ipython3",
   "version": "3.8.10"
  },
  "source_map": [
   12,
   16,
   20,
   24,
   42
  ]
 },
 "nbformat": 4,
 "nbformat_minor": 5
}