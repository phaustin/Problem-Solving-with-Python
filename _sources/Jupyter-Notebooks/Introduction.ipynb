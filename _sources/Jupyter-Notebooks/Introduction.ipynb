{
 "cells": [
  {
   "cell_type": "markdown",
   "id": "3ac45b0d",
   "metadata": {},
   "source": [
    "# Jupyter Notebooks"
   ]
  },
  {
   "cell_type": "markdown",
   "id": "a47112ec",
   "metadata": {},
   "source": [
    "## Introduction"
   ]
  },
  {
   "cell_type": "markdown",
   "id": "da4704ea",
   "metadata": {
    "latex": {
     "after_cell": "newpage"
    }
   },
   "source": [
    "In this chapter, you will be introduced to Jupyter notebooks. A Jupyter notebook is an application that can run Python code, display plots, show equations and contain formatted text.  Jupyter notebooks are a great tool for problem solvers to write, run, document and share Python code with others.\n",
    "\n",
    "By the end of this chapter you will be able to:\n",
    "\n",
    " * Explain what a Jupyter notebook is\n",
    "\n",
    " * Open a Jupyter notebook\n",
    "    \n",
    " * Write Python code in a Jupyter notebook\n",
    "\n",
    " * Run Python code in a Jupyter notebook\n",
    " \n",
    " * Write and render markdown text in a Jupyter notebook\n",
    "    \n",
    " * Save and close a Jupyter notebook\n",
    " \n",
    " * Download Jupyter notebooks in different file formats"
   ]
  },
  {
   "cell_type": "code",
   "execution_count": null,
   "id": "0478c797",
   "metadata": {},
   "outputs": [],
   "source": []
  }
 ],
 "metadata": {
  "jupytext": {
   "text_representation": {
    "extension": ".md",
    "format_name": "myst",
    "format_version": "0.9",
    "jupytext_version": "1.5.0"
   }
  },
  "kernelspec": {
   "display_name": "Python 3",
   "language": "python",
   "name": "python3"
  },
  "language_info": {
   "codemirror_mode": {
    "name": "ipython",
    "version": 3
   },
   "file_extension": ".py",
   "mimetype": "text/x-python",
   "name": "python",
   "nbconvert_exporter": "python",
   "pygments_lexer": "ipython3",
   "version": "3.8.10"
  },
  "source_map": [
   12,
   16,
   20,
   41
  ]
 },
 "nbformat": 4,
 "nbformat_minor": 5
}