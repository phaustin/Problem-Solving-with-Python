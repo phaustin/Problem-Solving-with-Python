{
 "cells": [
  {
   "cell_type": "markdown",
   "id": "84be77ec",
   "metadata": {},
   "source": [
    "## Opening a Jupyter Notebook"
   ]
  },
  {
   "cell_type": "markdown",
   "id": "74c682ed",
   "metadata": {},
   "source": [
    "In this section, you will learn how to open a Jupyter notebook on Windows and MacOS.\n",
    "\n",
    "One way problem solvers can write and execute Python code is in Jupyter notebooks. Jupyter notebooks contain Python code, the output that code produces and markdown cells usually used to explain what the code means.\n",
    "\n",
    "On Windows, a Jupyter notebook can be started from the **Anaconda Prompt**, the Windows start menu and **Anaconda Navigator**.\n",
    "\n",
    "#### 3 ways to open a **Jupyter notebook**:\n",
    "\n",
    " * Windows Start Menu\n",
    "\n",
    " * **Anaconda Prompt**\n",
    "\n",
    " * Anaconda Navigator"
   ]
  },
  {
   "cell_type": "markdown",
   "id": "2475e1a3",
   "metadata": {},
   "source": [
    "### Open a Jupyter notebook with the Windows Start Menu"
   ]
  },
  {
   "cell_type": "markdown",
   "id": "ccf9502b",
   "metadata": {},
   "source": [
    "One way to open a Jupyter notebook is to use the Windows Start Menu. Note that the Anaconda distribution of Python must be installed to use the Windows Start Menu to open a Jupyter notebook. Download **Anaconda** at the following link: [Anaconda.com/distribution](https://www.anaconda.com/distribution/)\n",
    "\n",
    "Open the Windows start menu and select **[Anaconda3(64 bit)]** --> **[Jupyter Notebook]**\n",
    "\n",
    "![Windows 10 Start Menu showing the Jupyter Notebook application](images/windows_start_jupyter_notebook.png)\n",
    "\n",
    "This action opens the **Jupyter file browser** in a web browser tab. \n",
    "\n",
    "In the upper right select **[New]** --> **[Python 3]**\n",
    "\n",
    "![Jupyter notebook file browser. Note a new Python 3 notebook is selected](images/new_notebook_from_browser.png)\n",
    "\n",
    "A new **notebook** will open as a new tab in your web browser.\n",
    "\n",
    "![A newly opened Jupyter notebook](images/new_notebook.png)\n",
    "\n",
    "Try typing the code below in the first cell in the notebook to the right of the ```In [ ]:``` prompt:\n",
    "\n",
    "```python\n",
    "import this\n",
    "```\n",
    "\n",
    "Then click the run button in the middle of the menu at the top of the notebook.\n",
    "\n",
    "![A Jupyter notebook running \"import this\". Note the run button is selected](images/run_import_this.png)"
   ]
  },
  {
   "cell_type": "markdown",
   "id": "af08c1d7",
   "metadata": {},
   "source": [
    "### Open a Jupyter Notebook with the Anaconda Prompt"
   ]
  },
  {
   "cell_type": "markdown",
   "id": "5650f4ce",
   "metadata": {},
   "source": [
    "Another method to open a Jupyter notebook is to use the **Anaconda Prompt**.\n",
    "\n",
    "Go to the Windows start menu and select **[Anaconda Prompt]** under **[Anaconda3]**.\n",
    "\n",
    "![Windows 10 Start Menu showing the Anaconda Prompt application](images/anaconda_start_menu.png)\n",
    "\n",
    "If you don't see the **Anaconda Prompt** in the Windows Start Menu, then you need to install the Anaconda distribution of Python. Download **Anaconda** at the following link: [Anaconda.com/distribution](https://www.anaconda.com/distribution/)\n",
    "\n",
    "The **Anaconda Prompt** window should look something like the image below.\n",
    "\n",
    "![The Anaconda Prompt. Note the command jupyter noteooks is entered](images/jupyter_notebook_anaconda_prompt.png)\n",
    "\n",
    "At the **Anaconda Prompt** type:\n",
    "\n",
    "```text\n",
    "> jupyter notebook\n",
    "```\n",
    "\n",
    "This command starts the **Jupyter notebook** server. The output in the **Anaconda Prompt** will look something like the output shown below:\n",
    "\n",
    "\n",
    "```text\n",
    "\n",
    "Copy/paste this URL into your browser when you connect ...\n",
    "\n",
    "    to login with a token:\n",
    "\n",
    "        http://localhost:8888/?token=6bdef677d3503fbb2 ...\n",
    "\n",
    "[I 16:14:12.661 NotebookApp] Accepting one-time-token ...\n",
    "\n",
    "```\n",
    "\n",
    "\n",
    "A web browser should open, and you should be able to see the **Jupyter file browser**. If a web browser doesn't open automatically, you can copy the web address from the **Anaconda Prompt** and paste it into a web browser's address bar.\n",
    "\n",
    "\n",
    "![Jupyter notebook file browser: create new Python 3 notebook](images/new_notebook_from_browser.png)\n",
    "\n",
    "\n",
    "In the upper right select **[New]** --> **[Python 3]**\n",
    "\n",
    "\n",
    "You will see a new tab open in your web browser. This web browser page is a **Jupyter notebook**.\n",
    "\n",
    "![A newly opened Jupyter notebook](images/new_notebook.png)"
   ]
  },
  {
   "cell_type": "markdown",
   "id": "9121aef9",
   "metadata": {},
   "source": [
    "### Open a Jupyter Notebook with Anaconda Navigator"
   ]
  },
  {
   "cell_type": "markdown",
   "id": "9ac43ef3",
   "metadata": {},
   "source": [
    "One additional way to open a Jupyter notebook is to use **Anaconda Navigator**. Anaconda Navigator comes with the Anaconda distribution of Python. Open **Anaconda Navigator** using the Windows start menu and select **[Anaconda3(64-bit)]** --> **[Anaconda Navigator]**.\n",
    "\n",
    "![Windows 10 Start Menu showing the Anaconda Navigator application](images/windows_start_anaconda_navigator.png)\n",
    "\n",
    "An **Anaconda Navigator** window will open. In the middle of the page, in the **Jupyter notebook** tile, click **[Launch]**\n",
    "\n",
    "![Anaconda Navigator- showing how to launch a new Jupyter notebook](images/anaconda_navigator_jupyter_notebook_launch.png)\n",
    "\n",
    "A **Jupyter file browser** will open in a web browser tab. \n",
    "\n",
    "In the upper right select **[New]** --> **[Python 3]**\n",
    "\n",
    "![Jupyter notebook file browser - create new Python 3 notebook](images/new_notebook_from_browser.png)\n",
    "\n",
    "A new notebook will open as a new tab in your web browser.\n",
    "\n",
    "![A newly opened Jupyter notebook showing a blank code cell](images/new_notebook.png)"
   ]
  },
  {
   "cell_type": "code",
   "execution_count": null,
   "id": "83856d4c",
   "metadata": {},
   "outputs": [],
   "source": []
  }
 ],
 "metadata": {
  "jupytext": {
   "text_representation": {
    "extension": ".md",
    "format_name": "myst",
    "format_version": "0.9",
    "jupytext_version": "1.5.0"
   }
  },
  "kernelspec": {
   "display_name": "Python 3",
   "language": "python",
   "name": "python3"
  },
  "language_info": {
   "codemirror_mode": {
    "name": "ipython",
    "version": 3
   },
   "file_extension": ".py",
   "mimetype": "text/x-python",
   "name": "python",
   "nbconvert_exporter": "python",
   "pygments_lexer": "ipython3",
   "version": "3.8.10"
  },
  "source_map": [
   12,
   16,
   32,
   36,
   64,
   68,
   117,
   121,
   141
  ]
 },
 "nbformat": 4,
 "nbformat_minor": 5
}