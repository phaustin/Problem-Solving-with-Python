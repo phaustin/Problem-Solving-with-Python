{
 "cells": [
  {
   "cell_type": "markdown",
   "id": "31c172bc",
   "metadata": {
    "latex": {
     "before_cell": "newpage"
    }
   },
   "source": [
    "## Summary"
   ]
  },
  {
   "cell_type": "markdown",
   "id": "b2c8ee50",
   "metadata": {},
   "source": [
    "In this chapter, you learned about Jupyter notebooks. You learned what a Jupyter notebook is and why Jupyter notebooks are useful for problem solvers. This chapter showed how to install Jupyter notebooks on Windows, MacOS, and Linux.\n",
    "\n",
    "Some specific operations with Jupiter notebooks were introduced:\n",
    "\n",
    " * Open a Jupyter Notebook\n",
    " * Rename a Jupyter Notebook\n",
    " * Write Python code in a Jupyter notebook code cells\n",
    " * Run Python code in a Jupyter notebook code cell\n",
    " * Write text in Jupyter notebook markdown cells\n",
    " * Use markdown syntax to produce formatted text, headings, lists, and tables\n",
    " * Save a Jupyter notebook\n",
    " * Download a Jupyter notebook in different file types\n",
    "\n",
    "You also learned about special \"magic\" commands that can be used in a Jupyter notebook. The final section of the chapter detailed a couple of ways to get help when working with Jupyter notebooks."
   ]
  },
  {
   "cell_type": "markdown",
   "id": "d66aa73b",
   "metadata": {},
   "source": [
    "### Key Terms and Concepts"
   ]
  },
  {
   "cell_type": "markdown",
   "id": "6aae1501",
   "metadata": {
    "latex": {
     "environment": "key_terms"
    }
   },
   "source": [
    "Jupyter\n",
    "\n",
    "notebook\n",
    "\n",
    "Jupyter notebook\n",
    "\n",
    "kernel\n",
    "\n",
    "iPython\n",
    "\n",
    "IDE\n",
    "\n",
    "text editor\n",
    "\n",
    "markdown\n",
    "\n",
    "execute\n",
    "\n",
    "Anaconda Prompt\n",
    "\n",
    "file browser\n",
    "\n",
    "code cell\n",
    "\n",
    "markdown cell\n",
    "\n",
    "code block\n",
    "\n",
    "inline code block\n",
    "\n",
    "pipe character\n",
    "\n",
    "hyperlink\n",
    "\n",
    "LaTeX\n",
    "\n",
    "HTML tag\n",
    "\n",
    ".ipynb-file\n",
    "\n",
    ".py-file\n",
    "\n",
    ".md-file\n",
    "\n",
    "magic commands"
   ]
  },
  {
   "cell_type": "markdown",
   "id": "3742ac8f",
   "metadata": {},
   "source": [
    "### Python Commands and Functions"
   ]
  },
  {
   "cell_type": "markdown",
   "id": "e9671c3a",
   "metadata": {},
   "source": [
    "#### Jupyter Notebook Magic Commands\n",
    "\n",
    "| Command | Description |\n",
    "| --- | --- |\n",
    "|```%matplotlib inline```| Display plots in output cells |\n",
    "|```%run file.py```| Run file.py and displays output |\n",
    "|```%pwd```| Print the working directory file path |\n",
    "|```%ls```| List contents of the current working directory |\n",
    "| ```%precision``` | Set float point precision for pretty printing |\n",
    "| ```%whos``` | List variables and types in the running kernel session |\n",
    "|```function?```| Display help on a function |\n",
    "|```function??```| Display source code of a function |"
   ]
  },
  {
   "cell_type": "code",
   "execution_count": null,
   "id": "1b8e310e",
   "metadata": {},
   "outputs": [],
   "source": []
  }
 ],
 "metadata": {
  "jupytext": {
   "text_representation": {
    "extension": ".md",
    "format_name": "myst",
    "format_version": "0.9",
    "jupytext_version": "1.5.0"
   }
  },
  "kernelspec": {
   "display_name": "Python 3",
   "language": "python",
   "name": "python3"
  },
  "language_info": {
   "codemirror_mode": {
    "name": "ipython",
    "version": 3
   },
   "file_extension": ".py",
   "mimetype": "text/x-python",
   "name": "python",
   "nbconvert_exporter": "python",
   "pygments_lexer": "ipython3",
   "version": "3.8.10"
  },
  "source_map": [
   14,
   18,
   35,
   39,
   87,
   91,
   106
  ]
 },
 "nbformat": 4,
 "nbformat_minor": 5
}