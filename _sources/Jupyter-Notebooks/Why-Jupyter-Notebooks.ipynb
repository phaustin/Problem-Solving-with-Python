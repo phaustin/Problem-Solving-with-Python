{
 "cells": [
  {
   "cell_type": "markdown",
   "id": "eb5bff48",
   "metadata": {},
   "source": [
    "## Why Jupyter Notebooks?"
   ]
  },
  {
   "cell_type": "markdown",
   "id": "f7884b74",
   "metadata": {},
   "source": [
    "There is a vast array of editors and IDE's (Integrated Development Environments) which can be used to edit and run Python code. Why should problem solvers learn to use Jupyter notebooks? \n",
    " \n",
    "Below is a table of simple text editors and IDE's which can edit and run Python code:\n",
    "\n",
    " | Python Text Editor or IDE | Description |\n",
    " | --- | --- |\n",
    " | Notepad | Simple text editor - included with Windows |\n",
    " | Idle | Included with Python from Python.org |\n",
    " | Sublime Text | Full-featured editor with long-time no-cost license |\n",
    " | Spyder | IDE included with the Anaconda Distribution of Python \n",
    " | Visual Studio Code | An multi-language open source IDE |\n",
    " | PyCharm | Professional Developer-friendly Python IDE |\n",
    " \n",
    "A Jupyter notebook is neither a simple text editor nor a full-featured IDE. Jupyter notebooks provide a quick and streamlined way for problem-solvers to prototype code and quickly share code.\n",
    "\n",
    "Jupyter notebooks also provide a way for problem-solvers to share programming solutions with team members, supervisors, and customers.\n",
    "\n",
    "![A Jupyter notebook open showing a bar graph](images/jupyter_notebook_example.png)\n",
    "\n",
    "In a way, Jupyter notebooks strike a balance between simple text editors, which are fast to start and simple and easy to manipulate, and IDE's which tend to start slower and be feature-rich and complex. Simple text editors typically can only edit code, and cannot run the code. A full IDE can edit code, run the code, debug code, provide syntax highlighting and context help."
   ]
  },
  {
   "cell_type": "markdown",
   "id": "0fe577ea",
   "metadata": {},
   "source": [
    "In the context of problem-solving, Jupyter notebooks are quite handy. Jupyter notebooks open quickly and quickly produce output. Data exploration, data cleaning, and plot building are accomplished in Jupyter notebooks easier and quicker than in a text editor or an IDE. \n",
    "\n",
    "In the context of sharing solutions to problems, Jupyter notebooks are also useful. Markdown cells render text in different sizes, bold and italic. Tables and images, plots and code can all be shown together in the same Jupyter notebook. Notebooks can be exported to a variety of formats including **_.html_** and **_.pdf_**."
   ]
  },
  {
   "cell_type": "code",
   "execution_count": null,
   "id": "8e5205ea",
   "metadata": {},
   "outputs": [],
   "source": []
  }
 ],
 "metadata": {
  "jupytext": {
   "text_representation": {
    "extension": ".md",
    "format_name": "myst",
    "format_version": "0.9",
    "jupytext_version": "1.5.0"
   }
  },
  "kernelspec": {
   "display_name": "Python 3",
   "language": "python",
   "name": "python3"
  },
  "language_info": {
   "codemirror_mode": {
    "name": "ipython",
    "version": 3
   },
   "file_extension": ".py",
   "mimetype": "text/x-python",
   "name": "python",
   "nbconvert_exporter": "python",
   "pygments_lexer": "ipython3",
   "version": "3.8.10"
  },
  "source_map": [
   12,
   16,
   39,
   45
  ]
 },
 "nbformat": 4,
 "nbformat_minor": 5
}