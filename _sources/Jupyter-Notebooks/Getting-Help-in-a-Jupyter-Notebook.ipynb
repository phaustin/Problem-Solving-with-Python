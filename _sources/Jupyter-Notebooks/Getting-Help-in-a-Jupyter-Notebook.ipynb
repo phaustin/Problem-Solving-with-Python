{
 "cells": [
  {
   "cell_type": "markdown",
   "id": "f101663e",
   "metadata": {},
   "source": [
    "## Getting Help in a Jupyter Notebook"
   ]
  },
  {
   "cell_type": "markdown",
   "id": "6fd35b6e",
   "metadata": {},
   "source": [
    "There are a couple of different ways to get help when using a Jupyter notebook."
   ]
  },
  {
   "cell_type": "markdown",
   "id": "cba37c75",
   "metadata": {},
   "source": [
    "### Get help using ```dir```\n",
    "\n",
    "Typing ```dir()``` and passing in a function, method, variable or object shows the possible object, method and function calls available to that object. For example, we can investigate the different functions in the **glob** module, part of Python's Standard Library, by importing ```glob```, then calling ```dir(glob)```."
   ]
  },
  {
   "cell_type": "code",
   "execution_count": 1,
   "id": "87947938",
   "metadata": {},
   "outputs": [
    {
     "data": {
      "text/plain": [
       "['__all__',\n",
       " '__builtins__',\n",
       " '__cached__',\n",
       " '__doc__',\n",
       " '__file__',\n",
       " '__loader__',\n",
       " '__name__',\n",
       " '__package__',\n",
       " '__spec__',\n",
       " '_glob0',\n",
       " '_glob1',\n",
       " '_glob2',\n",
       " '_iglob',\n",
       " '_ishidden',\n",
       " '_isrecursive',\n",
       " '_iterdir',\n",
       " '_rlistdir',\n",
       " 'escape',\n",
       " 'fnmatch',\n",
       " 'glob',\n",
       " 'glob0',\n",
       " 'glob1',\n",
       " 'has_magic',\n",
       " 'iglob',\n",
       " 'magic_check',\n",
       " 'magic_check_bytes',\n",
       " 'os',\n",
       " 're',\n",
       " 'sys']"
      ]
     },
     "execution_count": 1,
     "metadata": {},
     "output_type": "execute_result"
    }
   ],
   "source": [
    "import glob\n",
    "dir(glob)"
   ]
  },
  {
   "cell_type": "markdown",
   "id": "ba288873",
   "metadata": {},
   "source": [
    "### Get help using Tab\n",
    "\n",
    "After typing the name of a variable, object or function following the ```.``` character hit the ```[Tab]``` key. Typing ```[Tab]``` brings up a list of available options. Scroll through the list or type a letter to filter the list to certain starting letters. Use ```[Enter]``` to select the option you want.\n",
    "\n",
    "Tab completion can also be used during module import. Hit ```[Tab```] after typing the module name to see which functions and classes are available in that module."
   ]
  },
  {
   "cell_type": "markdown",
   "id": "4d24ef75",
   "metadata": {},
   "source": [
    "```python\n",
    "from math import <tab>\n",
    "```"
   ]
  },
  {
   "cell_type": "markdown",
   "id": "168610a5",
   "metadata": {},
   "source": [
    "### Get help using the ```help()``` function\n",
    "\n",
    "After importing a module, you can use the ```help()``` function to see documentation about the command if it is available."
   ]
  },
  {
   "cell_type": "code",
   "execution_count": 2,
   "id": "522f5030",
   "metadata": {},
   "outputs": [
    {
     "name": "stdout",
     "output_type": "stream",
     "text": [
      "Help on built-in function sin in module math:\n",
      "\n",
      "sin(x, /)\n",
      "    Return the sine of x (measured in radians).\n",
      "\n"
     ]
    }
   ],
   "source": [
    "import math\n",
    "help(math.sin)"
   ]
  },
  {
   "cell_type": "markdown",
   "id": "e6bb01ad",
   "metadata": {},
   "source": [
    "After importing a module, you can view help on the imported module by typing the module name followed by a question mark ```?```"
   ]
  },
  {
   "cell_type": "code",
   "execution_count": 3,
   "id": "7c21ea17",
   "metadata": {},
   "outputs": [],
   "source": [
    "import statistics\n",
    "statistics.mean?"
   ]
  },
  {
   "cell_type": "markdown",
   "id": "8a430c87",
   "metadata": {},
   "source": [
    "```text\n",
    "Signature: statistics.mean(data)\n",
    "Docstring:\n",
    "Return the sample arithmetic mean of data.\n",
    "\n",
    ">>> mean([1, 2, 3, 4, 4])\n",
    "2.8\n",
    "\n",
    ">>> from fractions import Fraction as F\n",
    ">>> mean([F(3, 7), F(1, 21), F(5, 3), F(1, 3)])\n",
    "Fraction(13, 21)\n",
    "\n",
    ">>> from decimal import Decimal as D\n",
    ">>> mean([D(\"0.5\"), D(\"0.75\"), D(\"0.625\"), D(\"0.375\")])\n",
    "Decimal('0.5625')\n",
    "\n",
    "If ``data`` is empty, StatisticsError will be raised.\n",
    "File:      ~/anaconda3/envs/book/lib/python3.6/statistics.py\n",
    "Type:      function\n",
    "```"
   ]
  },
  {
   "cell_type": "markdown",
   "id": "ebbc4c69",
   "metadata": {},
   "source": [
    "You can view the source code where a particular function is defined using a double question mark ```??```"
   ]
  },
  {
   "cell_type": "code",
   "execution_count": 4,
   "id": "aa6593a7",
   "metadata": {},
   "outputs": [],
   "source": [
    "import statistics\n",
    "statistics.mean??"
   ]
  },
  {
   "cell_type": "markdown",
   "id": "3ffa3db0",
   "metadata": {},
   "source": [
    "```text\n",
    "Signature: statistics.mean(data)\n",
    "Source:   \n",
    "def mean(data):\n",
    "    \"\"\"Return the sample arithmetic mean of data.\n",
    "\n",
    "    >>> mean([1, 2, 3, 4, 4])\n",
    "    2.8\n",
    "\n",
    "    >>> from fractions import Fraction as F\n",
    "    >>> mean([F(3, 7), F(1, 21), F(5, 3), F(1, 3)])\n",
    "    Fraction(13, 21)\n",
    "\n",
    "    >>> from decimal import Decimal as D\n",
    "    >>> mean([D(\"0.5\"), D(\"0.75\"), D(\"0.625\"), D(\"0.375\")])\n",
    "    Decimal('0.5625')\n",
    "\n",
    "    If ``data`` is empty, StatisticsError will be raised.\n",
    "    \"\"\"\n",
    "    if iter(data) is data:\n",
    "        data = list(data)\n",
    "```"
   ]
  },
  {
   "cell_type": "markdown",
   "id": "8af42927",
   "metadata": {},
   "source": [
    "### Help online\n",
    "\n",
    "Help is also available online at in the offical Jupyter documentation:\n",
    "\n",
    " > [http://jupyter.readthedocs.io/en/latest/](http://jupyter.readthedocs.io/en/latest/)\n",
    "\n",
    "You can always try to find help by typing something into Google. The site Stack Overflow is devoted to programming questions and answers. The highest rated answers on Stack Overflow are at the top of each question page."
   ]
  },
  {
   "cell_type": "code",
   "execution_count": null,
   "id": "947ff942",
   "metadata": {},
   "outputs": [],
   "source": []
  }
 ],
 "metadata": {
  "jupytext": {
   "text_representation": {
    "extension": ".md",
    "format_name": "myst",
    "format_version": "0.9",
    "jupytext_version": "1.5.0"
   }
  },
  "kernelspec": {
   "display_name": "Python 3",
   "language": "python",
   "name": "python3"
  },
  "language_info": {
   "codemirror_mode": {
    "name": "ipython",
    "version": 3
   },
   "file_extension": ".py",
   "mimetype": "text/x-python",
   "name": "python",
   "nbconvert_exporter": "python",
   "pygments_lexer": "ipython3",
   "version": "3.8.10"
  },
  "source_map": [
   12,
   16,
   20,
   26,
   29,
   37,
   43,
   49,
   52,
   56,
   59,
   82,
   86,
   89,
   114,
   124
  ]
 },
 "nbformat": 4,
 "nbformat_minor": 5
}