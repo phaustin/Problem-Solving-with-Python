{
 "cells": [
  {
   "cell_type": "markdown",
   "id": "fb7f9c3f",
   "metadata": {},
   "source": [
    "## Installing Juypter"
   ]
  },
  {
   "cell_type": "markdown",
   "id": "06be6967",
   "metadata": {},
   "source": [
    "The simplest way to install **Jupyter notebooks** is to download and install the Anaconda distribution of Python. The Anaconda distribution of Python comes with Jupyter notebook included and no further installation steps are necessary.\n",
    "\n",
    "Below are additional methods to install Jupyter notebooks if you are not using the Anaconda distribution of Python."
   ]
  },
  {
   "cell_type": "markdown",
   "id": "29792719",
   "metadata": {},
   "source": [
    "### Installing Jupyter on Windows using the Anaconda Prompt\n",
    "\n",
    "To install Jupyter on Windows, open the **Anaconda Prompt** and type:\n",
    "\n",
    "```text\n",
    "> conda install jupyter\n",
    "```\n",
    "\n",
    "Type ```y``` for yes when prompted. Once Jupyter is installed, type the command below into the **Anaconda Prompt** to open the Jupyter notebook file browser and start using Jupyter notebooks.\n",
    "\n",
    "```text\n",
    "> jupyter notebook\n",
    "```"
   ]
  },
  {
   "cell_type": "markdown",
   "id": "e7306b1f",
   "metadata": {},
   "source": [
    "### Installing Jupyter on MacOS\n",
    "\n",
    "To install Jupyter on MacOS, open the MacOS terminal and type:\n",
    "\n",
    "```text\n",
    "$ conda install jupyter\n",
    "```\n",
    "\n",
    "Type ```y``` for yes when prompted.\n",
    "\n",
    "If **conda** is not installed, the Anaconda distribution of Python can be installed, which will install **conda** for use in the MacOS terminal.\n",
    "\n",
    "Problems can crop up on MacOS when using the MacOS provided system version of Python. Python packages may not install on the system version of Python properly. Moreover, packages which do install on the system version of Python may not run correctly. It is therefore recommended that MacOS users install the **Anaconda** distribution of Python or use **homebrew** to install a separate non-system version of Python. \n",
    "\n",
    "To install a non-system version of Python with **homebrew**, key the following into the MacOS terminal. See the **homebrew** documentation at [https://brew.sh](https://brew.sh/).\n",
    "\n",
    "```text\n",
    "$ brew install Python\n",
    "```\n",
    "\n",
    "After **homebrew** installs a non-system version of Python, **pip** can be used to install Jupyter.\n",
    "\n",
    "```text\n",
    "$ pip install jupyter\n",
    "```"
   ]
  },
  {
   "cell_type": "markdown",
   "id": "4169c7a9",
   "metadata": {},
   "source": [
    "### Installing Jupyter on Linux\n",
    "\n",
    "To install Jupyter on Linux, open a terminal and type:\n",
    "\n",
    "```text\n",
    "$ conda install jupyter\n",
    "```\n",
    "\n",
    "Type ```y``` for yes when prompted.\n",
    "\n",
    "Alternatively, if the Anaconda distribution of Python is not installed, one can use **pip**.\n",
    "\n",
    "```text\n",
    "$ pip3 install jupyter\n",
    "```"
   ]
  },
  {
   "cell_type": "code",
   "execution_count": null,
   "id": "957c471e",
   "metadata": {},
   "outputs": [],
   "source": []
  }
 ],
 "metadata": {
  "jupytext": {
   "text_representation": {
    "extension": ".md",
    "format_name": "myst",
    "format_version": "0.9",
    "jupytext_version": "1.5.0"
   }
  },
  "kernelspec": {
   "display_name": "Python 3",
   "language": "python",
   "name": "python3"
  },
  "language_info": {
   "codemirror_mode": {
    "name": "ipython",
    "version": 3
   },
   "file_extension": ".py",
   "mimetype": "text/x-python",
   "name": "python",
   "nbconvert_exporter": "python",
   "pygments_lexer": "ipython3",
   "version": "3.8.10"
  },
  "source_map": [
   12,
   16,
   22,
   38,
   66,
   84
  ]
 },
 "nbformat": 4,
 "nbformat_minor": 5
}