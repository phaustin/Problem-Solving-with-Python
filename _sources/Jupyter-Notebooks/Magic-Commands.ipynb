{
 "cells": [
  {
   "cell_type": "markdown",
   "id": "51c90989",
   "metadata": {},
   "source": [
    "## Magic Commands"
   ]
  },
  {
   "cell_type": "markdown",
   "id": "d0d734dc",
   "metadata": {},
   "source": [
    "Jupyter notebook code cells can contain special commands which are not valid Python code but affect the behavior of the notebook. These special commands are called _magic commands_."
   ]
  },
  {
   "cell_type": "markdown",
   "id": "ecd4a8d0",
   "metadata": {},
   "source": [
    "### %matplotlib inline\n",
    "\n",
    "One of the most popular magic commands is:\n",
    "\n",
    "```text\n",
    "%matplotlib inline\n",
    "```\n",
    "\n",
    "Entering the ```%matplotlib inline``` command at the top of a Jupyter notebook renders Matplotlib plots in cells of the notebook. Without ```%matplotlib inline```, plots may jump out as external windows. A typical start to a Jupyter notebook using **Matplotlib** might start as:\n",
    "\n",
    "```python\n",
    "import numpy as np\n",
    "import pandas as pd\n",
    "import matplotlib.pyplot as plt\n",
    "%matplotlib inline\n",
    "```"
   ]
  },
  {
   "cell_type": "markdown",
   "id": "86a78ff6",
   "metadata": {},
   "source": [
    "### %load\n",
    "\n",
    "The ```%load``` command loads a Python module, webpage or file into a Jupyter notebook. If there is a file called **_hello.py_** in the same directory as the notebook with some Python code written in it, we can load that same code into a Jupyter notebook code cell with the ```%load``` command. \n",
    "\n",
    "Within a Jupyter notebook code cell type the command:\n",
    "\n",
    "```python\n",
    "%load hello.py\n",
    "```\n",
    "\n",
    "The result is the code from the file **_hello.py_** is copied into the current notebook."
   ]
  },
  {
   "cell_type": "code",
   "execution_count": 1,
   "id": "8a17682e",
   "metadata": {},
   "outputs": [
    {
     "name": "stdout",
     "output_type": "stream",
     "text": [
      "This code was run from a seperate Python file\n",
      "Hello from the file hello.py\n"
     ]
    }
   ],
   "source": [
    "# %load hello.py\n",
    "# hello.py\n",
    "\n",
    "print('This code was run from a seperate Python file')\n",
    "print('Hello from the file hello.py')"
   ]
  },
  {
   "cell_type": "markdown",
   "id": "e0acff81",
   "metadata": {},
   "source": [
    "### %run"
   ]
  },
  {
   "cell_type": "markdown",
   "id": "feb3165f",
   "metadata": {},
   "source": [
    "If the ```%run``` magic command followed by the name of a valid Python file,  the Python file runs as a script. Suppose the file **_hello.py_** is created in the same directory as the running Jupyter notebook. The directory structure will look something like this:\n",
    "\n",
    "```text\n",
    "| folder\n",
    "---| notebook.ipynb\n",
    "---| hello.py\n",
    "```\n",
    "\n",
    "In the file **_hello.py_** is the code:\n",
    "\n",
    "```python\n",
    "# hello.py\n",
    "\n",
    "print('This code was run from a separate Python file')\n",
    "print('Hello from the file hello.py')\n",
    "```\n",
    "\n",
    "Within our Jupyter notebook, if we ```%run``` this file, we get the output of the **_hello.py_** script in a Jupyter notebook output cell."
   ]
  },
  {
   "cell_type": "code",
   "execution_count": 2,
   "id": "4087d10e",
   "metadata": {},
   "outputs": [
    {
     "name": "stdout",
     "output_type": "stream",
     "text": [
      "This code was run from a separate Python file\n",
      "Hello from the file hello.py\n"
     ]
    }
   ],
   "source": [
    "%run hello.py"
   ]
  },
  {
   "cell_type": "markdown",
   "id": "fe48e8d3",
   "metadata": {},
   "source": [
    "### Other useful magic commands"
   ]
  },
  {
   "cell_type": "markdown",
   "id": "f9c53fcb",
   "metadata": {},
   "source": [
    "Below is a table of other useful Jupyter notebook magic commands\n",
    "\n",
    "| Magic command | Result |\n",
    "| --- | --- |\n",
    "| %pwd | Print the current working directory |\n",
    "| %cd | Change the current working directory |\n",
    "| %ls | List the contents of the current directory |\n",
    "| %history | Show the history of the ```In [ ]:``` commands |\n",
    "\n",
    "You can list all of the available magic commands by typing and running ```%lsmagic``` in a Jupyter notebook code cell:\n",
    "\n",
    "```python\n",
    "%lsmagic\n",
    "```\n",
    "\n",
    "The output shows all the available line magic commands that begin with the percent sign ```%```.\n",
    "\n",
    "```text\n",
    "Available line magics:\n",
    "%alias  %alias_magic  %autocall  %automagic  %autosave ...\n",
    "%dhist  %dirs  %doctest_mode  %ed  %edit  %env  %gui ...\n",
    "dir  %more  %mv  %notebook  %page  %pastebin  %pdb  %pdef ...\n",
    "...\n",
    "\n",
    "Available cell magics:\n",
    "%%!  %%HTML  %%SVG  %%bash  %%capture  %%debug  %%file  %%html ...\n",
    "%%python  %%python2  %%python3  %%ruby  %%script  %%sh  %%svg ...\n",
    "```"
   ]
  },
  {
   "cell_type": "code",
   "execution_count": null,
   "id": "cebf413d",
   "metadata": {},
   "outputs": [],
   "source": []
  }
 ],
 "metadata": {
  "jupytext": {
   "text_representation": {
    "extension": ".md",
    "format_name": "myst",
    "format_version": "0.9",
    "jupytext_version": "1.5.0"
   }
  },
  "kernelspec": {
   "display_name": "Python 3",
   "language": "python",
   "name": "python3"
  },
  "language_info": {
   "codemirror_mode": {
    "name": "ipython",
    "version": 3
   },
   "file_extension": ".py",
   "mimetype": "text/x-python",
   "name": "python",
   "nbconvert_exporter": "python",
   "pygments_lexer": "ipython3",
   "version": "3.8.0"
  },
  "source_map": [
   12,
   16,
   20,
   39,
   53,
   59,
   63,
   84,
   86,
   90,
   121
  ]
 },
 "nbformat": 4,
 "nbformat_minor": 5
}