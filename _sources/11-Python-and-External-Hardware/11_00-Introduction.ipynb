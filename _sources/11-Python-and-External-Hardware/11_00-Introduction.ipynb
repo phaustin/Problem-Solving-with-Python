{
 "cells": [
  {
   "cell_type": "markdown",
   "id": "60e3226b",
   "metadata": {},
   "source": [
    "# Python and External Hardware"
   ]
  },
  {
   "cell_type": "markdown",
   "id": "0bd9b9de",
   "metadata": {},
   "source": [
    "## Introduction"
   ]
  },
  {
   "cell_type": "markdown",
   "id": "27e5f7d1",
   "metadata": {
    "latex": {
     "after_cell": "newpage"
    }
   },
   "source": [
    "By the end of this chapter you will be able to:\n",
    "\n",
    " * Connect external hardware to a computer running Python\n",
    " \n",
    " * Install the PySerial library\n",
    " \n",
    " * Read data over a serial connection using Python\n",
    " \n",
    " * Save data coming in over a serial connection using Python\n",
    " \n",
    " * Write data to a serial line using Python\n",
    " \n",
    " * Read data from a sensor using Python\n",
    " \n",
    " * Control an LED using Python"
   ]
  },
  {
   "cell_type": "code",
   "execution_count": null,
   "id": "cb4125bb",
   "metadata": {},
   "outputs": [],
   "source": []
  }
 ],
 "metadata": {
  "jupytext": {
   "text_representation": {
    "extension": ".md",
    "format_name": "myst",
    "format_version": "0.9",
    "jupytext_version": "1.5.0"
   }
  },
  "kernelspec": {
   "display_name": "Python 3",
   "language": "python",
   "name": "python3"
  },
  "language_info": {
   "codemirror_mode": {
    "name": "ipython",
    "version": 3
   },
   "file_extension": ".py",
   "mimetype": "text/x-python",
   "name": "python",
   "nbconvert_exporter": "python",
   "pygments_lexer": "ipython3",
   "version": "3.8.10"
  },
  "source_map": [
   12,
   16,
   20,
   38
  ]
 },
 "nbformat": 4,
 "nbformat_minor": 5
}