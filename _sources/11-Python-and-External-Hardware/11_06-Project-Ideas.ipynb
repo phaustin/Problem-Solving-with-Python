{
 "cells": [
  {
   "cell_type": "markdown",
   "id": "28c3d88b",
   "metadata": {},
   "source": [
    "## Project Ideas"
   ]
  },
  {
   "cell_type": "markdown",
   "id": "f5ffeab4",
   "metadata": {},
   "source": [
    "P11.01 Use Python and  PySerial measure light levels using a photoresistor connected to an Arduino.\n",
    "\n",
    "P11.02 Use Python and PySerial to  control a relay connected to an Arduino\n",
    "\n",
    "P11.03 Use Python and PySerial to  read a pH sensor connected to an Arduino\n",
    "\n",
    "P11.04 Use Python and PySerial to read a photosensor connected to an Arduino and turn on and off an LED based on light level.\n",
    "\n",
    "\n",
    "P11.05 Use Python and PySerial to read a temperature connected to an Arduino and send temperature measurements up to an IoT cloud server, like io.adafruit.com using the Requests package.\n",
    "\n",
    "P11.06 Use Python and PySerial to turn on and off an LED connected to an Arduino based on values stored on an IoT cloud server, like io.adafruit.com, using the Requests package."
   ]
  },
  {
   "cell_type": "code",
   "execution_count": null,
   "id": "04daea3e",
   "metadata": {},
   "outputs": [],
   "source": []
  }
 ],
 "metadata": {
  "jupytext": {
   "text_representation": {
    "extension": ".md",
    "format_name": "myst",
    "format_version": "0.9",
    "jupytext_version": "1.5.0"
   }
  },
  "kernelspec": {
   "display_name": "Python 3",
   "language": "python",
   "name": "python3"
  },
  "language_info": {
   "codemirror_mode": {
    "name": "ipython",
    "version": 3
   },
   "file_extension": ".py",
   "mimetype": "text/x-python",
   "name": "python",
   "nbconvert_exporter": "python",
   "pygments_lexer": "ipython3",
   "version": "3.8.10"
  },
  "source_map": [
   12,
   16,
   31
  ]
 },
 "nbformat": 4,
 "nbformat_minor": 5
}