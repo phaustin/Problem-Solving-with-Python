{
 "cells": [
  {
   "cell_type": "markdown",
   "id": "dc444683",
   "metadata": {},
   "source": [
    "## PySerial"
   ]
  },
  {
   "cell_type": "markdown",
   "id": "0c04f244",
   "metadata": {},
   "source": [
    "PySerial is a Python package that facilitates serial communication. A computer running Python with the PySerial package installed can communicate with external hardware.  PySerial is a useful package for problem solvers because it allows us to exchange data between computers and pieces of external hardware such as voltmeters, oscilloscopes, strain gauges, flow meters, actuators, and lights.\n",
    "\n",
    "PySerial provides an interface to communicate over the _serial_ communication protocol. Serial communication is one of the oldest computer communication protocols. Serial communication protocol predates the USB specification used by computers and other pieces of hardware like mice, keyboards, and webcams. USB stands for Universal Serial Bus. USB and is built upon and extends the original serial communication interface."
   ]
  },
  {
   "cell_type": "markdown",
   "id": "75143adc",
   "metadata": {},
   "source": [
    "### Installing PySerial"
   ]
  },
  {
   "cell_type": "markdown",
   "id": "82fbb451",
   "metadata": {},
   "source": [
    "To use the PySerial package with Python, PySerial first needs to be installed.  If you installed the full Anaconda distribution of Python, PySerial comes pre-installed. If you do have the full Anaconda distribution of Python installed, PySerial can be installed using the **Anaconda Prompt**. \n",
    "\n",
    "```text\n",
    "> conda install pyserial\n",
    "```\n",
    "\n",
    "Alternatively, PySerial can be installed on the command line using **pip**:\n",
    "\n",
    "```text\n",
    "$ pip install pyserial\n",
    "```\n",
    "\n",
    "After PySerial is installed, the installation can be confirmed at the Python REPL:"
   ]
  },
  {
   "cell_type": "code",
   "execution_count": 1,
   "id": "12140331",
   "metadata": {},
   "outputs": [
    {
     "ename": "ModuleNotFoundError",
     "evalue": "No module named 'serial'",
     "output_type": "error",
     "traceback": [
      "\u001b[0;31m---------------------------------------------------------------------------\u001b[0m",
      "\u001b[0;31mModuleNotFoundError\u001b[0m                       Traceback (most recent call last)",
      "\u001b[0;32m/tmp/ipykernel_944471/3380726817.py\u001b[0m in \u001b[0;36m<module>\u001b[0;34m\u001b[0m\n\u001b[0;32m----> 1\u001b[0;31m \u001b[0;32mimport\u001b[0m \u001b[0mserial\u001b[0m\u001b[0;34m\u001b[0m\u001b[0;34m\u001b[0m\u001b[0m\n\u001b[0m\u001b[1;32m      2\u001b[0m \u001b[0mprint\u001b[0m\u001b[0;34m(\u001b[0m\u001b[0mserial\u001b[0m\u001b[0;34m.\u001b[0m\u001b[0m__version__\u001b[0m\u001b[0;34m)\u001b[0m\u001b[0;34m\u001b[0m\u001b[0;34m\u001b[0m\u001b[0m\n",
      "\u001b[0;31mModuleNotFoundError\u001b[0m: No module named 'serial'"
     ]
    }
   ],
   "source": [
    ">>> import serial\n",
    ">>> print(serial.__version__)"
   ]
  },
  {
   "cell_type": "markdown",
   "id": "313a1a67",
   "metadata": {},
   "source": [
    "**NOTE: Even though the command to install PySerial was** ```> conda install pyserial```, **the PySerial module is imported with the line** ```import serial```**.**"
   ]
  },
  {
   "cell_type": "code",
   "execution_count": null,
   "id": "7980df73",
   "metadata": {},
   "outputs": [],
   "source": []
  }
 ],
 "metadata": {
  "jupytext": {
   "text_representation": {
    "extension": ".md",
    "format_name": "myst",
    "format_version": "0.9",
    "jupytext_version": "1.5.0"
   }
  },
  "kernelspec": {
   "display_name": "Python 3",
   "language": "python",
   "name": "python3"
  },
  "language_info": {
   "codemirror_mode": {
    "name": "ipython",
    "version": 3
   },
   "file_extension": ".py",
   "mimetype": "text/x-python",
   "name": "python",
   "nbconvert_exporter": "python",
   "pygments_lexer": "ipython3",
   "version": "3.8.10"
  },
  "source_map": [
   12,
   16,
   22,
   26,
   42,
   45,
   49
  ]
 },
 "nbformat": 4,
 "nbformat_minor": 5
}