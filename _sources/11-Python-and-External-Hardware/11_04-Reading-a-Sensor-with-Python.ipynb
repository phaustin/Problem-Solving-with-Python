{
 "cells": [
  {
   "cell_type": "markdown",
   "id": "7f02f05d",
   "metadata": {},
   "source": [
    "## Reading a Sensor with Python"
   ]
  },
  {
   "cell_type": "markdown",
   "id": "13a2d05b",
   "metadata": {},
   "source": [
    "In this section, you will learn how to read a sensor connected to an external piece of hardware (an Arduino) with Python. To accomplish this, the following hardware is required:\n",
    "\n",
    " * A computer running Python\n",
    " * An Arduino\n",
    " * A potentiometer (the sensor)\n",
    " * wires, a resistor, an LED, and a breadboard to connect the sensor to the Arduino\n",
    " * A USB cable to connect the Arduino to the computer\n",
    "\n",
    "You will also need to download the Arduino IDE (the Arduino Integrated Development Environment) using the following link as shown in the previous section: \n",
    "\n",
    " > https://www.arduino.cc/en/Main/Software"
   ]
  },
  {
   "cell_type": "markdown",
   "id": "c10f92dd",
   "metadata": {},
   "source": [
    "### Wire the sensor to the Arduino"
   ]
  },
  {
   "cell_type": "markdown",
   "id": "c7d0bad1",
   "metadata": {},
   "source": [
    "Connect the potentiometer sensor to the Arduino using a resistor, wires and a breadboard. The middle pin of the potentiometer is connected to pin A0 on the Arduino (green wire). Connect the LED to the Arduino. Note the long lead of the LED is connected to PIN13 on the Arduino (yellow wire) and the short lead of the LED is connected through a resistor to ground (black wire). If the LED is wired backward, the LED will not turn on.\n",
    "\n",
    "In the hardware schematic, the blue square with an arrow on it is a potentiometer. The user knows when the sensor signal changes because the user manually turns the potentiometer dial.\n",
    "\n",
    "The hardware schematic describes how to the Arduino, LED, resistor, and potentiometer are connected with jumper wires and a breadboard."
   ]
  },
  {
   "cell_type": "markdown",
   "id": "a4bad3ae",
   "metadata": {},
   "source": [
    "![Arduino with potentiometer and LED on a breadboard](images/redboard_pot_led_fritzing.png)"
   ]
  },
  {
   "cell_type": "markdown",
   "id": "f7ed6a74",
   "metadata": {},
   "source": [
    "### Upload code to the Arduino"
   ]
  },
  {
   "cell_type": "markdown",
   "id": "90fa680b",
   "metadata": {},
   "source": [
    "Once the LED and potentiometer are hooked up the Arduino, upload the following code to the Arduino using the Arduino IDE. Note that Arduinos don't use the Python programming language. The programming language used by Arduinos is a variant of the C programming language.\n",
    "\n",
    "The Arduino sketch below (an Arduino program is called a sketch) accomplishes a couple things. First, the Arduino reads the potentiometer sensor value and stores the sensor value in the variable ```sensorValue```. Next, the Arduino sends the sensor value over the serial line (as a byte string). Finally, ```sensorValue``` is compared to ```500```. If ```sensorValue``` is less than ```500```, the LED stays off. If ```sensorValue``` is greater than ```500```, the LED turn on. The read-send-compare process repeats in a loop."
   ]
  },
  {
   "cell_type": "markdown",
   "id": "1bcb8c08",
   "metadata": {},
   "source": [
    "```text\n",
    "// potentiometer_read.ino\n",
    "// reads a potentiometer and sends value over serial\n",
    "int sensorPin = A0;  // The potentiometer on pin 0                  \n",
    "int ledPin = 13;     // The LED is connected on pin 13\n",
    "int sensorValue;     // variable to stores data\n",
    "\n",
    "void setup() // runs once when the sketch starts\n",
    "{\n",
    "  // make the LED pin (pin 13) an output pin\n",
    "  pinMode(ledPin, OUTPUT);\n",
    "\n",
    "  // initialize serial communication\n",
    "  Serial.begin(9600);\n",
    "}\n",
    "\n",
    "void loop() // runs repeatedly after setup() finishes\n",
    "{\n",
    "  sensorValue = analogRead(sensorPin);  // read pin A0   \n",
    "  Serial.println(sensorValue);         // send data to serial\n",
    "  \n",
    "  if (sensorValue < 500) {            // less than 500?\n",
    "    digitalWrite(ledPin, LOW); }     // Turn the LED off\n",
    "  \n",
    "  else {                               // greater than 500?\n",
    "    digitalWrite(ledPin, HIGH); }     // Keep the LED on\n",
    "  \n",
    "  delay(100);             // Pause 100 milliseconds\n",
    "}\n",
    "```"
   ]
  },
  {
   "cell_type": "markdown",
   "id": "5d59fa62",
   "metadata": {},
   "source": [
    "### Connect the Arduino to the computer and Upload the Sketch"
   ]
  },
  {
   "cell_type": "markdown",
   "id": "b1c677bb",
   "metadata": {},
   "source": [
    "Connect the Arduino to the computer with a USB cable. In the Arduino IDE select Tools --> Board --> Arduino/Genuino Uno. Upload the sketch to the Arduino. In the Arduino IDE, click the [check mark] to verify and the [arrow] to upload. If the sketch does not upload, check which ```COM port``` is selected in the Arduino IDE under Tools --> Ports.  \n",
    "\n",
    "![Arduino IDE Check to Verify](images/Check_to_Verify.png)\n",
    "\n",
    "![Arduino IDE Arrow to Upload](images/Arrow_to_Upload.png)"
   ]
  },
  {
   "cell_type": "markdown",
   "id": "6d897961",
   "metadata": {},
   "source": [
    "### Check the Sensor Signal"
   ]
  },
  {
   "cell_type": "markdown",
   "id": "5cd017a3",
   "metadata": {},
   "source": [
    "To verify the Arduino sketch is working correctly, the sensor signal can be checked in three ways:\n",
    "\n",
    " * The LED turns on and off as the potentiometer dial is rotated\n",
    " * In the Arudino **Serial Monitor**, numbers change as the potentiometer dial is rotated\n",
    " * In the Arduino **Seral Plotter**, the line moves as the potentiometer dial is rotated"
   ]
  },
  {
   "cell_type": "markdown",
   "id": "e052ee38",
   "metadata": {},
   "source": [
    "#### LED turns ON and OFF\n",
    "\n",
    "The LED should turn on and off as the potentiometer is rotated. If the LED does not turn on and off when the potentiometer is rotated, make sure the potentiometer is turned back and forth through it's full range of rotation. Also, ensure the USB cable is plugged into both the Arduino and the computer."
   ]
  },
  {
   "cell_type": "markdown",
   "id": "6222a302",
   "metadata": {},
   "source": [
    "#### Arudino Serial Monitor\n",
    "\n",
    "Access the Arduino **Serial Monitor** using Tools --> Serial Monitor. \n",
    "\n",
    "![Select the Arduino Serial Monitor from the Tools Menus](images/Tools_SerialMonitor.png)"
   ]
  },
  {
   "cell_type": "markdown",
   "id": "547cdbf3",
   "metadata": {},
   "source": [
    "If the Arduino sketch is working correctly, a running list of numbers is shown in the Arduino **Serial Monitor**. When the potentiometer is dialed back and forth, the numbers streaming down the **Serial Monitor** should change. The output in the Serial Monitor should be a running list of numbers between ```0``` and ```1024```.\n",
    "\n",
    "If a running list of numbers can't be seen in the Arduino **Serial Monitor**, ensure [Auto Scroll], [Both NL & CR] and [9600 baud] are selected. Also, make sure the ```Port``` is set correctly in the Arduino IDE under Tools --> Port. \n",
    "\n",
    "![Arduino Serial Monitor Ouput](images/serial_monitor_output.png)"
   ]
  },
  {
   "cell_type": "markdown",
   "id": "f8e3f235",
   "metadata": {},
   "source": [
    "#### Arduino Serial Plotter\n",
    "\n",
    "To access the Arduino Serial Plotter, select Tools --> Serial Monitor in the Arduino IDE. Note the Arduino Serial Monitor needs to be closed before the Arduino Serial Plotter can be opened. If the sketch is working correctly, potentiometer rotation produces a moving line on the Arduino Serial Plotter. \n",
    "\n",
    "![Arduino Serial Plotter Menu](images/Tools_SerialPlotter.png)\n",
    "\n",
    "The output of the Arduino Serial Plotter should be a running line graph. The height of the line on the graph should change as the potentiometer is dialed back and forth. If the Arduino Serial Plotter is blank, make sure [9600 baud] is selected in the lower right corner of the Serial Plotter. Also, make sure the ```Port``` has been set correctly in the Arduino IDE in Tools --> Port.\n",
    "\n",
    "![Arudino Serial Plotter](images/serial_plotter_output.png)"
   ]
  },
  {
   "cell_type": "markdown",
   "id": "e66a7f50",
   "metadata": {},
   "source": [
    "### Use the Python REPL to read the potentiometer data\n",
    "\n",
    "At the Python REPL, type the following commands. If the REPL prompt ```>>>``` precedes the command, type the command into the REPL. If the line does not start with a REPL prompt, this line represents expected output.\n",
    "\n",
    "```python\n",
    "# serial read using the Python REPL\n",
    "\n",
    ">>> import serial\n",
    ">>> import time\n",
    ">>> ser = serial.Serial('COM4',9600)\n",
    ">>> time.sleep(2)\n",
    ">>> b = ser.readline()\n",
    ">>> b\n",
    "b'409\\r\\n'\n",
    ">>> type(b)\n",
    "<class 'bytes'>\n",
    ">>> str_rn = b.decode()\n",
    ">>> str_rn\n",
    "'409\\r\\n'\n",
    ">>> str = str_rn.rstrip()\n",
    ">>> str\n",
    "'409'\n",
    ">>> type(str)\n",
    "<class 'str'>\n",
    ">>> f = float(str)\n",
    ">>> f\n",
    "409.0\n",
    ">>> type(f)\n",
    "<class 'float'>\n",
    ">>> ser.close()\n",
    ">>> exit()\n",
    "\n",
    "```"
   ]
  },
  {
   "cell_type": "markdown",
   "id": "8386f13e",
   "metadata": {},
   "source": [
    "### Write a Python script to read the sensor"
   ]
  },
  {
   "cell_type": "markdown",
   "id": "77f93d78",
   "metadata": {},
   "source": [
    "After the hardware is connected and the Arduino sketch is working correctly, you can construct a Python script to read the sensor value.\n",
    "\n",
    "Communication between the Python script and the Arduino is accomplished using the PySerial package. Make sure PySerial is installed before the script is run.  See a previous section in this chapter on how to install the PySerial package.\n",
    "\n",
    "At the top of the Python script, import the PySerial module. Note that although the package is called PySerial, use the line ```import serial``` to import the package."
   ]
  },
  {
   "cell_type": "markdown",
   "id": "51c66be6",
   "metadata": {},
   "source": [
    "```python\n",
    "import serial\n",
    "import time\n",
    "```"
   ]
  },
  {
   "cell_type": "markdown",
   "id": "d4b31786",
   "metadata": {},
   "source": [
    "Next, set up the serial communication line with the Arduino. Ensure the port specified in the command ```ser = serial.Serial('COM4', 9600)``` is the same ```COM#``` that was used in the Arduino IDE."
   ]
  },
  {
   "cell_type": "markdown",
   "id": "ea2b71a4",
   "metadata": {},
   "source": [
    "```python\n",
    "# set up the serial line\n",
    "ser = serial.Serial('COM4', 9600)\n",
    "time.sleep(2)\n",
    "```"
   ]
  },
  {
   "cell_type": "markdown",
   "id": "f817aad9",
   "metadata": {},
   "source": [
    "Next, code a loop runs for about 5 seconds while data is collected from the sensor. If it seems like the loop is stuck, press [Ctrl] + [c]."
   ]
  },
  {
   "cell_type": "markdown",
   "id": "1d23eda4",
   "metadata": {},
   "source": [
    "```python\n",
    "# Read and record the data\n",
    "data =[]                       # empty list to store the data\n",
    "for i in range(50):\n",
    "\tb = ser.readline()         # read a byte string\n",
    "        string_n = b.decode()  # decode byte string into Unicode  \n",
    "\tstring = string_n.rstrip() # remove \\n and \\r\n",
    "\tflt = float(string)        # convert string to float\n",
    "\tprint(flt)\n",
    "\tdata.append(flt)           # add to the end of data list\n",
    "\ttime.sleep(0.1)            # wait (sleep) 0.1 seconds\n",
    "\n",
    "ser.close()\n",
    "```"
   ]
  },
  {
   "cell_type": "markdown",
   "id": "1b1817fe",
   "metadata": {},
   "source": [
    "After the data is collected, the data can be displayed with the Python's ```print()``` function and a ```for``` loop. The output looks like the numbers in the Arduino **Serial Monitor**."
   ]
  },
  {
   "cell_type": "markdown",
   "id": "fafed868",
   "metadata": {},
   "source": [
    "```python\n",
    "# show the data\n",
    "\n",
    "for line in data:\n",
    "    print(line)\n",
    "```"
   ]
  },
  {
   "cell_type": "markdown",
   "id": "a5814b9f",
   "metadata": {},
   "source": [
    "The data can also be plotted with Matplotlib. The resulting plot looks like the line plot in the Arduino **Serial Plotter**."
   ]
  },
  {
   "cell_type": "markdown",
   "id": "7e29efc8",
   "metadata": {},
   "source": [
    "```python\n",
    "import matplotlib.pyplot as plt\n",
    "# if using a Jupyter notebook include\n",
    "%matplotlib inline\n",
    "\n",
    "plt.plot(data)\n",
    "plt.xlabel('Time (seconds)')\n",
    "plt.ylabel('Potentiometer Reading')\n",
    "plt.title('Potentiometer Reading vs. Time')\n",
    "plt.show()\n",
    "```"
   ]
  },
  {
   "cell_type": "markdown",
   "id": "4bddabe8",
   "metadata": {},
   "source": [
    "Run the entire script and twist the potentiometer. You should see the potentiometer values running by in the Python REPL command window.\n",
    "\n",
    "After all the data is collected, you will see a plot like the one below.\n",
    "\n",
    "![Matplotlib plot of potentiometer readings recorded with an Arduino and PySerial](images/matplotlib_potentiometer_plot.png)"
   ]
  },
  {
   "cell_type": "code",
   "execution_count": null,
   "id": "f284ba02",
   "metadata": {},
   "outputs": [],
   "source": []
  }
 ],
 "metadata": {
  "jupytext": {
   "text_representation": {
    "extension": ".md",
    "format_name": "myst",
    "format_version": "0.9",
    "jupytext_version": "1.5.0"
   }
  },
  "kernelspec": {
   "display_name": "Python 3",
   "language": "python",
   "name": "python3"
  },
  "language_info": {
   "codemirror_mode": {
    "name": "ipython",
    "version": 3
   },
   "file_extension": ".py",
   "mimetype": "text/x-python",
   "name": "python",
   "nbconvert_exporter": "python",
   "pygments_lexer": "ipython3",
   "version": "3.8.10"
  },
  "source_map": [
   12,
   16,
   30,
   34,
   42,
   46,
   50,
   56,
   89,
   93,
   101,
   105,
   113,
   119,
   127,
   135,
   147,
   183,
   187,
   195,
   202,
   206,
   214,
   218,
   235,
   239,
   248,
   252,
   266,
   274
  ]
 },
 "nbformat": 4,
 "nbformat_minor": 5
}