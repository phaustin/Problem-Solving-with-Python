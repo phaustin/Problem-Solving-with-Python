{
 "cells": [
  {
   "cell_type": "markdown",
   "id": "4687f940",
   "metadata": {},
   "source": [
    "## NumPy Math Functions"
   ]
  },
  {
   "cell_type": "markdown",
   "id": "3d258a36",
   "metadata": {},
   "source": [
    "The code below prints out all NumPy functions and methods:\n",
    "\n",
    "```python\n",
    "import numpy as np\n",
    "for func in dir(np):\n",
    "    print(func)\n",
    "```"
   ]
  },
  {
   "cell_type": "markdown",
   "id": "50cb5613",
   "metadata": {},
   "source": [
    "### NumPy Array Creation and Manipulation Functions and Methods"
   ]
  },
  {
   "cell_type": "markdown",
   "id": "5cbc6799",
   "metadata": {
    "latex": {
     "environment": "key_terms"
    }
   },
   "source": [
    "```\n",
    "np.array\n",
    "np.arange\n",
    "np.ndarray\n",
    "np.zeros\n",
    "np.ones\n",
    "np.matrix\n",
    "np.traspose\n",
    "np.size\n",
    "np.shape\n",
    "np.reshape\n",
    "np.meshgrid\n",
    "np.dot\n",
    "np.cross\n",
    "np.asmatrix\n",
    "np.asarray\n",
    "```"
   ]
  },
  {
   "cell_type": "markdown",
   "id": "5c83327e",
   "metadata": {},
   "source": [
    "### NumPy Exponential and Logarithmic Functions and Methods"
   ]
  },
  {
   "cell_type": "markdown",
   "id": "49d4bbd3",
   "metadata": {
    "latex": {
     "environment": "key_terms"
    }
   },
   "source": [
    "```\n",
    "np.log\n",
    "np.log10\n",
    "np.log1p\n",
    "np.log2\n",
    "np.logaddexp\n",
    "np.logaddexp2\n",
    "np.exp\n",
    "np.exp2\n",
    "np.sqrt\n",
    "np.power\n",
    "np.e\n",
    "```"
   ]
  },
  {
   "cell_type": "markdown",
   "id": "802da0b2",
   "metadata": {},
   "source": [
    "### NumPy Trigonometric Functions and Methods"
   ]
  },
  {
   "cell_type": "markdown",
   "id": "c554e034",
   "metadata": {
    "latex": {
     "environment": "key_terms"
    }
   },
   "source": [
    "```\n",
    "np.pi\n",
    "np.sin\n",
    "np.cos\n",
    "np.tan\n",
    "np.arcsin\n",
    "np.arccos\n",
    "np.arctan\n",
    "np.arcsinh\n",
    "np.arccosh\n",
    "np.arctanh\n",
    "np.arctan2\n",
    "np.radians\n",
    "np.rad2deg\n",
    "np.deg2rad\n",
    "np.radians\n",
    "np.sinc\n",
    "np.sinh\n",
    "np.tanh\n",
    "np.angle\n",
    "```"
   ]
  },
  {
   "cell_type": "markdown",
   "id": "5bc7da9c",
   "metadata": {},
   "source": [
    "### NumPy Statistics Functions and Methods"
   ]
  },
  {
   "cell_type": "markdown",
   "id": "0c8ebadc",
   "metadata": {
    "latex": {
     "environment": "key_terms"
    }
   },
   "source": [
    "```\n",
    "np.mean\n",
    "np.average\n",
    "np.median\n",
    "np.std\n",
    "np.var\n",
    "np.correlate\n",
    "np.histogram\n",
    "np.amin\n",
    "np.amax\n",
    "np.ptp\n",
    "np.percentile\n",
    "```"
   ]
  },
  {
   "cell_type": "code",
   "execution_count": null,
   "id": "88ceab58",
   "metadata": {},
   "outputs": [],
   "source": []
  }
 ],
 "metadata": {
  "jupytext": {
   "text_representation": {
    "extension": ".md",
    "format_name": "myst",
    "format_version": "0.9",
    "jupytext_version": "1.5.0"
   }
  },
  "kernelspec": {
   "display_name": "Python 3",
   "language": "python",
   "name": "python3"
  },
  "language_info": {
   "codemirror_mode": {
    "name": "ipython",
    "version": 3
   },
   "file_extension": ".py",
   "mimetype": "text/x-python",
   "name": "python",
   "nbconvert_exporter": "python",
   "pygments_lexer": "ipython3",
   "version": "3.8.10"
  },
  "source_map": [
   12,
   16,
   26,
   30,
   50,
   54,
   70,
   74,
   98,
   102,
   118
  ]
 },
 "nbformat": 4,
 "nbformat_minor": 5
}