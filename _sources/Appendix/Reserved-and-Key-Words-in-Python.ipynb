{
 "cells": [
  {
   "cell_type": "markdown",
   "id": "77a051bf",
   "metadata": {},
   "source": [
    "## Reserved and Keywords in Python"
   ]
  },
  {
   "cell_type": "markdown",
   "id": "ffa046d2",
   "metadata": {},
   "source": [
    "The following are reserved and keywords in Python. These words should not be used as the names for user-defined variables, functions, classes, methods or modules. Python's keywords can be accessed with the following code:"
   ]
  },
  {
   "cell_type": "markdown",
   "id": "d726e0cf",
   "metadata": {},
   "source": [
    "```python\n",
    "import keyword\n",
    "print(f'There are {len(keyword.kwlist)} key words')\n",
    "for keywrd in keyword.kwlist:\n",
    "    print(keywrd)\n",
    "```\n",
    "\n",
    "```text\n",
    "There are 33 key words\n",
    "False\n",
    "None\n",
    "True\n",
    "and\n",
    "as\n",
    "...\n",
    "\n",
    "```"
   ]
  },
  {
   "cell_type": "markdown",
   "id": "70ce59df",
   "metadata": {},
   "source": [
    "### Logical Keywords"
   ]
  },
  {
   "cell_type": "markdown",
   "id": "660ecfa9",
   "metadata": {
    "latex": {
     "environment": "key_terms"
    }
   },
   "source": [
    "```text\n",
    "True\n",
    "False\n",
    "not\n",
    "and\n",
    "or\n",
    "is\n",
    "None\n",
    "in\n",
    "```"
   ]
  },
  {
   "cell_type": "markdown",
   "id": "827ef6a4",
   "metadata": {},
   "source": [
    "### Control Flow Key Words"
   ]
  },
  {
   "cell_type": "markdown",
   "id": "8a5acdc7",
   "metadata": {
    "latex": {
     "environment": "key_terms"
    }
   },
   "source": [
    "```text\n",
    "if\n",
    "else\n",
    "elif\n",
    "for\n",
    "while\n",
    "break\n",
    "continue\n",
    "pass\n",
    "try\n",
    "except\n",
    "finally\n",
    "raise\n",
    "return\n",
    "yield\n",
    "```"
   ]
  },
  {
   "cell_type": "markdown",
   "id": "d12c90e9",
   "metadata": {},
   "source": [
    "### Definition Key Words"
   ]
  },
  {
   "cell_type": "markdown",
   "id": "e81c94ae",
   "metadata": {
    "latex": {
     "environment": "key_terms"
    }
   },
   "source": [
    "```text\n",
    "def\n",
    "global\n",
    "nonlocal\n",
    "class\n",
    "lambda\n",
    "with\n",
    "assert\n",
    "del\n",
    "```"
   ]
  },
  {
   "cell_type": "markdown",
   "id": "f42cb2f5",
   "metadata": {},
   "source": [
    "### Module Keywords"
   ]
  },
  {
   "cell_type": "markdown",
   "id": "1efb68de",
   "metadata": {
    "latex": {
     "environment": "key_terms"
    }
   },
   "source": [
    "```text\n",
    "import\n",
    "from\n",
    "as\n",
    "```"
   ]
  },
  {
   "cell_type": "code",
   "execution_count": null,
   "id": "b4deb30d",
   "metadata": {},
   "outputs": [],
   "source": []
  }
 ],
 "metadata": {
  "jupytext": {
   "text_representation": {
    "extension": ".md",
    "format_name": "myst",
    "format_version": "0.9",
    "jupytext_version": "1.5.0"
   }
  },
  "kernelspec": {
   "display_name": "Python 3",
   "language": "python",
   "name": "python3"
  },
  "language_info": {
   "codemirror_mode": {
    "name": "ipython",
    "version": 3
   },
   "file_extension": ".py",
   "mimetype": "text/x-python",
   "name": "python",
   "nbconvert_exporter": "python",
   "pygments_lexer": "ipython3",
   "version": "3.8.10"
  },
  "source_map": [
   12,
   16,
   20,
   40,
   44,
   57,
   61,
   80,
   84,
   97,
   101,
   109
  ]
 },
 "nbformat": 4,
 "nbformat_minor": 5
}