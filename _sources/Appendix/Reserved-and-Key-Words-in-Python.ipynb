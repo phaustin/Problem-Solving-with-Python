{
 "cells": [
  {
   "cell_type": "markdown",
   "id": "67540fac",
   "metadata": {},
   "source": [
    "## Reserved and Keywords in Python"
   ]
  },
  {
   "cell_type": "markdown",
   "id": "a26164ac",
   "metadata": {},
   "source": [
    "The following are reserved and keywords in Python. These words should not be used as the names for user-defined variables, functions, classes, methods or modules. Python's keywords can be accessed with the following code:"
   ]
  },
  {
   "cell_type": "markdown",
   "id": "6eef8b48",
   "metadata": {},
   "source": [
    "```python\n",
    "import keyword\n",
    "print(f'There are {len(keyword.kwlist)} key words')\n",
    "for keywrd in keyword.kwlist:\n",
    "    print(keywrd)\n",
    "```\n",
    "\n",
    "```text\n",
    "There are 33 key words\n",
    "False\n",
    "None\n",
    "True\n",
    "and\n",
    "as\n",
    "...\n",
    "\n",
    "```"
   ]
  },
  {
   "cell_type": "markdown",
   "id": "a8c0ef1a",
   "metadata": {},
   "source": [
    "### Logical Keywords"
   ]
  },
  {
   "cell_type": "markdown",
   "id": "5800a3f8",
   "metadata": {
    "latex": {
     "environment": "key_terms"
    }
   },
   "source": [
    "```text\n",
    "True\n",
    "False\n",
    "not\n",
    "and\n",
    "or\n",
    "is\n",
    "None\n",
    "in\n",
    "```"
   ]
  },
  {
   "cell_type": "markdown",
   "id": "2b1d5385",
   "metadata": {},
   "source": [
    "### Control Flow Key Words"
   ]
  },
  {
   "cell_type": "markdown",
   "id": "68c080f6",
   "metadata": {
    "latex": {
     "environment": "key_terms"
    }
   },
   "source": [
    "```text\n",
    "if\n",
    "else\n",
    "elif\n",
    "for\n",
    "while\n",
    "break\n",
    "continue\n",
    "pass\n",
    "try\n",
    "except\n",
    "finally\n",
    "raise\n",
    "return\n",
    "yield\n",
    "```"
   ]
  },
  {
   "cell_type": "markdown",
   "id": "0bc5f234",
   "metadata": {},
   "source": [
    "### Definition Key Words"
   ]
  },
  {
   "cell_type": "markdown",
   "id": "bf0d0c1a",
   "metadata": {
    "latex": {
     "environment": "key_terms"
    }
   },
   "source": [
    "```text\n",
    "def\n",
    "global\n",
    "nonlocal\n",
    "class\n",
    "lambda\n",
    "with\n",
    "assert\n",
    "del\n",
    "```"
   ]
  },
  {
   "cell_type": "markdown",
   "id": "69736205",
   "metadata": {},
   "source": [
    "### Module Keywords"
   ]
  },
  {
   "cell_type": "markdown",
   "id": "da5917fd",
   "metadata": {
    "latex": {
     "environment": "key_terms"
    }
   },
   "source": [
    "```text\n",
    "import\n",
    "from\n",
    "as\n",
    "```"
   ]
  },
  {
   "cell_type": "code",
   "execution_count": null,
   "id": "9d698471",
   "metadata": {},
   "outputs": [],
   "source": []
  }
 ],
 "metadata": {
  "jupytext": {
   "text_representation": {
    "extension": ".md",
    "format_name": "myst",
    "format_version": "0.9",
    "jupytext_version": "1.5.0"
   }
  },
  "kernelspec": {
   "display_name": "Python 3",
   "language": "python",
   "name": "python3"
  },
  "language_info": {
   "codemirror_mode": {
    "name": "ipython",
    "version": 3
   },
   "file_extension": ".py",
   "mimetype": "text/x-python",
   "name": "python",
   "nbconvert_exporter": "python",
   "pygments_lexer": "ipython3",
   "version": "3.8.10"
  },
  "source_map": [
   12,
   16,
   20,
   40,
   44,
   57,
   61,
   80,
   84,
   97,
   101,
   109
  ]
 },
 "nbformat": 4,
 "nbformat_minor": 5
}