{
 "cells": [
  {
   "cell_type": "markdown",
   "id": "4a666d46",
   "metadata": {},
   "source": [
    "## About the Author"
   ]
  },
  {
   "cell_type": "markdown",
   "id": "80b9ad17",
   "metadata": {},
   "source": [
    "Peter D. Kazarinoff, PhD is a full-time faculty member in Engineering and Engineering Technology at Portland Community College in Portland, Oregon. Peter earned a PhD in Materials Science and Engineering from the University of Washington and a BA from Cornell University. He teaches courses in Engineering Programming, Materials Science, Manufacturing and others at Portland Community College.\n",
    "\n",
    "He blogs at: [pythonforundergradengineers.com](https://pythonforundergradengineers.com/)\n",
    "\n",
    "Peter lives in beautiful Portland, Oregon with his wife and two kids."
   ]
  },
  {
   "cell_type": "code",
   "execution_count": null,
   "id": "f20e073d",
   "metadata": {},
   "outputs": [],
   "source": []
  }
 ],
 "metadata": {
  "jupytext": {
   "text_representation": {
    "extension": ".md",
    "format_name": "myst",
    "format_version": "0.9",
    "jupytext_version": "1.5.0"
   }
  },
  "kernelspec": {
   "display_name": "Python 3",
   "language": "python",
   "name": "python3"
  },
  "language_info": {
   "codemirror_mode": {
    "name": "ipython",
    "version": 3
   },
   "file_extension": ".py",
   "mimetype": "text/x-python",
   "name": "python",
   "nbconvert_exporter": "python",
   "pygments_lexer": "ipython3",
   "version": "3.8.10"
  },
  "source_map": [
   12,
   16,
   24
  ]
 },
 "nbformat": 4,
 "nbformat_minor": 5
}