{
 "cells": [
  {
   "cell_type": "markdown",
   "id": "759a1224",
   "metadata": {},
   "source": [
    "## Git and GitHub"
   ]
  },
  {
   "cell_type": "markdown",
   "id": "03e0546a",
   "metadata": {},
   "source": [
    "**Git** is one of the standard _version control_ systems used by developers to save code and work on code collaboratively as a team. **Git** is a program run on the command line or **Anaconda Prompt**. If you use Windows, the **gitbash** program can be downloaded at [git-scm.com/downloads](https://git-scm.com/downloads). **Git** was created by Linus Torvalds, who also designed the Linux operating system."
   ]
  },
  {
   "cell_type": "markdown",
   "id": "872025f2",
   "metadata": {},
   "source": [
    "[GitHub.com](https://github.com/) (now owned by Microsoft) is a website and service used by programmers and open source projects to share code and allow contributors to propose changes to existing code. Other services such as [BitBucket.org](https://bitbucket.org) can be integrated with **git** too."
   ]
  },
  {
   "cell_type": "markdown",
   "id": "e9ce3b0c",
   "metadata": {},
   "source": [
    "Both **git** and [GitHub.com](https://github.com/) are useful for problem solvers working in teams."
   ]
  },
  {
   "cell_type": "markdown",
   "id": "7f32c48c",
   "metadata": {},
   "source": [
    "Before using **git** and GitHub.com, it is helpful to understand a couple of terms:\n",
    "\n",
    " * **git** - a command line program used to track file changes and collaborate on code with others.\n",
    " * **repo** - short name for \"repository\". A repo is a directory and its contents.\n",
    " * **local repo** -  a directory and its contents on your computer that **git** knows about.\n",
    " * **remote repo** - a directory and its contents stored in the cloud that **git** knows about."
   ]
  },
  {
   "cell_type": "markdown",
   "id": "dda76fc1",
   "metadata": {},
   "source": [
    "Useful **git** commands are summarized below:\n",
    "\n",
    " * ```git clone https://github.com/user/repo.git``` copy a remote repo from GitHub.com into a local directory\n",
    " \n",
    " * ```git init``` create a new local repo in the current folder\n",
    " \n",
    " * ```git remote add origin https://github.com/user/repo.git``` link a local repo to a remote repo on GitHub.com\n",
    " \n",
    " * ```git add .``` add all files and changes to the local repo\n",
    " \n",
    " * ```git commit -m \"commit message\"``` commit the changes in the local repo with the message ```\"commit message\"```\n",
    " \n",
    " * ```git push origin master``` push local changes up to the remote repo\n",
    " \n",
    " * ```git pull origin master``` pull down the version in the remote repo into the local repo"
   ]
  },
  {
   "cell_type": "markdown",
   "id": "9568064a",
   "metadata": {},
   "source": [
    "### Cloning a repo"
   ]
  },
  {
   "cell_type": "markdown",
   "id": "29536d79",
   "metadata": {},
   "source": [
    "One common operation to complete with **git** is to clone a repo from GitHub.com and save it locally. This means you copy all the files stored in the remote repo on GitHub.com onto your local computer. Cloning a repo from Github.com is accomplished with:\n",
    "\n",
    "```text\n",
    "$ git clone https://github.com/user/repo.git\n",
    "```\n",
    "\n",
    "This command copies the repo named ```repo``` from the user named ```user``` to a local computer. To clone the repo for MicroPython, use:\n",
    "\n",
    "```text\n",
    "$ git clone https://github.com/micropython/micropython.git\n",
    "```"
   ]
  },
  {
   "cell_type": "markdown",
   "id": "6b0193c5",
   "metadata": {},
   "source": [
    "### Creating and synching a remote repo on GitHub.com with a local repo"
   ]
  },
  {
   "cell_type": "markdown",
   "id": "c41289a1",
   "metadata": {},
   "source": [
    "Another common task to complete with **git** is to synch a remote repo on GitHub.com with a local repo on your local computer. This is useful when you want to keep the files in a particular project synched across multiple computers. Synched remote and local repos are also useful for a group of problem solvers working on the same project. Each team member has access to the same remote repo on GitHub.com and each team member has the same local repo on their computer.\n",
    "\n",
    "#### Create a remote repo on GitHub.com\n",
    "\n",
    "First, go to [GitHub.com/join](https://github.com/join) and create a new account. Log in and create a new repo. It is a good idea to include a license and a **_.gitignore_** file. For a Python project, the **_.gitignore_** file for Python is a good start. Two common licenses for open source projects (projects you are willing to share with others) are the _GNU General Public License v3.0_ and the _MIT License_.\n",
    "\n",
    "#### Make a new local repo and link the local repo to the remote repo on GitHub.com\n",
    "\n",
    "Second, create a local directory and ```cd``` into it. Initialize a git repo locally in that directory. Then synch the local folder with the remote repo on GitHub.com.\n",
    "\n",
    "```text\n",
    "$ mkdir newproject\n",
    "$ cd newproject\n",
    "$ git init\n",
    "$ git remote add origin https://github.com/user/repo.git\n",
    "$ git pull origin master\n",
    "```\n",
    "\n",
    "#### Add, commit and push changes up to Github.com\n",
    "\n",
    "Third, work on the project locally. For example, you could edit one of the files in the directory ```newproject``` or create a new file in the directory ```newproject```.\n",
    "\n",
    "Finally, save your work and commit the changes you made with **git**. Push those changes up to the remote repo on GitHub.com\n",
    "\n",
    "```text\n",
    "$ git add .\n",
    "$ git commit -m \"commit message\"\n",
    "$ git push origin master\n",
    "```\n",
    "\n",
    "#### Pull the most recent version from GitHub.com before each work session\n",
    "\n",
    "If using **git** and GitHub.com, remember to pull the most recent version of the repo down from GitHub.com before you make any changes locally. If changes are made locally before the version of the repo on GitHub.com is synched, the local repo and remote repo will be out of synch.\n",
    "\n",
    "```text\n",
    "$ git pull origin master\n",
    "```\n",
    "\n",
    "After local changes are made, save the changes and push to GitHub.com\n",
    "\n",
    "```text\n",
    "$ git add .\n",
    "$ git commit -m \"commit message\"\n",
    "$ git push orign master\n",
    "```"
   ]
  },
  {
   "cell_type": "code",
   "execution_count": null,
   "id": "c27796ce",
   "metadata": {},
   "outputs": [],
   "source": []
  }
 ],
 "metadata": {
  "jupytext": {
   "text_representation": {
    "extension": ".md",
    "format_name": "myst",
    "format_version": "0.9",
    "jupytext_version": "1.5.0"
   }
  },
  "kernelspec": {
   "display_name": "Python 3",
   "language": "python",
   "name": "python3"
  },
  "language_info": {
   "codemirror_mode": {
    "name": "ipython",
    "version": 3
   },
   "file_extension": ".py",
   "mimetype": "text/x-python",
   "name": "python",
   "nbconvert_exporter": "python",
   "pygments_lexer": "ipython3",
   "version": "3.8.0"
  },
  "source_map": [
   12,
   16,
   20,
   24,
   28,
   37,
   55,
   59,
   73,
   77,
   125
  ]
 },
 "nbformat": 4,
 "nbformat_minor": 5
}