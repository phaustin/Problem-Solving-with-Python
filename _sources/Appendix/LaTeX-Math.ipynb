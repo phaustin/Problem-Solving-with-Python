{
 "cells": [
  {
   "cell_type": "markdown",
   "id": "c9444172",
   "metadata": {},
   "source": [
    "## LaTeX Math"
   ]
  },
  {
   "cell_type": "markdown",
   "id": "2fe2c286",
   "metadata": {},
   "source": [
    "LaTeX math can be included in Jupyter notebook markdown cells. LaTeX math can also be included in parts of Matplotlib plots like axis labels and text fields.\n",
    "\n",
    "Inline LaTeX math commands need to be enclosed by the dollar signs.\n",
    "\n",
    "```text\n",
    "The angle is $2\\pi$ radians\n",
    "```\n",
    "\n",
    "The markup above is rendered as:\n",
    "\n",
    "The angle is $2\\pi$ radians\n",
    "\n",
    "A table of useful LaTeX commands and the associated output is below. Note curly braces ```{  }``` are used to surround LaTeX math elements and a backslash ``` \\ ``` is used before LaTeX commands.\n",
    "\n",
    "\n",
    "| LaTeX Command | Output |\n",
    "| --- | --- |\n",
    "| ```2^{3}``` | $2^{3}$ |\n",
    "| ```H_{2}``` | $H_{2}$ |\n",
    "| ```\\frac{3}{4}``` | $\\frac{3}{4}$ |\n",
    "| ```\\pi``` | $\\pi$ |\n",
    "| ```\\Delta``` | $\\Delta$ |\n",
    "| ```\\epsilon``` | $\\epsilon$ |\n",
    "| ```\\sigma``` | $\\sigma$ |\n",
    "| ```2 \\times 3``` | $2 \\times 3$ |\n",
    "| ```\\int_{a}^{b} x^2 dx ``` | $\\int_{a}^{b} x^2 dx$ |\n",
    "| ```\\sum``` | $\\sum$ |\n",
    "| ```\\vec{F}``` | $\\vec{F}$ |\n",
    "| ```\\hat{k}``` | $\\hat{k}$ |\n",
    "| ```\\bar{x}``` | $\\bar{x}$ |\n",
    "| ```15 \\%``` | $15 \\%$ |"
   ]
  },
  {
   "cell_type": "code",
   "execution_count": null,
   "id": "8165e2bd",
   "metadata": {},
   "outputs": [],
   "source": []
  }
 ],
 "metadata": {
  "jupytext": {
   "text_representation": {
    "extension": ".md",
    "format_name": "myst",
    "format_version": "0.9",
    "jupytext_version": "1.5.0"
   }
  },
  "kernelspec": {
   "display_name": "Python 3",
   "language": "python",
   "name": "python3"
  },
  "language_info": {
   "codemirror_mode": {
    "name": "ipython",
    "version": 3
   },
   "file_extension": ".py",
   "mimetype": "text/x-python",
   "name": "python",
   "nbconvert_exporter": "python",
   "pygments_lexer": "ipython3",
   "version": "3.8.10"
  },
  "source_map": [
   12,
   16,
   50
  ]
 },
 "nbformat": 4,
 "nbformat_minor": 5
}