{
 "cells": [
  {
   "cell_type": "markdown",
   "id": "d945a9f0",
   "metadata": {},
   "source": [
    "# Appendix"
   ]
  },
  {
   "cell_type": "markdown",
   "id": "fb68a8a7",
   "metadata": {},
   "source": [
    "## Contents"
   ]
  },
  {
   "cell_type": "markdown",
   "id": "0dab35e5",
   "metadata": {
    "latex": {
     "after_cell": "newpage"
    }
   },
   "source": [
    "The following is detailed in the appendix:\n",
    "\n",
    " * Reserved and Key Words in Python\n",
    " \n",
    " * ASCII Character Codes\n",
    " \n",
    " * Virtual Environments\n",
    " \n",
    " * NumPy Math Functions\n",
    " \n",
    " * Git and GitHub\n",
    " \n",
    " * LaTeX Math\n",
    " \n",
    " * Problem Solving with Python 3.7 Edition Book Construction\n",
    " \n",
    " * Contributions\n",
    " \n",
    " * Cover Artwork\n",
    " \n",
    " * About the author"
   ]
  },
  {
   "cell_type": "code",
   "execution_count": null,
   "id": "0b563fec",
   "metadata": {},
   "outputs": [],
   "source": []
  }
 ],
 "metadata": {
  "jupytext": {
   "text_representation": {
    "extension": ".md",
    "format_name": "myst",
    "format_version": "0.9",
    "jupytext_version": "1.5.0"
   }
  },
  "kernelspec": {
   "display_name": "Python 3",
   "language": "python",
   "name": "python3"
  },
  "language_info": {
   "codemirror_mode": {
    "name": "ipython",
    "version": 3
   },
   "file_extension": ".py",
   "mimetype": "text/x-python",
   "name": "python",
   "nbconvert_exporter": "python",
   "pygments_lexer": "ipython3",
   "version": "3.8.10"
  },
  "source_map": [
   12,
   16,
   20,
   44
  ]
 },
 "nbformat": 4,
 "nbformat_minor": 5
}