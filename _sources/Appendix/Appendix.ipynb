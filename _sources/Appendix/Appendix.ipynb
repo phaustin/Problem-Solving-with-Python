{
 "cells": [
  {
   "cell_type": "markdown",
   "id": "6ca3a29e",
   "metadata": {},
   "source": [
    "# Appendix"
   ]
  },
  {
   "cell_type": "markdown",
   "id": "dc7e141d",
   "metadata": {},
   "source": [
    "## Contents"
   ]
  },
  {
   "cell_type": "markdown",
   "id": "4f88a550",
   "metadata": {
    "latex": {
     "after_cell": "newpage"
    }
   },
   "source": [
    "The following is detailed in the appendix:\n",
    "\n",
    " * Reserved and Key Words in Python\n",
    " \n",
    " * ASCII Character Codes\n",
    " \n",
    " * Virtual Environments\n",
    " \n",
    " * NumPy Math Functions\n",
    " \n",
    " * Git and GitHub\n",
    " \n",
    " * LaTeX Math\n",
    " \n",
    " * Problem Solving with Python 3.7 Edition Book Construction\n",
    " \n",
    " * Contributions\n",
    " \n",
    " * Cover Artwork\n",
    " \n",
    " * About the author"
   ]
  },
  {
   "cell_type": "code",
   "execution_count": null,
   "id": "bae7e00e",
   "metadata": {},
   "outputs": [],
   "source": []
  }
 ],
 "metadata": {
  "jupytext": {
   "text_representation": {
    "extension": ".md",
    "format_name": "myst",
    "format_version": "0.9",
    "jupytext_version": "1.5.0"
   }
  },
  "kernelspec": {
   "display_name": "Python 3",
   "language": "python",
   "name": "python3"
  },
  "language_info": {
   "codemirror_mode": {
    "name": "ipython",
    "version": 3
   },
   "file_extension": ".py",
   "mimetype": "text/x-python",
   "name": "python",
   "nbconvert_exporter": "python",
   "pygments_lexer": "ipython3",
   "version": "3.8.10"
  },
  "source_map": [
   12,
   16,
   20,
   44
  ]
 },
 "nbformat": 4,
 "nbformat_minor": 5
}