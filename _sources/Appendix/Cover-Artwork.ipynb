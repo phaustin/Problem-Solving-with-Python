{
 "cells": [
  {
   "cell_type": "markdown",
   "id": "5f625b5e",
   "metadata": {},
   "source": [
    "## Cover Artwork"
   ]
  },
  {
   "cell_type": "markdown",
   "id": "eb31a96e",
   "metadata": {},
   "source": [
    "Mike Schultz is a printmaker and illustrator who has taught art to Burmese migrant youth on the Thailand-Burma border. He currently lives and works in Portland, Oregon with his cat, Siam.\n",
    "\n",
    "Instagram: [```@mike_schultz_studio```](https://www.instagram.com/mike_schultz_studio/)\n",
    "\n",
    "Website: [mikeschultzstudio.com](http://mikeschultzstudio.squarespace.com/)"
   ]
  },
  {
   "cell_type": "code",
   "execution_count": null,
   "id": "7aa4ecd6",
   "metadata": {},
   "outputs": [],
   "source": []
  }
 ],
 "metadata": {
  "jupytext": {
   "text_representation": {
    "extension": ".md",
    "format_name": "myst",
    "format_version": "0.9",
    "jupytext_version": "1.5.0"
   }
  },
  "kernelspec": {
   "display_name": "Python 3",
   "language": "python",
   "name": "python3"
  },
  "language_info": {
   "codemirror_mode": {
    "name": "ipython",
    "version": 3
   },
   "file_extension": ".py",
   "mimetype": "text/x-python",
   "name": "python",
   "nbconvert_exporter": "python",
   "pygments_lexer": "ipython3",
   "version": "3.8.10"
  },
  "source_map": [
   12,
   16,
   24
  ]
 },
 "nbformat": 4,
 "nbformat_minor": 5
}