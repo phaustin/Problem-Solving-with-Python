{
 "cells": [
  {
   "cell_type": "markdown",
   "id": "753f5fc7",
   "metadata": {},
   "source": [
    "## Contributions"
   ]
  },
  {
   "cell_type": "markdown",
   "id": "a1e0f4ce",
   "metadata": {},
   "source": [
    "Any corrections, typos or suggestions to improve the text can be emailed to:\n",
    "\n",
    " > [errata@problemsolvingwithpython.com](mailto:errata@problemsolvingwithpython.com)\n",
    " \n",
    "Please include the chapter number and section number in your email. Include in your email if you would like to remain anonymous or have your name recognized in the contributor list. Thank-you in advance for improving the text for others."
   ]
  },
  {
   "cell_type": "markdown",
   "id": "b63a9dc9",
   "metadata": {},
   "source": [
    "### Contributor List\n",
    "\n",
    " * Levi, Blessing, and Ngan helped improve some review questions\n",
    " \n",
    " * Justin improved a worked example and corrected typos in review questions and Chapter 5."
   ]
  },
  {
   "cell_type": "code",
   "execution_count": null,
   "id": "df20e12c",
   "metadata": {},
   "outputs": [],
   "source": []
  }
 ],
 "metadata": {
  "jupytext": {
   "text_representation": {
    "extension": ".md",
    "format_name": "myst",
    "format_version": "0.9",
    "jupytext_version": "1.5.0"
   }
  },
  "kernelspec": {
   "display_name": "Python 3",
   "language": "python",
   "name": "python3"
  },
  "language_info": {
   "codemirror_mode": {
    "name": "ipython",
    "version": 3
   },
   "file_extension": ".py",
   "mimetype": "text/x-python",
   "name": "python",
   "nbconvert_exporter": "python",
   "pygments_lexer": "ipython3",
   "version": "3.8.0"
  },
  "source_map": [
   12,
   16,
   24,
   32
  ]
 },
 "nbformat": 4,
 "nbformat_minor": 5
}