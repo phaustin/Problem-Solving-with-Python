{
 "cells": [
  {
   "cell_type": "markdown",
   "id": "7a6b74db",
   "metadata": {},
   "source": [
    "## Virtual Environments"
   ]
  },
  {
   "cell_type": "markdown",
   "id": "c366a494",
   "metadata": {},
   "source": [
    "Using _virtual environments_ is standard practice in Python. A virtual environment is an isolated installation of Python with associated packages. When you use virtual environments, one project can have a separate version of Python and packages. Another project can use a different virtual environment and therefore have a different version of Python and a different set of packages. \n",
    "\n",
    "Two projects on the same computer can use different versions of Python and different versions of packages if virtual environments are used."
   ]
  },
  {
   "cell_type": "markdown",
   "id": "6e0590e5",
   "metadata": {},
   "source": [
    "### Create a virtual environment with the Anaconda Prompt\n",
    "\n",
    "To create the new virtual environment, open the **Anaconda Prompt** and issue the command:\n",
    "\n",
    "```text\n",
    "> conda create --name env_name python=3.7\n",
    "```\n",
    "\n",
    "The ```conda create``` command builds the new virtual environment. The ```--name env_name``` flag gives the new virtual environment the name ```env_name```.  Including ```python=3.7``` ensures the virtual environment has a current version of Python. \n",
    "\n",
    "The following output or something similar results:\n",
    "\n",
    "```text\n",
    "The following NEW packages will be INSTALLED:\n",
    "\n",
    "  ca-certificates    ca-certificates-2019.5.15-0\n",
    "  certifi            certifi-2019.6.16-py37_0\n",
    "  openssl            openssl-1.1.1c-he774522_1\n",
    "  pip                pip-19.1.1-py37_0\n",
    "  python             python-3.7.3-h8c8aaf0_1\n",
    "  setuptools         setuptools-41.0.1-py37_0\n",
    "  sqlite             sqlite-3.28.0-he774522_0\n",
    "  vc                 vc-14.1-h0510ff6_4\n",
    "  vs2015_runtime     vs2015_runtime-14.15.26706-h3a45250_4\n",
    "  wheel              wheel-0.33.4-py37_0\n",
    "  wincertstore       wincertstore-0.2-py37_0\n",
    "```\n",
    "\n",
    "Type ```y``` to confirm and create the new virtual environment."
   ]
  },
  {
   "cell_type": "markdown",
   "id": "3656b63e",
   "metadata": {},
   "source": [
    "### Activate a virtual environment\n",
    "\n",
    "To use the new virtual environment ```env_name```, the virtual environment needs to be _activated_. To activate the environment ```env_name```, issue the command:\n",
    "\n",
    "```text\n",
    "> conda activate env_name\n",
    "```\n",
    "\n",
    "The virtual environment is active when you see ```(env_name) >``` in parenthesis at the start of the prompt.\n",
    "\n",
    "```text\n",
    "(env_name) > \n",
    "```"
   ]
  },
  {
   "cell_type": "markdown",
   "id": "6c106f79",
   "metadata": {},
   "source": [
    "### Install packages in a virtual environment\n",
    "\n",
    "When a new virtual environment is created, no packages are installed by default. If you use the Anaconda distribution of Python, the ```base``` environment contains about 600 packages that come with Anaconda. But a fresh new virtual environment will just have Python installed, no other packages.\n",
    "\n",
    "To install a package into the virtual environment ```env_name```, first make sure the environment is active (```(env_name)``` before the prompt). Then package installation is accomplished with the ```conda install``` command followed by the package name. To install Matplotlib into a virtual environment type:\n",
    "\n",
    "```text\n",
    "(env_name) > conda install matplotlib\n",
    "```\n",
    "\n",
    "Multiple packages can be installed with the same command. To install both NumPy and Jupyter at the same time use:\n",
    "\n",
    "```text\n",
    "(env_name) > conda install numpy jupyter\n",
    "```"
   ]
  },
  {
   "cell_type": "markdown",
   "id": "54d2669d",
   "metadata": {},
   "source": [
    "### Deactivate a virtual environment\n",
    "\n",
    "To deactivate an active environment, run the command:\n",
    "\n",
    "```text\n",
    "(env_name) > conda deactivate\n",
    ">\n",
    "```\n",
    "\n",
    "When the virtual environment is deactivated, the prompt looks normal (just ```>```), with no environment name in parenthesis before it."
   ]
  },
  {
   "cell_type": "markdown",
   "id": "b9db9008",
   "metadata": {},
   "source": [
    "### List your virtual environments\n",
    "\n",
    "View a list of your virtual environments using the command ```conda info --envs``` or ```conda env list```.\n",
    "\n",
    "```text\n",
    "> conda activate env_name\n",
    "(env_name) > conda info --envs\n",
    "\n",
    "# conda environments:\n",
    "#\n",
    "base                     /home/tribilium/anaconda3\n",
    "env_name               * /home/tribilium/anaconda3/envs/env_name\n",
    "matplotlib               /home/tribilium/anaconda3/envs/matplotlib\n",
    "```\n",
    "\n",
    "Notice the ``` * ``` asterisk on the line with ```env_name```. The virtual environment with the ``` * ``` is currently active. \n",
    "\n",
    "To exit the virtual environment, use the command ``` conda deactivate```. \n",
    "\n",
    "```text\n",
    "(env_name) > conda deactive\n",
    "```\n",
    "\n",
    "If you run ```conda info --envs``` again, there is no ```*``` in front of ```env_name```. That's because the ```env_name``` virtual environment is no longer active.\n",
    "\n",
    "```text\n",
    "> conda info --envs\n",
    "\n",
    "# conda environments:\n",
    "#\n",
    "base                  *  /home/tribilium/anaconda3\n",
    "env_name                 /home/tribilium/anaconda3/envs/env_name\n",
    "matplotlib               /home/tribilium/anaconda3/envs/matplotlib\n",
    "\n",
    "```"
   ]
  },
  {
   "cell_type": "markdown",
   "id": "893793fe",
   "metadata": {},
   "source": [
    "### Remove a virtual environment\n",
    "\n",
    "Remove a virtual environment with the command ```conda remove --name env_name --all```. You need to exit out of the environment before you remove it.\n",
    "\n",
    "Check to see if the virtual environment you want to remove is present:\n",
    "\n",
    "```text\n",
    "> conda info --envs\n",
    "\n",
    "# conda environments:\n",
    "#\n",
    "base                  *  /home/tribilium/anaconda3\n",
    "env_name                 /home/tribilium/anaconda3/envs/env_name\n",
    "matplotlib               /home/tribilium/anaconda3/envs/matplotlib\n",
    "\n",
    "```\n",
    "\n",
    "Remove the virtual environment called ```env_name``` using the command.\n",
    "\n",
    "```text\n",
    "> conda remove --name env_name --all\n",
    "\n",
    "Proceed ([y]/n)?\n",
    "```\n",
    "\n",
    "Type [y] to remove the environment. Now view a list of your virtual environments again. Note that ```env_name``` is no longer in the list.\n",
    "\n",
    "```text\n",
    "> conda info --envs\n",
    "\n",
    "# conda environments:\n",
    "#\n",
    "base                  *  /home/tribilium/anaconda3\n",
    "matplotlib               /home/tribilium/anaconda3/envs/matplotlib\n",
    "\n",
    "```"
   ]
  },
  {
   "cell_type": "code",
   "execution_count": null,
   "id": "90ca5aff",
   "metadata": {},
   "outputs": [],
   "source": []
  }
 ],
 "metadata": {
  "jupytext": {
   "text_representation": {
    "extension": ".md",
    "format_name": "myst",
    "format_version": "0.9",
    "jupytext_version": "1.5.0"
   }
  },
  "kernelspec": {
   "display_name": "Python 3",
   "language": "python",
   "name": "python3"
  },
  "language_info": {
   "codemirror_mode": {
    "name": "ipython",
    "version": 3
   },
   "file_extension": ".py",
   "mimetype": "text/x-python",
   "name": "python",
   "nbconvert_exporter": "python",
   "pygments_lexer": "ipython3",
   "version": "3.8.0"
  },
  "source_map": [
   12,
   16,
   22,
   54,
   70,
   88,
   101,
   139,
   178
  ]
 },
 "nbformat": 4,
 "nbformat_minor": 5
}