{
 "cells": [
  {
   "cell_type": "markdown",
   "id": "1627f50a",
   "metadata": {},
   "source": [
    "## Problem Solving with Python Book Construction"
   ]
  },
  {
   "cell_type": "markdown",
   "id": "7c6c4a9a",
   "metadata": {},
   "source": [
    "### Jupyter Notebooks"
   ]
  },
  {
   "cell_type": "markdown",
   "id": "d4ad6d7c",
   "metadata": {},
   "source": [
    "This book was constructed using Jupyter notebooks. The GitHub.com repo for the book can be found at:\n",
    "    \n",
    " > [github.com/ProfessorKazarinoff/Problem-Solving-with-Python-37-Edition](https://github.com/ProfessorKazarinoff/Problem-Solving-with-Python-37-Edition)"
   ]
  },
  {
   "cell_type": "markdown",
   "id": "8acf0df1",
   "metadata": {},
   "source": [
    "The directory structure of the GitHub repo contains all the Jupyter notebooks used the write the book. The repo also contains a set of custom conversion scripts and templates which convert the Jupyuter notebooks into **_.html_** and **_.tex_** files."
   ]
  },
  {
   "cell_type": "markdown",
   "id": "56d9663c",
   "metadata": {},
   "source": [
    "```text\n",
    "Problem-Solving-with-Python-37-Edition/\n",
    "|-- conversion_tools/\n",
    "|-- notebooks/\n",
    "|-- LICENSE\n",
    "|-- notebooks/\n",
    "|-- pdf/\n",
    "|-- README.md\n",
    "|-- website/\n",
    "```"
   ]
  },
  {
   "cell_type": "markdown",
   "id": "25a161a8",
   "metadata": {},
   "source": [
    "The ```notebooks``` directory contains a directory for each chapter of the book:"
   ]
  },
  {
   "cell_type": "markdown",
   "id": "1bec8645",
   "metadata": {},
   "source": [
    "```text\n",
    "notebooks/\n",
    "|-- 00-Preface/\n",
    "|-- 01-Orientation/\n",
    "|-- 02-Jupyter-Notebooks/\n",
    "|-- 03-The-Python-REPL/\n",
    "|-- 04-Data-Types-and-Variables/\n",
    "|-- 05-Matrices-and-Arrays/\n",
    "|-- 06-Plotting-with-Matplotlib/\n",
    "|-- 07-Functions-and-Modules/\n",
    "|-- 08-If-Else-Try-Except/\n",
    "|-- 09-Loops/\n",
    "|-- 10-Symbolic-Math/\n",
    "|-- 11-Python-and-External-Hardware/\n",
    "|-- 12-MicroPython/\n",
    "|-- 99-Appendix/\n",
    "`-- figures/\n",
    "```\n",
    "\n",
    "There is a Jupyter notebook for each section of the book within each chapter directory. Each chapter directory contains an ```images``` directory for any images used in the markdown cells of the notebooks.\n",
    "\n",
    "```text\n",
    "01-Orientation/\n",
    "|-- 01.00-Welcome.ipynb\n",
    "|-- 01.01-Why-Python.ipynb\n",
    "|-- 01.02-The-Anaconda-Distribution-of-Python.ipynb\n",
    "|-- 01.03-Installing-Anaconda-on-Windows.ipynb\n",
    "|-- 01.04-Installing-Anaconda-on-MacOS.ipynb\n",
    "|-- 01.05-Installing-Anaconda-on-Linux.ipynb\n",
    "|-- 01.06-Installing-Python-from-Python-dot-org.ipynb\n",
    "|-- 01.07-Summary.ipynb\n",
    "|-- 01.08-Review-Questions.ipynb\n",
    "`-- images/\n",
    "```"
   ]
  },
  {
   "cell_type": "markdown",
   "id": "4c97b0d0",
   "metadata": {},
   "source": [
    "### Website"
   ]
  },
  {
   "cell_type": "markdown",
   "id": "e814e9f0",
   "metadata": {},
   "source": [
    "The website for this book was constructed using **Mkdocs** (https://www.mkdocs.org) and the **Material for MkDocs** (https://squidfunk.github.io/mkdocs-material/) theme. Jupyter noteboks were exported to **_.html_** files with markdown cells unformatted using a custom script and **nbconvert**."
   ]
  },
  {
   "cell_type": "markdown",
   "id": "2c8ae20a",
   "metadata": {},
   "source": [
    "### Hardcopy"
   ]
  },
  {
   "cell_type": "markdown",
   "id": "8cbdf47d",
   "metadata": {},
   "source": [
    "The hard copy of the book was constructed using LaTeX, **nbconvert** and a set of custom scripts and templates. One conversion script combined all of the notebooks into one BIG notebook.  The BIG notebook was then converted into LaTeX using **nbconvert** and a custom template. Outside of the Python ecosystem, a separate installation of TeXworks compiled the LaTeX **_.tex_** file to a **_.pdf_** document."
   ]
  },
  {
   "cell_type": "code",
   "execution_count": null,
   "id": "fb9c2509",
   "metadata": {},
   "outputs": [],
   "source": []
  }
 ],
 "metadata": {
  "jupytext": {
   "text_representation": {
    "extension": ".md",
    "format_name": "myst",
    "format_version": "0.9",
    "jupytext_version": "1.5.0"
   }
  },
  "kernelspec": {
   "display_name": "Python 3",
   "language": "python",
   "name": "python3"
  },
  "language_info": {
   "codemirror_mode": {
    "name": "ipython",
    "version": 3
   },
   "file_extension": ".py",
   "mimetype": "text/x-python",
   "name": "python",
   "nbconvert_exporter": "python",
   "pygments_lexer": "ipython3",
   "version": "3.8.10"
  },
  "source_map": [
   12,
   16,
   20,
   26,
   30,
   43,
   47,
   84,
   88,
   92,
   96,
   100
  ]
 },
 "nbformat": 4,
 "nbformat_minor": 5
}