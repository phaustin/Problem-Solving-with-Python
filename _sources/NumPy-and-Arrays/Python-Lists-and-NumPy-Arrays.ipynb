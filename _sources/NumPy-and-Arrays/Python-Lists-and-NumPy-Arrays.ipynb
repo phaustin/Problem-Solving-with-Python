{
 "cells": [
  {
   "cell_type": "markdown",
   "id": "5e6fb83b",
   "metadata": {},
   "source": [
    "## Python Lists and NumPy Arrays"
   ]
  },
  {
   "cell_type": "markdown",
   "id": "cc3c3c09",
   "metadata": {},
   "source": [
    "NumPy is a Python package used for numerical calculations, working with arrays of homogeneous values, and scientific computing. This section introduces NumPy arrays then explains the difference between Python lists and NumPy arrays."
   ]
  },
  {
   "cell_type": "markdown",
   "id": "218d6015",
   "metadata": {},
   "source": [
    "### Python Lists\n",
    "\n",
    "NumPy is used to construct homogeneous arrays and perform mathematical operations on arrays. A NumPy array is different from a Python list. The data types stored in a Python list can all be different.\n",
    "\n",
    "```python\n",
    "python_list = [ 1, -0.038, 'gear', True]\n",
    "```\n",
    "\n",
    "The Python list above contains four different data types: ```1``` is an integer, ```-0.038``` is a float, ```'gear'``` is a string, and ```'True'``` is a boolean.\n",
    "\n",
    "The code below prints the data type of each value store in ```python_list```."
   ]
  },
  {
   "cell_type": "code",
   "execution_count": null,
   "id": "4755fe43",
   "metadata": {},
   "outputs": [],
   "source": [
    "python_list = [1, -0.038, 'gear', True]\n",
    "for item in python_list:\n",
    "    print(type(item))"
   ]
  },
  {
   "cell_type": "markdown",
   "id": "7cc5953e",
   "metadata": {},
   "source": [
    "### NumPy Arrays\n",
    "\n",
    "The values stored in a NumPy array must all share the same data type. Consider the NumPy array below:\n",
    "\n",
    "```python\n",
    "np.array([1.0, 3.1, 5e-04, 0.007])\n",
    "```\n",
    "\n",
    "All four values stored in the NumPy array above share the same data type: ```1.0```, ```3.1```, ```5e-04```, and ```0.007``` are all floats.\n",
    "\n",
    "The code below prints the data type of each value stored in the NumPy array above."
   ]
  },
  {
   "cell_type": "code",
   "execution_count": null,
   "id": "1130c2ac",
   "metadata": {},
   "outputs": [],
   "source": [
    "import numpy as np\n",
    "\n",
    "for value in np.array([1.0, 3.1, 5e-04, 0.007]):\n",
    "    print(type(value))"
   ]
  },
  {
   "cell_type": "markdown",
   "id": "80a3546e",
   "metadata": {},
   "source": [
    "If the same four elements stored in the previous Python list are stored in a NumPy array, NumPy forces all of the four items in the list to conform to the same data type. \n",
    "\n",
    "In the next code section, all four items are converted to type ```'<U32'```, which is a string data type in NumPy (the ```U``` refers Unicode strings; all strings in Python are Unicode by default)."
   ]
  },
  {
   "cell_type": "code",
   "execution_count": null,
   "id": "83d282a1",
   "metadata": {},
   "outputs": [],
   "source": [
    "np.array([1, -0.038, 'gear', True])"
   ]
  },
  {
   "cell_type": "markdown",
   "id": "aabc51f7",
   "metadata": {},
   "source": [
    "NumPy arrays can also be two-dimensional, three-dimensional, or up to n-dimensional. In practice, computer resources limit array size.  Remember that regardless of size, all elements in a NumPy array must be the same type."
   ]
  },
  {
   "cell_type": "markdown",
   "id": "29f0c694",
   "metadata": {},
   "source": [
    "NumPy arrays are useful because mathematical operations can be run on an entire array simultaneously. If numbers are stored in a regular Python list and the list is multiplied by a scalar, the list extends and repeats- instead of multiplying each number in the list by the scalar.\n",
    "\n",
    "The code below demonstrates list repetition using the multiplication operator, ```*```."
   ]
  },
  {
   "cell_type": "code",
   "execution_count": null,
   "id": "80cfd99d",
   "metadata": {},
   "outputs": [],
   "source": [
    "lst = [1, 2, 3, 4]\n",
    "lst*2"
   ]
  },
  {
   "cell_type": "markdown",
   "id": "778a8eba",
   "metadata": {},
   "source": [
    "To multiply each element in a Python list by the number ```2```, a loop can be used:"
   ]
  },
  {
   "cell_type": "code",
   "execution_count": null,
   "id": "63a6d1b8",
   "metadata": {},
   "outputs": [],
   "source": [
    "lst = [1, 2, 3, 4]\n",
    "for i, item in enumerate(lst):\n",
    "    lst[i] = lst[i]*2\n",
    "lst"
   ]
  },
  {
   "cell_type": "markdown",
   "id": "07681480",
   "metadata": {},
   "source": [
    "The method above is relatively cumbersome and is also quite _computationally expensive_. An operation that is computationally expensive is an operation that takes a lot of processing time or storage resources like RAM and CPU bandwidth.\n",
    "\n",
    "Another way to complete the same operation in the loop above is to use a NumPy array."
   ]
  },
  {
   "cell_type": "markdown",
   "id": "4a5cf37f",
   "metadata": {},
   "source": [
    "### Array Multiplication\n",
    "\n",
    "An entire NumPy array can be multiplied by a scalar in one step. The scalar multiplication operation below produces an array with each element multiplied by the scalar ```2```."
   ]
  },
  {
   "cell_type": "code",
   "execution_count": null,
   "id": "5506425c",
   "metadata": {},
   "outputs": [],
   "source": [
    "nparray = np.array([1,2,3,4])\n",
    "2*nparray"
   ]
  },
  {
   "cell_type": "markdown",
   "id": "e170a78d",
   "metadata": {},
   "source": [
    "If we have a very long list of numbers, we can compare the amount of time it takes each of the two computation methods above, a list with a loop compared to array multiplication to complete the same operation. This comparison highlights an advantage of arrays compared to lists- speed."
   ]
  },
  {
   "cell_type": "markdown",
   "id": "9ccc071a",
   "metadata": {},
   "source": [
    "### Timing Arrays\n",
    "\n",
    "Jupyter notebooks have a nice built-in method to time how long a line of code takes to execute. In a Jupyter notebook, when a line starts with ```%timeit``` followed by code, the kernel runs the line of code multiple times and outputs an average of the time spent to execute the line of code.\n",
    "\n",
    "We can use ```%timit``` to compare a mathematical operation on a Python list using a for loop to the same mathematical operation on a NumPy array."
   ]
  },
  {
   "cell_type": "code",
   "execution_count": null,
   "id": "a719cba1",
   "metadata": {},
   "outputs": [],
   "source": [
    "lst = list(range(10000))\n",
    "%timeit for i, item in enumerate(lst): lst[i] = lst[i]*2"
   ]
  },
  {
   "cell_type": "code",
   "execution_count": null,
   "id": "0d835f68",
   "metadata": {},
   "outputs": [],
   "source": [
    "nparray = np.arange(0,10000,1)\n",
    "%timeit 2*nparray"
   ]
  },
  {
   "cell_type": "markdown",
   "id": "e627ac23",
   "metadata": {},
   "source": [
    "With 10,000 integers, the Python list and for loop takes an average of single milliseconds, while the NumPy array completes the same operation in tens of microseconds. This is a speed increase of over 100x by using the NumPy array (1 millisecond = 1000 microseconds).\n",
    "\n",
    "For larger lists of numbers, the speed increase using NumPy is considerable."
   ]
  },
  {
   "cell_type": "code",
   "execution_count": null,
   "id": "e35d1f14",
   "metadata": {},
   "outputs": [],
   "source": []
  }
 ],
 "metadata": {
  "jupytext": {
   "text_representation": {
    "extension": ".md",
    "format_name": "myst",
    "format_version": "0.9",
    "jupytext_version": "1.5.0"
   }
  },
  "kernelspec": {
   "display_name": "Python 3",
   "language": "python",
   "name": "python3"
  },
  "source_map": [
   12,
   16,
   20,
   34,
   38,
   52,
   57,
   63,
   65,
   69,
   75,
   78,
   82,
   87,
   93,
   99,
   102,
   106,
   114,
   119,
   122,
   128
  ]
 },
 "nbformat": 4,
 "nbformat_minor": 5
}