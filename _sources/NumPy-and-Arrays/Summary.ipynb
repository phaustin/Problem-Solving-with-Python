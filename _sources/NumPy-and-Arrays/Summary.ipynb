{
 "cells": [
  {
   "cell_type": "markdown",
   "id": "a99445a2",
   "metadata": {
    "latex": {
     "before_cell": "newpage"
    }
   },
   "source": [
    "## Summary"
   ]
  },
  {
   "cell_type": "markdown",
   "id": "e6131759",
   "metadata": {},
   "source": [
    "In this chapter, you learned how to work with NumPy arrays. NumPy is a Python package used for numerical calculations and arrays. An array is a data structure which only contains objects that share the same data type. Arrays are faster than lists in large-scale numerical calculations. \n",
    "\n",
    "You learned how to create arrays in a variety of ways:\n",
    "\n",
    " * Create an array from a Python list with ```np.array()```\n",
    " * Create an array of regularly spaced numbers with ```np.arange()```, ```np.linspace()```, and ```np.logspace```\n",
    " * Create an array of random numbers with ```np.random.ranint()```, ```np.random.rand()```, and ```np.random.randn()```\n",
    " * Create two 2D arrays from two 1D arrays with ```np.meshgrid()``` and ```np.mgrid()```\n",
    "\n",
    "You learned how to index and slice arrays. Slicing NumPy arrays share the same syntax used to slice Python lists and strings.\n",
    "\n",
    "At the end of the chapter, you learned how to run mathematical operations on arrays. NumPy's mathematical functions operate on arrays like Python's math functions operate on integers and floats. NumPy has additional functions like ```np.dot()``` and ```np.cross()``` that cannot be applied to scalars. NumPy's ```np.linalg.solve()``` function can be used to solve systems of linear equations."
   ]
  },
  {
   "cell_type": "markdown",
   "id": "001bd880",
   "metadata": {},
   "source": [
    "### Key Terms and Concepts"
   ]
  },
  {
   "cell_type": "markdown",
   "id": "05e08930",
   "metadata": {
    "latex": {
     "environment": "key_terms"
    }
   },
   "source": [
    "NumPy\n",
    "\n",
    "array\n",
    "\n",
    "scalar\n",
    "\n",
    "computationally expensive\n",
    "\n",
    "slice\n",
    "\n",
    "index\n",
    "\n",
    "data type\n",
    "\n",
    "homogenous\n",
    "\n",
    "homogenous data type\n",
    "\n",
    "element-wise\n",
    "\n",
    "system of linear equations\n",
    "\n",
    "attribute\n",
    "\n",
    "scientific computing\n",
    "\n",
    "Unicode\n",
    "\n",
    "iterable\n",
    "\n",
    "logarithmically spaced numbers\n",
    "\n",
    "normal distribution\n",
    "\n",
    "meshgrid\n",
    "\n",
    "matrix multiplication methods\n",
    "\n",
    "dot product\n",
    "\n",
    "cross product"
   ]
  },
  {
   "cell_type": "code",
   "execution_count": null,
   "id": "70ba55a4",
   "metadata": {},
   "outputs": [],
   "source": []
  }
 ],
 "metadata": {
  "jupytext": {
   "text_representation": {
    "extension": ".md",
    "format_name": "myst",
    "format_version": "0.9",
    "jupytext_version": "1.5.0"
   }
  },
  "kernelspec": {
   "display_name": "Python 3",
   "language": "python",
   "name": "python3"
  },
  "language_info": {
   "codemirror_mode": {
    "name": "ipython",
    "version": 3
   },
   "file_extension": ".py",
   "mimetype": "text/x-python",
   "name": "python",
   "nbconvert_exporter": "python",
   "pygments_lexer": "ipython3",
   "version": "3.8.10"
  },
  "source_map": [
   14,
   18,
   33,
   37,
   81
  ]
 },
 "nbformat": 4,
 "nbformat_minor": 5
}