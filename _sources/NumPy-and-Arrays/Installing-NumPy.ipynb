{
 "cells": [
  {
   "cell_type": "markdown",
   "id": "f02777bd",
   "metadata": {},
   "source": [
    "## Installing NumPy"
   ]
  },
  {
   "cell_type": "markdown",
   "id": "95c92e0d",
   "metadata": {},
   "source": [
    "Before NumPy's functions and methods can be used, NumPy must be installed. Depending on which distribution of Python you use, the installation method is slightly different."
   ]
  },
  {
   "cell_type": "markdown",
   "id": "6383c96c",
   "metadata": {},
   "source": [
    "### Install NumPy on Anaconda\n",
    "\n",
    "If you installed the Anaconda distribution of Python, NumPy comes pre-installed and no further installation steps are necessary. \n",
    "\n",
    "If you use a version of Python from python.org or a version of Python that came with your operating system, the **Anaconda Prompt** and **conda** or **pip** can be used to install NumPy."
   ]
  },
  {
   "cell_type": "markdown",
   "id": "36061caa",
   "metadata": {},
   "source": [
    "### Install NumPy with the Anaconda Prompt\n",
    "\n",
    "To install NumPy, open the **Anaconda Prompt** and type:\n",
    "\n",
    "```text\n",
    "> conda install numpy\n",
    "```\n",
    "\n",
    "Type ```y``` for yes when prompted."
   ]
  },
  {
   "cell_type": "markdown",
   "id": "ca69bad9",
   "metadata": {},
   "source": [
    "### Install NumPy with pip\n",
    "\n",
    "To install NumPy with **pip**, bring up a terminal window and type:\n",
    "\n",
    "```text\n",
    "$ pip install numpy\n",
    "```\n",
    "\n",
    "This command installs NumPy in the current working Python environment."
   ]
  },
  {
   "cell_type": "markdown",
   "id": "c4cd1b33",
   "metadata": {},
   "source": [
    "### Verify NumPy installation\n",
    "\n",
    "To verify NumPy is installed, invoke NumPy's version using the Python REPL. Import NumPy and call the ```.__version__``` attribute common to most Python packages."
   ]
  },
  {
   "cell_type": "code",
   "execution_count": 1,
   "id": "07550772",
   "metadata": {},
   "outputs": [
    {
     "data": {
      "text/plain": [
       "'1.21.2'"
      ]
     },
     "execution_count": 1,
     "metadata": {},
     "output_type": "execute_result"
    }
   ],
   "source": [
    "import numpy as np\n",
    "np.__version__"
   ]
  },
  {
   "cell_type": "markdown",
   "id": "7f02cc36",
   "metadata": {},
   "source": [
    "A version number like ```'1.16.4'``` indicates a successful NumPy installation."
   ]
  },
  {
   "cell_type": "code",
   "execution_count": null,
   "id": "1ae5c2e6",
   "metadata": {},
   "outputs": [],
   "source": []
  }
 ],
 "metadata": {
  "jupytext": {
   "text_representation": {
    "extension": ".md",
    "format_name": "myst",
    "format_version": "0.9",
    "jupytext_version": "1.5.0"
   }
  },
  "kernelspec": {
   "display_name": "Python 3",
   "language": "python",
   "name": "python3"
  },
  "language_info": {
   "codemirror_mode": {
    "name": "ipython",
    "version": 3
   },
   "file_extension": ".py",
   "mimetype": "text/x-python",
   "name": "python",
   "nbconvert_exporter": "python",
   "pygments_lexer": "ipython3",
   "version": "3.8.10"
  },
  "source_map": [
   12,
   16,
   20,
   28,
   40,
   52,
   58,
   61,
   65
  ]
 },
 "nbformat": 4,
 "nbformat_minor": 5
}