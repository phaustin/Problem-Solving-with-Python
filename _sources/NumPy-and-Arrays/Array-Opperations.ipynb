{
 "cells": [
  {
   "cell_type": "markdown",
   "id": "9577e909",
   "metadata": {},
   "source": [
    "## Array Operations"
   ]
  },
  {
   "cell_type": "markdown",
   "id": "9d1c9190",
   "metadata": {},
   "source": [
    "Mathematical operations can be completed using NumPy arrays."
   ]
  },
  {
   "cell_type": "markdown",
   "id": "f23cba66",
   "metadata": {},
   "source": [
    "### Scalar Addition\n",
    "\n",
    "Scalars can be added and subtracted from arrays and arrays can be added and subtracted from each other:"
   ]
  },
  {
   "cell_type": "code",
   "execution_count": 1,
   "id": "441ccdce",
   "metadata": {},
   "outputs": [
    {
     "name": "stdout",
     "output_type": "stream",
     "text": [
      "[3 4 5]\n"
     ]
    }
   ],
   "source": [
    "import numpy as np\n",
    "\n",
    "a = np.array([1, 2, 3])\n",
    "b = a + 2\n",
    "print(b)"
   ]
  },
  {
   "cell_type": "code",
   "execution_count": 2,
   "id": "502a8f99",
   "metadata": {},
   "outputs": [
    {
     "name": "stdout",
     "output_type": "stream",
     "text": [
      "[3 6 9]\n"
     ]
    }
   ],
   "source": [
    "a = np.array([1, 2, 3])\n",
    "b = np.array([2, 4, 6])\n",
    "c = a + b\n",
    "print(c)"
   ]
  },
  {
   "cell_type": "markdown",
   "id": "72110504",
   "metadata": {},
   "source": [
    "### Scalar Multiplication\n",
    "\n",
    "NumPy arrays can be multiplied and divided by scalar integers and floats:"
   ]
  },
  {
   "cell_type": "code",
   "execution_count": 3,
   "id": "532bbf5d",
   "metadata": {},
   "outputs": [
    {
     "name": "stdout",
     "output_type": "stream",
     "text": [
      "[3 6 9]\n"
     ]
    }
   ],
   "source": [
    "a = np.array([1,2,3])\n",
    "b = 3*a\n",
    "print(b)"
   ]
  },
  {
   "cell_type": "code",
   "execution_count": 4,
   "id": "af2705dc",
   "metadata": {},
   "outputs": [
    {
     "name": "stdout",
     "output_type": "stream",
     "text": [
      "[ 5. 10. 15.]\n"
     ]
    }
   ],
   "source": [
    "a = np.array([10,20,30])\n",
    "b = a/2\n",
    "print(b)"
   ]
  },
  {
   "cell_type": "markdown",
   "id": "b6836582",
   "metadata": {},
   "source": [
    "### Array Multiplication\n",
    "\n",
    "NumPy array can be multiplied by each other using matrix multiplication. These matrix multiplication methods include element-wise multiplication, the dot product, and the cross product."
   ]
  },
  {
   "cell_type": "markdown",
   "id": "b78be508",
   "metadata": {},
   "source": [
    "#### Element-wise Multiplication\n",
    "\n",
    "The standard multiplication sign in Python ```*``` produces element-wise multiplication on NumPy arrays."
   ]
  },
  {
   "cell_type": "code",
   "execution_count": 5,
   "id": "54b80182",
   "metadata": {},
   "outputs": [
    {
     "data": {
      "text/plain": [
       "array([ 4, 10, 18])"
      ]
     },
     "execution_count": 5,
     "metadata": {},
     "output_type": "execute_result"
    }
   ],
   "source": [
    "a = np.array([1, 2, 3])\n",
    "b = np.array([4, 5, 6])\n",
    "a * b"
   ]
  },
  {
   "cell_type": "markdown",
   "id": "533c65cb",
   "metadata": {},
   "source": [
    "#### Dot Product"
   ]
  },
  {
   "cell_type": "code",
   "execution_count": 6,
   "id": "9b7de130",
   "metadata": {},
   "outputs": [
    {
     "data": {
      "text/plain": [
       "32"
      ]
     },
     "execution_count": 6,
     "metadata": {},
     "output_type": "execute_result"
    }
   ],
   "source": [
    "a = np.array([1, 2, 3])\n",
    "b = np.array([4, 5, 6])\n",
    "np.dot(a,b)"
   ]
  },
  {
   "cell_type": "markdown",
   "id": "e0608f33",
   "metadata": {},
   "source": [
    "#### Cross Product"
   ]
  },
  {
   "cell_type": "code",
   "execution_count": 7,
   "id": "b43b4d5c",
   "metadata": {},
   "outputs": [
    {
     "data": {
      "text/plain": [
       "array([-3,  6, -3])"
      ]
     },
     "execution_count": 7,
     "metadata": {},
     "output_type": "execute_result"
    }
   ],
   "source": [
    "a = np.array([1, 2, 3])\n",
    "b = np.array([4, 5, 6])\n",
    "np.cross(a, b)"
   ]
  },
  {
   "cell_type": "markdown",
   "id": "64721869",
   "metadata": {},
   "source": [
    "### Exponents and Logarithms"
   ]
  },
  {
   "cell_type": "markdown",
   "id": "4261781c",
   "metadata": {},
   "source": [
    "#### np.exp()\n",
    "\n",
    "NumPy's ```np.exp()``` function produces element-wise $e^x$ exponentiation."
   ]
  },
  {
   "cell_type": "code",
   "execution_count": 8,
   "id": "e83f1d0a",
   "metadata": {},
   "outputs": [
    {
     "data": {
      "text/plain": [
       "array([ 2.71828183,  7.3890561 , 20.08553692])"
      ]
     },
     "execution_count": 8,
     "metadata": {},
     "output_type": "execute_result"
    }
   ],
   "source": [
    "a = np.array([1, 2, 3])\n",
    "np.exp(a)"
   ]
  },
  {
   "cell_type": "markdown",
   "id": "ffa4d82a",
   "metadata": {},
   "source": [
    "#### Logarithms\n",
    "\n",
    "NumPy has three logarithmic functions.\n",
    "\n",
    " * ```np.log()``` - natural logarithm (log base $e$)\n",
    " * ```np.log2()``` - logarithm base 2\n",
    " * ```np.log10()``` - logarithm base 10"
   ]
  },
  {
   "cell_type": "code",
   "execution_count": 9,
   "id": "35123130",
   "metadata": {},
   "outputs": [
    {
     "data": {
      "text/plain": [
       "1.0"
      ]
     },
     "execution_count": 9,
     "metadata": {},
     "output_type": "execute_result"
    }
   ],
   "source": [
    "np.log(np.e)"
   ]
  },
  {
   "cell_type": "code",
   "execution_count": 10,
   "id": "f403aae9",
   "metadata": {},
   "outputs": [
    {
     "data": {
      "text/plain": [
       "4.0"
      ]
     },
     "execution_count": 10,
     "metadata": {},
     "output_type": "execute_result"
    }
   ],
   "source": [
    "np.log2(16)"
   ]
  },
  {
   "cell_type": "code",
   "execution_count": 11,
   "id": "d87b3a62",
   "metadata": {},
   "outputs": [
    {
     "data": {
      "text/plain": [
       "3.0"
      ]
     },
     "execution_count": 11,
     "metadata": {},
     "output_type": "execute_result"
    }
   ],
   "source": [
    "np.log10(1000)"
   ]
  },
  {
   "cell_type": "markdown",
   "id": "1329c0ce",
   "metadata": {},
   "source": [
    "### Trigonometry\n",
    "\n",
    "NumPy also contains all of the standard trigonometry functions which operate on arrays. \n",
    "\n",
    " * ```np.sin()``` - sin\n",
    " * ```np.cos()``` - cosine\n",
    " * ```np.tan()``` - tangent\n",
    " * ```np.asin()``` - arc sine\n",
    " * ```np.acos()``` - arc cosine\n",
    " * ```np.atan()``` - arc tangent\n",
    " * ```np.hypot()``` - given sides of a triangle, returns hypotenuse"
   ]
  },
  {
   "cell_type": "code",
   "execution_count": 12,
   "id": "7816bc3c",
   "metadata": {},
   "outputs": [
    {
     "name": "stdout",
     "output_type": "stream",
     "text": [
      "[0.     0.7071 0.866  1.    ]\n",
      "[1.0000e+00 7.0711e-01 5.0000e-01 6.1232e-17]\n",
      "[0.0000e+00 1.0000e+00 1.7321e+00 1.6331e+16]\n",
      "Sides 3 and 4, hypotenuse 5.0\n"
     ]
    }
   ],
   "source": [
    "import numpy as np\n",
    "np.set_printoptions(4)\n",
    "\n",
    "a = np.array([0, np.pi/4, np.pi/3, np.pi/2])\n",
    "print(np.sin(a))\n",
    "print(np.cos(a))\n",
    "print(np.tan(a))\n",
    "print(f\"Sides 3 and 4, hypotenuse {np.hypot(3,4)}\")"
   ]
  },
  {
   "cell_type": "markdown",
   "id": "ed86269e",
   "metadata": {},
   "source": [
    "NumPy contains functions to convert arrays of angles between degrees and radians.\n",
    "\n",
    "* ```deg2rad()``` - convert from degrees to radians\n",
    "* ```rad2deg()``` - convert from radians to degrees"
   ]
  },
  {
   "cell_type": "code",
   "execution_count": 13,
   "id": "f6d3034a",
   "metadata": {},
   "outputs": [
    {
     "data": {
      "text/plain": [
       "array([180., 360.])"
      ]
     },
     "execution_count": 13,
     "metadata": {},
     "output_type": "execute_result"
    }
   ],
   "source": [
    "a = np.array([np.pi,2*np.pi])\n",
    "np.rad2deg(a)"
   ]
  },
  {
   "cell_type": "code",
   "execution_count": 14,
   "id": "eeb08b1f",
   "metadata": {},
   "outputs": [
    {
     "data": {
      "text/plain": [
       "array([0.    , 1.5708, 3.1416, 4.7124])"
      ]
     },
     "execution_count": 14,
     "metadata": {},
     "output_type": "execute_result"
    }
   ],
   "source": [
    "a = np.array([0,90, 180, 270])\n",
    "np.deg2rad(a)"
   ]
  },
  {
   "cell_type": "code",
   "execution_count": null,
   "id": "963318e4",
   "metadata": {},
   "outputs": [],
   "source": []
  }
 ],
 "metadata": {
  "jupytext": {
   "text_representation": {
    "extension": ".md",
    "format_name": "myst",
    "format_version": "0.9",
    "jupytext_version": "1.5.0"
   }
  },
  "kernelspec": {
   "display_name": "Python 3",
   "language": "python",
   "name": "python3"
  },
  "language_info": {
   "codemirror_mode": {
    "name": "ipython",
    "version": 3
   },
   "file_extension": ".py",
   "mimetype": "text/x-python",
   "name": "python",
   "nbconvert_exporter": "python",
   "pygments_lexer": "ipython3",
   "version": "3.8.10"
  },
  "source_map": [
   12,
   16,
   20,
   26,
   34,
   39,
   45,
   51,
   55,
   61,
   67,
   71,
   75,
   79,
   83,
   87,
   91,
   97,
   100,
   111,
   115,
   119,
   121,
   135,
   144,
   151,
   156,
   161
  ]
 },
 "nbformat": 4,
 "nbformat_minor": 5
}