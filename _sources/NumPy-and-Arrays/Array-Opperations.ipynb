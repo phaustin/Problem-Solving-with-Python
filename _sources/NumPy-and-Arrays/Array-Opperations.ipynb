{
 "cells": [
  {
   "cell_type": "markdown",
   "id": "c5c477bd",
   "metadata": {},
   "source": [
    "## Array Operations"
   ]
  },
  {
   "cell_type": "markdown",
   "id": "244d8041",
   "metadata": {},
   "source": [
    "Mathematical operations can be completed using NumPy arrays."
   ]
  },
  {
   "cell_type": "markdown",
   "id": "6e581893",
   "metadata": {},
   "source": [
    "### Scalar Addition\n",
    "\n",
    "Scalars can be added and subtracted from arrays and arrays can be added and subtracted from each other:"
   ]
  },
  {
   "cell_type": "code",
   "execution_count": 1,
   "id": "771b8901",
   "metadata": {},
   "outputs": [
    {
     "name": "stdout",
     "output_type": "stream",
     "text": [
      "[3 4 5]\n"
     ]
    }
   ],
   "source": [
    "import numpy as np\n",
    "\n",
    "a = np.array([1, 2, 3])\n",
    "b = a + 2\n",
    "print(b)"
   ]
  },
  {
   "cell_type": "code",
   "execution_count": 2,
   "id": "3e9dc99a",
   "metadata": {},
   "outputs": [
    {
     "name": "stdout",
     "output_type": "stream",
     "text": [
      "[3 6 9]\n"
     ]
    }
   ],
   "source": [
    "a = np.array([1, 2, 3])\n",
    "b = np.array([2, 4, 6])\n",
    "c = a + b\n",
    "print(c)"
   ]
  },
  {
   "cell_type": "markdown",
   "id": "f772daa0",
   "metadata": {},
   "source": [
    "### Scalar Multiplication\n",
    "\n",
    "NumPy arrays can be multiplied and divided by scalar integers and floats:"
   ]
  },
  {
   "cell_type": "code",
   "execution_count": 3,
   "id": "c1b6dc0f",
   "metadata": {},
   "outputs": [
    {
     "name": "stdout",
     "output_type": "stream",
     "text": [
      "[3 6 9]\n"
     ]
    }
   ],
   "source": [
    "a = np.array([1,2,3])\n",
    "b = 3*a\n",
    "print(b)"
   ]
  },
  {
   "cell_type": "code",
   "execution_count": 4,
   "id": "d73bf028",
   "metadata": {},
   "outputs": [
    {
     "name": "stdout",
     "output_type": "stream",
     "text": [
      "[ 5. 10. 15.]\n"
     ]
    }
   ],
   "source": [
    "a = np.array([10,20,30])\n",
    "b = a/2\n",
    "print(b)"
   ]
  },
  {
   "cell_type": "markdown",
   "id": "4a3891f8",
   "metadata": {},
   "source": [
    "### Array Multiplication\n",
    "\n",
    "NumPy array can be multiplied by each other using matrix multiplication. These matrix multiplication methods include element-wise multiplication, the dot product, and the cross product."
   ]
  },
  {
   "cell_type": "markdown",
   "id": "a93ae104",
   "metadata": {},
   "source": [
    "#### Element-wise Multiplication\n",
    "\n",
    "The standard multiplication sign in Python ```*``` produces element-wise multiplication on NumPy arrays."
   ]
  },
  {
   "cell_type": "code",
   "execution_count": 5,
   "id": "b1baac53",
   "metadata": {},
   "outputs": [
    {
     "data": {
      "text/plain": [
       "array([ 4, 10, 18])"
      ]
     },
     "execution_count": 5,
     "metadata": {},
     "output_type": "execute_result"
    }
   ],
   "source": [
    "a = np.array([1, 2, 3])\n",
    "b = np.array([4, 5, 6])\n",
    "a * b"
   ]
  },
  {
   "cell_type": "markdown",
   "id": "c1a5cdd7",
   "metadata": {},
   "source": [
    "#### Dot Product"
   ]
  },
  {
   "cell_type": "code",
   "execution_count": 6,
   "id": "2505cef7",
   "metadata": {},
   "outputs": [
    {
     "data": {
      "text/plain": [
       "32"
      ]
     },
     "execution_count": 6,
     "metadata": {},
     "output_type": "execute_result"
    }
   ],
   "source": [
    "a = np.array([1, 2, 3])\n",
    "b = np.array([4, 5, 6])\n",
    "np.dot(a,b)"
   ]
  },
  {
   "cell_type": "markdown",
   "id": "43afe6ae",
   "metadata": {},
   "source": [
    "#### Cross Product"
   ]
  },
  {
   "cell_type": "code",
   "execution_count": 7,
   "id": "af7a2b36",
   "metadata": {},
   "outputs": [
    {
     "data": {
      "text/plain": [
       "array([-3,  6, -3])"
      ]
     },
     "execution_count": 7,
     "metadata": {},
     "output_type": "execute_result"
    }
   ],
   "source": [
    "a = np.array([1, 2, 3])\n",
    "b = np.array([4, 5, 6])\n",
    "np.cross(a, b)"
   ]
  },
  {
   "cell_type": "markdown",
   "id": "dc4a2273",
   "metadata": {},
   "source": [
    "### Exponents and Logarithms"
   ]
  },
  {
   "cell_type": "markdown",
   "id": "0b1c776a",
   "metadata": {},
   "source": [
    "#### np.exp()\n",
    "\n",
    "NumPy's ```np.exp()``` function produces element-wise $e^x$ exponentiation."
   ]
  },
  {
   "cell_type": "code",
   "execution_count": 8,
   "id": "e0e037fd",
   "metadata": {},
   "outputs": [
    {
     "data": {
      "text/plain": [
       "array([ 2.71828183,  7.3890561 , 20.08553692])"
      ]
     },
     "execution_count": 8,
     "metadata": {},
     "output_type": "execute_result"
    }
   ],
   "source": [
    "a = np.array([1, 2, 3])\n",
    "np.exp(a)"
   ]
  },
  {
   "cell_type": "markdown",
   "id": "0b87a59d",
   "metadata": {},
   "source": [
    "#### Logarithms\n",
    "\n",
    "NumPy has three logarithmic functions.\n",
    "\n",
    " * ```np.log()``` - natural logarithm (log base $e$)\n",
    " * ```np.log2()``` - logarithm base 2\n",
    " * ```np.log10()``` - logarithm base 10"
   ]
  },
  {
   "cell_type": "code",
   "execution_count": 9,
   "id": "fd87aaaf",
   "metadata": {},
   "outputs": [
    {
     "data": {
      "text/plain": [
       "1.0"
      ]
     },
     "execution_count": 9,
     "metadata": {},
     "output_type": "execute_result"
    }
   ],
   "source": [
    "np.log(np.e)"
   ]
  },
  {
   "cell_type": "code",
   "execution_count": 10,
   "id": "ff4096f7",
   "metadata": {},
   "outputs": [
    {
     "data": {
      "text/plain": [
       "4.0"
      ]
     },
     "execution_count": 10,
     "metadata": {},
     "output_type": "execute_result"
    }
   ],
   "source": [
    "np.log2(16)"
   ]
  },
  {
   "cell_type": "code",
   "execution_count": 11,
   "id": "d5a0fcc7",
   "metadata": {},
   "outputs": [
    {
     "data": {
      "text/plain": [
       "3.0"
      ]
     },
     "execution_count": 11,
     "metadata": {},
     "output_type": "execute_result"
    }
   ],
   "source": [
    "np.log10(1000)"
   ]
  },
  {
   "cell_type": "markdown",
   "id": "1784291b",
   "metadata": {},
   "source": [
    "### Trigonometry\n",
    "\n",
    "NumPy also contains all of the standard trigonometry functions which operate on arrays. \n",
    "\n",
    " * ```np.sin()``` - sin\n",
    " * ```np.cos()``` - cosine\n",
    " * ```np.tan()``` - tangent\n",
    " * ```np.asin()``` - arc sine\n",
    " * ```np.acos()``` - arc cosine\n",
    " * ```np.atan()``` - arc tangent\n",
    " * ```np.hypot()``` - given sides of a triangle, returns hypotenuse"
   ]
  },
  {
   "cell_type": "code",
   "execution_count": 12,
   "id": "11cd9930",
   "metadata": {},
   "outputs": [
    {
     "name": "stdout",
     "output_type": "stream",
     "text": [
      "[0.     0.7071 0.866  1.    ]\n",
      "[1.0000e+00 7.0711e-01 5.0000e-01 6.1232e-17]\n",
      "[0.0000e+00 1.0000e+00 1.7321e+00 1.6331e+16]\n",
      "Sides 3 and 4, hypotenuse 5.0\n"
     ]
    }
   ],
   "source": [
    "import numpy as np\n",
    "np.set_printoptions(4)\n",
    "\n",
    "a = np.array([0, np.pi/4, np.pi/3, np.pi/2])\n",
    "print(np.sin(a))\n",
    "print(np.cos(a))\n",
    "print(np.tan(a))\n",
    "print(f\"Sides 3 and 4, hypotenuse {np.hypot(3,4)}\")"
   ]
  },
  {
   "cell_type": "markdown",
   "id": "41036520",
   "metadata": {},
   "source": [
    "NumPy contains functions to convert arrays of angles between degrees and radians.\n",
    "\n",
    "* ```deg2rad()``` - convert from degrees to radians\n",
    "* ```rad2deg()``` - convert from radians to degrees"
   ]
  },
  {
   "cell_type": "code",
   "execution_count": 13,
   "id": "296368f0",
   "metadata": {},
   "outputs": [
    {
     "data": {
      "text/plain": [
       "array([180., 360.])"
      ]
     },
     "execution_count": 13,
     "metadata": {},
     "output_type": "execute_result"
    }
   ],
   "source": [
    "a = np.array([np.pi,2*np.pi])\n",
    "np.rad2deg(a)"
   ]
  },
  {
   "cell_type": "code",
   "execution_count": 14,
   "id": "70bd4e66",
   "metadata": {},
   "outputs": [
    {
     "data": {
      "text/plain": [
       "array([0.    , 1.5708, 3.1416, 4.7124])"
      ]
     },
     "execution_count": 14,
     "metadata": {},
     "output_type": "execute_result"
    }
   ],
   "source": [
    "a = np.array([0,90, 180, 270])\n",
    "np.deg2rad(a)"
   ]
  },
  {
   "cell_type": "code",
   "execution_count": null,
   "id": "b86a72eb",
   "metadata": {},
   "outputs": [],
   "source": []
  }
 ],
 "metadata": {
  "jupytext": {
   "text_representation": {
    "extension": ".md",
    "format_name": "myst",
    "format_version": "0.9",
    "jupytext_version": "1.5.0"
   }
  },
  "kernelspec": {
   "display_name": "Python 3",
   "language": "python",
   "name": "python3"
  },
  "language_info": {
   "codemirror_mode": {
    "name": "ipython",
    "version": 3
   },
   "file_extension": ".py",
   "mimetype": "text/x-python",
   "name": "python",
   "nbconvert_exporter": "python",
   "pygments_lexer": "ipython3",
   "version": "3.8.10"
  },
  "source_map": [
   12,
   16,
   20,
   26,
   34,
   39,
   45,
   51,
   55,
   61,
   67,
   71,
   75,
   79,
   83,
   87,
   91,
   97,
   100,
   111,
   115,
   119,
   121,
   135,
   144,
   151,
   156,
   161
  ]
 },
 "nbformat": 4,
 "nbformat_minor": 5
}