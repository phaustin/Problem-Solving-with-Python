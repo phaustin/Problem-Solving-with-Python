{
 "cells": [
  {
   "cell_type": "markdown",
   "id": "da33f1c3",
   "metadata": {},
   "source": [
    "## Array Indexing"
   ]
  },
  {
   "cell_type": "markdown",
   "id": "4fb98153",
   "metadata": {},
   "source": [
    "Elements in NumPy arrays can be accessed by _indexing_. Indexing is an operation that pulls out a select set of values from an array. The _index_ of a value in an array is that value's _location_ within the array. There is a difference between _the value_ and _where the value is stored_ in an array. \n",
    "\n",
    "An array with 3 values is created in the code section below."
   ]
  },
  {
   "cell_type": "code",
   "execution_count": 1,
   "id": "59273038",
   "metadata": {},
   "outputs": [
    {
     "name": "stdout",
     "output_type": "stream",
     "text": [
      "[2 4 6]\n"
     ]
    }
   ],
   "source": [
    "import numpy as np\n",
    "\n",
    "a = np.array([2,4,6])\n",
    "print(a)"
   ]
  },
  {
   "cell_type": "markdown",
   "id": "f20f0337",
   "metadata": {},
   "source": [
    "The array above contains three values: ```2```, ```4``` and ```6```. Each of these values has a different index. \n",
    "\n",
    "**Remember counting in Python starts at ```0``` and ends at ```n-1```.**\n",
    "\n",
    "The value ```2``` has an index of 0. We could also say ```2``` is in location 0 of the array. The value ```4``` has an index of ```1``` and the value ```6``` has an index of ```2```. The table below shows the index (or location) of each value in the array.\n",
    "\n",
    "| Index (or location) | Value |\n",
    "| --- | ---|\n",
    "| 0 | ```2``` |\n",
    "| 1 | ```4``` |\n",
    "| 2 | ```6``` |\n",
    "\n",
    "Individual values stored in an array can be accessed with indexing. \n",
    "\n",
    "The general form to index a NumPy array is below:\n",
    "\n",
    "```python\n",
    "<value> = <array>[index]\n",
    "```\n",
    "\n",
    "Where ```<value>``` is the value stored in the array, ```<array>``` is the array object name and ```[index]``` specifies the index or location of that value. \n",
    "\n",
    "In the array above, the value 6 is stored at index 2."
   ]
  },
  {
   "cell_type": "code",
   "execution_count": 2,
   "id": "7e43fb6f",
   "metadata": {},
   "outputs": [
    {
     "name": "stdout",
     "output_type": "stream",
     "text": [
      "[2 4 6]\n",
      "6\n"
     ]
    }
   ],
   "source": [
    "import numpy as np\n",
    "\n",
    "a = np.array([2,4,6])\n",
    "print(a)\n",
    "value = a[2]\n",
    "print(value)"
   ]
  },
  {
   "cell_type": "markdown",
   "id": "135a6c73",
   "metadata": {},
   "source": [
    "### Multi-dimensional Array Indexing"
   ]
  },
  {
   "cell_type": "markdown",
   "id": "b765aa60",
   "metadata": {},
   "source": [
    "Multi-dimensional arrays can be indexed as well. A simple 2-D array is defined by a list of lists."
   ]
  },
  {
   "cell_type": "code",
   "execution_count": 3,
   "id": "2dbd21cd",
   "metadata": {},
   "outputs": [
    {
     "name": "stdout",
     "output_type": "stream",
     "text": [
      "[[2 3 4]\n",
      " [6 7 8]]\n"
     ]
    }
   ],
   "source": [
    "import numpy as np\n",
    "\n",
    "a = np.array([[2,3,4],[6,7,8]])\n",
    "print(a)"
   ]
  },
  {
   "cell_type": "markdown",
   "id": "c82b82ca",
   "metadata": {},
   "source": [
    "Values in a 2-D array can be accessed using the general notation below:\n",
    "\n",
    "```python\n",
    "<value> = <array>[row,col]\n",
    "```\n",
    "\n",
    "Where ```<value>``` is the value pulled out of the 2-D array and ```[row,col]``` specifies the row and column index of the value. Remember Python counting starts at ```0```, so the first row is row zero and the first column is column zero.\n",
    "\n",
    "We can access the value ```8``` in the array above by calling the row and column index ```[1,2]```.  This corresponds to the 2nd row (remember row 0 is the first row) and the 3rd column (column 0 is the first column)."
   ]
  },
  {
   "cell_type": "code",
   "execution_count": 4,
   "id": "5af0ff0a",
   "metadata": {},
   "outputs": [
    {
     "name": "stdout",
     "output_type": "stream",
     "text": [
      "[[2 3 4]\n",
      " [6 7 8]]\n",
      "8\n"
     ]
    }
   ],
   "source": [
    "import numpy as np\n",
    "\n",
    "a = np.array([[2,3,4],[6,7,8]])\n",
    "print(a)\n",
    "value = a[1,2]\n",
    "print(value)"
   ]
  },
  {
   "cell_type": "markdown",
   "id": "b58c6096",
   "metadata": {},
   "source": [
    "### Assigning Values with Indexing"
   ]
  },
  {
   "cell_type": "markdown",
   "id": "30a3b0a8",
   "metadata": {},
   "source": [
    "Array indexing is used to _access_ values in an array. And array indexing can also be used for _assigning_ values of an array.\n",
    "\n",
    "The general form used to assign a value to a particular index or location in an array is below:\n",
    "\n",
    "```python\n",
    "<array>[index] = <value>\n",
    "```\n",
    "\n",
    "Where ```<value>``` is the new value going into the array and ```[index]``` is the location the new value will occupy. \n",
    "\n",
    "The code below puts the value ```10``` into the second index or location of the array ```a```."
   ]
  },
  {
   "cell_type": "code",
   "execution_count": 5,
   "id": "a057c6da",
   "metadata": {},
   "outputs": [
    {
     "name": "stdout",
     "output_type": "stream",
     "text": [
      "[ 2  4 10]\n"
     ]
    }
   ],
   "source": [
    "import numpy as np\n",
    "\n",
    "a = np.array([2,4,6])\n",
    "a[2] = 10\n",
    "print(a)"
   ]
  },
  {
   "cell_type": "markdown",
   "id": "197e6711",
   "metadata": {},
   "source": [
    "Values can also be assigned to a particular location in a 2-D arrays using the form:\n",
    "\n",
    "```python\n",
    "<array>[row,col] = <value>\n",
    "```\n",
    "\n",
    "The code example below shows the value ```20``` assigned to the 2nd row (index ```1```) and 3rd column (index ```2```) of the array."
   ]
  },
  {
   "cell_type": "code",
   "execution_count": 6,
   "id": "8f8b6c17",
   "metadata": {},
   "outputs": [
    {
     "name": "stdout",
     "output_type": "stream",
     "text": [
      "[[2 3 4]\n",
      " [6 7 8]]\n",
      "[[ 2  3  4]\n",
      " [ 6  7 20]]\n"
     ]
    }
   ],
   "source": [
    "import numpy as np\n",
    "\n",
    "a = np.array([[2,3,4],[6,7,8]])\n",
    "print(a)\n",
    "\n",
    "a[1,2]=20\n",
    "print(a)"
   ]
  },
  {
   "cell_type": "code",
   "execution_count": null,
   "id": "aabf30f7",
   "metadata": {},
   "outputs": [],
   "source": []
  }
 ],
 "metadata": {
  "jupytext": {
   "cell_metadata_filter": "all",
   "notebook_metadata_filter": "all,-language_info,-toc,-latex_envs",
   "text_representation": {
    "extension": ".md",
    "format_name": "myst",
    "format_version": 0.13,
    "jupytext_version": "1.10.3"
   }
  },
  "kernelspec": {
   "display_name": "Python 3 (ipykernel)",
   "language": "python",
   "name": "python3"
  },
  "language_info": {
   "codemirror_mode": {
    "name": "ipython",
    "version": 3
   },
   "file_extension": ".py",
   "mimetype": "text/x-python",
   "name": "python",
   "nbconvert_exporter": "python",
   "pygments_lexer": "ipython3",
   "version": "3.8.10"
  },
  "source_map": [
   14,
   18,
   24,
   29,
   55,
   62,
   66,
   70,
   75,
   87,
   94,
   98,
   112,
   118,
   128,
   138
  ]
 },
 "nbformat": 4,
 "nbformat_minor": 5
}