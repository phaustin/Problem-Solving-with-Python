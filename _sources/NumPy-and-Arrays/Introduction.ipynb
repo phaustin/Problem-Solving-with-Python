{
 "cells": [
  {
   "cell_type": "markdown",
   "id": "e1cb8ef3",
   "metadata": {},
   "source": [
    "# NumPy and Arrays"
   ]
  },
  {
   "cell_type": "markdown",
   "id": "3053f2f5",
   "metadata": {},
   "source": [
    "## Introduction"
   ]
  },
  {
   "cell_type": "markdown",
   "id": "587b6fcb",
   "metadata": {
    "latex": {
     "after_cell": "newpage"
    }
   },
   "source": [
    "By the end of this chapter you will be able to:\n",
    "\n",
    " * Explain the difference between a Python list and a NumPy array\n",
    "\n",
    " * Create NumPy arrays\n",
    " \n",
    " * Modify NumPy arrays\n",
    " \n",
    " * Index NumPy arrays\n",
    " \n",
    " * Run mathematical operations on  NumPy arrays\n",
    " \n",
    " * Solve a system of linear equations using matrices"
   ]
  },
  {
   "cell_type": "code",
   "execution_count": null,
   "id": "632395b2",
   "metadata": {},
   "outputs": [],
   "source": []
  }
 ],
 "metadata": {
  "jupytext": {
   "cell_metadata_filter": "all",
   "notebook_metadata_filter": "all,-language_info,-toc,-latex_envs",
   "text_representation": {
    "extension": ".md",
    "format_name": "myst",
    "format_version": "0.10",
    "jupytext_version": "1.5.2"
   }
  },
  "kernelspec": {
   "display_name": "Python 3",
   "language": "python",
   "name": "python3"
  },
  "language_info": {
   "codemirror_mode": {
    "name": "ipython",
    "version": 3
   },
   "file_extension": ".py",
   "mimetype": "text/x-python",
   "name": "python",
   "nbconvert_exporter": "python",
   "pygments_lexer": "ipython3",
   "version": "3.8.10"
  },
  "source_map": [
   14,
   18,
   22,
   38
  ]
 },
 "nbformat": 4,
 "nbformat_minor": 5
}