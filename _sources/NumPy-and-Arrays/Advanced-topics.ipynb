{
 "cells": [
  {
   "cell_type": "markdown",
   "id": "a35dc540",
   "metadata": {},
   "source": [
    "## Advanced topics"
   ]
  },
  {
   "cell_type": "markdown",
   "id": "b5a2a6ed",
   "metadata": {},
   "source": [
    "### Copies and views\n",
    "\n",
    "If you have a large dataset, it may be too expensive to keep more than one copy in computer memory at any one time.   What if you want to work with slices of that dataset, or pass the array to a function, or change the data in some way?   The default for numpy arrays is that assignment of an array to a new variable does not copy\n",
    "the array, instead in makes a *view* of the original data, which points to the data but takes up essentially\n",
    "no space in memory."
   ]
  },
  {
   "cell_type": "markdown",
   "id": "d77f0933",
   "metadata": {},
   "source": [
    "Consider the following array:"
   ]
  },
  {
   "cell_type": "code",
   "execution_count": 1,
   "id": "96215b3c",
   "metadata": {},
   "outputs": [
    {
     "data": {
      "text/plain": [
       "array([[1, 2, 3],\n",
       "       [4, 5, 6],\n",
       "       [7, 8, 9]])"
      ]
     },
     "execution_count": 1,
     "metadata": {},
     "output_type": "execute_result"
    }
   ],
   "source": [
    "import numpy as np\n",
    "a=np.array([[1,2,3],[4,5,6],[7,8,9]])\n",
    "a"
   ]
  },
  {
   "cell_type": "markdown",
   "id": "d654ca4f",
   "metadata": {},
   "source": [
    "Note that if you assign a to a new variable b, the two arrays are linked and changes in b also change array a.\n",
    "This is because assignment of a to b created a view and not a copy."
   ]
  },
  {
   "cell_type": "code",
   "execution_count": 2,
   "id": "ab4a58bb",
   "metadata": {},
   "outputs": [
    {
     "data": {
      "text/plain": [
       "array([[   1,    2,    3],\n",
       "       [   4, -999,    6],\n",
       "       [   7,    8,    9]])"
      ]
     },
     "execution_count": 2,
     "metadata": {},
     "output_type": "execute_result"
    }
   ],
   "source": [
    "b=a\n",
    "b[1,1] = -999.\n",
    "a"
   ]
  },
  {
   "cell_type": "markdown",
   "id": "17c5ec76",
   "metadata": {},
   "source": [
    "Numpy has a method that will tell you whether an array is sharing memory with another array:"
   ]
  },
  {
   "cell_type": "code",
   "execution_count": 3,
   "id": "d6c9a11b",
   "metadata": {},
   "outputs": [
    {
     "data": {
      "text/plain": [
       "True"
      ]
     },
     "execution_count": 3,
     "metadata": {},
     "output_type": "execute_result"
    }
   ],
   "source": [
    "np.shares_memory(a,b)"
   ]
  },
  {
   "cell_type": "markdown",
   "id": "1a68a86c",
   "metadata": {},
   "source": [
    "What if you want to have two distinct arrays that start with the same content but don't share memory?\n",
    "Numpy has several options:\n",
    "\n",
    "1) Copy constructor  -- you can make a copy of an array by passing the array into the np.array *constructor*\n",
    "that makes new arrays from data"
   ]
  },
  {
   "cell_type": "code",
   "execution_count": 4,
   "id": "8fc7a2eb",
   "metadata": {},
   "outputs": [
    {
     "data": {
      "text/plain": [
       "False"
      ]
     },
     "execution_count": 4,
     "metadata": {},
     "output_type": "execute_result"
    }
   ],
   "source": [
    "a=np.array([[1,2,3],[4,5,6],[7,8,9]])\n",
    "b=np.array(a)\n",
    "np.shares_memory(a,b)"
   ]
  },
  {
   "cell_type": "markdown",
   "id": "3b332fda",
   "metadata": {},
   "source": [
    "2) Indexing  -- if an existing array has the right shape and dtype, you can force a copy like this:"
   ]
  },
  {
   "cell_type": "code",
   "execution_count": 5,
   "id": "62ac7bc5",
   "metadata": {},
   "outputs": [
    {
     "data": {
      "text/plain": [
       "False"
      ]
     },
     "execution_count": 5,
     "metadata": {},
     "output_type": "execute_result"
    }
   ],
   "source": [
    "a=np.array([[1,2,3],[4,5,6],[7,8,9]])\n",
    "#\n",
    "# create an empty array of the same shape and dtype using np.empty_like\n",
    "#\n",
    "c = np.empty_like(a)\n",
    "c[:] = a\n",
    "np.shares_memory(a,c)"
   ]
  },
  {
   "cell_type": "markdown",
   "id": "dc0a31ea",
   "metadata": {},
   "source": [
    "3) copy method -- numpy arrays  have a method to explictly copy data"
   ]
  },
  {
   "cell_type": "code",
   "execution_count": 6,
   "id": "69adde99",
   "metadata": {},
   "outputs": [
    {
     "data": {
      "text/plain": [
       "False"
      ]
     },
     "execution_count": 6,
     "metadata": {},
     "output_type": "execute_result"
    }
   ],
   "source": [
    "d = a.copy()\n",
    "np.shares_memory(a,c)"
   ]
  },
  {
   "cell_type": "markdown",
   "id": "d0225086",
   "metadata": {},
   "source": [
    "Now go the other direction -- what if you want to guarantee that one array is a view of another array?  \n",
    "There is a corresponding view methond for that.  First note that multiplying by a scalar creates a copy:"
   ]
  },
  {
   "cell_type": "code",
   "execution_count": 7,
   "id": "6872c1be",
   "metadata": {},
   "outputs": [
    {
     "data": {
      "text/plain": [
       "False"
      ]
     },
     "execution_count": 7,
     "metadata": {},
     "output_type": "execute_result"
    }
   ],
   "source": [
    "a=np.array([[1,2,3],[4,5,6],[7,8,9]])\n",
    "b=2.*a\n",
    "np.shares_memory(a,b)"
   ]
  },
  {
   "cell_type": "code",
   "execution_count": 8,
   "id": "1214ff49",
   "metadata": {},
   "outputs": [
    {
     "data": {
      "text/plain": [
       "True"
      ]
     },
     "execution_count": 8,
     "metadata": {},
     "output_type": "execute_result"
    }
   ],
   "source": [
    "a=np.array([[1,2,3],[4,5,6],[7,8,9]])\n",
    "b = 2.*a\n",
    "c= b.view()\n",
    "np.shares_memory(b,c)"
   ]
  },
  {
   "cell_type": "markdown",
   "id": "912e8b9c",
   "metadata": {},
   "source": [
    "### Scalars, vectors and arrays"
   ]
  },
  {
   "cell_type": "markdown",
   "id": "e08cc6b1",
   "metadata": {},
   "source": [
    "Take a look at the shape of the following numpy objects.  First a 2-d array:"
   ]
  },
  {
   "cell_type": "code",
   "execution_count": 9,
   "id": "98f79bea",
   "metadata": {},
   "outputs": [
    {
     "name": "stdout",
     "output_type": "stream",
     "text": [
      "a.shape=(2, 3)\n"
     ]
    },
    {
     "data": {
      "text/plain": [
       "array([[1., 1., 1.],\n",
       "       [1., 1., 1.]])"
      ]
     },
     "execution_count": 9,
     "metadata": {},
     "output_type": "execute_result"
    }
   ],
   "source": [
    "a=np.ones([2,3])\n",
    "print(f\"{a.shape=}\")\n",
    "a"
   ]
  },
  {
   "cell_type": "markdown",
   "id": "5affdd1d",
   "metadata": {},
   "source": [
    "Next a 1-d vector:"
   ]
  },
  {
   "cell_type": "code",
   "execution_count": 10,
   "id": "5609dc85",
   "metadata": {},
   "outputs": [
    {
     "name": "stdout",
     "output_type": "stream",
     "text": [
      "a.shape=(2,)\n"
     ]
    },
    {
     "data": {
      "text/plain": [
       "array([1., 1.])"
      ]
     },
     "execution_count": 10,
     "metadata": {},
     "output_type": "execute_result"
    }
   ],
   "source": [
    "a=np.ones([2,])\n",
    "print(f\"{a.shape=}\")\n",
    "a"
   ]
  },
  {
   "cell_type": "markdown",
   "id": "986b49f9",
   "metadata": {},
   "source": [
    "Finally a zero-dimension scalar:"
   ]
  },
  {
   "cell_type": "code",
   "execution_count": 11,
   "id": "fd69ea8e",
   "metadata": {},
   "outputs": [
    {
     "name": "stdout",
     "output_type": "stream",
     "text": [
      "a.shape=()\n"
     ]
    },
    {
     "data": {
      "text/plain": [
       "array(2)"
      ]
     },
     "execution_count": 11,
     "metadata": {},
     "output_type": "execute_result"
    }
   ],
   "source": [
    "a=np.array(2)\n",
    "print(f\"{a.shape=}\")\n",
    "a"
   ]
  },
  {
   "cell_type": "markdown",
   "id": "bde9f556",
   "metadata": {},
   "source": [
    "How do you wind up changing the shape of your data?  The cell below takes the average along rows of the three columns."
   ]
  },
  {
   "cell_type": "code",
   "execution_count": 12,
   "id": "977775eb",
   "metadata": {},
   "outputs": [
    {
     "name": "stdout",
     "output_type": "stream",
     "text": [
      "rowavg.shape=(3,)\n"
     ]
    },
    {
     "data": {
      "text/plain": [
       "array([1., 1., 1.])"
      ]
     },
     "execution_count": 12,
     "metadata": {},
     "output_type": "execute_result"
    }
   ],
   "source": [
    "a=np.ones([2,3])\n",
    "rowavg=np.mean(a,axis=0)\n",
    "print(f\"{rowavg.shape=}\")\n",
    "rowavg"
   ]
  },
  {
   "cell_type": "markdown",
   "id": "dbe98422",
   "metadata": {},
   "source": [
    "and this takes the average along columns of the two rows:"
   ]
  },
  {
   "cell_type": "code",
   "execution_count": 13,
   "id": "e7c5a2fc",
   "metadata": {},
   "outputs": [
    {
     "name": "stdout",
     "output_type": "stream",
     "text": [
      "colavg.shape=(2,)\n"
     ]
    },
    {
     "data": {
      "text/plain": [
       "array([1., 1.])"
      ]
     },
     "execution_count": 13,
     "metadata": {},
     "output_type": "execute_result"
    }
   ],
   "source": [
    "a=np.ones([2,3])\n",
    "colavg=np.mean(a,axis=1)\n",
    "print(f\"{colavg.shape=}\")\n",
    "colavg"
   ]
  },
  {
   "cell_type": "markdown",
   "id": "01cd0226",
   "metadata": {},
   "source": [
    "and averaging over both rows and columns:"
   ]
  },
  {
   "cell_type": "code",
   "execution_count": 14,
   "id": "2d2bfbe8",
   "metadata": {},
   "outputs": [
    {
     "name": "stdout",
     "output_type": "stream",
     "text": [
      "grandavg.shape=()\n"
     ]
    },
    {
     "data": {
      "text/plain": [
       "1.0"
      ]
     },
     "execution_count": 14,
     "metadata": {},
     "output_type": "execute_result"
    }
   ],
   "source": [
    "a=np.ones([2,3])\n",
    "grandavg=np.mean(a,axis=(0,1))\n",
    "print(f\"{grandavg.shape=}\")\n",
    "grandavg"
   ]
  },
  {
   "cell_type": "markdown",
   "id": "bf516b8e",
   "metadata": {},
   "source": [
    "You can also add axes to increase the number of dimensions (rank) of the array using np.newaxis:"
   ]
  },
  {
   "cell_type": "code",
   "execution_count": 15,
   "id": "952f751d",
   "metadata": {},
   "outputs": [
    {
     "name": "stdout",
     "output_type": "stream",
     "text": [
      "multiarray.shape=(1, 1, 1)\n"
     ]
    },
    {
     "data": {
      "text/plain": [
       "array([[[1.]]])"
      ]
     },
     "execution_count": 15,
     "metadata": {},
     "output_type": "execute_result"
    }
   ],
   "source": [
    "multiarray = grandavg[np.newaxis,np.newaxis,np.newaxis]\n",
    "print(f\"{multiarray.shape=}\")\n",
    "multiarray"
   ]
  },
  {
   "cell_type": "code",
   "execution_count": 16,
   "id": "961d2629",
   "metadata": {},
   "outputs": [
    {
     "data": {
      "text/plain": [
       "1.0"
      ]
     },
     "execution_count": 16,
     "metadata": {},
     "output_type": "execute_result"
    }
   ],
   "source": [
    "multiarray[0,0,0]"
   ]
  },
  {
   "cell_type": "code",
   "execution_count": null,
   "id": "0f9ba91e",
   "metadata": {},
   "outputs": [],
   "source": []
  }
 ],
 "metadata": {
  "jupytext": {
   "cell_metadata_filter": "all",
   "notebook_metadata_filter": "all,-language_info,-toc,-latex_envs",
   "text_representation": {
    "extension": ".md",
    "format_name": "myst",
    "format_version": 0.13,
    "jupytext_version": "1.10.3"
   }
  },
  "kernelspec": {
   "display_name": "Python 3 (ipykernel)",
   "language": "python",
   "name": "python3"
  },
  "language_info": {
   "codemirror_mode": {
    "name": "ipython",
    "version": 3
   },
   "file_extension": ".py",
   "mimetype": "text/x-python",
   "name": "python",
   "nbconvert_exporter": "python",
   "pygments_lexer": "ipython3",
   "version": "3.8.10"
  },
  "source_map": [
   14,
   18,
   26,
   30,
   34,
   39,
   43,
   47,
   49,
   57,
   61,
   65,
   73,
   77,
   80,
   85,
   91,
   96,
   100,
   104,
   108,
   112,
   116,
   120,
   124,
   128,
   133,
   137,
   142,
   146,
   151,
   155,
   161,
   165
  ]
 },
 "nbformat": 4,
 "nbformat_minor": 5
}