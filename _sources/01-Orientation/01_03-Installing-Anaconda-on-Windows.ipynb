{
 "cells": [
  {
   "cell_type": "markdown",
   "id": "14b302a9",
   "metadata": {},
   "source": [
    "## Installing Anaconda on Windows"
   ]
  },
  {
   "cell_type": "markdown",
   "id": "a5a33158",
   "metadata": {},
   "source": [
    "For problem solvers, I recommend installing and using the Anaconda distribution of Python."
   ]
  },
  {
   "cell_type": "markdown",
   "id": "e9cd4260",
   "metadata": {},
   "source": [
    "This section details the installation of the Anaconda distribution of Python on Windows 10. I think the Anaconda distribution of Python is the best option for problem solvers who want to use Python. Anaconda is free (although the download is large which can take time) and can be installed on school or work computers where you don't have administrator access or the ability to install new programs. Anaconda comes bundled with about 600 packages pre-installed including **NumPy**, **Matplotlib** and **SymPy**. These three packages are very useful for problem solvers and will be discussed in subsequent chapters.\n",
    "\n",
    "Follow the steps below to install the Anaconda distribution of Python on Windows.\n",
    "\n",
    "#### Steps:\n",
    "\n",
    "1. Visit [Anaconda.com/downloads](https://www.anaconda.com/download/)\n",
    "\n",
    "2. Select Windows\n",
    "\n",
    "3. Download the **_.exe_** installer\n",
    "\n",
    "4. Open and run the **_.exe_** installer\n",
    "\n",
    "5. Open the **Anaconda Prompt** and run some Python code"
   ]
  },
  {
   "cell_type": "markdown",
   "id": "02f18175",
   "metadata": {},
   "source": [
    "#### 1. Visit the Anaconda downloads page\n",
    "\n",
    "Go to the following link: [Anaconda.com/downloads](https://www.anaconda.com/download/)\n",
    "\n",
    "The Anaconda Downloads Page will look something like this:\n",
    "\n",
    "![The Anaconda distribution of Python download page](images/anaconda_download_page.png)"
   ]
  },
  {
   "cell_type": "markdown",
   "id": "3afed2cd",
   "metadata": {},
   "source": [
    "#### 2. Select Windows\n",
    "\n",
    "Select Windows where the three operating systems are listed.\n",
    "\n",
    "![Anaconda downloads page. Windows download option is selected](images/anaconda_select_windows.png)"
   ]
  },
  {
   "cell_type": "markdown",
   "id": "1266ad28",
   "metadata": {},
   "source": [
    "#### 3. Download\n",
    "\n",
    "Download the most recent Python 3 release. At the time of writing, the most recent release was the Python 3.6 Version. Python 2.7 is legacy Python. For problem solvers, select the Python 3.6 version. If you are unsure if your computer is running a 64-bit or 32-bit version of Windows, select 64-bit as 64-bit Windows is most common.\n",
    "\n",
    "![Anaconda downloads page. Select Python 3.6 version or higher. Python 2 is legacy Python.](images/anaconda_python3_or_python2.png)\n",
    "\n",
    "You may be prompted to enter your email. You can still download Anaconda if you click ```[No Thanks]``` and don't enter your Work Email address.\n",
    "\n",
    "![Part of Anaconda installation. You don't have to enter your work email to proceed.](images/anaconda_enter_email.png)\n",
    "\n",
    "The download is quite large (over 500 MB) so it may take a while to for Anaconda to download.\n",
    "\n",
    "![Anaconda downloading.Note the file size and amount of time remaining](images/anaconda_downloading.png)"
   ]
  },
  {
   "cell_type": "markdown",
   "id": "05d6fc3d",
   "metadata": {},
   "source": [
    "#### 4. Open and run the installer\n",
    "\n",
    "Once the download completes, open and run the **_.exe_** installer\n",
    "\n",
    "![Once the download is complete, open the .exe file](images/anaconda_run_installer.png)\n",
    "\n",
    "At the beginning of the install, you need to click **Next** to confirm the installation.\n",
    "\n",
    "![Welcome to Anaconda3 installation screen. Click next to proceed with the installation.](images/anaconda_installer_click_next.png)\n",
    "\n",
    "Then agree to the license.\n",
    "\n",
    "![Anaconda End User License Agreement. Click I Agree to proceed](images/anaconda_agree_to_license.png)\n",
    "\n",
    "At the Advanced Installation Options screen, I recommend that you **do not check** \"Add Anaconda to my PATH environment variable\"\n",
    "\n",
    "![Anaconda installation options. When installing Anaconda on Windows, do not check Add Anaconda to my PATH environment variable](images/anaconda_path2.png)"
   ]
  },
  {
   "cell_type": "markdown",
   "id": "e1f2f44d",
   "metadata": {},
   "source": [
    "#### 5. Open the Anaconda Prompt from the Windows start menu\n",
    "\n",
    "After the installation of Anaconda is complete, you can go to the Windows start menu and select the Anaconda Prompt.\n",
    "\n",
    "![The Anaconda Prompt in the Windows Start Menu](images/anaconda_from_start_menu.png)\n",
    "\n",
    "This opens the **Anaconda Prompt**. **Anaconda** is the Python distribution and the **Anaconda Prompt** is a command line shell (a program where you type in commands instead of using a mouse). The black screen and text that makes up the **Anaconda Prompt** doesn't look like much, but it is really helpful for problem solvers using Python.\n",
    "\n",
    "At the Anaconda prompt, type ```python``` and hit ```[Enter]```. The ```python``` command starts the Python interpreter, also called the Python REPL (for Read Evaluate Print Loop).\n",
    "\n",
    "```text\n",
    "> python\n",
    "```\n",
    "\n",
    "![The Anaconda Prompt: What you see when you open the Anaconda Prompt. Note the word \"python\" was typed at the > prompt](images/conda_prompt_type_python.png)\n",
    "\n",
    "Note the Python version. You should see something like ```Python 3.6.1```.  With the interpreter running, you will see a set of greater-than symbols ```>>>``` before the cursor. \n",
    "\n",
    "![The Anaconda Prompt: The result of typing python is the Python REPL opens. Note the >>> prompt which denotes the Python interpreter is running](images/conda_type_python.png)\n",
    "\n",
    "Now you can type Python commands. Try typing ```import this```. You should see the **_Zen of Python_** by Tim Peters\n",
    "\n",
    "![Anaconda Prompt: Results of entering import this is The Zen of Python, by Tim Peters](images/conda_import_this_output.png)\n",
    "\n",
    "To close the Python interpreter, type ```exit()``` at the prompt ```>>>```.  Note the double parenthesis at the end of the ```exit()``` command. The ```()``` is needed to stop the Python interpreter and get back out to the **Anaconda Prompt**.\n",
    "\n",
    "To close the **Anaconda Prompt**, you can either close the window with the mouse, or type ```exit```, no parenthesis necessary.\n",
    "\n",
    "When you want to use the Python interpreter again, just click the Windows Start button and select the **Anaconda Prompt** and type ```python```."
   ]
  },
  {
   "cell_type": "code",
   "execution_count": null,
   "id": "8665112d",
   "metadata": {},
   "outputs": [],
   "source": []
  }
 ],
 "metadata": {
  "jupytext": {
   "text_representation": {
    "extension": ".md",
    "format_name": "myst",
    "format_version": "0.9",
    "jupytext_version": "1.5.0"
   }
  },
  "kernelspec": {
   "display_name": "Python 3",
   "language": "python",
   "name": "python3"
  },
  "language_info": {
   "codemirror_mode": {
    "name": "ipython",
    "version": 3
   },
   "file_extension": ".py",
   "mimetype": "text/x-python",
   "name": "python",
   "nbconvert_exporter": "python",
   "pygments_lexer": "ipython3",
   "version": "3.8.10"
  },
  "source_map": [
   12,
   16,
   20,
   38,
   48,
   56,
   72,
   92,
   124
  ]
 },
 "nbformat": 4,
 "nbformat_minor": 5
}