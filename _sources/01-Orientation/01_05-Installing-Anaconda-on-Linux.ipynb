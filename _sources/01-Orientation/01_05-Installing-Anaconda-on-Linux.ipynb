{
 "cells": [
  {
   "cell_type": "markdown",
   "id": "c90b3ced",
   "metadata": {},
   "source": [
    "## Installing Anaconda on Linux"
   ]
  },
  {
   "cell_type": "markdown",
   "id": "bb0fc61d",
   "metadata": {},
   "source": [
    "This section details the installation of the Anaconda distribution of Python on Linux, specifically Ubuntu 18.04, but the instructions should work for other Debian-based Linux distributions as well.\n",
    "\n",
    "Ubuntu 18.04 comes pre-installed with Python (Version 3.6) and legacy Python (Version 2.7). You can confirm the legacy version of Python is installed by opening up a terminal.\n",
    "\n",
    "In the terminal type:\n",
    "\n",
    "```text\n",
    "$ python\n",
    "```\n",
    "\n",
    "You will most likely see Python Version 2.7 is installed. If you enter:\n",
    "\n",
    "```text\n",
    "$ python3\n",
    "```\n",
    "\n",
    "You will most likely see Python Version 3.6 is also installed. You can use the 3.6 Version of Python, but each time a new package needs to be downloaded, the ```$ pip3 install``` command must be used.\n",
    "\n",
    "Install the Anaconda distribution of Python to follow the examples in the book without the need to install additional third-party packages."
   ]
  },
  {
   "cell_type": "markdown",
   "id": "ec419958",
   "metadata": {},
   "source": [
    "#### Steps:\n",
    "\n",
    "1. Visit [Anaconda.com/downloads](https://www.anaconda.com/download/)\n",
    "\n",
    "2. Select Linux\n",
    "\n",
    "3. Copy the bash (.sh file) installer link\n",
    "\n",
    "4. Use ```wget``` to download the bash installer\n",
    "\n",
    "5. Run the bash script to install **Anaconda3**\n",
    "\n",
    "6. ```source``` the ```.bash-rc``` file to add Anaconda to your ```PATH```\n",
    "\n",
    "7. Start the Python REPL"
   ]
  },
  {
   "cell_type": "markdown",
   "id": "62f3c494",
   "metadata": {},
   "source": [
    "### 1. Visit the Anaconda downloads page\n",
    "\n",
    "Go to the following link: [Anaconda.com/downloads](https://www.anaconda.com/download/)"
   ]
  },
  {
   "cell_type": "markdown",
   "id": "df069903",
   "metadata": {},
   "source": [
    "### 2. Select Linux\n",
    "\n",
    "On the downloads page, select the Linux operating system\n",
    "\n",
    "![Anaconda downloads page operating systems option. Notice Linux is selected](images/Anaconda_download_linux.png)"
   ]
  },
  {
   "cell_type": "markdown",
   "id": "0148c62c",
   "metadata": {},
   "source": [
    "### 3. Copy the bash (.sh file) installer link\n",
    "\n",
    "In the **Python 3.6 Version* ** box, right-click on the [64-Bit(x86) Installer] link. Select [copy link address].\n",
    "\n",
    "![Anaconda installation on Linux, Copy the download link address.](images/anaconda_install_linux_copy_link_address.png)"
   ]
  },
  {
   "cell_type": "markdown",
   "id": "6b8562aa",
   "metadata": {},
   "source": [
    "### 4. Use ```wget``` to download the bash installer\n",
    "\n",
    "Now that the bash installer (.sh file) link is stored on the clipboard, use ```wget``` to download the installer script. In a terminal, ```cd``` into the home directory and make a new directory called ```tmp```. ```cd``` into ```tmp``` and use ```wget``` to download the installer. Although the installer is a bash script, it is still quite large and the download will not be immediate (Note the link below includes ```<release>```. the specific release depends on when you download the installer).\n",
    "    \n",
    "```text\n",
    "$ cd ~\n",
    "$ mkdir tmp\n",
    "$ cd tmp\n",
    "$ https://repo.continuum.io/archive/Anaconda3<release>.sh\n",
    "```"
   ]
  },
  {
   "cell_type": "markdown",
   "id": "0ee80df3",
   "metadata": {},
   "source": [
    "### 5. Run the bash script to install **Anaconda3**\n",
    "\n",
    "With the bash installer script downloaded, run the **_.sh_** script to install **Anaconda3**. Ensure you are in the directory where the installer script downloaded:\n",
    "    \n",
    "```text\n",
    "$ ls\n",
    "Anaconda3-5.2.0-Linux-x86_64.sh\n",
    "```\n",
    "\n",
    "Run the installer script with bash.\n",
    "\n",
    "```text\n",
    "$ bash Anaconda3-5.2.0-Linux-x86_64.sh\n",
    "```\n",
    "\n",
    "Accept the Licence Agreement and allow Anaconda to be added to your ```PATH```. By adding Anaconda to your ```PATH```, the Anaconda distribution of Python will be called when you type ```$ python``` in a terminal."
   ]
  },
  {
   "cell_type": "markdown",
   "id": "2f471f9b",
   "metadata": {},
   "source": [
    "####  6. ```source``` the ```.bash-rc``` file to add Anaconda to your ```PATH```\n",
    "\n",
    "Now that **Anaconda3** is installed and **Anaconda3** is added to our ```PATH```, ```source``` the ```.bashrc``` file to load the new ```PATH``` environment variable into the current terminal session. Note the ```.bashrc``` file is in the home directory. You can see it with ```$ ls -a```.\n",
    "    \n",
    "```text\n",
    "$ cd ~\n",
    "$ source .bashrc\n",
    "```"
   ]
  },
  {
   "cell_type": "markdown",
   "id": "b3ca1e9d",
   "metadata": {},
   "source": [
    "#### 7. Start the Python REPL\n",
    "\n",
    "To verify the installation is complete, open Python from the command line:\n",
    "\n",
    "```text\n",
    "$ python\n",
    "\n",
    "Python 3.6.5 |Anaconda, Inc.| (default, Mar 29 2018, 18:21:58)\n",
    "[GCC 7.2.0] on linux\n",
    "Type \"help\", \"copyright\", \"credits\" or \"license\" for more information.\n",
    ">>>\n",
    "```\n",
    "\n",
    "If you see Python 3.6 from Anaconda listed, your installation is complete. To exit the Python REPL, type:\n",
    "\n",
    "```text\n",
    ">>> exit()\n",
    "```"
   ]
  },
  {
   "cell_type": "code",
   "execution_count": null,
   "id": "200cbb60",
   "metadata": {},
   "outputs": [],
   "source": []
  }
 ],
 "metadata": {
  "jupytext": {
   "text_representation": {
    "extension": ".md",
    "format_name": "myst",
    "format_version": "0.9",
    "jupytext_version": "1.5.0"
   }
  },
  "kernelspec": {
   "display_name": "Python 3",
   "language": "python",
   "name": "python3"
  },
  "language_info": {
   "codemirror_mode": {
    "name": "ipython",
    "version": 3
   },
   "file_extension": ".py",
   "mimetype": "text/x-python",
   "name": "python",
   "nbconvert_exporter": "python",
   "pygments_lexer": "ipython3",
   "version": "3.8.10"
  },
  "source_map": [
   12,
   16,
   38,
   56,
   62,
   70,
   78,
   91,
   110,
   121,
   142
  ]
 },
 "nbformat": 4,
 "nbformat_minor": 5
}