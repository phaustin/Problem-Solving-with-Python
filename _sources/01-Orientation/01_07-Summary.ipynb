{
 "cells": [
  {
   "cell_type": "markdown",
   "id": "91ad205f",
   "metadata": {
    "latex": {
     "before_cell": "newpage"
    }
   },
   "source": [
    "## Summary"
   ]
  },
  {
   "cell_type": "markdown",
   "id": "df554d0c",
   "metadata": {},
   "source": [
    "In this chapter, you learned about the Anaconda distribution of Python and how the Anaconda distribution of Python compares the version of Python at Python.org.  The Anaconda distribution of Python comes with about 600 packages pre-installed as well as Jupyter notebooks and the Anaconda Prompt. Jupyter notebooks and some of the pre-installed packages that come with Anaconda will be used later chapters. This text recommends that problem solvers install the Anaconda distribution of Python.\n",
    "\n",
    "This chapter showed how to install the Anaconda distribution of Python on Windows, MacOS, and Linux.  \n",
    "\n",
    "At the end of the chapter, a description of how to download and install Python from Python.org was shown."
   ]
  },
  {
   "cell_type": "markdown",
   "id": "676b3b97",
   "metadata": {},
   "source": [
    "### Key Terms and Concepts"
   ]
  },
  {
   "cell_type": "markdown",
   "id": "0c5ac73c",
   "metadata": {
    "latex": {
     "environment": "key_terms"
    }
   },
   "source": [
    "Anaconda\n",
    "\n",
    "Anaconda Prompt\n",
    "\n",
    "download\n",
    "\n",
    "install\n",
    "\n",
    "Python\n",
    "\n",
    "Legacy Python\n",
    "\n",
    "Python Interpreter\n",
    "\n",
    "Python REPL\n",
    "\n",
    "package\n",
    "\n",
    "operating system\n",
    "\n",
    "Windows\n",
    "\n",
    "MacOS\n",
    "\n",
    "Linux\n",
    "\n",
    "terminal\n",
    "\n",
    "PATH"
   ]
  },
  {
   "cell_type": "code",
   "execution_count": null,
   "id": "234854ec",
   "metadata": {},
   "outputs": [],
   "source": []
  }
 ],
 "metadata": {
  "jupytext": {
   "text_representation": {
    "extension": ".md",
    "format_name": "myst",
    "format_version": "0.9",
    "jupytext_version": "1.5.0"
   }
  },
  "kernelspec": {
   "display_name": "Python 3",
   "language": "python",
   "name": "python3"
  },
  "language_info": {
   "codemirror_mode": {
    "name": "ipython",
    "version": 3
   },
   "file_extension": ".py",
   "mimetype": "text/x-python",
   "name": "python",
   "nbconvert_exporter": "python",
   "pygments_lexer": "ipython3",
   "version": "3.8.10"
  },
  "source_map": [
   14,
   18,
   26,
   30,
   62
  ]
 },
 "nbformat": 4,
 "nbformat_minor": 5
}