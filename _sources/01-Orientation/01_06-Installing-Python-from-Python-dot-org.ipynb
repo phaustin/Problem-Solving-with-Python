{
 "cells": [
  {
   "cell_type": "markdown",
   "id": "5b0be546",
   "metadata": {},
   "source": [
    "## Installing Python from Python.org"
   ]
  },
  {
   "cell_type": "markdown",
   "id": "a38ace3d",
   "metadata": {},
   "source": [
    "Below is the recommended way to install a new version of Python from Python.org on each of the three major operating systems: Windows, MacOS and Linux.\n",
    "\n",
    "This book is based on Python version 3.6.  Some of the examples in the book may not work properly on legacy Python (version 2.7).  I recommend installing the Anaconda Distribution of Python on Windows and MacOSX. The installation of Anaconda on these operating systems was detailed in previous sections."
   ]
  },
  {
   "cell_type": "markdown",
   "id": "bca170a6",
   "metadata": {},
   "source": [
    "### Installing Python on Windows\n",
    "\n",
    "Go to [https://www.python.org/downloads/](https://www.python.org/downloads/) and download the latest release. Make sure to select the box ```[add Python to my path]``` during the installation. \n",
    "\n",
    "![Python.org downloads page showing download for Windows button](images/python_dot_org_windows_download.PNG)"
   ]
  },
  {
   "cell_type": "markdown",
   "id": "5824b367",
   "metadata": {},
   "source": [
    "### Installing Python on MacOS\n",
    "\n",
    "Go to [https://www.python.org/downloads/mac-osx/](https://www.python.org/downloads/mac-osx/) and download the latest release. \n",
    "\n",
    "![Python.org downloads page showing download for MacOS link button](images/python_dot_org_macos_download.PNG)"
   ]
  },
  {
   "cell_type": "markdown",
   "id": "f754a225",
   "metadata": {},
   "source": [
    "### Installing Python on Linux\n",
    "\n",
    "Open a terminal and enter ```$ python``` to see if a version of Python is already installed on the system.\n",
    "\n",
    "```text\n",
    "$ python\n",
    "Python 2.7.12 (default, Dec  4 2017, 14:50:18)\n",
    "[GCC 5.4.0 20160609] on linux2\n",
    "Type \"help\", \"copyright\", \"credits\" or \"license\" for more information.\n",
    ">>> exit()\n",
    "```\n",
    "\n",
    "In the code block above, the version of Python is ```Python 2.7.12```. If the Python version is 2.7 or below, try the command ```$ python3```.\n",
    "\n",
    "```text\n",
    "$ python3\n",
    "Python 3.6.7 (default, Oct 22 2018, 11:32:17) \n",
    "[GCC 8.2.0] on linux\n",
    "Type \"help\", \"copyright\", \"credits\" or \"license\" for more information.\n",
    ">>> exit()\n",
    "```\n",
    "\n",
    "If no version of Python is shown, you can download a release of Python 3.6 from the deadsnakes package repository.\n",
    "\n",
    "```text\n",
    "$ sudo add-apt-repository ppa:deadsnakes/ppa\n",
    "[Enter]\n",
    "$ sudo apt-get update\n",
    "$ sudo apt-get install python3.6\n",
    "```\n",
    "\n",
    "After installation, you may need to append your PATH environment variable to ensure the newly installed Python 3.6 version is the version of Python called when using the terminal. The commands below will add ```/usr/bin``` to your ```PATH```, and add an alias in **_.bashrc_** so that the command ```$ python3.6``` produces the Python 3.6 REPL. Take care to ensure the double chevron ```>>``` is used, as a single chevron ```>``` will overwrite the **_.bashrc_** file.\n",
    "\n",
    "```text\n",
    "$ cd ~\n",
    "$ echo  \"PATH=/usr/bin:$PATH\" >> ~/.bashrc \n",
    "$ echo \"alias python3.6='/usr/bin/python3.6'\" >> ~/.bashrc\n",
    "$ source .bashrc\n",
    "$ python3.6\n",
    "Python 3.6.6 (default, Jun 28 2018, 04:42:43)\n",
    "[GCC 5.4.0 20160609] on linux\n",
    "Type \"help\", \"copyright\", \"credits\" or \"license\" for more information.\n",
    ">>> exit()\n",
    "```"
   ]
  },
  {
   "cell_type": "code",
   "execution_count": null,
   "id": "f7cd0906",
   "metadata": {},
   "outputs": [],
   "source": []
  }
 ],
 "metadata": {
  "jupytext": {
   "text_representation": {
    "extension": ".md",
    "format_name": "myst",
    "format_version": "0.9",
    "jupytext_version": "1.5.0"
   }
  },
  "kernelspec": {
   "display_name": "Python 3",
   "language": "python",
   "name": "python3"
  },
  "language_info": {
   "codemirror_mode": {
    "name": "ipython",
    "version": 3
   },
   "file_extension": ".py",
   "mimetype": "text/x-python",
   "name": "python",
   "nbconvert_exporter": "python",
   "pygments_lexer": "ipython3",
   "version": "3.8.10"
  },
  "source_map": [
   12,
   16,
   22,
   30,
   38,
   85
  ]
 },
 "nbformat": 4,
 "nbformat_minor": 5
}