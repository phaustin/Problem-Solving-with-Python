{
 "cells": [
  {
   "cell_type": "markdown",
   "id": "1c6bdaf7",
   "metadata": {},
   "source": [
    "## Installing Anaconda on MacOS"
   ]
  },
  {
   "cell_type": "markdown",
   "id": "184ad42e",
   "metadata": {},
   "source": [
    "This section details the installation of the Anaconda Distribution of Python on MacOS. Most versions of MacOS come pre-installed with legacy Python (Version 2.7). You can confirm the legacy version of Python is installed on MacOS by opening and running a command at the MacOS **terminal**. To open the MacOS terminal use ```[command]+[Space Bar]``` and type ```terminal``` in the Spotlight Search bar.\n",
    "\n",
    "In the MacOS Terminal type (note: the dollar sign ```$``` is used to indicate the terminal prompt. The dollar sign ```$``` does not need to be typed):\n",
    "\n",
    "```\n",
    "$ python\n",
    "```\n",
    "\n",
    "You will most likely see Python version 2.7 is installed. An issue for MacOS users is that the installed system version of Python has a set of permissions that may always allow Python to run and may not allow users to install external packages.  Therefore, I recommend the Anaconda distribution of Python is installed alongside the system version of Python that comes pre-installed with MacOS. You will be able to run Python code using the Anaconda distribution of Python, and you will be able to install external packages using the Anaconda distribution of Python.\n",
    "\n",
    "Follow the steps below to install the Anaconda distribution of Python on MacOS.\n",
    "\n",
    "#### Steps:\n",
    "\n",
    "1. Visit [Anaconda.com/downloads](https://www.anaconda.com/download/)\n",
    "\n",
    "2. Select MacOS and Download the **_.pkg_** installer\n",
    "\n",
    "3. Open the **_.pkg_** installer\n",
    "\n",
    "4. Follow the installation instructions\n",
    "\n",
    "5. Source your **_.bash-rc_** file\n",
    "\n",
    "6. Open a terminal and type ```python``` and run some code."
   ]
  },
  {
   "cell_type": "markdown",
   "id": "9ff81480",
   "metadata": {},
   "source": [
    "#### 1. Visit the Anaconda downloads page\n",
    "\n",
    "Go to the following link: [Anaconda.com/downloads](https://www.anaconda.com/download/)"
   ]
  },
  {
   "cell_type": "markdown",
   "id": "57d721e3",
   "metadata": {},
   "source": [
    "#### 2. Select MacOS and download the .pkg installer\n",
    "\n",
    "In the operating systems box, select ```[MacOS]```. Then download the most recent Python 3 distribution (at the time of this writing the most recent version is Python 3.6) graphical installer by clicking the Download link. Python 2.7 is legacy Python. For problem solvers, select the most recent Python 3 version.\n",
    "\n",
    "![Anaconda distribution of Python downloads page. Notice the macOS operating system is selection. Download Python 3.6 verion or higher](images/anaconda_download_mac.png)\n",
    "\n",
    "You may be prompted to enter your email. You can still download Anaconda if you click ```[No Thanks]``` or ```[x]``` and don't enter your Work Email address.\n",
    "\n",
    "![Anaconda downloads page. You do not have to enter your Work Email](images/anaconda_download_mac_ask_for_email.png)"
   ]
  },
  {
   "cell_type": "markdown",
   "id": "3a0288a2",
   "metadata": {},
   "source": [
    "#### 3. Open the .pkg installer\n",
    "\n",
    "Navigate to the Downloads folder and double-click the **_.pkg_** installer file you just downloaded. It may be helpful to order the contents of the Downloads folder by date to find the **_.pkg_** file."
   ]
  },
  {
   "cell_type": "markdown",
   "id": "e986860a",
   "metadata": {},
   "source": [
    "#### 4. Follow the installation instructions\n",
    "\n",
    "Follow the installation instructions. It is advised that you install **Anaconda** for the current user and that **Anaconda** **is added to your PATH**."
   ]
  },
  {
   "cell_type": "markdown",
   "id": "c74cd543",
   "metadata": {},
   "source": [
    "#### 5. Source your .bash-rc file\n",
    "\n",
    "Once Anaconda is installed, you need to load the changes to your ```PATH``` environment variable in the current terminal session.\n",
    "\n",
    "Open the MacOS Terminal and type:\n",
    "    \n",
    "```text\n",
    "$ cd ~\n",
    "$ source .bashrc\n",
    "```"
   ]
  },
  {
   "cell_type": "markdown",
   "id": "35aa19f3",
   "metadata": {},
   "source": [
    "#### 6. Open a terminal and type ```python``` and run some code.\n",
    "\n",
    "Open the MacOS Terminal and type:\n",
    "    \n",
    "```text\n",
    "$ python\n",
    "```\n",
    "\n",
    "You should see something like\n",
    "\n",
    "```text\n",
    "Python 3.6.3 | Anaconda Inc. |\n",
    "```\n",
    "\n",
    "At the Python REPL (the Python ```>>>``` prompt) try:\n",
    "\n",
    "```text\n",
    ">>> import this\n",
    "```\n",
    "\n",
    "If you see the Zen of Python, the installation was successful. Exit out of the Python REPL using the command ```exit()```. Make sure to include the double parenthesis ```()``` after the ```exit``` command.\n",
    "\n",
    "```text\n",
    ">>> exit()\n",
    "```"
   ]
  },
  {
   "cell_type": "code",
   "execution_count": null,
   "id": "934949ba",
   "metadata": {},
   "outputs": [],
   "source": []
  }
 ],
 "metadata": {
  "jupytext": {
   "text_representation": {
    "extension": ".md",
    "format_name": "myst",
    "format_version": "0.9",
    "jupytext_version": "1.5.0"
   }
  },
  "kernelspec": {
   "display_name": "Python 3",
   "language": "python",
   "name": "python3"
  },
  "language_info": {
   "codemirror_mode": {
    "name": "ipython",
    "version": 3
   },
   "file_extension": ".py",
   "mimetype": "text/x-python",
   "name": "python",
   "nbconvert_exporter": "python",
   "pygments_lexer": "ipython3",
   "version": "3.8.10"
  },
  "source_map": [
   12,
   16,
   44,
   50,
   62,
   68,
   74,
   87,
   115
  ]
 },
 "nbformat": 4,
 "nbformat_minor": 5
}