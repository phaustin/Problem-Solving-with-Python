{
 "cells": [
  {
   "cell_type": "markdown",
   "id": "bbb9ea38",
   "metadata": {
    "latex": {
     "before_cell": "newpage"
    }
   },
   "source": [
    "## Summary"
   ]
  },
  {
   "cell_type": "markdown",
   "id": "52bf7a78",
   "metadata": {},
   "source": [
    "In this chapter, you learned how to use Python to interact with external hardware. In particular, you learned how to use Python and the PySerial package to communicate with an Arduino. \n",
    "\n",
    "The chapter began with a discussion of Unicode strings and byte strings. In Python, all strings are Unicode by default, but machines speak in bytes. To create a byte string in Python, prepend a string with the letter ```b``` as in ```b'my string'```. Python's ```.encode()``` and ```.decode()``` methods convert between Unicode strings and byte strings.\n",
    "\n",
    "In the first project of the chapter, you learned how to use Python and the PySerial package to control an LED attached to an Arduino. The general steps were:\n",
    " \n",
    " * download and install the Arduino IDE\n",
    " * wire a LED to an Arduino\n",
    " * connect the Arduino the computer and upload code\n",
    " * blink the LED with the Arduino Serial Monitor\n",
    " * blink the LED with the Python REPL\n",
    " * blink the LED with a Python script\n",
    " * run a Python script to have a user turn the LED on and off\n",
    " \n",
    "The second project of the chapter involved reading a sensor connected to an Arduino with Python and PySerial. To complete this project, the general steps were:\n",
    "\n",
    " * download and install the Arduino IDE\n",
    " * wire a potentiometer sensor and LED to the Arduino\n",
    " * connect the Arduino the computer and upload an Arduino sketch\n",
    " * check the sensor signal with the LED, Arduino Serial Monitor and Arduino Serial Plotter\n",
    " * use the Python REPL to read the potentiometer sensor\n",
    " * run a Python script to collect the potentiometer sensor data and plot the data using Matplotlib"
   ]
  },
  {
   "cell_type": "markdown",
   "id": "87009cf2",
   "metadata": {},
   "source": [
    "### Key Terms and Concepts"
   ]
  },
  {
   "cell_type": "markdown",
   "id": "8783093b",
   "metadata": {
    "latex": {
     "environment": "key_terms"
    }
   },
   "source": [
    "External Hardware\n",
    "\n",
    "Sensor\n",
    "\n",
    "LEDArduino\n",
    "\n",
    "IDE\n",
    "\n",
    "serial\n",
    "\n",
    "serial communication\n",
    "\n",
    "serial line\n",
    "\n",
    "USB\n",
    "\n",
    "Unicode\n",
    "\n",
    "Unicode string\n",
    "\n",
    "byte string\n",
    "\n",
    "port\n",
    "\n",
    ".ino-file\n",
    "\n",
    "C programming language\n",
    "\n",
    "baud\n",
    "\n",
    "newline character"
   ]
  },
  {
   "cell_type": "markdown",
   "id": "5b0618e1",
   "metadata": {},
   "source": [
    "### Additional Resources\n",
    "\n",
    "The official documentation for the PySerial Package is found here: [https://docs.pyserial.com](#)\n",
    "    \n",
    "The Arduino project has a great set of tutorials found here:[https://Arduino.com/tutorials](#)\n",
    "    \n",
    "SparkFun has a great overview of wiring an LED to an Arduino here: and a great overview of writing a potentiometer to an Arduino here:"
   ]
  },
  {
   "cell_type": "code",
   "execution_count": null,
   "id": "1c6ca50b",
   "metadata": {},
   "outputs": [],
   "source": []
  }
 ],
 "metadata": {
  "jupytext": {
   "text_representation": {
    "extension": ".md",
    "format_name": "myst",
    "format_version": "0.9",
    "jupytext_version": "1.5.0"
   }
  },
  "kernelspec": {
   "display_name": "Python 3",
   "language": "python",
   "name": "python3"
  },
  "language_info": {
   "codemirror_mode": {
    "name": "ipython",
    "version": 3
   },
   "file_extension": ".py",
   "mimetype": "text/x-python",
   "name": "python",
   "nbconvert_exporter": "python",
   "pygments_lexer": "ipython3",
   "version": "3.8.10"
  },
  "source_map": [
   14,
   18,
   43,
   47,
   81,
   91
  ]
 },
 "nbformat": 4,
 "nbformat_minor": 5
}