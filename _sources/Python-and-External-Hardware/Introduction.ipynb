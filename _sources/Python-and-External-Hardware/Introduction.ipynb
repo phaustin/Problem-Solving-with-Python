{
 "cells": [
  {
   "cell_type": "markdown",
   "id": "6a89b901",
   "metadata": {},
   "source": [
    "# Python and External Hardware"
   ]
  },
  {
   "cell_type": "markdown",
   "id": "d254d5b6",
   "metadata": {},
   "source": [
    "## Introduction"
   ]
  },
  {
   "cell_type": "markdown",
   "id": "518b28a2",
   "metadata": {
    "latex": {
     "after_cell": "newpage"
    }
   },
   "source": [
    "By the end of this chapter you will be able to:\n",
    "\n",
    " * Connect external hardware to a computer running Python\n",
    " \n",
    " * Install the PySerial library\n",
    " \n",
    " * Read data over a serial connection using Python\n",
    " \n",
    " * Save data coming in over a serial connection using Python\n",
    " \n",
    " * Write data to a serial line using Python\n",
    " \n",
    " * Read data from a sensor using Python\n",
    " \n",
    " * Control an LED using Python"
   ]
  },
  {
   "cell_type": "code",
   "execution_count": null,
   "id": "3f1bcfab",
   "metadata": {},
   "outputs": [],
   "source": []
  }
 ],
 "metadata": {
  "jupytext": {
   "text_representation": {
    "extension": ".md",
    "format_name": "myst",
    "format_version": "0.9",
    "jupytext_version": "1.5.0"
   }
  },
  "kernelspec": {
   "display_name": "Python 3",
   "language": "python",
   "name": "python3"
  },
  "language_info": {
   "codemirror_mode": {
    "name": "ipython",
    "version": 3
   },
   "file_extension": ".py",
   "mimetype": "text/x-python",
   "name": "python",
   "nbconvert_exporter": "python",
   "pygments_lexer": "ipython3",
   "version": "3.8.0"
  },
  "source_map": [
   12,
   16,
   20,
   38
  ]
 },
 "nbformat": 4,
 "nbformat_minor": 5
}