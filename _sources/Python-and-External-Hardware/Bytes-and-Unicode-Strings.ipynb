{
 "cells": [
  {
   "cell_type": "markdown",
   "id": "0f01ee97",
   "metadata": {},
   "source": [
    "## Bytes and Unicode Strings"
   ]
  },
  {
   "cell_type": "markdown",
   "id": "484a83a7",
   "metadata": {},
   "source": [
    "Before using PySerial to communicate with external hardware over the serial interface, it is import to understand the difference between _bytes_ and _unicode strings_ in Python. \n",
    "\n",
    "The distinction between bytes and Unicode strings is important because strings in Python are _Unicode_ by default. However, external hardware like Arduino's, oscilloscopes and voltmeters transmit characters as _bytes_."
   ]
  },
  {
   "cell_type": "markdown",
   "id": "8e0626c2",
   "metadata": {},
   "source": [
    "### Unicode Strings"
   ]
  },
  {
   "cell_type": "markdown",
   "id": "2eead13f",
   "metadata": {},
   "source": [
    "In Python, the syntax to define a new string is:"
   ]
  },
  {
   "cell_type": "code",
   "execution_count": 1,
   "id": "8bb4739a",
   "metadata": {},
   "outputs": [],
   "source": [
    "ustring = 'A unicode string'"
   ]
  },
  {
   "cell_type": "markdown",
   "id": "9b11c6a3",
   "metadata": {},
   "source": [
    "Use Python's built-in ```type()``` function to determine the data type of the ```ustring``` variable:"
   ]
  },
  {
   "cell_type": "code",
   "execution_count": 2,
   "id": "b666b6fe",
   "metadata": {},
   "outputs": [
    {
     "name": "stdout",
     "output_type": "stream",
     "text": [
      "<class 'str'>\n"
     ]
    }
   ],
   "source": [
    "print(type(ustring))"
   ]
  },
  {
   "cell_type": "markdown",
   "id": "797e012f",
   "metadata": {},
   "source": [
    "When the Python interpreter declares the variable ```ustring``` is of ```<class 'str'>```, it indicates ```ustring``` is a _Unicode string_.\n",
    "\n",
    "**In Python 3, all strings are _Unicode strings_ by defaut**.\n",
    "\n",
    "_Unicode strings_ are useful because there are many letters and letter-like characters that are not part of the set of letters, numbers, and symbols on a regular computer keyboard.  For example in Spanish, the accent character is used over certain vowels. Letters with accents cannot be represented by the letters on a standard English keyboard.  However, letters with accents are part of a set of letters, numbers, and symbols in _unicode strings_."
   ]
  },
  {
   "cell_type": "markdown",
   "id": "e2a45ada",
   "metadata": {},
   "source": [
    "### Byte Strings\n",
    "\n",
    "Another way that characters such as letters, numbers, and punctuation can be stored is as _bytes_. A _byte_ is a unit of computer information that has a fixed width (one byte long). Because of this fixed width, one _byte_ only has a small number of unique combinations. This limits _byte strings_ to only the letters, numbers and punctuation marks on a computer keyboard (plus a couple extra). This limited set of characters is called the ASCII (pronounced _ask-ee two_) character set. A table of ASCII character codes is in the appendix. For instance, the ASCII character code ```49``` corresponds to the number one ```1```.\n",
    "\n",
    "**Machines speak bytes.**\n",
    "\n",
    "However, external hardware such as Arduinos, oscilloscopes, and voltmeters speak _byte strings_ by default. Almost all machines speak _byte strings_ by default, including the servers that bring Netflix to your laptop."
   ]
  },
  {
   "cell_type": "markdown",
   "id": "955b8398",
   "metadata": {},
   "source": [
    "To define a _byte string_ in Python, the letter ```b``` is placed before the quotation marks ```b'  '``` when a string is created."
   ]
  },
  {
   "cell_type": "code",
   "execution_count": 3,
   "id": "7bae2f39",
   "metadata": {},
   "outputs": [],
   "source": [
    "bstring = b'bstring'"
   ]
  },
  {
   "cell_type": "markdown",
   "id": "0bef4251",
   "metadata": {},
   "source": [
    "We can view the data type of the ```bstring``` variable using the ```type()``` function."
   ]
  },
  {
   "cell_type": "code",
   "execution_count": 4,
   "id": "77cfb3bf",
   "metadata": {},
   "outputs": [
    {
     "name": "stdout",
     "output_type": "stream",
     "text": [
      "<class 'bytes'>\n"
     ]
    }
   ],
   "source": [
    "print(type(bstring))"
   ]
  },
  {
   "cell_type": "markdown",
   "id": "a7d87512",
   "metadata": {},
   "source": [
    "### Convert between Unicode strings and byte strings"
   ]
  },
  {
   "cell_type": "markdown",
   "id": "a69a3f81",
   "metadata": {},
   "source": [
    "In order for a Python program to communicate with external hardware, it needs to be able to convert between _Unicode strings_ and _byte strings_. This conversion is completed with the ```.encode()``` and ```.decode()``` methods. \n",
    "\n",
    "The ```.encode()``` method \"encodes\" a Unicode string into a byte string.\n",
    "\n",
    "```<byte string> = <unicode string>.encode()```\n",
    "\n",
    "The ```.decode()``` method \"decodes\" a byte string into a unicode string.\n",
    "\n",
    "```<unicode string> = <byte string>.decode```\n",
    "\n",
    "**Remember: Machines speak bytes, Python strings are Unicode by default.** \n",
    "\n",
    "A Python script must decode what machines transmit before further processing. Python defaults to Unicode (and machines do not), so within a script's Python code, remember to _encode_  Unicode strings so machines can understand them."
   ]
  },
  {
   "cell_type": "code",
   "execution_count": 5,
   "id": "129c812e",
   "metadata": {},
   "outputs": [
    {
     "data": {
      "text/plain": [
       "bytes"
      ]
     },
     "execution_count": 5,
     "metadata": {},
     "output_type": "execute_result"
    }
   ],
   "source": [
    "ustring = 'A unicode string'\n",
    "new_bstring = ustring.encode()\n",
    "type(new_bstring)"
   ]
  },
  {
   "cell_type": "code",
   "execution_count": 6,
   "id": "3a42809b",
   "metadata": {},
   "outputs": [
    {
     "data": {
      "text/plain": [
       "str"
      ]
     },
     "execution_count": 6,
     "metadata": {},
     "output_type": "execute_result"
    }
   ],
   "source": [
    "bstring = b'bstring'\n",
    "new_ustring = bstring.decode()\n",
    "type(new_ustring)"
   ]
  },
  {
   "cell_type": "markdown",
   "id": "186feee7",
   "metadata": {},
   "source": [
    "When a command from a Python program (a Unicode string) is sent to a piece of external hardware (that reads bytes):\n",
    "\n",
    "The ```.encode()``` method is applied to the Unicode string (to convert the Unicode string to a byte string) before the command is sent to the piece of external hardware.\n",
    "\n",
    "When a chunk of data comes in from a piece of external hardware (a byte string) and is read by a Python script (which speaks Unicode by the default):\n",
    "\n",
    "The ```.decode()``` method is applied to the byte string (to convert the byte string to a Unicode string) before it is processed further by Python program."
   ]
  },
  {
   "cell_type": "code",
   "execution_count": null,
   "id": "f1ef2bcc",
   "metadata": {},
   "outputs": [],
   "source": []
  }
 ],
 "metadata": {
  "jupytext": {
   "text_representation": {
    "extension": ".md",
    "format_name": "myst",
    "format_version": "0.9",
    "jupytext_version": "1.5.0"
   }
  },
  "kernelspec": {
   "display_name": "Python 3",
   "language": "python",
   "name": "python3"
  },
  "language_info": {
   "codemirror_mode": {
    "name": "ipython",
    "version": 3
   },
   "file_extension": ".py",
   "mimetype": "text/x-python",
   "name": "python",
   "nbconvert_exporter": "python",
   "pygments_lexer": "ipython3",
   "version": "3.8.10"
  },
  "source_map": [
   12,
   16,
   22,
   26,
   30,
   32,
   36,
   38,
   46,
   56,
   60,
   62,
   66,
   68,
   72,
   88,
   94,
   98,
   108
  ]
 },
 "nbformat": 4,
 "nbformat_minor": 5
}