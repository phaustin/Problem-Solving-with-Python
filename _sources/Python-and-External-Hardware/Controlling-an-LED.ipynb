{
 "cells": [
  {
   "cell_type": "markdown",
   "id": "96e347b2",
   "metadata": {},
   "source": [
    "## Controlling an LED with Python"
   ]
  },
  {
   "cell_type": "markdown",
   "id": "4c515074",
   "metadata": {},
   "source": [
    "In this section, you will learn how to control an LED connected to an external piece of hardware (an Arduino) using Python. To accomplish this task, the following hardware is required:\n",
    "\n",
    " * A computer running Python\n",
    " * An Arduino\n",
    " * An LED\n",
    " * Wires, a resistor and a breadboard to connect the LED to the Arduino\n",
    " * A USB cable to connect the Arduino to the computer"
   ]
  },
  {
   "cell_type": "markdown",
   "id": "3f9aea1f",
   "metadata": {},
   "source": [
    "You will also need to download the Arduino IDE (Integrated Development Environment). Download the Arduino IDE using the following link: \n",
    "\n",
    " > [https://www.arduino.cc/en/Main/Software](https://www.arduino.cc/en/Main/Software)\n",
    " \n",
    "If you are working on a computer that you don't have administrator privileges to install software on, be sure to select: [Windows ZIP for non-admin install].\n",
    "\n",
    "![Arduino IDE Download Page](images/arduino_download_page.png)"
   ]
  },
  {
   "cell_type": "markdown",
   "id": "4a6643cb",
   "metadata": {},
   "source": [
    "### Wire the LED to the Arduino"
   ]
  },
  {
   "cell_type": "markdown",
   "id": "9d4abdf8",
   "metadata": {},
   "source": [
    "Connect the LED to the Arduino using a resistor, wires and a breadboard. Note the short leg of the LED is connected to ground, and the long leg of the resistor is connected through a resistor to PIN 13. A resistor is needed to prevent too much current from flowing through the LED. This type of resistor is called a _pull up resistor_."
   ]
  },
  {
   "cell_type": "markdown",
   "id": "64846ab7",
   "metadata": {},
   "source": [
    "![Arduino with LED](images/redboard_LED_bb.png)"
   ]
  },
  {
   "cell_type": "markdown",
   "id": "d319f3d1",
   "metadata": {},
   "source": [
    "### Upload code to the Arduino"
   ]
  },
  {
   "cell_type": "markdown",
   "id": "97616d3b",
   "metadata": {},
   "source": [
    "Upload the following code to the Arduino using the Arduino IDE. The code is same as in the example sketch called ```Physical Pixel```. The ```Physical Pixel``` sketch is found in the Arduino IDE under File --> Examples --> 04.Communication --> PhysicalPixel\n",
    "\n",
    "![Physical Pixel Example Sketch in the Arduino IDE](images/file-examples-communication-physicalpixel.png)\n",
    "\n",
    "The code for the Physical Pixel Sketch is shown below."
   ]
  },
  {
   "cell_type": "markdown",
   "id": "1ddfdfd9",
   "metadata": {},
   "source": [
    "```text\n",
    "// Arduino IDE: \n",
    "// File -> Examples -> 04.Communication -> PhysicalPixel\n",
    "\n",
    "const int ledPin = 13; // pin the LED is attached to\n",
    "int incomingByte;      // variable stores  serial data\n",
    "\n",
    "void setup() {\n",
    "  // initialize serial communication:\n",
    "  Serial.begin(9600);\n",
    "  // initialize the LED pin as an output:\n",
    "  pinMode(ledPin, OUTPUT);\n",
    "}\n",
    "\n",
    "void loop() {\n",
    "  // see if there's incoming serial data:\n",
    "  if (Serial.available() > 0) {\n",
    "    // read the oldest byte in the serial buffer:\n",
    "    incomingByte = Serial.read();\n",
    "    // if it's a capital H (ASCII 72), turn on the LED:\n",
    "    if (incomingByte == 'H') {\n",
    "      digitalWrite(ledPin, HIGH);\n",
    "    }\n",
    "    // if it's an L (ASCII 76) turn off the LED:\n",
    "    if (incomingByte == 'L') {\n",
    "      digitalWrite(ledPin, LOW);\n",
    "    }\n",
    "  }\n",
    "}\n",
    "```"
   ]
  },
  {
   "cell_type": "markdown",
   "id": "d848adad",
   "metadata": {},
   "source": [
    "### Connect the Arduino to the Computer"
   ]
  },
  {
   "cell_type": "markdown",
   "id": "6d894ce3",
   "metadata": {},
   "source": [
    "Connect the Arduino to the computer using a USB cable. Ensure two settings in the Arduino IDE are set correctly.\n",
    "\n",
    " * Make sure the ```Port``` is selected properly in the Arduino IDE under Tools --> Port. \n",
    " * Make sure the ```Board``` is selected in the Arduino IDE under Tools --> Board --> Arduino/Genuino Uno\n",
    "\n",
    "In the Arduino IDE, click the [checkmark] to verify and the [arrow] to upload. If the sketch does not upload, check which COM port is selected in Tools --> Port.\n",
    "\n",
    "![Arduino IDE Check to Verify](images/Check_to_Verify.png)\n",
    "\n",
    "![Arduino IDE Arrow to Upload](images/Arrow_to_Upload.png)"
   ]
  },
  {
   "cell_type": "markdown",
   "id": "967d6ceb",
   "metadata": {},
   "source": [
    "### Turn the LED on and off with the Arduino Serial Monitor"
   ]
  },
  {
   "cell_type": "markdown",
   "id": "0af703b4",
   "metadata": {},
   "source": [
    "Open the Arduino Serial Monitor using Tools --> Serial Monitor. In the Serial Monitor type ```L``` or ```H``` and click [Send]. Observe the LED turn on and off. Send ```H``` to turn the LED on. Send ```L``` to turn the LED off.\n",
    "\n",
    "![Arduino Serial Monitor](images/serial_monitor_L.png)"
   ]
  },
  {
   "cell_type": "markdown",
   "id": "5b1d2a18",
   "metadata": {},
   "source": [
    "### Use the Python REPL to turn the Arduino LED on and off"
   ]
  },
  {
   "cell_type": "markdown",
   "id": "e986f70d",
   "metadata": {},
   "source": [
    "Next,  use the Python REPL to turn the Arduino on and off. (You can open the Python REPL by typing ``` > python``` at the **Anaconda Prompt**) At the Python REPL, type the following commands. If a REPL prompt ```>>>``` precedes the command, type the command into the REPL. If the line does not start with a REPL prompt, the line represents expected output. \n",
    "\n",
    "When you type the command: ```ser = serial.Serial('COM4', 9800, timeout=1)```, ensure the ```'COM#'``` corresponds to the port that worked with the Arduino IDE in Tools --> Port.\n",
    "\n",
    "```python\n",
    ">>> import serial\n",
    ">>> import time\n",
    "\n",
    ">>> ser = serial.Serial('COM4', 9600)  # open serial port\n",
    ">>> time.sleep(2)                      # wait 2 seconds\n",
    ">>> ser.name()\n",
    "'COM4'\n",
    "\n",
    ">>> ser.write(b'H')\n",
    "# LED turns on\n",
    "\n",
    ">>> ser.write(b'L')\n",
    "# LED turns off\n",
    "\n",
    ">>> ser.write(b'H')\n",
    "# LED turns on\n",
    "\n",
    ">>> ser.write(b'L')\n",
    "# LED turns off\n",
    "\n",
    ">>> ser.close()\n",
    ">>> exit()\n",
    "```\n",
    "\n",
    "Ensure the command ```ser.close()``` is issued before exiting the Python REPL."
   ]
  },
  {
   "cell_type": "markdown",
   "id": "2e00fe0c",
   "metadata": {},
   "source": [
    "### Write a Python Script to turn the LED on and off"
   ]
  },
  {
   "cell_type": "markdown",
   "id": "dbb3bba8",
   "metadata": {},
   "source": [
    "After the LED turns on and off based on sending ```H``` and ```L``` with the Arduino Serial Monitor and you can turn the LED on and off with the Python REPL, it's time to write a Python script to turn the LED on and off. Again, the serial communication between the Python script and the Arduino is facilitated by the PySerial package. Ensure PySerial is installed before running the Python script. \n",
    "\n",
    "At the top of the Python script, import the PySerial package. Note that even though the package is called PySerial, the line ```import serial``` is used. Python's built-in ```time``` module is also imported as the ```time.sleep()``` function will be used in the script."
   ]
  },
  {
   "cell_type": "markdown",
   "id": "ac60db89",
   "metadata": {},
   "source": [
    "```python\n",
    "# blink.py\n",
    "\n",
    "import serial\n",
    "import time\n",
    "```"
   ]
  },
  {
   "cell_type": "markdown",
   "id": "8070c2f2",
   "metadata": {},
   "source": [
    "In the next part of the Python script, connect to the Arduino over the serial port. In the line ```ser = serial.Serial('COM4', 9800, timeout=1)```, ensure the ```'COM#'``` corresponds to the port that worked with the Arduino IDE. Then create a loop that blinks the Arduino LED on and off for about 5 seconds.  Notice the byte string ```b'H'``` is sent to the Arduino, not the Unicode string ```'H'```. The Unicode string ```'H'``` is prepended with the letter ```b``` in the line ```ser.writelines(b'H')```. This line of code turns the Unicode string into a byte string before it is sent to the Arduino."
   ]
  },
  {
   "cell_type": "markdown",
   "id": "33cfd7ab",
   "metadata": {},
   "source": [
    "```python\n",
    "ser = serial.Serial('COM4', 9800, timeout=1)\n",
    "time.sleep(2)\n",
    "\n",
    "for i in range(10):\n",
    "    ser.writelines(b'H')   # send a byte\n",
    "    time.sleep(0.5)        # wait 0.5 seconds\n",
    "    ser.writelines(b'L')   # send a byte\n",
    "    time.sleep(0.5)\n",
    "\n",
    "ser.close()\n",
    "```"
   ]
  },
  {
   "cell_type": "markdown",
   "id": "4eb8301e",
   "metadata": {},
   "source": [
    "Run the entire Python script and watch the Arduino LED blink ten times. A common problem is the serial port was not closed before the script starts. Make sure the Arduino Serial Monitor is closed and try running ```>>> ser.close()``` at the Python REPL."
   ]
  },
  {
   "cell_type": "markdown",
   "id": "508a8a69",
   "metadata": {},
   "source": [
    "### Write a Python script to allow a user to turn the LED on and off"
   ]
  },
  {
   "cell_type": "markdown",
   "id": "a74047ed",
   "metadata": {},
   "source": [
    "Once the LED blinks on and off successfully using a for loop in a Python script, you can write a new Python script that allows a user to turn the LED on and off. At the top of the new Python script import the **PySerial** package and built-in ```time``` module."
   ]
  },
  {
   "cell_type": "markdown",
   "id": "b335d719",
   "metadata": {},
   "source": [
    "```python\n",
    "import serial\n",
    "import time\n",
    "```"
   ]
  },
  {
   "cell_type": "markdown",
   "id": "b564a2a3",
   "metadata": {},
   "source": [
    "Next, give the user instructions. If the user types ```H```, the LED turns on. If the user types ```L``` the LED turns off. If the user types ```q```, the program terminates."
   ]
  },
  {
   "cell_type": "markdown",
   "id": "7b14d9e0",
   "metadata": {},
   "source": [
    "```python\n",
    "print('This program allows a user to turn an LED on and off')\n",
    "print('type H to turn the LED on')\n",
    "print('type L to turn the LED off')\n",
    "print('type q to quit')\n",
    "```"
   ]
  },
  {
   "cell_type": "markdown",
   "id": "d2ead726",
   "metadata": {},
   "source": [
    "Finally, the script needs a while loop to ask the user to enter the letter ```H```, ```L``` or ```q```. Once the user enters the letter, the letter is converted to a byte string. Next, the byte string is sent over the serial line to the Arduino. A delay is added so that the Arduino can process the command before reading with the next one."
   ]
  },
  {
   "cell_type": "markdown",
   "id": "75e19fb8",
   "metadata": {},
   "source": [
    "```python\n",
    "ser = serial.Serial('COM4', 9800, timeout=1)\n",
    "time.sleep(2)\n",
    "\n",
    "user_input = 'L'\n",
    "while user_input != 'q':\n",
    "    user_input = input('H = on, L = off, q = quit' : )\n",
    "    byte_command = encode(user_input)\n",
    "    ser.writelines(byte_command)   # send a byte\n",
    "    time.sleep(0.5) # wait 0.5 seconds\n",
    "        \n",
    "print('q entered. Exiting the program')\n",
    "ser.close()\n",
    "```"
   ]
  },
  {
   "cell_type": "markdown",
   "id": "a4643e32",
   "metadata": {},
   "source": [
    "Run the Python script. Type ```H``` and ```L``` and observe the LED turn on and off. Type ```q``` to end the program."
   ]
  },
  {
   "cell_type": "code",
   "execution_count": null,
   "id": "2253853b",
   "metadata": {},
   "outputs": [],
   "source": []
  }
 ],
 "metadata": {
  "jupytext": {
   "text_representation": {
    "extension": ".md",
    "format_name": "myst",
    "format_version": "0.9",
    "jupytext_version": "1.5.0"
   }
  },
  "kernelspec": {
   "display_name": "Python 3",
   "language": "python",
   "name": "python3"
  },
  "language_info": {
   "codemirror_mode": {
    "name": "ipython",
    "version": 3
   },
   "file_extension": ".py",
   "mimetype": "text/x-python",
   "name": "python",
   "nbconvert_exporter": "python",
   "pygments_lexer": "ipython3",
   "version": "3.8.0"
  },
  "source_map": [
   12,
   16,
   26,
   36,
   40,
   44,
   48,
   52,
   60,
   93,
   97,
   110,
   114,
   120,
   124,
   157,
   161,
   167,
   176,
   180,
   195,
   199,
   203,
   207,
   214,
   218,
   227,
   231,
   248,
   252
  ]
 },
 "nbformat": 4,
 "nbformat_minor": 5
}