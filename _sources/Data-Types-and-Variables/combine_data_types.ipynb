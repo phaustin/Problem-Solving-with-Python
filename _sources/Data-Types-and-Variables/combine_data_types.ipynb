{
 "cells": [
  {
   "cell_type": "markdown",
   "id": "dc6f9931",
   "metadata": {},
   "source": [
    "# Combining Data Types\n",
    "\n",
    "## Casting, Calculation, and Concatination\n",
    "\n",
    "Python is a *loosely typed* programming language, meaning that variables do not need to be explicitly declared alongside their data type, and they can sometimes dynamically change type to suit a particular requirement."
   ]
  },
  {
   "cell_type": "markdown",
   "id": "2910955c",
   "metadata": {},
   "source": [
    "### Casting\n",
    "\n",
    "Sometimes it is useful to explicitly force a variable to change from one data type to another. We can do this with *type casting,* re-assigning variables the basic data types int, float, string, or boolean. The syntax doing this is:\n",
    "\n",
    "```python\n",
    "float(variable)  # re-assigns a variable as data type \"float\"\n",
    "\n",
    "int(variable)  # re-assigns a variable as data type \"int\"\n",
    "\n",
    "str(variable)  # re-assigns a variable as data type \"str\"\n",
    "\n",
    "bool(variable)  # re-assigns a variable as data type \"boolean\"\n",
    "```\n",
    "\n",
    "Casting to float will add a decimal place to an integer, or convert the string `\"3.0\"` to the float `3.0`. The boolean `False` will be converted to `0.0` and `True` to `1.0`"
   ]
  },
  {
   "cell_type": "code",
   "execution_count": 1,
   "id": "f283735a",
   "metadata": {},
   "outputs": [
    {
     "data": {
      "text/plain": [
       "3.0"
      ]
     },
     "execution_count": 1,
     "metadata": {},
     "output_type": "execute_result"
    }
   ],
   "source": [
    "float(3)"
   ]
  },
  {
   "cell_type": "code",
   "execution_count": 2,
   "id": "1eab9c62",
   "metadata": {},
   "outputs": [
    {
     "data": {
      "text/plain": [
       "3.0"
      ]
     },
     "execution_count": 2,
     "metadata": {},
     "output_type": "execute_result"
    }
   ],
   "source": [
    "float(\"3.0\")"
   ]
  },
  {
   "cell_type": "code",
   "execution_count": 3,
   "id": "03a506a6",
   "metadata": {},
   "outputs": [
    {
     "data": {
      "text/plain": [
       "1.0"
      ]
     },
     "execution_count": 3,
     "metadata": {},
     "output_type": "execute_result"
    }
   ],
   "source": [
    "float(True)"
   ]
  },
  {
   "cell_type": "markdown",
   "id": "54ba024b",
   "metadata": {},
   "source": [
    "Casting from float to int will *truncate* the decimal place, **not round it** (if you want to round a number to the nearest integer, use the built-in function ```round()```) Booleans `True` and `False` are converted to `1` and `0`."
   ]
  },
  {
   "cell_type": "code",
   "execution_count": 4,
   "id": "33ec0d4f",
   "metadata": {},
   "outputs": [
    {
     "data": {
      "text/plain": [
       "2"
      ]
     },
     "execution_count": 4,
     "metadata": {},
     "output_type": "execute_result"
    }
   ],
   "source": [
    "int(2.0)"
   ]
  },
  {
   "cell_type": "code",
   "execution_count": 5,
   "id": "cee03b11",
   "metadata": {},
   "outputs": [
    {
     "data": {
      "text/plain": [
       "2"
      ]
     },
     "execution_count": 5,
     "metadata": {},
     "output_type": "execute_result"
    }
   ],
   "source": [
    "int(2.9)"
   ]
  },
  {
   "cell_type": "code",
   "execution_count": 6,
   "id": "1ea02ffa",
   "metadata": {},
   "outputs": [
    {
     "data": {
      "text/plain": [
       "3"
      ]
     },
     "execution_count": 6,
     "metadata": {},
     "output_type": "execute_result"
    }
   ],
   "source": [
    "round(2.9)"
   ]
  },
  {
   "cell_type": "code",
   "execution_count": 7,
   "id": "a149d3e3",
   "metadata": {},
   "outputs": [
    {
     "data": {
      "text/plain": [
       "0"
      ]
     },
     "execution_count": 7,
     "metadata": {},
     "output_type": "execute_result"
    }
   ],
   "source": [
    "int(False)"
   ]
  },
  {
   "cell_type": "code",
   "execution_count": 8,
   "id": "ee9e01bd",
   "metadata": {},
   "outputs": [
    {
     "data": {
      "text/plain": [
       "19"
      ]
     },
     "execution_count": 8,
     "metadata": {},
     "output_type": "execute_result"
    }
   ],
   "source": [
    "int(\"19\")"
   ]
  },
  {
   "cell_type": "markdown",
   "id": "23ab3cf5",
   "metadata": {},
   "source": [
    "Casting to a string will return a string containing the number or boolean value"
   ]
  },
  {
   "cell_type": "code",
   "execution_count": 9,
   "id": "6fc5ca11",
   "metadata": {},
   "outputs": [
    {
     "data": {
      "text/plain": [
       "'29'"
      ]
     },
     "execution_count": 9,
     "metadata": {},
     "output_type": "execute_result"
    }
   ],
   "source": [
    "str(29)"
   ]
  },
  {
   "cell_type": "code",
   "execution_count": 10,
   "id": "2694169c",
   "metadata": {},
   "outputs": [
    {
     "data": {
      "text/plain": [
       "'29.1'"
      ]
     },
     "execution_count": 10,
     "metadata": {},
     "output_type": "execute_result"
    }
   ],
   "source": [
    "str(29.1)"
   ]
  },
  {
   "cell_type": "code",
   "execution_count": 11,
   "id": "78e27af7",
   "metadata": {},
   "outputs": [
    {
     "data": {
      "text/plain": [
       "'True'"
      ]
     },
     "execution_count": 11,
     "metadata": {},
     "output_type": "execute_result"
    }
   ],
   "source": [
    "str(True)"
   ]
  },
  {
   "cell_type": "markdown",
   "id": "caa66e37",
   "metadata": {},
   "source": [
    "Casting to boolean will return `False` for the integer `0`, float `0.0` or empty string \"\", and `True` for pretty much anything else"
   ]
  },
  {
   "cell_type": "code",
   "execution_count": 12,
   "id": "7a4ba974",
   "metadata": {},
   "outputs": [
    {
     "data": {
      "text/plain": [
       "False"
      ]
     },
     "execution_count": 12,
     "metadata": {},
     "output_type": "execute_result"
    }
   ],
   "source": [
    "bool(0)"
   ]
  },
  {
   "cell_type": "code",
   "execution_count": 13,
   "id": "b7fa3f7a",
   "metadata": {},
   "outputs": [
    {
     "data": {
      "text/plain": [
       "True"
      ]
     },
     "execution_count": 13,
     "metadata": {},
     "output_type": "execute_result"
    }
   ],
   "source": [
    "bool(1.0)"
   ]
  },
  {
   "cell_type": "code",
   "execution_count": 14,
   "id": "cbe22e3e",
   "metadata": {},
   "outputs": [
    {
     "data": {
      "text/plain": [
       "False"
      ]
     },
     "execution_count": 14,
     "metadata": {},
     "output_type": "execute_result"
    }
   ],
   "source": [
    "bool('')"
   ]
  },
  {
   "cell_type": "code",
   "execution_count": 15,
   "id": "15a39784",
   "metadata": {},
   "outputs": [
    {
     "data": {
      "text/plain": [
       "True"
      ]
     },
     "execution_count": 15,
     "metadata": {},
     "output_type": "execute_result"
    }
   ],
   "source": [
    "bool(\"pirates\")"
   ]
  },
  {
   "cell_type": "markdown",
   "id": "154c19d4",
   "metadata": {},
   "source": [
    "Casting only works within a valid range of variables that can be converted. Invalid type casts will raise an *error*:"
   ]
  },
  {
   "cell_type": "code",
   "execution_count": 16,
   "id": "179a49a2",
   "metadata": {},
   "outputs": [
    {
     "ename": "ValueError",
     "evalue": "invalid literal for int() with base 10: 'fourteen'",
     "output_type": "error",
     "traceback": [
      "\u001b[0;31m---------------------------------------------------------------------------\u001b[0m",
      "\u001b[0;31mValueError\u001b[0m                                Traceback (most recent call last)",
      "\u001b[0;32m/tmp/ipykernel_3339847/536369517.py\u001b[0m in \u001b[0;36m<module>\u001b[0;34m\u001b[0m\n\u001b[0;32m----> 1\u001b[0;31m \u001b[0mint\u001b[0m\u001b[0;34m(\u001b[0m\u001b[0;34m\"fourteen\"\u001b[0m\u001b[0;34m)\u001b[0m\u001b[0;34m\u001b[0m\u001b[0;34m\u001b[0m\u001b[0m\n\u001b[0m",
      "\u001b[0;31mValueError\u001b[0m: invalid literal for int() with base 10: 'fourteen'"
     ]
    }
   ],
   "source": [
    "int(\"fourteen\")"
   ]
  },
  {
   "cell_type": "markdown",
   "id": "9204604e",
   "metadata": {},
   "source": [
    "### Calculations\n",
    "\n",
    "For many operations, *type casting* occurs automatically. Python's built-in mathematical functions work with any combination of *int* and *float* data types, and the python interpreter will assign the output as type *int* if possible, or *float* if not."
   ]
  },
  {
   "cell_type": "code",
   "execution_count": 17,
   "id": "95eb6146",
   "metadata": {},
   "outputs": [
    {
     "data": {
      "text/plain": [
       "8"
      ]
     },
     "execution_count": 17,
     "metadata": {},
     "output_type": "execute_result"
    }
   ],
   "source": [
    "ans = 6 + 2\n",
    "ans"
   ]
  },
  {
   "cell_type": "code",
   "execution_count": 18,
   "id": "15a5afae",
   "metadata": {},
   "outputs": [
    {
     "data": {
      "text/plain": [
       "int"
      ]
     },
     "execution_count": 18,
     "metadata": {},
     "output_type": "execute_result"
    }
   ],
   "source": [
    "type(ans)"
   ]
  },
  {
   "cell_type": "code",
   "execution_count": 19,
   "id": "b6f2a6ef",
   "metadata": {},
   "outputs": [
    {
     "data": {
      "text/plain": [
       "2.8"
      ]
     },
     "execution_count": 19,
     "metadata": {},
     "output_type": "execute_result"
    }
   ],
   "source": [
    "ans = 8 - 5.2\n",
    "ans"
   ]
  },
  {
   "cell_type": "code",
   "execution_count": 20,
   "id": "40c9630f",
   "metadata": {},
   "outputs": [
    {
     "data": {
      "text/plain": [
       "float"
      ]
     },
     "execution_count": 20,
     "metadata": {},
     "output_type": "execute_result"
    }
   ],
   "source": [
    "type(ans)"
   ]
  },
  {
   "cell_type": "markdown",
   "id": "5886c80c",
   "metadata": {},
   "source": [
    "Similarly for multiplication and division:"
   ]
  },
  {
   "cell_type": "code",
   "execution_count": 21,
   "id": "103833fb",
   "metadata": {},
   "outputs": [
    {
     "data": {
      "text/plain": [
       "int"
      ]
     },
     "execution_count": 21,
     "metadata": {},
     "output_type": "execute_result"
    }
   ],
   "source": [
    "ans = 4 * 2\n",
    "type(ans)"
   ]
  },
  {
   "cell_type": "code",
   "execution_count": 22,
   "id": "3f891d61",
   "metadata": {},
   "outputs": [
    {
     "data": {
      "text/plain": [
       "float"
      ]
     },
     "execution_count": 22,
     "metadata": {},
     "output_type": "execute_result"
    }
   ],
   "source": [
    "ans = 5 / 2\n",
    "type(ans)"
   ]
  },
  {
   "cell_type": "markdown",
   "id": "ca58fea9",
   "metadata": {},
   "source": [
    "### Concatenation/Formatted Strings\n",
    "\n",
    "Often, we would like to stick strings together, or express a numerical value within an existing string. The python syntax offers several ways to do this. \n",
    "\n",
    "1. The `+` operator works to *concatenate* strings together, i.e. take the string to the right of the operator and stick it to the end of the string on the left"
   ]
  },
  {
   "cell_type": "code",
   "execution_count": 23,
   "id": "6bc693e1",
   "metadata": {},
   "outputs": [
    {
     "data": {
      "text/plain": [
       "'racecar'"
      ]
     },
     "execution_count": 23,
     "metadata": {},
     "output_type": "execute_result"
    }
   ],
   "source": [
    "str1 = \"race\"\n",
    "str2 = \"car\"\n",
    "\n",
    "str1 + str2"
   ]
  },
  {
   "cell_type": "markdown",
   "id": "a041171b",
   "metadata": {},
   "source": [
    "However, this doesn't work for combinations of string and numeric data types, as the `+` operator has a different meaning for int and float -- the interpreter can't figure out whether to add numeric values or concatenate strings."
   ]
  },
  {
   "cell_type": "code",
   "execution_count": 24,
   "id": "1bd6428f",
   "metadata": {},
   "outputs": [
    {
     "ename": "TypeError",
     "evalue": "unsupported operand type(s) for +: 'int' and 'str'",
     "output_type": "error",
     "traceback": [
      "\u001b[0;31m---------------------------------------------------------------------------\u001b[0m",
      "\u001b[0;31mTypeError\u001b[0m                                 Traceback (most recent call last)",
      "\u001b[0;32m/tmp/ipykernel_3339847/3430437526.py\u001b[0m in \u001b[0;36m<module>\u001b[0;34m\u001b[0m\n\u001b[1;32m      1\u001b[0m \u001b[0mnum\u001b[0m \u001b[0;34m=\u001b[0m \u001b[0;36m3\u001b[0m\u001b[0;34m\u001b[0m\u001b[0;34m\u001b[0m\u001b[0m\n\u001b[0;32m----> 2\u001b[0;31m \u001b[0mprint\u001b[0m\u001b[0;34m(\u001b[0m\u001b[0mnum\u001b[0m \u001b[0;34m+\u001b[0m \u001b[0;34m\" blind mice\"\u001b[0m\u001b[0;34m)\u001b[0m\u001b[0;34m\u001b[0m\u001b[0;34m\u001b[0m\u001b[0m\n\u001b[0m",
      "\u001b[0;31mTypeError\u001b[0m: unsupported operand type(s) for +: 'int' and 'str'"
     ]
    }
   ],
   "source": [
    "num = 3\n",
    "print(num + \" blind mice\")"
   ]
  },
  {
   "cell_type": "markdown",
   "id": "3183f5c3",
   "metadata": {},
   "source": [
    "There are a few ways to overcome this problem. \n",
    "\n",
    "A) Using *type casting*:"
   ]
  },
  {
   "cell_type": "code",
   "execution_count": 25,
   "id": "bb3b07b8",
   "metadata": {},
   "outputs": [
    {
     "name": "stdout",
     "output_type": "stream",
     "text": [
      "3 blind mice\n"
     ]
    }
   ],
   "source": [
    "print(str(3) + \" blind mice\")"
   ]
  },
  {
   "cell_type": "markdown",
   "id": "99f80ca5",
   "metadata": {},
   "source": [
    "B) Use a *tuple* containing strings and numeric data:"
   ]
  },
  {
   "cell_type": "code",
   "execution_count": 26,
   "id": "f7da08b9",
   "metadata": {},
   "outputs": [
    {
     "name": "stdout",
     "output_type": "stream",
     "text": [
      "3 blind mice\n"
     ]
    }
   ],
   "source": [
    "print(3, \"blind mice\")"
   ]
  },
  {
   "cell_type": "markdown",
   "id": "12069df7",
   "metadata": {},
   "source": [
    "C) Using *f string literals*. Type the letter `f` at the beginning of a string, then insert any variable inside of curly brackets `{variable}` and it will format the variable into the string (This is the best way that will work in the largest variety of contexts):"
   ]
  },
  {
   "cell_type": "code",
   "execution_count": 27,
   "id": "1a2feab1",
   "metadata": {},
   "outputs": [
    {
     "name": "stdout",
     "output_type": "stream",
     "text": [
      "3 blind mice\n"
     ]
    }
   ],
   "source": [
    "print(f\"{3} blind mice\")"
   ]
  }
 ],
 "metadata": {
  "jupytext": {
   "formats": "ipynb,md:myst",
   "text_representation": {
    "extension": ".md",
    "format_name": "myst",
    "format_version": 0.13,
    "jupytext_version": "1.10.3"
   }
  },
  "kernelspec": {
   "display_name": "Python 3 (ipykernel)",
   "language": "python",
   "name": "python3"
  },
  "language_info": {
   "codemirror_mode": {
    "name": "ipython",
    "version": 3
   },
   "file_extension": ".py",
   "mimetype": "text/x-python",
   "name": "python",
   "nbconvert_exporter": "python",
   "pygments_lexer": "ipython3",
   "version": "3.8.10"
  },
  "source_map": [
   13,
   21,
   39,
   43,
   47,
   49,
   53,
   57,
   61,
   65,
   69,
   71,
   75,
   79,
   83,
   85,
   89,
   93,
   97,
   101,
   103,
   107,
   109,
   115,
   120,
   124,
   129,
   131,
   135,
   140,
   143,
   151,
   156,
   160,
   163,
   169,
   171,
   175,
   177,
   181
  ]
 },
 "nbformat": 4,
 "nbformat_minor": 5
}