{
 "cells": [
  {
   "cell_type": "markdown",
   "id": "b69b9408",
   "metadata": {},
   "source": [
    "## Lists"
   ]
  },
  {
   "cell_type": "markdown",
   "id": "c1fb90c8",
   "metadata": {},
   "source": [
    "A list is a data structure in Python that can contain multiple elements of any of the other data type. A list is defined with square brackets ```[ ]``` and commas ``` , ``` between elements.\n",
    "\n",
    "```python\n",
    ">>> lst = [ 1, 2, 3 ]\n",
    ">>> type(lst)\n",
    "list\n",
    "\n",
    ">>> lst = [ 1, 5.3, '3rd_Element']\n",
    ">>> type(lst)\n",
    "list\n",
    "```"
   ]
  },
  {
   "cell_type": "markdown",
   "id": "4d6ed2ae",
   "metadata": {},
   "source": [
    "### Indexing Lists\n",
    "\n",
    "Individual elements of a list can be accessed or _indexed_ using bracket ```[ ]``` notation. Note that Python lists start with the index zero, not the index 1. For example:\n",
    "\n",
    "```python\n",
    ">>> lst = ['statics', 'strengths', 'dynamics']\n",
    ">>> lst[0]\n",
    "'statics'\n",
    "\n",
    ">>> lst[1]\n",
    "'strengths'\n",
    "\n",
    ">>> lst[2]\n",
    "'dynamics'\n",
    "```"
   ]
  },
  {
   "cell_type": "markdown",
   "id": "01357f8c",
   "metadata": {
    "latex": {
     "environment": "alert-danger"
    }
   },
   "source": [
    "<div class=\"alert alert-danger\">\n",
    "<strong>Remember!</strong> Python lists start indexing at [0] not at [1]. To call the elements in a list with 3 values use: lst[0], lst[1], lst[2].\n",
    "</div>"
   ]
  },
  {
   "cell_type": "markdown",
   "id": "84c9a03f",
   "metadata": {},
   "source": [
    "### Slicing Lists\n",
    "\n",
    "Colons ``` : ``` are used inside the square brackets to denote _all_\n",
    "\n",
    "```python\n",
    ">>> lst = [2, 4, 6]\n",
    ">>> lst[:]\n",
    "[2, 4, 6]\n",
    "```\n",
    "\n",
    "Negative numbers can be used as indexes to call the last number of elements in the list\n",
    "\n",
    "```python\n",
    ">>> lst = [2, 4, 6]\n",
    ">>> lst[-1]\n",
    "6\n",
    "```\n",
    "\n",
    "The colon operator can also be used to denote _all up to_ and _thru end_.\n",
    "\n",
    "```python\n",
    ">>> lst = [2, 4, 6]\n",
    ">>> lst[:2]         # all up to 2\n",
    "[2, 4]\n",
    "```\n",
    "\n",
    "\n",
    "```python\n",
    ">>> lst = [2, 4, 6]\n",
    ">>> lst[2:]         # 2 thru end\n",
    "[6]\n",
    "```\n",
    "\n",
    "The colon operator can also be used to denote _start : end + 1_. Note that indexing here in not inclusive. ```lst[1:3]``` returns the 2nd element, and 3rd element but not the fourth even though ```3``` is used in the index."
   ]
  },
  {
   "cell_type": "markdown",
   "id": "1c62134e",
   "metadata": {
    "latex": {
     "environment": "alert-danger"
    }
   },
   "source": [
    "<div class=\"alert alert-danger\">\n",
    "<strong>Remember!</strong> Python indexing is not inclusive. The last element called in an index will not be returned.\n",
    "</div>"
   ]
  },
  {
   "cell_type": "code",
   "execution_count": null,
   "id": "56616f2a",
   "metadata": {},
   "outputs": [],
   "source": []
  }
 ],
 "metadata": {
  "jupytext": {
   "cell_metadata_filter": "all",
   "notebook_metadata_filter": "all,-language_info,-toc,-latex_envs",
   "text_representation": {
    "extension": ".md",
    "format_name": "myst",
    "format_version": "0.10",
    "jupytext_version": "1.5.2"
   }
  },
  "kernelspec": {
   "display_name": "Python 3",
   "language": "python",
   "name": "python3"
  },
  "language_info": {
   "codemirror_mode": {
    "name": "ipython",
    "version": 3
   },
   "file_extension": ".py",
   "mimetype": "text/x-python",
   "name": "python",
   "nbconvert_exporter": "python",
   "pygments_lexer": "ipython3",
   "version": "3.8.10"
  },
  "source_map": [
   14,
   18,
   32,
   50,
   56,
   93,
   99
  ]
 },
 "nbformat": 4,
 "nbformat_minor": 5
}