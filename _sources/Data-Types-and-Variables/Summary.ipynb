{
 "cells": [
  {
   "cell_type": "markdown",
   "id": "f7f577a7",
   "metadata": {
    "latex": {
     "before_cell": "newpage"
    }
   },
   "source": [
    "## Summary"
   ]
  },
  {
   "cell_type": "markdown",
   "id": "5f6cf1e2",
   "metadata": {},
   "source": [
    "In this chapter, you learned about a couple of different data types built-in to Python. These data types include the numeric data types: integers, floats, and complex numbers. The string data type is composed of letters, numbers, spaces, and punctuation. Python also has container data types which can store many values. These container data types include lists, tuples, and dictionaries. Strings, lists and tuples can be indexed and sliced using square brackets ```[ ]```."
   ]
  },
  {
   "cell_type": "markdown",
   "id": "667cc634",
   "metadata": {},
   "source": [
    "### Key Terms and Concepts"
   ]
  },
  {
   "cell_type": "markdown",
   "id": "ddf637da",
   "metadata": {
    "latex": {
     "environment": "key_terms"
    }
   },
   "source": [
    "data type\n",
    "\n",
    "variable\n",
    "\n",
    "assignment operator\n",
    "\n",
    "integer\n",
    "\n",
    "int\n",
    "\n",
    "whole number\n",
    "\n",
    "floating point number\n",
    "\n",
    "float\n",
    "\n",
    "scientific notation\n",
    "\n",
    "complex number\n",
    "\n",
    "string\n",
    "\n",
    "boolean\n",
    "\n",
    "bool\n",
    "\n",
    "boolean arithmetic\n",
    "\n",
    "boolean operators\n",
    "\n",
    "or\n",
    "\n",
    "and\n",
    "\n",
    "not\n",
    "\n",
    "data structure\n",
    "\n",
    "dictionary\n",
    "\n",
    "tuple\n",
    "\n",
    "list\n",
    "\n",
    "index\n",
    "\n",
    "indexing\n",
    "\n",
    "immutable"
   ]
  },
  {
   "cell_type": "markdown",
   "id": "42956926",
   "metadata": {},
   "source": [
    "### Summary of Python Functions and Commands"
   ]
  },
  {
   "cell_type": "markdown",
   "id": "36d12b89",
   "metadata": {},
   "source": [
    "#### Built-in Data Types\n",
    "\n",
    "| Python Data Type | Description |\n",
    "| --- | --- |\n",
    "| ```int``` | integer |\n",
    "| ```float``` | floating point number |\n",
    "| ```bool``` | boolean value: True or False |\n",
    "| ```complex``` | complex number, real and imaginary components |\n",
    "| ```str``` | string, sequence of letters, numbers and symbols |\n",
    "| ```list``` | list, formed with ```[ ]``` |\n",
    "| ```dict``` | dictionary, formed with ```{'key'=value}``` |\n",
    "| ```tuple``` | an immutable list, formed with ```( )``` |\n",
    "\n",
    "#### Python Functions\n",
    "\n",
    "| Function | Description |\n",
    "| --- | --- |\n",
    "| ```type()``` | output a variable or object data type |\n",
    "| ```len()``` | return the length of a string, list dictionary or tuple |\n",
    "| ```str()``` | convert a ```float``` or ```int``` into a ```str``` (string) |\n",
    "| ```int()``` | convert a ```float``` or ```str``` into an ```int``` (integer) |\n",
    "| ```float()``` | convert an ```int``` or ```str``` into an ```float``` (floating point number) |\n",
    "\n",
    "#### Python List Operators\n",
    "\n",
    "| Operator | Description | Example | Result |\n",
    "| --- | --- | ---- | --- |\n",
    "| ```[ ]``` | indexing | ```lst[1]``` | ```4``` |\n",
    "| ```:``` | start | ```lst[:2]``` | ```[ 2, 4 ]``` |\n",
    "| ```:``` | end | ```lst[2:]``` | ```[ 6, 8 ]``` |\n",
    "| ```:``` | through | ```lst[0:3]``` | ```[ 2, 4, 6 ]``` |\n",
    "| ```:``` | start, step, end+1 | ```lst[0:5:2]``` | ```[2, 6]``` |"
   ]
  },
  {
   "cell_type": "code",
   "execution_count": null,
   "id": "5e3cd8be",
   "metadata": {},
   "outputs": [],
   "source": []
  }
 ],
 "metadata": {
  "jupytext": {
   "text_representation": {
    "extension": ".md",
    "format_name": "myst",
    "format_version": "0.9",
    "jupytext_version": "1.5.0"
   }
  },
  "kernelspec": {
   "display_name": "Python 3",
   "language": "python",
   "name": "python3"
  },
  "language_info": {
   "codemirror_mode": {
    "name": "ipython",
    "version": 3
   },
   "file_extension": ".py",
   "mimetype": "text/x-python",
   "name": "python",
   "nbconvert_exporter": "python",
   "pygments_lexer": "ipython3",
   "version": "3.8.10"
  },
  "source_map": [
   14,
   18,
   22,
   26,
   78,
   82,
   117
  ]
 },
 "nbformat": 4,
 "nbformat_minor": 5
}